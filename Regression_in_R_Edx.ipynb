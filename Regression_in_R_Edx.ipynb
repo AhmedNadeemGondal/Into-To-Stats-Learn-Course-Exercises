{
 "cells": [
  {
   "cell_type": "code",
   "execution_count": 71,
   "metadata": {
    "vscode": {
     "languageId": "r"
    }
   },
   "outputs": [],
   "source": [
    "library(MASS)\n",
    "library(ISLR2)"
   ]
  },
  {
   "cell_type": "code",
   "execution_count": 72,
   "metadata": {
    "vscode": {
     "languageId": "r"
    }
   },
   "outputs": [
    {
     "data": {
      "text/html": [
       "<style>\n",
       ".list-inline {list-style: none; margin:0; padding: 0}\n",
       ".list-inline>li {display: inline-block}\n",
       ".list-inline>li:not(:last-child)::after {content: \"\\00b7\"; padding: 0 .5ex}\n",
       "</style>\n",
       "<ol class=list-inline><li>'crim'</li><li>'zn'</li><li>'indus'</li><li>'chas'</li><li>'nox'</li><li>'rm'</li><li>'age'</li><li>'dis'</li><li>'rad'</li><li>'tax'</li><li>'ptratio'</li><li>'lstat'</li><li>'medv'</li></ol>\n"
      ],
      "text/latex": [
       "\\begin{enumerate*}\n",
       "\\item 'crim'\n",
       "\\item 'zn'\n",
       "\\item 'indus'\n",
       "\\item 'chas'\n",
       "\\item 'nox'\n",
       "\\item 'rm'\n",
       "\\item 'age'\n",
       "\\item 'dis'\n",
       "\\item 'rad'\n",
       "\\item 'tax'\n",
       "\\item 'ptratio'\n",
       "\\item 'lstat'\n",
       "\\item 'medv'\n",
       "\\end{enumerate*}\n"
      ],
      "text/markdown": [
       "1. 'crim'\n",
       "2. 'zn'\n",
       "3. 'indus'\n",
       "4. 'chas'\n",
       "5. 'nox'\n",
       "6. 'rm'\n",
       "7. 'age'\n",
       "8. 'dis'\n",
       "9. 'rad'\n",
       "10. 'tax'\n",
       "11. 'ptratio'\n",
       "12. 'lstat'\n",
       "13. 'medv'\n",
       "\n",
       "\n"
      ],
      "text/plain": [
       " [1] \"crim\"    \"zn\"      \"indus\"   \"chas\"    \"nox\"     \"rm\"      \"age\"    \n",
       " [8] \"dis\"     \"rad\"     \"tax\"     \"ptratio\" \"lstat\"   \"medv\"   "
      ]
     },
     "metadata": {},
     "output_type": "display_data"
    }
   ],
   "source": [
    "names(Boston)"
   ]
  },
  {
   "cell_type": "code",
   "execution_count": 73,
   "metadata": {
    "vscode": {
     "languageId": "r"
    }
   },
   "outputs": [
    {
     "name": "stdout",
     "output_type": "stream",
     "text": [
      "Boston                  package:ISLR2                  R Documentation\n",
      "\n",
      "_\bB_\bo_\bs_\bt_\bo_\bn _\bD_\ba_\bt_\ba\n",
      "\n",
      "_\bD_\be_\bs_\bc_\br_\bi_\bp_\bt_\bi_\bo_\bn:\n",
      "\n",
      "     A data set containing housing values in 506 suburbs of Boston.\n",
      "\n",
      "_\bU_\bs_\ba_\bg_\be:\n",
      "\n",
      "     Boston\n",
      "     \n",
      "_\bF_\bo_\br_\bm_\ba_\bt:\n",
      "\n",
      "     A data frame with 506 rows and 13 variables.\n",
      "\n",
      "     'crim' per capita crime rate by town.\n",
      "\n",
      "     'zn' proportion of residential land zoned for lots over 25,000\n",
      "          sq.ft.\n",
      "\n",
      "     'indus' proportion of non-retail business acres per town.\n",
      "\n",
      "     'chas' Charles River dummy variable (= 1 if tract bounds river; 0\n",
      "          otherwise).\n",
      "\n",
      "     'nox' nitrogen oxides concentration (parts per 10 million).\n",
      "\n",
      "     'rm' average number of rooms per dwelling.\n",
      "\n",
      "     'age' proportion of owner-occupied units built prior to 1940.\n",
      "\n",
      "     'dis' weighted mean of distances to five Boston employment\n",
      "          centres.\n",
      "\n",
      "     'rad' index of accessibility to radial highways.\n",
      "\n",
      "     'tax' full-value property-tax rate per $10,000.\n",
      "\n",
      "     'ptratio' pupil-teacher ratio by town.\n",
      "\n",
      "     'lstat' lower status of the population (percent).\n",
      "\n",
      "     'medv' median value of owner-occupied homes in $1000s.\n",
      "\n",
      "_\bS_\bo_\bu_\br_\bc_\be:\n",
      "\n",
      "     This dataset was obtained from, and is slightly modified from, the\n",
      "     Boston dataset that is part of the MASS library.  References are\n",
      "     available in the MASS library.\n",
      "\n",
      "_\bR_\be_\bf_\be_\br_\be_\bn_\bc_\be_\bs:\n",
      "\n",
      "     James, G., Witten, D., Hastie, T., and Tibshirani, R. (2013) _An\n",
      "     Introduction to Statistical Learning with applications in R_,\n",
      "     <https://www.statlearning.com>, Springer-Verlag, New York\n",
      "\n",
      "_\bE_\bx_\ba_\bm_\bp_\bl_\be_\bs:\n",
      "\n",
      "     lm(medv ~ crim + rm, data=Boston)\n",
      "     "
     ]
    }
   ],
   "source": [
    "?Boston"
   ]
  },
  {
   "cell_type": "code",
   "execution_count": 74,
   "metadata": {
    "vscode": {
     "languageId": "r"
    }
   },
   "outputs": [
    {
     "data": {
      "image/png": "[encoded data removed]",
      "text/plain": [
       "plot without title"
      ]
     },
     "metadata": {
      "image/png": {
       "height": 420,
       "width": 420
      }
     },
     "output_type": "display_data"
    }
   ],
   "source": [
    "plot(medv ~ lstat, Boston)"
   ]
  },
  {
   "cell_type": "code",
   "execution_count": 75,
   "metadata": {
    "vscode": {
     "languageId": "r"
    }
   },
   "outputs": [
    {
     "data": {
      "text/html": [
       "<table class=\"dataframe\">\n",
       "<caption>A matrix: 13 × 13 of type dbl</caption>\n",
       "<thead>\n",
       "\t<tr><th></th><th scope=col>crim</th><th scope=col>zn</th><th scope=col>indus</th><th scope=col>chas</th><th scope=col>nox</th><th scope=col>rm</th><th scope=col>age</th><th scope=col>dis</th><th scope=col>rad</th><th scope=col>tax</th><th scope=col>ptratio</th><th scope=col>lstat</th><th scope=col>medv</th></tr>\n",
       "</thead>\n",
       "<tbody>\n",
       "\t<tr><th scope=row>crim</th><td> 1.00000000</td><td>-0.20046922</td><td> 0.40658341</td><td>-0.055891582</td><td> 0.42097171</td><td>-0.21924670</td><td> 0.35273425</td><td>-0.37967009</td><td> 0.625505145</td><td> 0.58276431</td><td> 0.2899456</td><td> 0.4556215</td><td>-0.3883046</td></tr>\n",
       "\t<tr><th scope=row>zn</th><td>-0.20046922</td><td> 1.00000000</td><td>-0.53382819</td><td>-0.042696719</td><td>-0.51660371</td><td> 0.31199059</td><td>-0.56953734</td><td> 0.66440822</td><td>-0.311947826</td><td>-0.31456332</td><td>-0.3916785</td><td>-0.4129946</td><td> 0.3604453</td></tr>\n",
       "\t<tr><th scope=row>indus</th><td> 0.40658341</td><td>-0.53382819</td><td> 1.00000000</td><td> 0.062938027</td><td> 0.76365145</td><td>-0.39167585</td><td> 0.64477851</td><td>-0.70802699</td><td> 0.595129275</td><td> 0.72076018</td><td> 0.3832476</td><td> 0.6037997</td><td>-0.4837252</td></tr>\n",
       "\t<tr><th scope=row>chas</th><td>-0.05589158</td><td>-0.04269672</td><td> 0.06293803</td><td> 1.000000000</td><td> 0.09120281</td><td> 0.09125123</td><td> 0.08651777</td><td>-0.09917578</td><td>-0.007368241</td><td>-0.03558652</td><td>-0.1215152</td><td>-0.0539293</td><td> 0.1752602</td></tr>\n",
       "\t<tr><th scope=row>nox</th><td> 0.42097171</td><td>-0.51660371</td><td> 0.76365145</td><td> 0.091202807</td><td> 1.00000000</td><td>-0.30218819</td><td> 0.73147010</td><td>-0.76923011</td><td> 0.611440563</td><td> 0.66802320</td><td> 0.1889327</td><td> 0.5908789</td><td>-0.4273208</td></tr>\n",
       "\t<tr><th scope=row>rm</th><td>-0.21924670</td><td> 0.31199059</td><td>-0.39167585</td><td> 0.091251225</td><td>-0.30218819</td><td> 1.00000000</td><td>-0.24026493</td><td> 0.20524621</td><td>-0.209846668</td><td>-0.29204783</td><td>-0.3555015</td><td>-0.6138083</td><td> 0.6953599</td></tr>\n",
       "\t<tr><th scope=row>age</th><td> 0.35273425</td><td>-0.56953734</td><td> 0.64477851</td><td> 0.086517774</td><td> 0.73147010</td><td>-0.24026493</td><td> 1.00000000</td><td>-0.74788054</td><td> 0.456022452</td><td> 0.50645559</td><td> 0.2615150</td><td> 0.6023385</td><td>-0.3769546</td></tr>\n",
       "\t<tr><th scope=row>dis</th><td>-0.37967009</td><td> 0.66440822</td><td>-0.70802699</td><td>-0.099175780</td><td>-0.76923011</td><td> 0.20524621</td><td>-0.74788054</td><td> 1.00000000</td><td>-0.494587930</td><td>-0.53443158</td><td>-0.2324705</td><td>-0.4969958</td><td> 0.2499287</td></tr>\n",
       "\t<tr><th scope=row>rad</th><td> 0.62550515</td><td>-0.31194783</td><td> 0.59512927</td><td>-0.007368241</td><td> 0.61144056</td><td>-0.20984667</td><td> 0.45602245</td><td>-0.49458793</td><td> 1.000000000</td><td> 0.91022819</td><td> 0.4647412</td><td> 0.4886763</td><td>-0.3816262</td></tr>\n",
       "\t<tr><th scope=row>tax</th><td> 0.58276431</td><td>-0.31456332</td><td> 0.72076018</td><td>-0.035586518</td><td> 0.66802320</td><td>-0.29204783</td><td> 0.50645559</td><td>-0.53443158</td><td> 0.910228189</td><td> 1.00000000</td><td> 0.4608530</td><td> 0.5439934</td><td>-0.4685359</td></tr>\n",
       "\t<tr><th scope=row>ptratio</th><td> 0.28994558</td><td>-0.39167855</td><td> 0.38324756</td><td>-0.121515174</td><td> 0.18893268</td><td>-0.35550149</td><td> 0.26151501</td><td>-0.23247054</td><td> 0.464741179</td><td> 0.46085304</td><td> 1.0000000</td><td> 0.3740443</td><td>-0.5077867</td></tr>\n",
       "\t<tr><th scope=row>lstat</th><td> 0.45562148</td><td>-0.41299457</td><td> 0.60379972</td><td>-0.053929298</td><td> 0.59087892</td><td>-0.61380827</td><td> 0.60233853</td><td>-0.49699583</td><td> 0.488676335</td><td> 0.54399341</td><td> 0.3740443</td><td> 1.0000000</td><td>-0.7376627</td></tr>\n",
       "\t<tr><th scope=row>medv</th><td>-0.38830461</td><td> 0.36044534</td><td>-0.48372516</td><td> 0.175260177</td><td>-0.42732077</td><td> 0.69535995</td><td>-0.37695457</td><td> 0.24992873</td><td>-0.381626231</td><td>-0.46853593</td><td>-0.5077867</td><td>-0.7376627</td><td> 1.0000000</td></tr>\n",
       "</tbody>\n",
       "</table>\n"
      ],
      "text/latex": [
       "A matrix: 13 × 13 of type dbl\n",
       "\\begin{tabular}{r|lllllllllllll}\n",
       "  & crim & zn & indus & chas & nox & rm & age & dis & rad & tax & ptratio & lstat & medv\\\\\n",
       "\\hline\n",
       "\tcrim &  1.00000000 & -0.20046922 &  0.40658341 & -0.055891582 &  0.42097171 & -0.21924670 &  0.35273425 & -0.37967009 &  0.625505145 &  0.58276431 &  0.2899456 &  0.4556215 & -0.3883046\\\\\n",
       "\tzn & -0.20046922 &  1.00000000 & -0.53382819 & -0.042696719 & -0.51660371 &  0.31199059 & -0.56953734 &  0.66440822 & -0.311947826 & -0.31456332 & -0.3916785 & -0.4129946 &  0.3604453\\\\\n",
       "\tindus &  0.40658341 & -0.53382819 &  1.00000000 &  0.062938027 &  0.76365145 & -0.39167585 &  0.64477851 & -0.70802699 &  0.595129275 &  0.72076018 &  0.3832476 &  0.6037997 & -0.4837252\\\\\n",
       "\tchas & -0.05589158 & -0.04269672 &  0.06293803 &  1.000000000 &  0.09120281 &  0.09125123 &  0.08651777 & -0.09917578 & -0.007368241 & -0.03558652 & -0.1215152 & -0.0539293 &  0.1752602\\\\\n",
       "\tnox &  0.42097171 & -0.51660371 &  0.76365145 &  0.091202807 &  1.00000000 & -0.30218819 &  0.73147010 & -0.76923011 &  0.611440563 &  0.66802320 &  0.1889327 &  0.5908789 & -0.4273208\\\\\n",
       "\trm & -0.21924670 &  0.31199059 & -0.39167585 &  0.091251225 & -0.30218819 &  1.00000000 & -0.24026493 &  0.20524621 & -0.209846668 & -0.29204783 & -0.3555015 & -0.6138083 &  0.6953599\\\\\n",
       "\tage &  0.35273425 & -0.56953734 &  0.64477851 &  0.086517774 &  0.73147010 & -0.24026493 &  1.00000000 & -0.74788054 &  0.456022452 &  0.50645559 &  0.2615150 &  0.6023385 & -0.3769546\\\\\n",
       "\tdis & -0.37967009 &  0.66440822 & -0.70802699 & -0.099175780 & -0.76923011 &  0.20524621 & -0.74788054 &  1.00000000 & -0.494587930 & -0.53443158 & -0.2324705 & -0.4969958 &  0.2499287\\\\\n",
       "\trad &  0.62550515 & -0.31194783 &  0.59512927 & -0.007368241 &  0.61144056 & -0.20984667 &  0.45602245 & -0.49458793 &  1.000000000 &  0.91022819 &  0.4647412 &  0.4886763 & -0.3816262\\\\\n",
       "\ttax &  0.58276431 & -0.31456332 &  0.72076018 & -0.035586518 &  0.66802320 & -0.29204783 &  0.50645559 & -0.53443158 &  0.910228189 &  1.00000000 &  0.4608530 &  0.5439934 & -0.4685359\\\\\n",
       "\tptratio &  0.28994558 & -0.39167855 &  0.38324756 & -0.121515174 &  0.18893268 & -0.35550149 &  0.26151501 & -0.23247054 &  0.464741179 &  0.46085304 &  1.0000000 &  0.3740443 & -0.5077867\\\\\n",
       "\tlstat &  0.45562148 & -0.41299457 &  0.60379972 & -0.053929298 &  0.59087892 & -0.61380827 &  0.60233853 & -0.49699583 &  0.488676335 &  0.54399341 &  0.3740443 &  1.0000000 & -0.7376627\\\\\n",
       "\tmedv & -0.38830461 &  0.36044534 & -0.48372516 &  0.175260177 & -0.42732077 &  0.69535995 & -0.37695457 &  0.24992873 & -0.381626231 & -0.46853593 & -0.5077867 & -0.7376627 &  1.0000000\\\\\n",
       "\\end{tabular}\n"
      ],
      "text/markdown": [
       "\n",
       "A matrix: 13 × 13 of type dbl\n",
       "\n",
       "| <!--/--> | crim | zn | indus | chas | nox | rm | age | dis | rad | tax | ptratio | lstat | medv |\n",
       "|---|---|---|---|---|---|---|---|---|---|---|---|---|---|\n",
       "| crim |  1.00000000 | -0.20046922 |  0.40658341 | -0.055891582 |  0.42097171 | -0.21924670 |  0.35273425 | -0.37967009 |  0.625505145 |  0.58276431 |  0.2899456 |  0.4556215 | -0.3883046 |\n",
       "| zn | -0.20046922 |  1.00000000 | -0.53382819 | -0.042696719 | -0.51660371 |  0.31199059 | -0.56953734 |  0.66440822 | -0.311947826 | -0.31456332 | -0.3916785 | -0.4129946 |  0.3604453 |\n",
       "| indus |  0.40658341 | -0.53382819 |  1.00000000 |  0.062938027 |  0.76365145 | -0.39167585 |  0.64477851 | -0.70802699 |  0.595129275 |  0.72076018 |  0.3832476 |  0.6037997 | -0.4837252 |\n",
       "| chas | -0.05589158 | -0.04269672 |  0.06293803 |  1.000000000 |  0.09120281 |  0.09125123 |  0.08651777 | -0.09917578 | -0.007368241 | -0.03558652 | -0.1215152 | -0.0539293 |  0.1752602 |\n",
       "| nox |  0.42097171 | -0.51660371 |  0.76365145 |  0.091202807 |  1.00000000 | -0.30218819 |  0.73147010 | -0.76923011 |  0.611440563 |  0.66802320 |  0.1889327 |  0.5908789 | -0.4273208 |\n",
       "| rm | -0.21924670 |  0.31199059 | -0.39167585 |  0.091251225 | -0.30218819 |  1.00000000 | -0.24026493 |  0.20524621 | -0.209846668 | -0.29204783 | -0.3555015 | -0.6138083 |  0.6953599 |\n",
       "| age |  0.35273425 | -0.56953734 |  0.64477851 |  0.086517774 |  0.73147010 | -0.24026493 |  1.00000000 | -0.74788054 |  0.456022452 |  0.50645559 |  0.2615150 |  0.6023385 | -0.3769546 |\n",
       "| dis | -0.37967009 |  0.66440822 | -0.70802699 | -0.099175780 | -0.76923011 |  0.20524621 | -0.74788054 |  1.00000000 | -0.494587930 | -0.53443158 | -0.2324705 | -0.4969958 |  0.2499287 |\n",
       "| rad |  0.62550515 | -0.31194783 |  0.59512927 | -0.007368241 |  0.61144056 | -0.20984667 |  0.45602245 | -0.49458793 |  1.000000000 |  0.91022819 |  0.4647412 |  0.4886763 | -0.3816262 |\n",
       "| tax |  0.58276431 | -0.31456332 |  0.72076018 | -0.035586518 |  0.66802320 | -0.29204783 |  0.50645559 | -0.53443158 |  0.910228189 |  1.00000000 |  0.4608530 |  0.5439934 | -0.4685359 |\n",
       "| ptratio |  0.28994558 | -0.39167855 |  0.38324756 | -0.121515174 |  0.18893268 | -0.35550149 |  0.26151501 | -0.23247054 |  0.464741179 |  0.46085304 |  1.0000000 |  0.3740443 | -0.5077867 |\n",
       "| lstat |  0.45562148 | -0.41299457 |  0.60379972 | -0.053929298 |  0.59087892 | -0.61380827 |  0.60233853 | -0.49699583 |  0.488676335 |  0.54399341 |  0.3740443 |  1.0000000 | -0.7376627 |\n",
       "| medv | -0.38830461 |  0.36044534 | -0.48372516 |  0.175260177 | -0.42732077 |  0.69535995 | -0.37695457 |  0.24992873 | -0.381626231 | -0.46853593 | -0.5077867 | -0.7376627 |  1.0000000 |\n",
       "\n"
      ],
      "text/plain": [
       "        crim        zn          indus       chas         nox        \n",
       "crim     1.00000000 -0.20046922  0.40658341 -0.055891582  0.42097171\n",
       "zn      -0.20046922  1.00000000 -0.53382819 -0.042696719 -0.51660371\n",
       "indus    0.40658341 -0.53382819  1.00000000  0.062938027  0.76365145\n",
       "chas    -0.05589158 -0.04269672  0.06293803  1.000000000  0.09120281\n",
       "nox      0.42097171 -0.51660371  0.76365145  0.091202807  1.00000000\n",
       "rm      -0.21924670  0.31199059 -0.39167585  0.091251225 -0.30218819\n",
       "age      0.35273425 -0.56953734  0.64477851  0.086517774  0.73147010\n",
       "dis     -0.37967009  0.66440822 -0.70802699 -0.099175780 -0.76923011\n",
       "rad      0.62550515 -0.31194783  0.59512927 -0.007368241  0.61144056\n",
       "tax      0.58276431 -0.31456332  0.72076018 -0.035586518  0.66802320\n",
       "ptratio  0.28994558 -0.39167855  0.38324756 -0.121515174  0.18893268\n",
       "lstat    0.45562148 -0.41299457  0.60379972 -0.053929298  0.59087892\n",
       "medv    -0.38830461  0.36044534 -0.48372516  0.175260177 -0.42732077\n",
       "        rm          age         dis         rad          tax         ptratio   \n",
       "crim    -0.21924670  0.35273425 -0.37967009  0.625505145  0.58276431  0.2899456\n",
       "zn       0.31199059 -0.56953734  0.66440822 -0.311947826 -0.31456332 -0.3916785\n",
       "indus   -0.39167585  0.64477851 -0.70802699  0.595129275  0.72076018  0.3832476\n",
       "chas     0.09125123  0.08651777 -0.09917578 -0.007368241 -0.03558652 -0.1215152\n",
       "nox     -0.30218819  0.73147010 -0.76923011  0.611440563  0.66802320  0.1889327\n",
       "rm       1.00000000 -0.24026493  0.20524621 -0.209846668 -0.29204783 -0.3555015\n",
       "age     -0.24026493  1.00000000 -0.74788054  0.456022452  0.50645559  0.2615150\n",
       "dis      0.20524621 -0.74788054  1.00000000 -0.494587930 -0.53443158 -0.2324705\n",
       "rad     -0.20984667  0.45602245 -0.49458793  1.000000000  0.91022819  0.4647412\n",
       "tax     -0.29204783  0.50645559 -0.53443158  0.910228189  1.00000000  0.4608530\n",
       "ptratio -0.35550149  0.26151501 -0.23247054  0.464741179  0.46085304  1.0000000\n",
       "lstat   -0.61380827  0.60233853 -0.49699583  0.488676335  0.54399341  0.3740443\n",
       "medv     0.69535995 -0.37695457  0.24992873 -0.381626231 -0.46853593 -0.5077867\n",
       "        lstat      medv      \n",
       "crim     0.4556215 -0.3883046\n",
       "zn      -0.4129946  0.3604453\n",
       "indus    0.6037997 -0.4837252\n",
       "chas    -0.0539293  0.1752602\n",
       "nox      0.5908789 -0.4273208\n",
       "rm      -0.6138083  0.6953599\n",
       "age      0.6023385 -0.3769546\n",
       "dis     -0.4969958  0.2499287\n",
       "rad      0.4886763 -0.3816262\n",
       "tax      0.5439934 -0.4685359\n",
       "ptratio  0.3740443 -0.5077867\n",
       "lstat    1.0000000 -0.7376627\n",
       "medv    -0.7376627  1.0000000"
      ]
     },
     "metadata": {},
     "output_type": "display_data"
    }
   ],
   "source": [
    "cor(Boston)"
   ]
  },
  {
   "cell_type": "code",
   "execution_count": 76,
   "metadata": {
    "vscode": {
     "languageId": "r"
    }
   },
   "outputs": [],
   "source": [
    "fit1 <- lm(medv ~ lstat, data = Boston)"
   ]
  },
  {
   "cell_type": "code",
   "execution_count": 77,
   "metadata": {
    "vscode": {
     "languageId": "r"
    }
   },
   "outputs": [
    {
     "data": {
      "text/plain": [
       "\n",
       "Call:\n",
       "lm(formula = medv ~ lstat, data = Boston)\n",
       "\n",
       "Residuals:\n",
       "    Min      1Q  Median      3Q     Max \n",
       "-15.168  -3.990  -1.318   2.034  24.500 \n",
       "\n",
       "Coefficients:\n",
       "            Estimate Std. Error t value Pr(>|t|)    \n",
       "(Intercept) 34.55384    0.56263   61.41   <2e-16 ***\n",
       "lstat       -0.95005    0.03873  -24.53   <2e-16 ***\n",
       "---\n",
       "Signif. codes:  0 '***' 0.001 '**' 0.01 '*' 0.05 '.' 0.1 ' ' 1\n",
       "\n",
       "Residual standard error: 6.216 on 504 degrees of freedom\n",
       "Multiple R-squared:  0.5441,\tAdjusted R-squared:  0.5432 \n",
       "F-statistic: 601.6 on 1 and 504 DF,  p-value: < 2.2e-16\n"
      ]
     },
     "metadata": {},
     "output_type": "display_data"
    }
   ],
   "source": [
    "summary(fit1)"
   ]
  },
  {
   "cell_type": "code",
   "execution_count": 78,
   "metadata": {
    "vscode": {
     "languageId": "r"
    }
   },
   "outputs": [
    {
     "data": {
      "image/png": "[encoded data removed]",
      "text/plain": [
       "plot without title"
      ]
     },
     "metadata": {
      "image/png": {
       "height": 420,
       "width": 420
      }
     },
     "output_type": "display_data"
    }
   ],
   "source": [
    "plot(medv ~ lstat, Boston)\n",
    "abline(fit1, col = \"red\")"
   ]
  },
  {
   "cell_type": "code",
   "execution_count": 79,
   "metadata": {
    "vscode": {
     "languageId": "r"
    }
   },
   "outputs": [
    {
     "data": {
      "text/html": [
       "<style>\n",
       ".list-inline {list-style: none; margin:0; padding: 0}\n",
       ".list-inline>li {display: inline-block}\n",
       ".list-inline>li:not(:last-child)::after {content: \"\\00b7\"; padding: 0 .5ex}\n",
       "</style>\n",
       "<ol class=list-inline><li>'coefficients'</li><li>'residuals'</li><li>'effects'</li><li>'rank'</li><li>'fitted.values'</li><li>'assign'</li><li>'qr'</li><li>'df.residual'</li><li>'xlevels'</li><li>'call'</li><li>'terms'</li><li>'model'</li></ol>\n"
      ],
      "text/latex": [
       "\\begin{enumerate*}\n",
       "\\item 'coefficients'\n",
       "\\item 'residuals'\n",
       "\\item 'effects'\n",
       "\\item 'rank'\n",
       "\\item 'fitted.values'\n",
       "\\item 'assign'\n",
       "\\item 'qr'\n",
       "\\item 'df.residual'\n",
       "\\item 'xlevels'\n",
       "\\item 'call'\n",
       "\\item 'terms'\n",
       "\\item 'model'\n",
       "\\end{enumerate*}\n"
      ],
      "text/markdown": [
       "1. 'coefficients'\n",
       "2. 'residuals'\n",
       "3. 'effects'\n",
       "4. 'rank'\n",
       "5. 'fitted.values'\n",
       "6. 'assign'\n",
       "7. 'qr'\n",
       "8. 'df.residual'\n",
       "9. 'xlevels'\n",
       "10. 'call'\n",
       "11. 'terms'\n",
       "12. 'model'\n",
       "\n",
       "\n"
      ],
      "text/plain": [
       " [1] \"coefficients\"  \"residuals\"     \"effects\"       \"rank\"         \n",
       " [5] \"fitted.values\" \"assign\"        \"qr\"            \"df.residual\"  \n",
       " [9] \"xlevels\"       \"call\"          \"terms\"         \"model\"        "
      ]
     },
     "metadata": {},
     "output_type": "display_data"
    }
   ],
   "source": [
    "names(fit1)"
   ]
  },
  {
   "cell_type": "code",
   "execution_count": 80,
   "metadata": {
    "vscode": {
     "languageId": "r"
    }
   },
   "outputs": [
    {
     "data": {
      "text/html": [
       "<table class=\"dataframe\">\n",
       "<caption>A matrix: 2 × 2 of type dbl</caption>\n",
       "<thead>\n",
       "\t<tr><th></th><th scope=col>2.5 %</th><th scope=col>97.5 %</th></tr>\n",
       "</thead>\n",
       "<tbody>\n",
       "\t<tr><th scope=row>(Intercept)</th><td>33.448457</td><td>35.6592247</td></tr>\n",
       "\t<tr><th scope=row>lstat</th><td>-1.026148</td><td>-0.8739505</td></tr>\n",
       "</tbody>\n",
       "</table>\n"
      ],
      "text/latex": [
       "A matrix: 2 × 2 of type dbl\n",
       "\\begin{tabular}{r|ll}\n",
       "  & 2.5 \\% & 97.5 \\%\\\\\n",
       "\\hline\n",
       "\t(Intercept) & 33.448457 & 35.6592247\\\\\n",
       "\tlstat & -1.026148 & -0.8739505\\\\\n",
       "\\end{tabular}\n"
      ],
      "text/markdown": [
       "\n",
       "A matrix: 2 × 2 of type dbl\n",
       "\n",
       "| <!--/--> | 2.5 % | 97.5 % |\n",
       "|---|---|---|\n",
       "| (Intercept) | 33.448457 | 35.6592247 |\n",
       "| lstat | -1.026148 | -0.8739505 |\n",
       "\n"
      ],
      "text/plain": [
       "            2.5 %     97.5 %    \n",
       "(Intercept) 33.448457 35.6592247\n",
       "lstat       -1.026148 -0.8739505"
      ]
     },
     "metadata": {},
     "output_type": "display_data"
    }
   ],
   "source": [
    "confint(fit1)"
   ]
  },
  {
   "cell_type": "code",
   "execution_count": 81,
   "metadata": {
    "vscode": {
     "languageId": "r"
    }
   },
   "outputs": [
    {
     "data": {
      "text/html": [
       "<table class=\"dataframe\">\n",
       "<caption>A matrix: 3 × 3 of type dbl</caption>\n",
       "<thead>\n",
       "\t<tr><th></th><th scope=col>fit</th><th scope=col>lwr</th><th scope=col>upr</th></tr>\n",
       "</thead>\n",
       "<tbody>\n",
       "\t<tr><th scope=row>1</th><td>29.80359</td><td>29.00741</td><td>30.59978</td></tr>\n",
       "\t<tr><th scope=row>2</th><td>25.05335</td><td>24.47413</td><td>25.63256</td></tr>\n",
       "\t<tr><th scope=row>3</th><td>20.30310</td><td>19.73159</td><td>20.87461</td></tr>\n",
       "</tbody>\n",
       "</table>\n"
      ],
      "text/latex": [
       "A matrix: 3 × 3 of type dbl\n",
       "\\begin{tabular}{r|lll}\n",
       "  & fit & lwr & upr\\\\\n",
       "\\hline\n",
       "\t1 & 29.80359 & 29.00741 & 30.59978\\\\\n",
       "\t2 & 25.05335 & 24.47413 & 25.63256\\\\\n",
       "\t3 & 20.30310 & 19.73159 & 20.87461\\\\\n",
       "\\end{tabular}\n"
      ],
      "text/markdown": [
       "\n",
       "A matrix: 3 × 3 of type dbl\n",
       "\n",
       "| <!--/--> | fit | lwr | upr |\n",
       "|---|---|---|---|\n",
       "| 1 | 29.80359 | 29.00741 | 30.59978 |\n",
       "| 2 | 25.05335 | 24.47413 | 25.63256 |\n",
       "| 3 | 20.30310 | 19.73159 | 20.87461 |\n",
       "\n"
      ],
      "text/plain": [
       "  fit      lwr      upr     \n",
       "1 29.80359 29.00741 30.59978\n",
       "2 25.05335 24.47413 25.63256\n",
       "3 20.30310 19.73159 20.87461"
      ]
     },
     "metadata": {},
     "output_type": "display_data"
    }
   ],
   "source": [
    "values <- data.frame(lstat = c(5, 10, 15))\n",
    "\n",
    "predict(fit1, values, interval = \"confidence\")"
   ]
  },
  {
   "cell_type": "code",
   "execution_count": 82,
   "metadata": {
    "vscode": {
     "languageId": "r"
    }
   },
   "outputs": [
    {
     "data": {
      "text/plain": [
       "\n",
       "Call:\n",
       "lm(formula = medv ~ lstat + age, data = Boston)\n",
       "\n",
       "Residuals:\n",
       "    Min      1Q  Median      3Q     Max \n",
       "-15.981  -3.978  -1.283   1.968  23.158 \n",
       "\n",
       "Coefficients:\n",
       "            Estimate Std. Error t value Pr(>|t|)    \n",
       "(Intercept) 33.22276    0.73085  45.458  < 2e-16 ***\n",
       "lstat       -1.03207    0.04819 -21.416  < 2e-16 ***\n",
       "age          0.03454    0.01223   2.826  0.00491 ** \n",
       "---\n",
       "Signif. codes:  0 '***' 0.001 '**' 0.01 '*' 0.05 '.' 0.1 ' ' 1\n",
       "\n",
       "Residual standard error: 6.173 on 503 degrees of freedom\n",
       "Multiple R-squared:  0.5513,\tAdjusted R-squared:  0.5495 \n",
       "F-statistic:   309 on 2 and 503 DF,  p-value: < 2.2e-16\n"
      ]
     },
     "metadata": {},
     "output_type": "display_data"
    }
   ],
   "source": [
    "fit2 <- lm(medv ~ lstat + age, data = Boston)\n",
    "summary(fit2)"
   ]
  },
  {
   "cell_type": "code",
   "execution_count": 83,
   "metadata": {
    "vscode": {
     "languageId": "r"
    }
   },
   "outputs": [
    {
     "data": {
      "text/plain": [
       "\n",
       "Call:\n",
       "lm(formula = medv ~ ., data = Boston)\n",
       "\n",
       "Residuals:\n",
       "     Min       1Q   Median       3Q      Max \n",
       "-15.1304  -2.7673  -0.5814   1.9414  26.2526 \n",
       "\n",
       "Coefficients:\n",
       "              Estimate Std. Error t value Pr(>|t|)    \n",
       "(Intercept)  41.617270   4.936039   8.431 3.79e-16 ***\n",
       "crim         -0.121389   0.033000  -3.678 0.000261 ***\n",
       "zn            0.046963   0.013879   3.384 0.000772 ***\n",
       "indus         0.013468   0.062145   0.217 0.828520    \n",
       "chas          2.839993   0.870007   3.264 0.001173 ** \n",
       "nox         -18.758022   3.851355  -4.870 1.50e-06 ***\n",
       "rm            3.658119   0.420246   8.705  < 2e-16 ***\n",
       "age           0.003611   0.013329   0.271 0.786595    \n",
       "dis          -1.490754   0.201623  -7.394 6.17e-13 ***\n",
       "rad           0.289405   0.066908   4.325 1.84e-05 ***\n",
       "tax          -0.012682   0.003801  -3.337 0.000912 ***\n",
       "ptratio      -0.937533   0.132206  -7.091 4.63e-12 ***\n",
       "lstat        -0.552019   0.050659 -10.897  < 2e-16 ***\n",
       "---\n",
       "Signif. codes:  0 '***' 0.001 '**' 0.01 '*' 0.05 '.' 0.1 ' ' 1\n",
       "\n",
       "Residual standard error: 4.798 on 493 degrees of freedom\n",
       "Multiple R-squared:  0.7343,\tAdjusted R-squared:  0.7278 \n",
       "F-statistic: 113.5 on 12 and 493 DF,  p-value: < 2.2e-16\n"
      ]
     },
     "metadata": {},
     "output_type": "display_data"
    }
   ],
   "source": [
    "fit3 <- lm(medv ~ ., data = Boston)\n",
    "summary(fit3)"
   ]
  },
  {
   "cell_type": "code",
   "execution_count": 84,
   "metadata": {
    "vscode": {
     "languageId": "r"
    }
   },
   "outputs": [
    {
     "data": {
      "image/png": "[encoded data removed]",
      "text/plain": [
       "Plot with title \"\""
      ]
     },
     "metadata": {
      "image/png": {
       "height": 420,
       "width": 420
      }
     },
     "output_type": "display_data"
    }
   ],
   "source": [
    "par(mfrow = c(2, 2))\n",
    "plot(fit3)"
   ]
  },
  {
   "cell_type": "code",
   "execution_count": 85,
   "metadata": {
    "vscode": {
     "languageId": "r"
    }
   },
   "outputs": [
    {
     "data": {
      "text/plain": [
       "\n",
       "Call:\n",
       "lm(formula = medv ~ crim + zn + chas + nox + rm + dis + rad + \n",
       "    tax + ptratio + lstat, data = Boston)\n",
       "\n",
       "Residuals:\n",
       "     Min       1Q   Median       3Q      Max \n",
       "-15.1814  -2.7625  -0.6243   1.8448  26.3920 \n",
       "\n",
       "Coefficients:\n",
       "              Estimate Std. Error t value Pr(>|t|)    \n",
       "(Intercept)  41.451747   4.903283   8.454 3.18e-16 ***\n",
       "crim         -0.121665   0.032919  -3.696 0.000244 ***\n",
       "zn            0.046191   0.013673   3.378 0.000787 ***\n",
       "chas          2.871873   0.862591   3.329 0.000935 ***\n",
       "nox         -18.262427   3.565247  -5.122 4.33e-07 ***\n",
       "rm            3.672957   0.409127   8.978  < 2e-16 ***\n",
       "dis          -1.515951   0.187675  -8.078 5.08e-15 ***\n",
       "rad           0.283932   0.063945   4.440 1.11e-05 ***\n",
       "tax          -0.012292   0.003407  -3.608 0.000340 ***\n",
       "ptratio      -0.930961   0.130423  -7.138 3.39e-12 ***\n",
       "lstat        -0.546509   0.047442 -11.519  < 2e-16 ***\n",
       "---\n",
       "Signif. codes:  0 '***' 0.001 '**' 0.01 '*' 0.05 '.' 0.1 ' ' 1\n",
       "\n",
       "Residual standard error: 4.789 on 495 degrees of freedom\n",
       "Multiple R-squared:  0.7342,\tAdjusted R-squared:  0.7289 \n",
       "F-statistic: 136.8 on 10 and 495 DF,  p-value: < 2.2e-16\n"
      ]
     },
     "metadata": {},
     "output_type": "display_data"
    }
   ],
   "source": [
    "fit4 <- update(fit3, ~. - age - indus)\n",
    "summary(fit4)"
   ]
  },
  {
   "cell_type": "code",
   "execution_count": 86,
   "metadata": {
    "vscode": {
     "languageId": "r"
    }
   },
   "outputs": [
    {
     "data": {
      "text/plain": [
       "\n",
       "Call:\n",
       "lm(formula = medv ~ lstat * age, data = Boston)\n",
       "\n",
       "Residuals:\n",
       "    Min      1Q  Median      3Q     Max \n",
       "-15.806  -4.045  -1.333   2.085  27.552 \n",
       "\n",
       "Coefficients:\n",
       "              Estimate Std. Error t value Pr(>|t|)    \n",
       "(Intercept) 36.0885359  1.4698355  24.553  < 2e-16 ***\n",
       "lstat       -1.3921168  0.1674555  -8.313 8.78e-16 ***\n",
       "age         -0.0007209  0.0198792  -0.036   0.9711    \n",
       "lstat:age    0.0041560  0.0018518   2.244   0.0252 *  \n",
       "---\n",
       "Signif. codes:  0 '***' 0.001 '**' 0.01 '*' 0.05 '.' 0.1 ' ' 1\n",
       "\n",
       "Residual standard error: 6.149 on 502 degrees of freedom\n",
       "Multiple R-squared:  0.5557,\tAdjusted R-squared:  0.5531 \n",
       "F-statistic: 209.3 on 3 and 502 DF,  p-value: < 2.2e-16\n"
      ]
     },
     "metadata": {},
     "output_type": "display_data"
    }
   ],
   "source": [
    "fit5 <- lm(medv ~ lstat * age, Boston)\n",
    "summary(fit5)"
   ]
  },
  {
   "cell_type": "code",
   "execution_count": 87,
   "metadata": {
    "vscode": {
     "languageId": "r"
    }
   },
   "outputs": [
    {
     "data": {
      "text/plain": [
       "\n",
       "Call:\n",
       "lm(formula = medv ~ I(lstat * age), data = Boston)\n",
       "\n",
       "Residuals:\n",
       "    Min      1Q  Median      3Q     Max \n",
       "-13.347  -4.372  -1.534   1.914  27.193 \n",
       "\n",
       "Coefficients:\n",
       "                 Estimate Std. Error t value Pr(>|t|)    \n",
       "(Intercept)    30.1588631  0.4828240   62.46   <2e-16 ***\n",
       "I(lstat * age) -0.0077146  0.0003799  -20.31   <2e-16 ***\n",
       "---\n",
       "Signif. codes:  0 '***' 0.001 '**' 0.01 '*' 0.05 '.' 0.1 ' ' 1\n",
       "\n",
       "Residual standard error: 6.827 on 504 degrees of freedom\n",
       "Multiple R-squared:  0.4501,\tAdjusted R-squared:  0.449 \n",
       "F-statistic: 412.4 on 1 and 504 DF,  p-value: < 2.2e-16\n"
      ]
     },
     "metadata": {},
     "output_type": "display_data"
    }
   ],
   "source": [
    "fit5_1 <- lm(medv ~ I(lstat * age), Boston)\n",
    "summary(fit5_1)"
   ]
  },
  {
   "cell_type": "code",
   "execution_count": 88,
   "metadata": {
    "vscode": {
     "languageId": "r"
    }
   },
   "outputs": [
    {
     "data": {
      "text/plain": [
       "\n",
       "Call:\n",
       "lm(formula = medv ~ lstat + I(lstat^2), data = Boston)\n",
       "\n",
       "Residuals:\n",
       "     Min       1Q   Median       3Q      Max \n",
       "-15.2834  -3.8313  -0.5295   2.3095  25.4148 \n",
       "\n",
       "Coefficients:\n",
       "             Estimate Std. Error t value Pr(>|t|)    \n",
       "(Intercept) 42.862007   0.872084   49.15   <2e-16 ***\n",
       "lstat       -2.332821   0.123803  -18.84   <2e-16 ***\n",
       "I(lstat^2)   0.043547   0.003745   11.63   <2e-16 ***\n",
       "---\n",
       "Signif. codes:  0 '***' 0.001 '**' 0.01 '*' 0.05 '.' 0.1 ' ' 1\n",
       "\n",
       "Residual standard error: 5.524 on 503 degrees of freedom\n",
       "Multiple R-squared:  0.6407,\tAdjusted R-squared:  0.6393 \n",
       "F-statistic: 448.5 on 2 and 503 DF,  p-value: < 2.2e-16\n"
      ]
     },
     "metadata": {},
     "output_type": "display_data"
    }
   ],
   "source": [
    "fit6 <- lm(medv ~ lstat + I(lstat^2), Boston)\n",
    "summary(fit6)"
   ]
  },
  {
   "cell_type": "code",
   "execution_count": 89,
   "metadata": {
    "vscode": {
     "languageId": "r"
    }
   },
   "outputs": [
    {
     "name": "stderr",
     "output_type": "stream",
     "text": [
      "The following objects are masked from Boston (pos = 6):\n",
      "\n",
      "    age, chas, crim, dis, indus, lstat, medv, nox, ptratio, rad, rm,\n",
      "    tax, zn\n",
      "\n",
      "\n"
     ]
    }
   ],
   "source": [
    "attach(Boston)"
   ]
  },
  {
   "cell_type": "code",
   "execution_count": 90,
   "metadata": {
    "vscode": {
     "languageId": "r"
    }
   },
   "outputs": [],
   "source": [
    "par(mfrow = c(1, 1))"
   ]
  },
  {
   "cell_type": "code",
   "execution_count": 91,
   "metadata": {
    "vscode": {
     "languageId": "r"
    }
   },
   "outputs": [
    {
     "data": {
      "image/png": "[encoded data removed]",
      "text/plain": [
       "plot without title"
      ]
     },
     "metadata": {
      "image/png": {
       "height": 420,
       "width": 420
      }
     },
     "output_type": "display_data"
    }
   ],
   "source": [
    "plot(medv ~ lstat)\n",
    "points(lstat, fitted(fit6), col = \"red\", pch = 20)"
   ]
  },
  {
   "cell_type": "code",
   "execution_count": 92,
   "metadata": {
    "vscode": {
     "languageId": "r"
    }
   },
   "outputs": [
    {
     "data": {
      "text/plain": [
       "\n",
       "Call:\n",
       "lm(formula = medv ~ poly(lstat, 4))\n",
       "\n",
       "Residuals:\n",
       "    Min      1Q  Median      3Q     Max \n",
       "-13.563  -3.180  -0.632   2.283  27.181 \n",
       "\n",
       "Coefficients:\n",
       "                 Estimate Std. Error t value Pr(>|t|)    \n",
       "(Intercept)       22.5328     0.2347  95.995  < 2e-16 ***\n",
       "poly(lstat, 4)1 -152.4595     5.2801 -28.874  < 2e-16 ***\n",
       "poly(lstat, 4)2   64.2272     5.2801  12.164  < 2e-16 ***\n",
       "poly(lstat, 4)3  -27.0511     5.2801  -5.123 4.29e-07 ***\n",
       "poly(lstat, 4)4   25.4517     5.2801   4.820 1.90e-06 ***\n",
       "---\n",
       "Signif. codes:  0 '***' 0.001 '**' 0.01 '*' 0.05 '.' 0.1 ' ' 1\n",
       "\n",
       "Residual standard error: 5.28 on 501 degrees of freedom\n",
       "Multiple R-squared:  0.673,\tAdjusted R-squared:  0.6704 \n",
       "F-statistic: 257.8 on 4 and 501 DF,  p-value: < 2.2e-16\n"
      ]
     },
     "metadata": {},
     "output_type": "display_data"
    }
   ],
   "source": [
    "fit7 <- lm(medv ~ poly(lstat, 4))\n",
    "summary(fit7)"
   ]
  },
  {
   "cell_type": "code",
   "execution_count": 93,
   "metadata": {
    "vscode": {
     "languageId": "r"
    }
   },
   "outputs": [
    {
     "data": {
      "image/png": "[encoded data removed]",
      "text/plain": [
       "plot without title"
      ]
     },
     "metadata": {
      "image/png": {
       "height": 420,
       "width": 420
      }
     },
     "output_type": "display_data"
    }
   ],
   "source": [
    "plot(medv ~ lstat)\n",
    "points(lstat, fitted(fit6), col = \"red\", pch = 20)\n",
    "points(lstat, fitted(fit7), col = \"blue\", pch = 20)"
   ]
  },
  {
   "cell_type": "code",
   "execution_count": 94,
   "metadata": {
    "vscode": {
     "languageId": "r"
    }
   },
   "outputs": [
    {
     "data": {
      "image/png": "[encoded data removed]",
      "text/plain": [
       "plot without title"
      ]
     },
     "metadata": {
      "image/png": {
       "height": 420,
       "width": 420
      }
     },
     "output_type": "display_data"
    }
   ],
   "source": [
    "plot(1:20, 1:20, pch = 1:20, cex = 2)"
   ]
  },
  {
   "cell_type": "code",
   "execution_count": 95,
   "metadata": {
    "vscode": {
     "languageId": "r"
    }
   },
   "outputs": [
    {
     "data": {
      "text/html": [
       "<table class=\"dataframe\">\n",
       "<caption>A data.frame: 400 × 11</caption>\n",
       "<thead>\n",
       "\t<tr><th></th><th scope=col>Sales</th><th scope=col>CompPrice</th><th scope=col>Income</th><th scope=col>Advertising</th><th scope=col>Population</th><th scope=col>Price</th><th scope=col>ShelveLoc</th><th scope=col>Age</th><th scope=col>Education</th><th scope=col>Urban</th><th scope=col>US</th></tr>\n",
       "\t<tr><th></th><th scope=col>&lt;dbl&gt;</th><th scope=col>&lt;dbl&gt;</th><th scope=col>&lt;dbl&gt;</th><th scope=col>&lt;dbl&gt;</th><th scope=col>&lt;dbl&gt;</th><th scope=col>&lt;dbl&gt;</th><th scope=col>&lt;fct&gt;</th><th scope=col>&lt;dbl&gt;</th><th scope=col>&lt;dbl&gt;</th><th scope=col>&lt;fct&gt;</th><th scope=col>&lt;fct&gt;</th></tr>\n",
       "</thead>\n",
       "<tbody>\n",
       "\t<tr><th scope=row>1</th><td> 9.50</td><td>138</td><td> 73</td><td>11</td><td>276</td><td>120</td><td>Bad   </td><td>42</td><td>17</td><td>Yes</td><td>Yes</td></tr>\n",
       "\t<tr><th scope=row>2</th><td>11.22</td><td>111</td><td> 48</td><td>16</td><td>260</td><td> 83</td><td>Good  </td><td>65</td><td>10</td><td>Yes</td><td>Yes</td></tr>\n",
       "\t<tr><th scope=row>3</th><td>10.06</td><td>113</td><td> 35</td><td>10</td><td>269</td><td> 80</td><td>Medium</td><td>59</td><td>12</td><td>Yes</td><td>Yes</td></tr>\n",
       "\t<tr><th scope=row>4</th><td> 7.40</td><td>117</td><td>100</td><td> 4</td><td>466</td><td> 97</td><td>Medium</td><td>55</td><td>14</td><td>Yes</td><td>Yes</td></tr>\n",
       "\t<tr><th scope=row>5</th><td> 4.15</td><td>141</td><td> 64</td><td> 3</td><td>340</td><td>128</td><td>Bad   </td><td>38</td><td>13</td><td>Yes</td><td>No </td></tr>\n",
       "\t<tr><th scope=row>6</th><td>10.81</td><td>124</td><td>113</td><td>13</td><td>501</td><td> 72</td><td>Bad   </td><td>78</td><td>16</td><td>No </td><td>Yes</td></tr>\n",
       "\t<tr><th scope=row>7</th><td> 6.63</td><td>115</td><td>105</td><td> 0</td><td> 45</td><td>108</td><td>Medium</td><td>71</td><td>15</td><td>Yes</td><td>No </td></tr>\n",
       "\t<tr><th scope=row>8</th><td>11.85</td><td>136</td><td> 81</td><td>15</td><td>425</td><td>120</td><td>Good  </td><td>67</td><td>10</td><td>Yes</td><td>Yes</td></tr>\n",
       "\t<tr><th scope=row>9</th><td> 6.54</td><td>132</td><td>110</td><td> 0</td><td>108</td><td>124</td><td>Medium</td><td>76</td><td>10</td><td>No </td><td>No </td></tr>\n",
       "\t<tr><th scope=row>10</th><td> 4.69</td><td>132</td><td>113</td><td> 0</td><td>131</td><td>124</td><td>Medium</td><td>76</td><td>17</td><td>No </td><td>Yes</td></tr>\n",
       "\t<tr><th scope=row>11</th><td> 9.01</td><td>121</td><td> 78</td><td> 9</td><td>150</td><td>100</td><td>Bad   </td><td>26</td><td>10</td><td>No </td><td>Yes</td></tr>\n",
       "\t<tr><th scope=row>12</th><td>11.96</td><td>117</td><td> 94</td><td> 4</td><td>503</td><td> 94</td><td>Good  </td><td>50</td><td>13</td><td>Yes</td><td>Yes</td></tr>\n",
       "\t<tr><th scope=row>13</th><td> 3.98</td><td>122</td><td> 35</td><td> 2</td><td>393</td><td>136</td><td>Medium</td><td>62</td><td>18</td><td>Yes</td><td>No </td></tr>\n",
       "\t<tr><th scope=row>14</th><td>10.96</td><td>115</td><td> 28</td><td>11</td><td> 29</td><td> 86</td><td>Good  </td><td>53</td><td>18</td><td>Yes</td><td>Yes</td></tr>\n",
       "\t<tr><th scope=row>15</th><td>11.17</td><td>107</td><td>117</td><td>11</td><td>148</td><td>118</td><td>Good  </td><td>52</td><td>18</td><td>Yes</td><td>Yes</td></tr>\n",
       "\t<tr><th scope=row>16</th><td> 8.71</td><td>149</td><td> 95</td><td> 5</td><td>400</td><td>144</td><td>Medium</td><td>76</td><td>18</td><td>No </td><td>No </td></tr>\n",
       "\t<tr><th scope=row>17</th><td> 7.58</td><td>118</td><td> 32</td><td> 0</td><td>284</td><td>110</td><td>Good  </td><td>63</td><td>13</td><td>Yes</td><td>No </td></tr>\n",
       "\t<tr><th scope=row>18</th><td>12.29</td><td>147</td><td> 74</td><td>13</td><td>251</td><td>131</td><td>Good  </td><td>52</td><td>10</td><td>Yes</td><td>Yes</td></tr>\n",
       "\t<tr><th scope=row>19</th><td>13.91</td><td>110</td><td>110</td><td> 0</td><td>408</td><td> 68</td><td>Good  </td><td>46</td><td>17</td><td>No </td><td>Yes</td></tr>\n",
       "\t<tr><th scope=row>20</th><td> 8.73</td><td>129</td><td> 76</td><td>16</td><td> 58</td><td>121</td><td>Medium</td><td>69</td><td>12</td><td>Yes</td><td>Yes</td></tr>\n",
       "\t<tr><th scope=row>21</th><td> 6.41</td><td>125</td><td> 90</td><td> 2</td><td>367</td><td>131</td><td>Medium</td><td>35</td><td>18</td><td>Yes</td><td>Yes</td></tr>\n",
       "\t<tr><th scope=row>22</th><td>12.13</td><td>134</td><td> 29</td><td>12</td><td>239</td><td>109</td><td>Good  </td><td>62</td><td>18</td><td>No </td><td>Yes</td></tr>\n",
       "\t<tr><th scope=row>23</th><td> 5.08</td><td>128</td><td> 46</td><td> 6</td><td>497</td><td>138</td><td>Medium</td><td>42</td><td>13</td><td>Yes</td><td>No </td></tr>\n",
       "\t<tr><th scope=row>24</th><td> 5.87</td><td>121</td><td> 31</td><td> 0</td><td>292</td><td>109</td><td>Medium</td><td>79</td><td>10</td><td>Yes</td><td>No </td></tr>\n",
       "\t<tr><th scope=row>25</th><td>10.14</td><td>145</td><td>119</td><td>16</td><td>294</td><td>113</td><td>Bad   </td><td>42</td><td>12</td><td>Yes</td><td>Yes</td></tr>\n",
       "\t<tr><th scope=row>26</th><td>14.90</td><td>139</td><td> 32</td><td> 0</td><td>176</td><td> 82</td><td>Good  </td><td>54</td><td>11</td><td>No </td><td>No </td></tr>\n",
       "\t<tr><th scope=row>27</th><td> 8.33</td><td>107</td><td>115</td><td>11</td><td>496</td><td>131</td><td>Good  </td><td>50</td><td>11</td><td>No </td><td>Yes</td></tr>\n",
       "\t<tr><th scope=row>28</th><td> 5.27</td><td> 98</td><td>118</td><td> 0</td><td> 19</td><td>107</td><td>Medium</td><td>64</td><td>17</td><td>Yes</td><td>No </td></tr>\n",
       "\t<tr><th scope=row>29</th><td> 2.99</td><td>103</td><td> 74</td><td> 0</td><td>359</td><td> 97</td><td>Bad   </td><td>55</td><td>11</td><td>Yes</td><td>Yes</td></tr>\n",
       "\t<tr><th scope=row>30</th><td> 7.81</td><td>104</td><td> 99</td><td>15</td><td>226</td><td>102</td><td>Bad   </td><td>58</td><td>17</td><td>Yes</td><td>Yes</td></tr>\n",
       "\t<tr><th scope=row>⋮</th><td>⋮</td><td>⋮</td><td>⋮</td><td>⋮</td><td>⋮</td><td>⋮</td><td>⋮</td><td>⋮</td><td>⋮</td><td>⋮</td><td>⋮</td></tr>\n",
       "\t<tr><th scope=row>371</th><td> 7.68</td><td>126</td><td> 41</td><td>22</td><td>403</td><td>119</td><td>Bad   </td><td>42</td><td>12</td><td>Yes</td><td>Yes</td></tr>\n",
       "\t<tr><th scope=row>372</th><td> 9.08</td><td>152</td><td> 81</td><td> 0</td><td>191</td><td>126</td><td>Medium</td><td>54</td><td>16</td><td>Yes</td><td>No </td></tr>\n",
       "\t<tr><th scope=row>373</th><td> 7.80</td><td>121</td><td> 50</td><td> 0</td><td>508</td><td> 98</td><td>Medium</td><td>65</td><td>11</td><td>No </td><td>No </td></tr>\n",
       "\t<tr><th scope=row>374</th><td> 5.58</td><td>137</td><td> 71</td><td> 0</td><td>402</td><td>116</td><td>Medium</td><td>78</td><td>17</td><td>Yes</td><td>No </td></tr>\n",
       "\t<tr><th scope=row>375</th><td> 9.44</td><td>131</td><td> 47</td><td> 7</td><td> 90</td><td>118</td><td>Medium</td><td>47</td><td>12</td><td>Yes</td><td>Yes</td></tr>\n",
       "\t<tr><th scope=row>376</th><td> 7.90</td><td>132</td><td> 46</td><td> 4</td><td>206</td><td>124</td><td>Medium</td><td>73</td><td>11</td><td>Yes</td><td>No </td></tr>\n",
       "\t<tr><th scope=row>377</th><td>16.27</td><td>141</td><td> 60</td><td>19</td><td>319</td><td> 92</td><td>Good  </td><td>44</td><td>11</td><td>Yes</td><td>Yes</td></tr>\n",
       "\t<tr><th scope=row>378</th><td> 6.81</td><td>132</td><td> 61</td><td> 0</td><td>263</td><td>125</td><td>Medium</td><td>41</td><td>12</td><td>No </td><td>No </td></tr>\n",
       "\t<tr><th scope=row>379</th><td> 6.11</td><td>133</td><td> 88</td><td> 3</td><td>105</td><td>119</td><td>Medium</td><td>79</td><td>12</td><td>Yes</td><td>Yes</td></tr>\n",
       "\t<tr><th scope=row>380</th><td> 5.81</td><td>125</td><td>111</td><td> 0</td><td>404</td><td>107</td><td>Bad   </td><td>54</td><td>15</td><td>Yes</td><td>No </td></tr>\n",
       "\t<tr><th scope=row>381</th><td> 9.64</td><td>106</td><td> 64</td><td>10</td><td> 17</td><td> 89</td><td>Medium</td><td>68</td><td>17</td><td>Yes</td><td>Yes</td></tr>\n",
       "\t<tr><th scope=row>382</th><td> 3.90</td><td>124</td><td> 65</td><td>21</td><td>496</td><td>151</td><td>Bad   </td><td>77</td><td>13</td><td>Yes</td><td>Yes</td></tr>\n",
       "\t<tr><th scope=row>383</th><td> 4.95</td><td>121</td><td> 28</td><td>19</td><td>315</td><td>121</td><td>Medium</td><td>66</td><td>14</td><td>Yes</td><td>Yes</td></tr>\n",
       "\t<tr><th scope=row>384</th><td> 9.35</td><td> 98</td><td>117</td><td> 0</td><td> 76</td><td> 68</td><td>Medium</td><td>63</td><td>10</td><td>Yes</td><td>No </td></tr>\n",
       "\t<tr><th scope=row>385</th><td>12.85</td><td>123</td><td> 37</td><td>15</td><td>348</td><td>112</td><td>Good  </td><td>28</td><td>12</td><td>Yes</td><td>Yes</td></tr>\n",
       "\t<tr><th scope=row>386</th><td> 5.87</td><td>131</td><td> 73</td><td>13</td><td>455</td><td>132</td><td>Medium</td><td>62</td><td>17</td><td>Yes</td><td>Yes</td></tr>\n",
       "\t<tr><th scope=row>387</th><td> 5.32</td><td>152</td><td>116</td><td> 0</td><td>170</td><td>160</td><td>Medium</td><td>39</td><td>16</td><td>Yes</td><td>No </td></tr>\n",
       "\t<tr><th scope=row>388</th><td> 8.67</td><td>142</td><td> 73</td><td>14</td><td>238</td><td>115</td><td>Medium</td><td>73</td><td>14</td><td>No </td><td>Yes</td></tr>\n",
       "\t<tr><th scope=row>389</th><td> 8.14</td><td>135</td><td> 89</td><td>11</td><td>245</td><td> 78</td><td>Bad   </td><td>79</td><td>16</td><td>Yes</td><td>Yes</td></tr>\n",
       "\t<tr><th scope=row>390</th><td> 8.44</td><td>128</td><td> 42</td><td> 8</td><td>328</td><td>107</td><td>Medium</td><td>35</td><td>12</td><td>Yes</td><td>Yes</td></tr>\n",
       "\t<tr><th scope=row>391</th><td> 5.47</td><td>108</td><td> 75</td><td> 9</td><td> 61</td><td>111</td><td>Medium</td><td>67</td><td>12</td><td>Yes</td><td>Yes</td></tr>\n",
       "\t<tr><th scope=row>392</th><td> 6.10</td><td>153</td><td> 63</td><td> 0</td><td> 49</td><td>124</td><td>Bad   </td><td>56</td><td>16</td><td>Yes</td><td>No </td></tr>\n",
       "\t<tr><th scope=row>393</th><td> 4.53</td><td>129</td><td> 42</td><td>13</td><td>315</td><td>130</td><td>Bad   </td><td>34</td><td>13</td><td>Yes</td><td>Yes</td></tr>\n",
       "\t<tr><th scope=row>394</th><td> 5.57</td><td>109</td><td> 51</td><td>10</td><td> 26</td><td>120</td><td>Medium</td><td>30</td><td>17</td><td>No </td><td>Yes</td></tr>\n",
       "\t<tr><th scope=row>395</th><td> 5.35</td><td>130</td><td> 58</td><td>19</td><td>366</td><td>139</td><td>Bad   </td><td>33</td><td>16</td><td>Yes</td><td>Yes</td></tr>\n",
       "\t<tr><th scope=row>396</th><td>12.57</td><td>138</td><td>108</td><td>17</td><td>203</td><td>128</td><td>Good  </td><td>33</td><td>14</td><td>Yes</td><td>Yes</td></tr>\n",
       "\t<tr><th scope=row>397</th><td> 6.14</td><td>139</td><td> 23</td><td> 3</td><td> 37</td><td>120</td><td>Medium</td><td>55</td><td>11</td><td>No </td><td>Yes</td></tr>\n",
       "\t<tr><th scope=row>398</th><td> 7.41</td><td>162</td><td> 26</td><td>12</td><td>368</td><td>159</td><td>Medium</td><td>40</td><td>18</td><td>Yes</td><td>Yes</td></tr>\n",
       "\t<tr><th scope=row>399</th><td> 5.94</td><td>100</td><td> 79</td><td> 7</td><td>284</td><td> 95</td><td>Bad   </td><td>50</td><td>12</td><td>Yes</td><td>Yes</td></tr>\n",
       "\t<tr><th scope=row>400</th><td> 9.71</td><td>134</td><td> 37</td><td> 0</td><td> 27</td><td>120</td><td>Good  </td><td>49</td><td>16</td><td>Yes</td><td>Yes</td></tr>\n",
       "</tbody>\n",
       "</table>\n"
      ],
      "text/latex": [
       "A data.frame: 400 × 11\n",
       "\\begin{tabular}{r|lllllllllll}\n",
       "  & Sales & CompPrice & Income & Advertising & Population & Price & ShelveLoc & Age & Education & Urban & US\\\\\n",
       "  & <dbl> & <dbl> & <dbl> & <dbl> & <dbl> & <dbl> & <fct> & <dbl> & <dbl> & <fct> & <fct>\\\\\n",
       "\\hline\n",
       "\t1 &  9.50 & 138 &  73 & 11 & 276 & 120 & Bad    & 42 & 17 & Yes & Yes\\\\\n",
       "\t2 & 11.22 & 111 &  48 & 16 & 260 &  83 & Good   & 65 & 10 & Yes & Yes\\\\\n",
       "\t3 & 10.06 & 113 &  35 & 10 & 269 &  80 & Medium & 59 & 12 & Yes & Yes\\\\\n",
       "\t4 &  7.40 & 117 & 100 &  4 & 466 &  97 & Medium & 55 & 14 & Yes & Yes\\\\\n",
       "\t5 &  4.15 & 141 &  64 &  3 & 340 & 128 & Bad    & 38 & 13 & Yes & No \\\\\n",
       "\t6 & 10.81 & 124 & 113 & 13 & 501 &  72 & Bad    & 78 & 16 & No  & Yes\\\\\n",
       "\t7 &  6.63 & 115 & 105 &  0 &  45 & 108 & Medium & 71 & 15 & Yes & No \\\\\n",
       "\t8 & 11.85 & 136 &  81 & 15 & 425 & 120 & Good   & 67 & 10 & Yes & Yes\\\\\n",
       "\t9 &  6.54 & 132 & 110 &  0 & 108 & 124 & Medium & 76 & 10 & No  & No \\\\\n",
       "\t10 &  4.69 & 132 & 113 &  0 & 131 & 124 & Medium & 76 & 17 & No  & Yes\\\\\n",
       "\t11 &  9.01 & 121 &  78 &  9 & 150 & 100 & Bad    & 26 & 10 & No  & Yes\\\\\n",
       "\t12 & 11.96 & 117 &  94 &  4 & 503 &  94 & Good   & 50 & 13 & Yes & Yes\\\\\n",
       "\t13 &  3.98 & 122 &  35 &  2 & 393 & 136 & Medium & 62 & 18 & Yes & No \\\\\n",
       "\t14 & 10.96 & 115 &  28 & 11 &  29 &  86 & Good   & 53 & 18 & Yes & Yes\\\\\n",
       "\t15 & 11.17 & 107 & 117 & 11 & 148 & 118 & Good   & 52 & 18 & Yes & Yes\\\\\n",
       "\t16 &  8.71 & 149 &  95 &  5 & 400 & 144 & Medium & 76 & 18 & No  & No \\\\\n",
       "\t17 &  7.58 & 118 &  32 &  0 & 284 & 110 & Good   & 63 & 13 & Yes & No \\\\\n",
       "\t18 & 12.29 & 147 &  74 & 13 & 251 & 131 & Good   & 52 & 10 & Yes & Yes\\\\\n",
       "\t19 & 13.91 & 110 & 110 &  0 & 408 &  68 & Good   & 46 & 17 & No  & Yes\\\\\n",
       "\t20 &  8.73 & 129 &  76 & 16 &  58 & 121 & Medium & 69 & 12 & Yes & Yes\\\\\n",
       "\t21 &  6.41 & 125 &  90 &  2 & 367 & 131 & Medium & 35 & 18 & Yes & Yes\\\\\n",
       "\t22 & 12.13 & 134 &  29 & 12 & 239 & 109 & Good   & 62 & 18 & No  & Yes\\\\\n",
       "\t23 &  5.08 & 128 &  46 &  6 & 497 & 138 & Medium & 42 & 13 & Yes & No \\\\\n",
       "\t24 &  5.87 & 121 &  31 &  0 & 292 & 109 & Medium & 79 & 10 & Yes & No \\\\\n",
       "\t25 & 10.14 & 145 & 119 & 16 & 294 & 113 & Bad    & 42 & 12 & Yes & Yes\\\\\n",
       "\t26 & 14.90 & 139 &  32 &  0 & 176 &  82 & Good   & 54 & 11 & No  & No \\\\\n",
       "\t27 &  8.33 & 107 & 115 & 11 & 496 & 131 & Good   & 50 & 11 & No  & Yes\\\\\n",
       "\t28 &  5.27 &  98 & 118 &  0 &  19 & 107 & Medium & 64 & 17 & Yes & No \\\\\n",
       "\t29 &  2.99 & 103 &  74 &  0 & 359 &  97 & Bad    & 55 & 11 & Yes & Yes\\\\\n",
       "\t30 &  7.81 & 104 &  99 & 15 & 226 & 102 & Bad    & 58 & 17 & Yes & Yes\\\\\n",
       "\t⋮ & ⋮ & ⋮ & ⋮ & ⋮ & ⋮ & ⋮ & ⋮ & ⋮ & ⋮ & ⋮ & ⋮\\\\\n",
       "\t371 &  7.68 & 126 &  41 & 22 & 403 & 119 & Bad    & 42 & 12 & Yes & Yes\\\\\n",
       "\t372 &  9.08 & 152 &  81 &  0 & 191 & 126 & Medium & 54 & 16 & Yes & No \\\\\n",
       "\t373 &  7.80 & 121 &  50 &  0 & 508 &  98 & Medium & 65 & 11 & No  & No \\\\\n",
       "\t374 &  5.58 & 137 &  71 &  0 & 402 & 116 & Medium & 78 & 17 & Yes & No \\\\\n",
       "\t375 &  9.44 & 131 &  47 &  7 &  90 & 118 & Medium & 47 & 12 & Yes & Yes\\\\\n",
       "\t376 &  7.90 & 132 &  46 &  4 & 206 & 124 & Medium & 73 & 11 & Yes & No \\\\\n",
       "\t377 & 16.27 & 141 &  60 & 19 & 319 &  92 & Good   & 44 & 11 & Yes & Yes\\\\\n",
       "\t378 &  6.81 & 132 &  61 &  0 & 263 & 125 & Medium & 41 & 12 & No  & No \\\\\n",
       "\t379 &  6.11 & 133 &  88 &  3 & 105 & 119 & Medium & 79 & 12 & Yes & Yes\\\\\n",
       "\t380 &  5.81 & 125 & 111 &  0 & 404 & 107 & Bad    & 54 & 15 & Yes & No \\\\\n",
       "\t381 &  9.64 & 106 &  64 & 10 &  17 &  89 & Medium & 68 & 17 & Yes & Yes\\\\\n",
       "\t382 &  3.90 & 124 &  65 & 21 & 496 & 151 & Bad    & 77 & 13 & Yes & Yes\\\\\n",
       "\t383 &  4.95 & 121 &  28 & 19 & 315 & 121 & Medium & 66 & 14 & Yes & Yes\\\\\n",
       "\t384 &  9.35 &  98 & 117 &  0 &  76 &  68 & Medium & 63 & 10 & Yes & No \\\\\n",
       "\t385 & 12.85 & 123 &  37 & 15 & 348 & 112 & Good   & 28 & 12 & Yes & Yes\\\\\n",
       "\t386 &  5.87 & 131 &  73 & 13 & 455 & 132 & Medium & 62 & 17 & Yes & Yes\\\\\n",
       "\t387 &  5.32 & 152 & 116 &  0 & 170 & 160 & Medium & 39 & 16 & Yes & No \\\\\n",
       "\t388 &  8.67 & 142 &  73 & 14 & 238 & 115 & Medium & 73 & 14 & No  & Yes\\\\\n",
       "\t389 &  8.14 & 135 &  89 & 11 & 245 &  78 & Bad    & 79 & 16 & Yes & Yes\\\\\n",
       "\t390 &  8.44 & 128 &  42 &  8 & 328 & 107 & Medium & 35 & 12 & Yes & Yes\\\\\n",
       "\t391 &  5.47 & 108 &  75 &  9 &  61 & 111 & Medium & 67 & 12 & Yes & Yes\\\\\n",
       "\t392 &  6.10 & 153 &  63 &  0 &  49 & 124 & Bad    & 56 & 16 & Yes & No \\\\\n",
       "\t393 &  4.53 & 129 &  42 & 13 & 315 & 130 & Bad    & 34 & 13 & Yes & Yes\\\\\n",
       "\t394 &  5.57 & 109 &  51 & 10 &  26 & 120 & Medium & 30 & 17 & No  & Yes\\\\\n",
       "\t395 &  5.35 & 130 &  58 & 19 & 366 & 139 & Bad    & 33 & 16 & Yes & Yes\\\\\n",
       "\t396 & 12.57 & 138 & 108 & 17 & 203 & 128 & Good   & 33 & 14 & Yes & Yes\\\\\n",
       "\t397 &  6.14 & 139 &  23 &  3 &  37 & 120 & Medium & 55 & 11 & No  & Yes\\\\\n",
       "\t398 &  7.41 & 162 &  26 & 12 & 368 & 159 & Medium & 40 & 18 & Yes & Yes\\\\\n",
       "\t399 &  5.94 & 100 &  79 &  7 & 284 &  95 & Bad    & 50 & 12 & Yes & Yes\\\\\n",
       "\t400 &  9.71 & 134 &  37 &  0 &  27 & 120 & Good   & 49 & 16 & Yes & Yes\\\\\n",
       "\\end{tabular}\n"
      ],
      "text/markdown": [
       "\n",
       "A data.frame: 400 × 11\n",
       "\n",
       "| <!--/--> | Sales &lt;dbl&gt; | CompPrice &lt;dbl&gt; | Income &lt;dbl&gt; | Advertising &lt;dbl&gt; | Population &lt;dbl&gt; | Price &lt;dbl&gt; | ShelveLoc &lt;fct&gt; | Age &lt;dbl&gt; | Education &lt;dbl&gt; | Urban &lt;fct&gt; | US &lt;fct&gt; |\n",
       "|---|---|---|---|---|---|---|---|---|---|---|---|\n",
       "| 1 |  9.50 | 138 |  73 | 11 | 276 | 120 | Bad    | 42 | 17 | Yes | Yes |\n",
       "| 2 | 11.22 | 111 |  48 | 16 | 260 |  83 | Good   | 65 | 10 | Yes | Yes |\n",
       "| 3 | 10.06 | 113 |  35 | 10 | 269 |  80 | Medium | 59 | 12 | Yes | Yes |\n",
       "| 4 |  7.40 | 117 | 100 |  4 | 466 |  97 | Medium | 55 | 14 | Yes | Yes |\n",
       "| 5 |  4.15 | 141 |  64 |  3 | 340 | 128 | Bad    | 38 | 13 | Yes | No  |\n",
       "| 6 | 10.81 | 124 | 113 | 13 | 501 |  72 | Bad    | 78 | 16 | No  | Yes |\n",
       "| 7 |  6.63 | 115 | 105 |  0 |  45 | 108 | Medium | 71 | 15 | Yes | No  |\n",
       "| 8 | 11.85 | 136 |  81 | 15 | 425 | 120 | Good   | 67 | 10 | Yes | Yes |\n",
       "| 9 |  6.54 | 132 | 110 |  0 | 108 | 124 | Medium | 76 | 10 | No  | No  |\n",
       "| 10 |  4.69 | 132 | 113 |  0 | 131 | 124 | Medium | 76 | 17 | No  | Yes |\n",
       "| 11 |  9.01 | 121 |  78 |  9 | 150 | 100 | Bad    | 26 | 10 | No  | Yes |\n",
       "| 12 | 11.96 | 117 |  94 |  4 | 503 |  94 | Good   | 50 | 13 | Yes | Yes |\n",
       "| 13 |  3.98 | 122 |  35 |  2 | 393 | 136 | Medium | 62 | 18 | Yes | No  |\n",
       "| 14 | 10.96 | 115 |  28 | 11 |  29 |  86 | Good   | 53 | 18 | Yes | Yes |\n",
       "| 15 | 11.17 | 107 | 117 | 11 | 148 | 118 | Good   | 52 | 18 | Yes | Yes |\n",
       "| 16 |  8.71 | 149 |  95 |  5 | 400 | 144 | Medium | 76 | 18 | No  | No  |\n",
       "| 17 |  7.58 | 118 |  32 |  0 | 284 | 110 | Good   | 63 | 13 | Yes | No  |\n",
       "| 18 | 12.29 | 147 |  74 | 13 | 251 | 131 | Good   | 52 | 10 | Yes | Yes |\n",
       "| 19 | 13.91 | 110 | 110 |  0 | 408 |  68 | Good   | 46 | 17 | No  | Yes |\n",
       "| 20 |  8.73 | 129 |  76 | 16 |  58 | 121 | Medium | 69 | 12 | Yes | Yes |\n",
       "| 21 |  6.41 | 125 |  90 |  2 | 367 | 131 | Medium | 35 | 18 | Yes | Yes |\n",
       "| 22 | 12.13 | 134 |  29 | 12 | 239 | 109 | Good   | 62 | 18 | No  | Yes |\n",
       "| 23 |  5.08 | 128 |  46 |  6 | 497 | 138 | Medium | 42 | 13 | Yes | No  |\n",
       "| 24 |  5.87 | 121 |  31 |  0 | 292 | 109 | Medium | 79 | 10 | Yes | No  |\n",
       "| 25 | 10.14 | 145 | 119 | 16 | 294 | 113 | Bad    | 42 | 12 | Yes | Yes |\n",
       "| 26 | 14.90 | 139 |  32 |  0 | 176 |  82 | Good   | 54 | 11 | No  | No  |\n",
       "| 27 |  8.33 | 107 | 115 | 11 | 496 | 131 | Good   | 50 | 11 | No  | Yes |\n",
       "| 28 |  5.27 |  98 | 118 |  0 |  19 | 107 | Medium | 64 | 17 | Yes | No  |\n",
       "| 29 |  2.99 | 103 |  74 |  0 | 359 |  97 | Bad    | 55 | 11 | Yes | Yes |\n",
       "| 30 |  7.81 | 104 |  99 | 15 | 226 | 102 | Bad    | 58 | 17 | Yes | Yes |\n",
       "| ⋮ | ⋮ | ⋮ | ⋮ | ⋮ | ⋮ | ⋮ | ⋮ | ⋮ | ⋮ | ⋮ | ⋮ |\n",
       "| 371 |  7.68 | 126 |  41 | 22 | 403 | 119 | Bad    | 42 | 12 | Yes | Yes |\n",
       "| 372 |  9.08 | 152 |  81 |  0 | 191 | 126 | Medium | 54 | 16 | Yes | No  |\n",
       "| 373 |  7.80 | 121 |  50 |  0 | 508 |  98 | Medium | 65 | 11 | No  | No  |\n",
       "| 374 |  5.58 | 137 |  71 |  0 | 402 | 116 | Medium | 78 | 17 | Yes | No  |\n",
       "| 375 |  9.44 | 131 |  47 |  7 |  90 | 118 | Medium | 47 | 12 | Yes | Yes |\n",
       "| 376 |  7.90 | 132 |  46 |  4 | 206 | 124 | Medium | 73 | 11 | Yes | No  |\n",
       "| 377 | 16.27 | 141 |  60 | 19 | 319 |  92 | Good   | 44 | 11 | Yes | Yes |\n",
       "| 378 |  6.81 | 132 |  61 |  0 | 263 | 125 | Medium | 41 | 12 | No  | No  |\n",
       "| 379 |  6.11 | 133 |  88 |  3 | 105 | 119 | Medium | 79 | 12 | Yes | Yes |\n",
       "| 380 |  5.81 | 125 | 111 |  0 | 404 | 107 | Bad    | 54 | 15 | Yes | No  |\n",
       "| 381 |  9.64 | 106 |  64 | 10 |  17 |  89 | Medium | 68 | 17 | Yes | Yes |\n",
       "| 382 |  3.90 | 124 |  65 | 21 | 496 | 151 | Bad    | 77 | 13 | Yes | Yes |\n",
       "| 383 |  4.95 | 121 |  28 | 19 | 315 | 121 | Medium | 66 | 14 | Yes | Yes |\n",
       "| 384 |  9.35 |  98 | 117 |  0 |  76 |  68 | Medium | 63 | 10 | Yes | No  |\n",
       "| 385 | 12.85 | 123 |  37 | 15 | 348 | 112 | Good   | 28 | 12 | Yes | Yes |\n",
       "| 386 |  5.87 | 131 |  73 | 13 | 455 | 132 | Medium | 62 | 17 | Yes | Yes |\n",
       "| 387 |  5.32 | 152 | 116 |  0 | 170 | 160 | Medium | 39 | 16 | Yes | No  |\n",
       "| 388 |  8.67 | 142 |  73 | 14 | 238 | 115 | Medium | 73 | 14 | No  | Yes |\n",
       "| 389 |  8.14 | 135 |  89 | 11 | 245 |  78 | Bad    | 79 | 16 | Yes | Yes |\n",
       "| 390 |  8.44 | 128 |  42 |  8 | 328 | 107 | Medium | 35 | 12 | Yes | Yes |\n",
       "| 391 |  5.47 | 108 |  75 |  9 |  61 | 111 | Medium | 67 | 12 | Yes | Yes |\n",
       "| 392 |  6.10 | 153 |  63 |  0 |  49 | 124 | Bad    | 56 | 16 | Yes | No  |\n",
       "| 393 |  4.53 | 129 |  42 | 13 | 315 | 130 | Bad    | 34 | 13 | Yes | Yes |\n",
       "| 394 |  5.57 | 109 |  51 | 10 |  26 | 120 | Medium | 30 | 17 | No  | Yes |\n",
       "| 395 |  5.35 | 130 |  58 | 19 | 366 | 139 | Bad    | 33 | 16 | Yes | Yes |\n",
       "| 396 | 12.57 | 138 | 108 | 17 | 203 | 128 | Good   | 33 | 14 | Yes | Yes |\n",
       "| 397 |  6.14 | 139 |  23 |  3 |  37 | 120 | Medium | 55 | 11 | No  | Yes |\n",
       "| 398 |  7.41 | 162 |  26 | 12 | 368 | 159 | Medium | 40 | 18 | Yes | Yes |\n",
       "| 399 |  5.94 | 100 |  79 |  7 | 284 |  95 | Bad    | 50 | 12 | Yes | Yes |\n",
       "| 400 |  9.71 | 134 |  37 |  0 |  27 | 120 | Good   | 49 | 16 | Yes | Yes |\n",
       "\n"
      ],
      "text/plain": [
       "    Sales CompPrice Income Advertising Population Price ShelveLoc Age Education\n",
       "1    9.50 138        73    11          276        120   Bad       42  17       \n",
       "2   11.22 111        48    16          260         83   Good      65  10       \n",
       "3   10.06 113        35    10          269         80   Medium    59  12       \n",
       "4    7.40 117       100     4          466         97   Medium    55  14       \n",
       "5    4.15 141        64     3          340        128   Bad       38  13       \n",
       "6   10.81 124       113    13          501         72   Bad       78  16       \n",
       "7    6.63 115       105     0           45        108   Medium    71  15       \n",
       "8   11.85 136        81    15          425        120   Good      67  10       \n",
       "9    6.54 132       110     0          108        124   Medium    76  10       \n",
       "10   4.69 132       113     0          131        124   Medium    76  17       \n",
       "11   9.01 121        78     9          150        100   Bad       26  10       \n",
       "12  11.96 117        94     4          503         94   Good      50  13       \n",
       "13   3.98 122        35     2          393        136   Medium    62  18       \n",
       "14  10.96 115        28    11           29         86   Good      53  18       \n",
       "15  11.17 107       117    11          148        118   Good      52  18       \n",
       "16   8.71 149        95     5          400        144   Medium    76  18       \n",
       "17   7.58 118        32     0          284        110   Good      63  13       \n",
       "18  12.29 147        74    13          251        131   Good      52  10       \n",
       "19  13.91 110       110     0          408         68   Good      46  17       \n",
       "20   8.73 129        76    16           58        121   Medium    69  12       \n",
       "21   6.41 125        90     2          367        131   Medium    35  18       \n",
       "22  12.13 134        29    12          239        109   Good      62  18       \n",
       "23   5.08 128        46     6          497        138   Medium    42  13       \n",
       "24   5.87 121        31     0          292        109   Medium    79  10       \n",
       "25  10.14 145       119    16          294        113   Bad       42  12       \n",
       "26  14.90 139        32     0          176         82   Good      54  11       \n",
       "27   8.33 107       115    11          496        131   Good      50  11       \n",
       "28   5.27  98       118     0           19        107   Medium    64  17       \n",
       "29   2.99 103        74     0          359         97   Bad       55  11       \n",
       "30   7.81 104        99    15          226        102   Bad       58  17       \n",
       "⋮   ⋮     ⋮         ⋮      ⋮           ⋮          ⋮     ⋮         ⋮   ⋮        \n",
       "371  7.68 126        41    22          403        119   Bad       42  12       \n",
       "372  9.08 152        81     0          191        126   Medium    54  16       \n",
       "373  7.80 121        50     0          508         98   Medium    65  11       \n",
       "374  5.58 137        71     0          402        116   Medium    78  17       \n",
       "375  9.44 131        47     7           90        118   Medium    47  12       \n",
       "376  7.90 132        46     4          206        124   Medium    73  11       \n",
       "377 16.27 141        60    19          319         92   Good      44  11       \n",
       "378  6.81 132        61     0          263        125   Medium    41  12       \n",
       "379  6.11 133        88     3          105        119   Medium    79  12       \n",
       "380  5.81 125       111     0          404        107   Bad       54  15       \n",
       "381  9.64 106        64    10           17         89   Medium    68  17       \n",
       "382  3.90 124        65    21          496        151   Bad       77  13       \n",
       "383  4.95 121        28    19          315        121   Medium    66  14       \n",
       "384  9.35  98       117     0           76         68   Medium    63  10       \n",
       "385 12.85 123        37    15          348        112   Good      28  12       \n",
       "386  5.87 131        73    13          455        132   Medium    62  17       \n",
       "387  5.32 152       116     0          170        160   Medium    39  16       \n",
       "388  8.67 142        73    14          238        115   Medium    73  14       \n",
       "389  8.14 135        89    11          245         78   Bad       79  16       \n",
       "390  8.44 128        42     8          328        107   Medium    35  12       \n",
       "391  5.47 108        75     9           61        111   Medium    67  12       \n",
       "392  6.10 153        63     0           49        124   Bad       56  16       \n",
       "393  4.53 129        42    13          315        130   Bad       34  13       \n",
       "394  5.57 109        51    10           26        120   Medium    30  17       \n",
       "395  5.35 130        58    19          366        139   Bad       33  16       \n",
       "396 12.57 138       108    17          203        128   Good      33  14       \n",
       "397  6.14 139        23     3           37        120   Medium    55  11       \n",
       "398  7.41 162        26    12          368        159   Medium    40  18       \n",
       "399  5.94 100        79     7          284         95   Bad       50  12       \n",
       "400  9.71 134        37     0           27        120   Good      49  16       \n",
       "    Urban US \n",
       "1   Yes   Yes\n",
       "2   Yes   Yes\n",
       "3   Yes   Yes\n",
       "4   Yes   Yes\n",
       "5   Yes   No \n",
       "6   No    Yes\n",
       "7   Yes   No \n",
       "8   Yes   Yes\n",
       "9   No    No \n",
       "10  No    Yes\n",
       "11  No    Yes\n",
       "12  Yes   Yes\n",
       "13  Yes   No \n",
       "14  Yes   Yes\n",
       "15  Yes   Yes\n",
       "16  No    No \n",
       "17  Yes   No \n",
       "18  Yes   Yes\n",
       "19  No    Yes\n",
       "20  Yes   Yes\n",
       "21  Yes   Yes\n",
       "22  No    Yes\n",
       "23  Yes   No \n",
       "24  Yes   No \n",
       "25  Yes   Yes\n",
       "26  No    No \n",
       "27  No    Yes\n",
       "28  Yes   No \n",
       "29  Yes   Yes\n",
       "30  Yes   Yes\n",
       "⋮   ⋮     ⋮  \n",
       "371 Yes   Yes\n",
       "372 Yes   No \n",
       "373 No    No \n",
       "374 Yes   No \n",
       "375 Yes   Yes\n",
       "376 Yes   No \n",
       "377 Yes   Yes\n",
       "378 No    No \n",
       "379 Yes   Yes\n",
       "380 Yes   No \n",
       "381 Yes   Yes\n",
       "382 Yes   Yes\n",
       "383 Yes   Yes\n",
       "384 Yes   No \n",
       "385 Yes   Yes\n",
       "386 Yes   Yes\n",
       "387 Yes   No \n",
       "388 No    Yes\n",
       "389 Yes   Yes\n",
       "390 Yes   Yes\n",
       "391 Yes   Yes\n",
       "392 Yes   No \n",
       "393 Yes   Yes\n",
       "394 No    Yes\n",
       "395 Yes   Yes\n",
       "396 Yes   Yes\n",
       "397 No    Yes\n",
       "398 Yes   Yes\n",
       "399 Yes   Yes\n",
       "400 Yes   Yes"
      ]
     },
     "metadata": {},
     "output_type": "display_data"
    }
   ],
   "source": [
    "Carseats"
   ]
  },
  {
   "cell_type": "code",
   "execution_count": 96,
   "metadata": {
    "vscode": {
     "languageId": "r"
    }
   },
   "outputs": [
    {
     "data": {
      "text/plain": [
       "     Sales          CompPrice       Income        Advertising    \n",
       " Min.   : 0.000   Min.   : 77   Min.   : 21.00   Min.   : 0.000  \n",
       " 1st Qu.: 5.390   1st Qu.:115   1st Qu.: 42.75   1st Qu.: 0.000  \n",
       " Median : 7.490   Median :125   Median : 69.00   Median : 5.000  \n",
       " Mean   : 7.496   Mean   :125   Mean   : 68.66   Mean   : 6.635  \n",
       " 3rd Qu.: 9.320   3rd Qu.:135   3rd Qu.: 91.00   3rd Qu.:12.000  \n",
       " Max.   :16.270   Max.   :175   Max.   :120.00   Max.   :29.000  \n",
       "   Population        Price        ShelveLoc        Age          Education   \n",
       " Min.   : 10.0   Min.   : 24.0   Bad   : 96   Min.   :25.00   Min.   :10.0  \n",
       " 1st Qu.:139.0   1st Qu.:100.0   Good  : 85   1st Qu.:39.75   1st Qu.:12.0  \n",
       " Median :272.0   Median :117.0   Medium:219   Median :54.50   Median :14.0  \n",
       " Mean   :264.8   Mean   :115.8                Mean   :53.32   Mean   :13.9  \n",
       " 3rd Qu.:398.5   3rd Qu.:131.0                3rd Qu.:66.00   3rd Qu.:16.0  \n",
       " Max.   :509.0   Max.   :191.0                Max.   :80.00   Max.   :18.0  \n",
       " Urban       US     \n",
       " No :118   No :142  \n",
       " Yes:282   Yes:258  \n",
       "                    \n",
       "                    \n",
       "                    \n",
       "                    "
      ]
     },
     "metadata": {},
     "output_type": "display_data"
    }
   ],
   "source": [
    "summary(Carseats)"
   ]
  },
  {
   "cell_type": "code",
   "execution_count": 97,
   "metadata": {
    "vscode": {
     "languageId": "r"
    }
   },
   "outputs": [
    {
     "name": "stderr",
     "output_type": "stream",
     "text": [
      "The following objects are masked from Credit:\n",
      "\n",
      "    Age, Education, Income\n",
      "\n",
      "\n",
      "The following objects are masked from Carseats (pos = 6):\n",
      "\n",
      "    Advertising, Age, CompPrice, Education, Income, Population, Price,\n",
      "    Sales, ShelveLoc, Urban, US\n",
      "\n",
      "\n"
     ]
    },
    {
     "data": {
      "text/plain": [
       "\n",
       "Call:\n",
       "lm(formula = Sales ~ . + Income:Advertising + Age:Price, data = Carseats)\n",
       "\n",
       "Residuals:\n",
       "    Min      1Q  Median      3Q     Max \n",
       "-2.9208 -0.7503  0.0177  0.6754  3.3413 \n",
       "\n",
       "Coefficients:\n",
       "                     Estimate Std. Error t value Pr(>|t|)    \n",
       "(Intercept)         6.5755654  1.0087470   6.519 2.22e-10 ***\n",
       "CompPrice           0.0929371  0.0041183  22.567  < 2e-16 ***\n",
       "Income              0.0108940  0.0026044   4.183 3.57e-05 ***\n",
       "Advertising         0.0702462  0.0226091   3.107 0.002030 ** \n",
       "Population          0.0001592  0.0003679   0.433 0.665330    \n",
       "Price              -0.1008064  0.0074399 -13.549  < 2e-16 ***\n",
       "ShelveLocGood       4.8486762  0.1528378  31.724  < 2e-16 ***\n",
       "ShelveLocMedium     1.9532620  0.1257682  15.531  < 2e-16 ***\n",
       "Age                -0.0579466  0.0159506  -3.633 0.000318 ***\n",
       "Education          -0.0208525  0.0196131  -1.063 0.288361    \n",
       "UrbanYes            0.1401597  0.1124019   1.247 0.213171    \n",
       "USYes              -0.1575571  0.1489234  -1.058 0.290729    \n",
       "Income:Advertising  0.0007510  0.0002784   2.698 0.007290 ** \n",
       "Price:Age           0.0001068  0.0001333   0.801 0.423812    \n",
       "---\n",
       "Signif. codes:  0 '***' 0.001 '**' 0.01 '*' 0.05 '.' 0.1 ' ' 1\n",
       "\n",
       "Residual standard error: 1.011 on 386 degrees of freedom\n",
       "Multiple R-squared:  0.8761,\tAdjusted R-squared:  0.8719 \n",
       "F-statistic:   210 on 13 and 386 DF,  p-value: < 2.2e-16\n"
      ]
     },
     "metadata": {},
     "output_type": "display_data"
    }
   ],
   "source": [
    "attach(Carseats)\n",
    "fit1_cs <- lm(Sales ~ . + Income:Advertising + Age:Price, Carseats)\n",
    "summary(fit1_cs)"
   ]
  },
  {
   "cell_type": "code",
   "execution_count": 98,
   "metadata": {
    "vscode": {
     "languageId": "r"
    }
   },
   "outputs": [
    {
     "data": {
      "text/html": [
       "<table class=\"dataframe\">\n",
       "<caption>A matrix: 3 × 2 of type dbl</caption>\n",
       "<thead>\n",
       "\t<tr><th></th><th scope=col>Good</th><th scope=col>Medium</th></tr>\n",
       "</thead>\n",
       "<tbody>\n",
       "\t<tr><th scope=row>Bad</th><td>0</td><td>0</td></tr>\n",
       "\t<tr><th scope=row>Good</th><td>1</td><td>0</td></tr>\n",
       "\t<tr><th scope=row>Medium</th><td>0</td><td>1</td></tr>\n",
       "</tbody>\n",
       "</table>\n"
      ],
      "text/latex": [
       "A matrix: 3 × 2 of type dbl\n",
       "\\begin{tabular}{r|ll}\n",
       "  & Good & Medium\\\\\n",
       "\\hline\n",
       "\tBad & 0 & 0\\\\\n",
       "\tGood & 1 & 0\\\\\n",
       "\tMedium & 0 & 1\\\\\n",
       "\\end{tabular}\n"
      ],
      "text/markdown": [
       "\n",
       "A matrix: 3 × 2 of type dbl\n",
       "\n",
       "| <!--/--> | Good | Medium |\n",
       "|---|---|---|\n",
       "| Bad | 0 | 0 |\n",
       "| Good | 1 | 0 |\n",
       "| Medium | 0 | 1 |\n",
       "\n"
      ],
      "text/plain": [
       "       Good Medium\n",
       "Bad    0    0     \n",
       "Good   1    0     \n",
       "Medium 0    1     "
      ]
     },
     "metadata": {},
     "output_type": "display_data"
    }
   ],
   "source": [
    "contrasts(Carseats$ShelveLoc)"
   ]
  },
  {
   "cell_type": "code",
   "execution_count": 99,
   "metadata": {
    "vscode": {
     "languageId": "r"
    }
   },
   "outputs": [],
   "source": [
    "regplot <- function(x, y) {\n",
    "  fit <- lm(y ~ x)\n",
    "  plot(x, y)\n",
    "  abline(fit, col = \"red\")\n",
    "}"
   ]
  },
  {
   "cell_type": "code",
   "execution_count": 100,
   "metadata": {
    "vscode": {
     "languageId": "r"
    }
   },
   "outputs": [
    {
     "data": {
      "image/png": "[encoded data removed]",
      "text/plain": [
       "plot without title"
      ]
     },
     "metadata": {
      "image/png": {
       "height": 420,
       "width": 420
      }
     },
     "output_type": "display_data"
    }
   ],
   "source": [
    "regplot(Price, Sales)"
   ]
  },
  {
   "cell_type": "code",
   "execution_count": 101,
   "metadata": {
    "vscode": {
     "languageId": "r"
    }
   },
   "outputs": [],
   "source": [
    "regplot <- function(x, y, ...) {\n",
    "  fit <- lm(y ~ x)\n",
    "  plot(x, y, ...)\n",
    "  abline(fit, col = \"red\")\n",
    "}"
   ]
  },
  {
   "cell_type": "code",
   "execution_count": 102,
   "metadata": {
    "vscode": {
     "languageId": "r"
    }
   },
   "outputs": [
    {
     "data": {
      "image/png": "[encoded data removed]",
      "text/plain": [
       "plot without title"
      ]
     },
     "metadata": {
      "image/png": {
       "height": 420,
       "width": 420
      }
     },
     "output_type": "display_data"
    }
   ],
   "source": [
    "regplot(Price, Sales, xlab = \"Price\", ylab = \"Sales\", col = \"blue\", pch = 20)"
   ]
  },
  {
   "cell_type": "code",
   "execution_count": 103,
   "metadata": {
    "vscode": {
     "languageId": "r"
    }
   },
   "outputs": [
    {
     "data": {
      "text/plain": [
       "\n",
       "Call:\n",
       "lm(formula = Balance ~ Income + Student, data = Credit)\n",
       "\n",
       "Residuals:\n",
       "    Min      1Q  Median      3Q     Max \n",
       "-762.37 -331.38  -45.04  323.60  818.28 \n",
       "\n",
       "Coefficients:\n",
       "            Estimate Std. Error t value Pr(>|t|)    \n",
       "(Intercept) 211.1430    32.4572   6.505 2.34e-10 ***\n",
       "Income        5.9843     0.5566  10.751  < 2e-16 ***\n",
       "StudentYes  382.6705    65.3108   5.859 9.78e-09 ***\n",
       "---\n",
       "Signif. codes:  0 '***' 0.001 '**' 0.01 '*' 0.05 '.' 0.1 ' ' 1\n",
       "\n",
       "Residual standard error: 391.8 on 397 degrees of freedom\n",
       "Multiple R-squared:  0.2775,\tAdjusted R-squared:  0.2738 \n",
       "F-statistic: 76.22 on 2 and 397 DF,  p-value: < 2.2e-16\n"
      ]
     },
     "metadata": {},
     "output_type": "display_data"
    }
   ],
   "source": [
    "fit_cre <- lm(Balance ~ Income + Student, data = Credit)\n",
    "summary(fit_cre)"
   ]
  },
  {
   "cell_type": "code",
   "execution_count": 104,
   "metadata": {
    "vscode": {
     "languageId": "r"
    }
   },
   "outputs": [
    {
     "data": {
      "text/plain": [
       "\n",
       "Call:\n",
       "lm(formula = Balance ~ Income + Student + Income:Student, data = Credit)\n",
       "\n",
       "Residuals:\n",
       "    Min      1Q  Median      3Q     Max \n",
       "-773.39 -325.70  -41.13  321.65  814.04 \n",
       "\n",
       "Coefficients:\n",
       "                  Estimate Std. Error t value Pr(>|t|)    \n",
       "(Intercept)       200.6232    33.6984   5.953 5.79e-09 ***\n",
       "Income              6.2182     0.5921  10.502  < 2e-16 ***\n",
       "StudentYes        476.6758   104.3512   4.568 6.59e-06 ***\n",
       "Income:StudentYes  -1.9992     1.7313  -1.155    0.249    \n",
       "---\n",
       "Signif. codes:  0 '***' 0.001 '**' 0.01 '*' 0.05 '.' 0.1 ' ' 1\n",
       "\n",
       "Residual standard error: 391.6 on 396 degrees of freedom\n",
       "Multiple R-squared:  0.2799,\tAdjusted R-squared:  0.2744 \n",
       "F-statistic:  51.3 on 3 and 396 DF,  p-value: < 2.2e-16\n"
      ]
     },
     "metadata": {},
     "output_type": "display_data"
    }
   ],
   "source": [
    "fit_cre_1 <- lm(Balance ~ Income + Student + Income:Student, data = Credit)\n",
    "summary(fit_cre_1)"
   ]
  },
  {
   "cell_type": "code",
   "execution_count": 105,
   "metadata": {
    "vscode": {
     "languageId": "r"
    }
   },
   "outputs": [
    {
     "name": "stderr",
     "output_type": "stream",
     "text": [
      "The following objects are masked from Carseats (pos = 3):\n",
      "\n",
      "    Age, Education, Income\n",
      "\n",
      "\n",
      "The following objects are masked from Credit (pos = 6):\n",
      "\n",
      "    Age, Balance, Cards, Education, Income, Limit, Married, Own,\n",
      "    Rating, Region, Student\n",
      "\n",
      "\n",
      "The following objects are masked from Carseats (pos = 7):\n",
      "\n",
      "    Age, Education, Income\n",
      "\n",
      "\n"
     ]
    }
   ],
   "source": [
    "attach(Credit)\n"
   ]
  },
  {
   "cell_type": "code",
   "execution_count": 106,
   "metadata": {
    "vscode": {
     "languageId": "r"
    }
   },
   "outputs": [
    {
     "data": {
      "text/html": [
       "<table class=\"dataframe\">\n",
       "<caption>A matrix: 2 × 1 of type dbl</caption>\n",
       "<thead>\n",
       "\t<tr><th></th><th scope=col>Yes</th></tr>\n",
       "</thead>\n",
       "<tbody>\n",
       "\t<tr><th scope=row>No</th><td>0</td></tr>\n",
       "\t<tr><th scope=row>Yes</th><td>1</td></tr>\n",
       "</tbody>\n",
       "</table>\n"
      ],
      "text/latex": [
       "A matrix: 2 × 1 of type dbl\n",
       "\\begin{tabular}{r|l}\n",
       "  & Yes\\\\\n",
       "\\hline\n",
       "\tNo & 0\\\\\n",
       "\tYes & 1\\\\\n",
       "\\end{tabular}\n"
      ],
      "text/markdown": [
       "\n",
       "A matrix: 2 × 1 of type dbl\n",
       "\n",
       "| <!--/--> | Yes |\n",
       "|---|---|\n",
       "| No | 0 |\n",
       "| Yes | 1 |\n",
       "\n"
      ],
      "text/plain": [
       "    Yes\n",
       "No  0  \n",
       "Yes 1  "
      ]
     },
     "metadata": {},
     "output_type": "display_data"
    }
   ],
   "source": [
    "contrasts(Credit$Student)\n"
   ]
  }
 ],
 "metadata": {
  "kernelspec": {
   "display_name": "R",
   "language": "R",
   "name": "ir"
  },
  "language_info": {
   "codemirror_mode": "r",
   "file_extension": ".r",
   "mimetype": "text/x-r-source",
   "name": "R",
   "pygments_lexer": "r",
   "version": "4.3.2"
  }
 },
 "nbformat": 4,
 "nbformat_minor": 2
}
