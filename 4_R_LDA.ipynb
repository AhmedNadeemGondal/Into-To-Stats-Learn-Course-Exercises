{
 "cells": [
  {
   "cell_type": "code",
   "execution_count": 4,
   "metadata": {
    "vscode": {
     "languageId": "r"
    }
   },
   "outputs": [
    {
     "name": "stderr",
     "output_type": "stream",
     "text": [
      "\n",
      "Attaching package: 'MASS'\n",
      "\n",
      "\n",
      "The following object is masked from 'package:ISLR2':\n",
      "\n",
      "    Boston\n",
      "\n",
      "\n"
     ]
    }
   ],
   "source": [
    "library(ISLR2)\n",
    "library(MASS)"
   ]
  },
  {
   "cell_type": "code",
   "execution_count": 6,
   "metadata": {
    "vscode": {
     "languageId": "r"
    }
   },
   "outputs": [
    {
     "name": "stdout",
     "output_type": "stream",
     "text": [
      "lda                    package:MASS                    R Documentation\n",
      "\n",
      "_\bL_\bi_\bn_\be_\ba_\br _\bD_\bi_\bs_\bc_\br_\bi_\bm_\bi_\bn_\ba_\bn_\bt _\bA_\bn_\ba_\bl_\by_\bs_\bi_\bs\n",
      "\n",
      "_\bD_\be_\bs_\bc_\br_\bi_\bp_\bt_\bi_\bo_\bn:\n",
      "\n",
      "     Linear discriminant analysis.\n",
      "\n",
      "_\bU_\bs_\ba_\bg_\be:\n",
      "\n",
      "     lda(x, ...)\n",
      "     \n",
      "     ## S3 method for class 'formula'\n",
      "     lda(formula, data, ..., subset, na.action)\n",
      "     \n",
      "     ## Default S3 method:\n",
      "     lda(x, grouping, prior = proportions, tol = 1.0e-4,\n",
      "         method, CV = FALSE, nu, ...)\n",
      "     \n",
      "     ## S3 method for class 'data.frame'\n",
      "     lda(x, ...)\n",
      "     \n",
      "     ## S3 method for class 'matrix'\n",
      "     lda(x, grouping, ..., subset, na.action)\n",
      "     \n",
      "_\bA_\br_\bg_\bu_\bm_\be_\bn_\bt_\bs:\n",
      "\n",
      " formula: A formula of the form 'groups ~ x1 + x2 + ...'  That is, the\n",
      "          response is the grouping factor and the right hand side\n",
      "          specifies the (non-factor) discriminators.\n",
      "\n",
      "    data: An optional data frame, list or environment from which\n",
      "          variables specified in 'formula' are preferentially to be\n",
      "          taken.\n",
      "\n",
      "       x: (required if no formula is given as the principal argument.)\n",
      "          a matrix or data frame or Matrix containing the explanatory\n",
      "          variables.\n",
      "\n",
      "grouping: (required if no formula principal argument is given.)  a\n",
      "          factor specifying the class for each observation.\n",
      "\n",
      "   prior: the prior probabilities of class membership.  If unspecified,\n",
      "          the class proportions for the training set are used.  If\n",
      "          present, the probabilities should be specified in the order\n",
      "          of the factor levels.\n",
      "\n",
      "     tol: A tolerance to decide if a matrix is singular; it will reject\n",
      "          variables and linear combinations of unit-variance variables\n",
      "          whose variance is less than 'tol^2'.\n",
      "\n",
      "  subset: An index vector specifying the cases to be used in the\n",
      "          training sample.  (NOTE: If given, this argument must be\n",
      "          named.)\n",
      "\n",
      "na.action: A function to specify the action to be taken if 'NA's are\n",
      "          found.  The default action is for the procedure to fail.  An\n",
      "          alternative is 'na.omit', which leads to rejection of cases\n",
      "          with missing values on any required variable.  (NOTE: If\n",
      "          given, this argument must be named.)\n",
      "\n",
      "  method: '\"moment\"' for standard estimators of the mean and variance,\n",
      "          '\"mle\"' for MLEs, '\"mve\"' to use 'cov.mve', or '\"t\"' for\n",
      "          robust estimates based on a t distribution.\n",
      "\n",
      "      CV: If true, returns results (classes and posterior\n",
      "          probabilities) for leave-one-out cross-validation. Note that\n",
      "          if the prior is estimated, the proportions in the whole\n",
      "          dataset are used.\n",
      "\n",
      "      nu: degrees of freedom for 'method = \"t\"'.\n",
      "\n",
      "     ...: arguments passed to or from other methods.\n",
      "\n",
      "_\bD_\be_\bt_\ba_\bi_\bl_\bs:\n",
      "\n",
      "     The function tries hard to detect if the within-class covariance\n",
      "     matrix is singular. If any variable has within-group variance less\n",
      "     than 'tol^2' it will stop and report the variable as constant.\n",
      "     This could result from poor scaling of the problem, but is more\n",
      "     likely to result from constant variables.\n",
      "\n",
      "     Specifying the 'prior' will affect the classification unless\n",
      "     over-ridden in 'predict.lda'.  Unlike in most statistical\n",
      "     packages, it will also affect the rotation of the linear\n",
      "     discriminants within their space, as a weighted between-groups\n",
      "     covariance matrix is used. Thus the first few linear discriminants\n",
      "     emphasize the differences between groups with the weights given by\n",
      "     the prior, which may differ from their prevalence in the dataset.\n",
      "\n",
      "     If one or more groups is missing in the supplied data, they are\n",
      "     dropped with a warning, but the classifications produced are with\n",
      "     respect to the original set of levels.\n",
      "\n",
      "_\bV_\ba_\bl_\bu_\be:\n",
      "\n",
      "     If 'CV = TRUE' the return value is a list with components 'class',\n",
      "     the MAP classification (a factor), and 'posterior', posterior\n",
      "     probabilities for the classes.\n",
      "\n",
      "     Otherwise it is an object of class '\"lda\"' containing the\n",
      "     following components:\n",
      "\n",
      "   prior: the prior probabilities used.\n",
      "\n",
      "   means: the group means.\n",
      "\n",
      " scaling: a matrix which transforms observations to discriminant\n",
      "          functions, normalized so that within groups covariance matrix\n",
      "          is spherical.\n",
      "\n",
      "     svd: the singular values, which give the ratio of the between- and\n",
      "          within-group standard deviations on the linear discriminant\n",
      "          variables.  Their squares are the canonical F-statistics.\n",
      "\n",
      "       N: The number of observations used.\n",
      "\n",
      "    call: The (matched) function call.\n",
      "\n",
      "_\bN_\bo_\bt_\be:\n",
      "\n",
      "     This function may be called giving either a formula and optional\n",
      "     data frame, or a matrix and grouping factor as the first two\n",
      "     arguments.  All other arguments are optional, but 'subset=' and\n",
      "     'na.action=', if required, must be fully named.\n",
      "\n",
      "     If a formula is given as the principal argument the object may be\n",
      "     modified using 'update()' in the usual way.\n",
      "\n",
      "_\bR_\be_\bf_\be_\br_\be_\bn_\bc_\be_\bs:\n",
      "\n",
      "     Venables, W. N. and Ripley, B. D. (2002) _Modern Applied\n",
      "     Statistics with S._ Fourth edition.  Springer.\n",
      "\n",
      "     Ripley, B. D. (1996) _Pattern Recognition and Neural Networks_.\n",
      "     Cambridge University Press.\n",
      "\n",
      "_\bS_\be_\be _\bA_\bl_\bs_\bo:\n",
      "\n",
      "     'predict.lda', 'qda', 'predict.qda'\n",
      "\n",
      "_\bE_\bx_\ba_\bm_\bp_\bl_\be_\bs:\n",
      "\n",
      "     Iris <- data.frame(rbind(iris3[,,1], iris3[,,2], iris3[,,3]),\n",
      "                        Sp = rep(c(\"s\",\"c\",\"v\"), rep(50,3)))\n",
      "     train <- sample(1:150, 75)\n",
      "     table(Iris$Sp[train])\n",
      "     ## your answer may differ\n",
      "     ##  c  s  v\n",
      "     ## 22 23 30\n",
      "     z <- lda(Sp ~ ., Iris, prior = c(1,1,1)/3, subset = train)\n",
      "     predict(z, Iris[-train, ])$class\n",
      "     ##  [1] s s s s s s s s s s s s s s s s s s s s s s s s s s s c c c\n",
      "     ## [31] c c c c c c c v c c c c v c c c c c c c c c c c c v v v v v\n",
      "     ## [61] v v v v v v v v v v v v v v v\n",
      "     (z1 <- update(z, . ~ . - Petal.W.))\n",
      "     "
     ]
    }
   ],
   "source": [
    "help(lda)"
   ]
  },
  {
   "cell_type": "code",
   "execution_count": 7,
   "metadata": {
    "vscode": {
     "languageId": "r"
    }
   },
   "outputs": [],
   "source": [
    "lda_fit <- lda(Direction ~ Lag1 + Lag2, data = Smarket, subset = Year < 2005)"
   ]
  },
  {
   "cell_type": "code",
   "execution_count": 8,
   "metadata": {
    "vscode": {
     "languageId": "r"
    }
   },
   "outputs": [
    {
     "data": {
      "text/plain": [
       "Call:\n",
       "lda(Direction ~ Lag1 + Lag2, data = Smarket, subset = Year < \n",
       "    2005)\n",
       "\n",
       "Prior probabilities of groups:\n",
       "    Down       Up \n",
       "0.491984 0.508016 \n",
       "\n",
       "Group means:\n",
       "            Lag1        Lag2\n",
       "Down  0.04279022  0.03389409\n",
       "Up   -0.03954635 -0.03132544\n",
       "\n",
       "Coefficients of linear discriminants:\n",
       "            LD1\n",
       "Lag1 -0.6420190\n",
       "Lag2 -0.5135293"
      ]
     },
     "metadata": {},
     "output_type": "display_data"
    }
   ],
   "source": [
    "lda_fit"
   ]
  },
  {
   "cell_type": "code",
   "execution_count": 9,
   "metadata": {
    "vscode": {
     "languageId": "r"
    }
   },
   "outputs": [
    {
     "data": {
      "image/png": "[encoded data removed]",
      "text/plain": [
       "plot without title"
      ]
     },
     "metadata": {
      "image/png": {
       "height": 420,
       "width": 420
      }
     },
     "output_type": "display_data"
    }
   ],
   "source": [
    "plot(lda_fit)"
   ]
  },
  {
   "cell_type": "code",
   "execution_count": 11,
   "metadata": {
    "vscode": {
     "languageId": "r"
    }
   },
   "outputs": [],
   "source": [
    "smarket_2005 <- subset(Smarket, Year == 2005)"
   ]
  },
  {
   "cell_type": "code",
   "execution_count": 12,
   "metadata": {
    "vscode": {
     "languageId": "r"
    }
   },
   "outputs": [],
   "source": [
    "lda_pred <- predict(lda_fit, smarket_2005)"
   ]
  },
  {
   "cell_type": "code",
   "execution_count": 16,
   "metadata": {
    "vscode": {
     "languageId": "r"
    }
   },
   "outputs": [
    {
     "data": {
      "text/html": [
       "'list'"
      ],
      "text/latex": [
       "'list'"
      ],
      "text/markdown": [
       "'list'"
      ],
      "text/plain": [
       "[1] \"list\""
      ]
     },
     "metadata": {},
     "output_type": "display_data"
    }
   ],
   "source": [
    "class(lda_pred)"
   ]
  },
  {
   "cell_type": "code",
   "execution_count": 17,
   "metadata": {
    "vscode": {
     "languageId": "r"
    }
   },
   "outputs": [
    {
     "data": {
      "text/html": [
       "<table class=\"dataframe\">\n",
       "<caption>A data.frame: 5 × 4</caption>\n",
       "<thead>\n",
       "\t<tr><th></th><th scope=col>class</th><th scope=col>posterior.Down</th><th scope=col>posterior.Up</th><th scope=col>LD1</th></tr>\n",
       "\t<tr><th></th><th scope=col>&lt;fct&gt;</th><th scope=col>&lt;dbl&gt;</th><th scope=col>&lt;dbl&gt;</th><th scope=col>&lt;dbl&gt;</th></tr>\n",
       "</thead>\n",
       "<tbody>\n",
       "\t<tr><th scope=row>999</th><td>Up</td><td>0.4901792</td><td>0.5098208</td><td> 0.08293096</td></tr>\n",
       "\t<tr><th scope=row>1000</th><td>Up</td><td>0.4792185</td><td>0.5207815</td><td> 0.59114102</td></tr>\n",
       "\t<tr><th scope=row>1001</th><td>Up</td><td>0.4668185</td><td>0.5331815</td><td> 1.16723063</td></tr>\n",
       "\t<tr><th scope=row>1002</th><td>Up</td><td>0.4740011</td><td>0.5259989</td><td> 0.83335022</td></tr>\n",
       "\t<tr><th scope=row>1003</th><td>Up</td><td>0.4927877</td><td>0.5072123</td><td>-0.03792892</td></tr>\n",
       "</tbody>\n",
       "</table>\n"
      ],
      "text/latex": [
       "A data.frame: 5 × 4\n",
       "\\begin{tabular}{r|llll}\n",
       "  & class & posterior.Down & posterior.Up & LD1\\\\\n",
       "  & <fct> & <dbl> & <dbl> & <dbl>\\\\\n",
       "\\hline\n",
       "\t999 & Up & 0.4901792 & 0.5098208 &  0.08293096\\\\\n",
       "\t1000 & Up & 0.4792185 & 0.5207815 &  0.59114102\\\\\n",
       "\t1001 & Up & 0.4668185 & 0.5331815 &  1.16723063\\\\\n",
       "\t1002 & Up & 0.4740011 & 0.5259989 &  0.83335022\\\\\n",
       "\t1003 & Up & 0.4927877 & 0.5072123 & -0.03792892\\\\\n",
       "\\end{tabular}\n"
      ],
      "text/markdown": [
       "\n",
       "A data.frame: 5 × 4\n",
       "\n",
       "| <!--/--> | class &lt;fct&gt; | posterior.Down &lt;dbl&gt; | posterior.Up &lt;dbl&gt; | LD1 &lt;dbl&gt; |\n",
       "|---|---|---|---|---|\n",
       "| 999 | Up | 0.4901792 | 0.5098208 |  0.08293096 |\n",
       "| 1000 | Up | 0.4792185 | 0.5207815 |  0.59114102 |\n",
       "| 1001 | Up | 0.4668185 | 0.5331815 |  1.16723063 |\n",
       "| 1002 | Up | 0.4740011 | 0.5259989 |  0.83335022 |\n",
       "| 1003 | Up | 0.4927877 | 0.5072123 | -0.03792892 |\n",
       "\n"
      ],
      "text/plain": [
       "     class posterior.Down posterior.Up LD1        \n",
       "999  Up    0.4901792      0.5098208     0.08293096\n",
       "1000 Up    0.4792185      0.5207815     0.59114102\n",
       "1001 Up    0.4668185      0.5331815     1.16723063\n",
       "1002 Up    0.4740011      0.5259989     0.83335022\n",
       "1003 Up    0.4927877      0.5072123    -0.03792892"
      ]
     },
     "metadata": {},
     "output_type": "display_data"
    }
   ],
   "source": [
    "data.frame(lda_pred)[1:5,]"
   ]
  },
  {
   "cell_type": "code",
   "execution_count": 19,
   "metadata": {
    "vscode": {
     "languageId": "r"
    }
   },
   "outputs": [
    {
     "data": {
      "text/plain": [
       "      \n",
       "       Down  Up\n",
       "  Down   35  35\n",
       "  Up     76 106"
      ]
     },
     "metadata": {},
     "output_type": "display_data"
    }
   ],
   "source": [
    "table(lda_pred$class, smarket_2005$Direction)"
   ]
  },
  {
   "cell_type": "code",
   "execution_count": 20,
   "metadata": {
    "vscode": {
     "languageId": "r"
    }
   },
   "outputs": [
    {
     "data": {
      "text/html": [
       "0.55952380952381"
      ],
      "text/latex": [
       "0.55952380952381"
      ],
      "text/markdown": [
       "0.55952380952381"
      ],
      "text/plain": [
       "[1] 0.5595238"
      ]
     },
     "metadata": {},
     "output_type": "display_data"
    }
   ],
   "source": [
    "mean(lda_pred$class == smarket_2005$Direction)"
   ]
  },
  {
   "cell_type": "code",
   "execution_count": null,
   "metadata": {
    "vscode": {
     "languageId": "r"
    }
   },
   "outputs": [],
   "source": []
  }
 ],
 "metadata": {
  "kernelspec": {
   "display_name": "R",
   "language": "R",
   "name": "ir"
  },
  "language_info": {
   "codemirror_mode": "r",
   "file_extension": ".r",
   "mimetype": "text/x-r-source",
   "name": "R",
   "pygments_lexer": "r",
   "version": "4.3.2"
  }
 },
 "nbformat": 4,
 "nbformat_minor": 2
}
