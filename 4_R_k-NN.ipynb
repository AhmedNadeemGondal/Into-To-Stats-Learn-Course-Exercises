{
 "cells": [
  {
   "cell_type": "code",
   "execution_count": 1,
   "metadata": {
    "vscode": {
     "languageId": "r"
    }
   },
   "outputs": [],
   "source": [
    "library(class)"
   ]
  },
  {
   "cell_type": "code",
   "execution_count": 2,
   "metadata": {
    "vscode": {
     "languageId": "r"
    }
   },
   "outputs": [
    {
     "name": "stdout",
     "output_type": "stream",
     "text": [
      "knn                   package:class                    R Documentation\n",
      "\n",
      "_\bk-_\bN_\be_\ba_\br_\be_\bs_\bt _\bN_\be_\bi_\bg_\bh_\bb_\bo_\bu_\br _\bC_\bl_\ba_\bs_\bs_\bi_\bf_\bi_\bc_\ba_\bt_\bi_\bo_\bn\n",
      "\n",
      "_\bD_\be_\bs_\bc_\br_\bi_\bp_\bt_\bi_\bo_\bn:\n",
      "\n",
      "     k-nearest neighbour classification for test set from training set.\n",
      "     For each row of the test set, the 'k' nearest (in Euclidean\n",
      "     distance) training set vectors are found, and the classification\n",
      "     is decided by majority vote, with ties broken at random. If there\n",
      "     are ties for the 'k'th nearest vector, all candidates are included\n",
      "     in the vote.\n",
      "\n",
      "_\bU_\bs_\ba_\bg_\be:\n",
      "\n",
      "     knn(train, test, cl, k = 1, l = 0, prob = FALSE, use.all = TRUE)\n",
      "     \n",
      "_\bA_\br_\bg_\bu_\bm_\be_\bn_\bt_\bs:\n",
      "\n",
      "   train: matrix or data frame of training set cases.\n",
      "\n",
      "    test: matrix or data frame of test set cases. A vector will be\n",
      "          interpreted as a row vector for a single case.\n",
      "\n",
      "      cl: factor of true classifications of training set\n",
      "\n",
      "       k: number of neighbours considered.\n",
      "\n",
      "       l: minimum vote for definite decision, otherwise 'doubt'. (More\n",
      "          precisely, less than 'k-l' dissenting votes are allowed, even\n",
      "          if 'k' is increased by ties.)\n",
      "\n",
      "    prob: If this is true, the proportion of the votes for the winning\n",
      "          class are returned as attribute 'prob'.\n",
      "\n",
      " use.all: controls handling of ties. If true, all distances equal to\n",
      "          the 'k'th largest are included. If false, a random selection\n",
      "          of distances equal to the 'k'th is chosen to use exactly 'k'\n",
      "          neighbours.\n",
      "\n",
      "_\bV_\ba_\bl_\bu_\be:\n",
      "\n",
      "     Factor of classifications of test set. 'doubt' will be returned as\n",
      "     'NA'.\n",
      "\n",
      "_\bR_\be_\bf_\be_\br_\be_\bn_\bc_\be_\bs:\n",
      "\n",
      "     Ripley, B. D. (1996) _Pattern Recognition and Neural Networks._\n",
      "     Cambridge.\n",
      "\n",
      "     Venables, W. N. and Ripley, B. D. (2002) _Modern Applied\n",
      "     Statistics with S._ Fourth edition.  Springer.\n",
      "\n",
      "_\bS_\be_\be _\bA_\bl_\bs_\bo:\n",
      "\n",
      "     'knn1', 'knn.cv'\n",
      "\n",
      "_\bE_\bx_\ba_\bm_\bp_\bl_\be_\bs:\n",
      "\n",
      "     train <- rbind(iris3[1:25,,1], iris3[1:25,,2], iris3[1:25,,3])\n",
      "     test <- rbind(iris3[26:50,,1], iris3[26:50,,2], iris3[26:50,,3])\n",
      "     cl <- factor(c(rep(\"s\",25), rep(\"c\",25), rep(\"v\",25)))\n",
      "     knn(train, test, cl, k = 3, prob=TRUE)\n",
      "     attributes(.Last.value)\n",
      "     "
     ]
    }
   ],
   "source": [
    "?knn"
   ]
  },
  {
   "cell_type": "code",
   "execution_count": 3,
   "metadata": {
    "vscode": {
     "languageId": "r"
    }
   },
   "outputs": [],
   "source": [
    "library(ISLR2)\n",
    "attach(Smarket)"
   ]
  },
  {
   "cell_type": "code",
   "execution_count": 4,
   "metadata": {
    "vscode": {
     "languageId": "r"
    }
   },
   "outputs": [],
   "source": [
    "x_lag <- cbind(Lag1, Lag2)"
   ]
  },
  {
   "cell_type": "code",
   "execution_count": 5,
   "metadata": {
    "vscode": {
     "languageId": "r"
    }
   },
   "outputs": [],
   "source": [
    "train <- Year < 2005"
   ]
  },
  {
   "cell_type": "code",
   "execution_count": 21,
   "metadata": {
    "vscode": {
     "languageId": "r"
    }
   },
   "outputs": [],
   "source": [
    "knn_pred <- knn(x_lag[train, ], x_lag[!train, ], Direction[train], k = 100)"
   ]
  },
  {
   "cell_type": "code",
   "execution_count": 22,
   "metadata": {
    "vscode": {
     "languageId": "r"
    }
   },
   "outputs": [
    {
     "data": {
      "text/plain": [
       "        \n",
       "knn_pred Down Up\n",
       "    Down   46 50\n",
       "    Up     65 91"
      ]
     },
     "metadata": {},
     "output_type": "display_data"
    }
   ],
   "source": [
    "table(knn_pred, Direction[!train])"
   ]
  },
  {
   "cell_type": "code",
   "execution_count": 23,
   "metadata": {
    "vscode": {
     "languageId": "r"
    }
   },
   "outputs": [
    {
     "data": {
      "text/html": [
       "0.543650793650794"
      ],
      "text/latex": [
       "0.543650793650794"
      ],
      "text/markdown": [
       "0.543650793650794"
      ],
      "text/plain": [
       "[1] 0.5436508"
      ]
     },
     "metadata": {},
     "output_type": "display_data"
    }
   ],
   "source": [
    "mean(knn_pred == Direction[!train])"
   ]
  },
  {
   "cell_type": "code",
   "execution_count": null,
   "metadata": {
    "vscode": {
     "languageId": "r"
    }
   },
   "outputs": [],
   "source": []
  }
 ],
 "metadata": {
  "kernelspec": {
   "display_name": "R",
   "language": "R",
   "name": "ir"
  },
  "language_info": {
   "codemirror_mode": "r",
   "file_extension": ".r",
   "mimetype": "text/x-r-source",
   "name": "R",
   "pygments_lexer": "r",
   "version": "4.3.2"
  }
 },
 "nbformat": 4,
 "nbformat_minor": 2
}
