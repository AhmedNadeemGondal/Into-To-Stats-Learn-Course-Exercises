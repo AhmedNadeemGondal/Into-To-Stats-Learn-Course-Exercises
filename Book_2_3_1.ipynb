{
 "cells": [
  {
   "cell_type": "code",
   "execution_count": 4,
   "id": "c2da00ec",
   "metadata": {
    "vscode": {
     "languageId": "r"
    }
   },
   "outputs": [
    {
     "data": {
      "text/html": [
       "<style>\n",
       ".list-inline {list-style: none; margin:0; padding: 0}\n",
       ".list-inline>li {display: inline-block}\n",
       ".list-inline>li:not(:last-child)::after {content: \"\\00b7\"; padding: 0 .5ex}\n",
       "</style>\n",
       "<ol class=list-inline><li>1</li><li>3</li><li>2</li><li>5</li></ol>\n"
      ],
      "text/latex": [
       "\\begin{enumerate*}\n",
       "\\item 1\n",
       "\\item 3\n",
       "\\item 2\n",
       "\\item 5\n",
       "\\end{enumerate*}\n"
      ],
      "text/markdown": [
       "1. 1\n",
       "2. 3\n",
       "3. 2\n",
       "4. 5\n",
       "\n",
       "\n"
      ],
      "text/plain": [
       "[1] 1 3 2 5"
      ]
     },
     "metadata": {},
     "output_type": "display_data"
    }
   ],
   "source": [
    "x <- c(1, 3, 2, 5)\n",
    "x"
   ]
  },
  {
   "cell_type": "code",
   "execution_count": 5,
   "id": "ee1b9682",
   "metadata": {
    "vscode": {
     "languageId": "r"
    }
   },
   "outputs": [
    {
     "data": {
      "text/html": [
       "<style>\n",
       ".list-inline {list-style: none; margin:0; padding: 0}\n",
       ".list-inline>li {display: inline-block}\n",
       ".list-inline>li:not(:last-child)::after {content: \"\\00b7\"; padding: 0 .5ex}\n",
       "</style>\n",
       "<ol class=list-inline><li>2</li><li>5</li><li>5</li><li>9</li></ol>\n"
      ],
      "text/latex": [
       "\\begin{enumerate*}\n",
       "\\item 2\n",
       "\\item 5\n",
       "\\item 5\n",
       "\\item 9\n",
       "\\end{enumerate*}\n"
      ],
      "text/markdown": [
       "1. 2\n",
       "2. 5\n",
       "3. 5\n",
       "4. 9\n",
       "\n",
       "\n"
      ],
      "text/plain": [
       "[1] 2 5 5 9"
      ]
     },
     "metadata": {},
     "output_type": "display_data"
    }
   ],
   "source": [
    "y <- c(1, 2, 3, 4)\n",
    "x + y"
   ]
  },
  {
   "cell_type": "code",
   "execution_count": 6,
   "id": "2a116293",
   "metadata": {
    "vscode": {
     "languageId": "r"
    }
   },
   "outputs": [
    {
     "data": {
      "text/html": [
       "4"
      ],
      "text/latex": [
       "4"
      ],
      "text/markdown": [
       "4"
      ],
      "text/plain": [
       "[1] 4"
      ]
     },
     "metadata": {},
     "output_type": "display_data"
    },
    {
     "data": {
      "text/html": [
       "4"
      ],
      "text/latex": [
       "4"
      ],
      "text/markdown": [
       "4"
      ],
      "text/plain": [
       "[1] 4"
      ]
     },
     "metadata": {},
     "output_type": "display_data"
    }
   ],
   "source": [
    "length(x)\n",
    "length(y)"
   ]
  },
  {
   "cell_type": "code",
   "execution_count": 7,
   "id": "4c980875",
   "metadata": {
    "scrolled": true,
    "vscode": {
     "languageId": "r"
    }
   },
   "outputs": [
    {
     "data": {
      "text/html": [
       "<style>\n",
       ".list-inline {list-style: none; margin:0; padding: 0}\n",
       ".list-inline>li {display: inline-block}\n",
       ".list-inline>li:not(:last-child)::after {content: \"\\00b7\"; padding: 0 .5ex}\n",
       "</style>\n",
       "<ol class=list-inline><li>'x'</li><li>'y'</li></ol>\n"
      ],
      "text/latex": [
       "\\begin{enumerate*}\n",
       "\\item 'x'\n",
       "\\item 'y'\n",
       "\\end{enumerate*}\n"
      ],
      "text/markdown": [
       "1. 'x'\n",
       "2. 'y'\n",
       "\n",
       "\n"
      ],
      "text/plain": [
       "[1] \"x\" \"y\""
      ]
     },
     "metadata": {},
     "output_type": "display_data"
    },
    {
     "data": {
      "text/html": [
       "'y'"
      ],
      "text/latex": [
       "'y'"
      ],
      "text/markdown": [
       "'y'"
      ],
      "text/plain": [
       "[1] \"y\""
      ]
     },
     "metadata": {},
     "output_type": "display_data"
    }
   ],
   "source": [
    "ls()\n",
    "rm(x)\n",
    "ls()"
   ]
  },
  {
   "cell_type": "code",
   "execution_count": 8,
   "id": "2625bc05",
   "metadata": {
    "vscode": {
     "languageId": "r"
    }
   },
   "outputs": [],
   "source": [
    "rm(list = ls())"
   ]
  },
  {
   "cell_type": "code",
   "execution_count": 9,
   "id": "6c37822b",
   "metadata": {
    "vscode": {
     "languageId": "r"
    }
   },
   "outputs": [
    {
     "data": {
      "text/html": [],
      "text/latex": [],
      "text/markdown": [],
      "text/plain": [
       "character(0)"
      ]
     },
     "metadata": {},
     "output_type": "display_data"
    }
   ],
   "source": [
    "ls()"
   ]
  },
  {
   "cell_type": "code",
   "execution_count": 10,
   "id": "6c77feb6",
   "metadata": {
    "vscode": {
     "languageId": "r"
    }
   },
   "outputs": [
    {
     "name": "stdout",
     "output_type": "stream",
     "text": [
      "matrix                  package:base                   R Documentation\n",
      "\n",
      "_\bM_\ba_\bt_\br_\bi_\bc_\be_\bs\n",
      "\n",
      "_\bD_\be_\bs_\bc_\br_\bi_\bp_\bt_\bi_\bo_\bn:\n",
      "\n",
      "     'matrix' creates a matrix from the given set of values.\n",
      "\n",
      "     'as.matrix' attempts to turn its argument into a matrix.\n",
      "\n",
      "     'is.matrix' tests if its argument is a (strict) matrix.\n",
      "\n",
      "_\bU_\bs_\ba_\bg_\be:\n",
      "\n",
      "     matrix(data = NA, nrow = 1, ncol = 1, byrow = FALSE,\n",
      "            dimnames = NULL)\n",
      "     \n",
      "     as.matrix(x, ...)\n",
      "     ## S3 method for class 'data.frame'\n",
      "     as.matrix(x, rownames.force = NA, ...)\n",
      "     \n",
      "     is.matrix(x)\n",
      "     \n",
      "_\bA_\br_\bg_\bu_\bm_\be_\bn_\bt_\bs:\n",
      "\n",
      "    data: an optional data vector (including a list or 'expression'\n",
      "          vector).  Non-atomic classed R objects are coerced by\n",
      "          'as.vector' and all attributes discarded.\n",
      "\n",
      "    nrow: the desired number of rows.\n",
      "\n",
      "    ncol: the desired number of columns.\n",
      "\n",
      "   byrow: logical. If 'FALSE' (the default) the matrix is filled by\n",
      "          columns, otherwise the matrix is filled by rows.\n",
      "\n",
      "dimnames: A 'dimnames' attribute for the matrix: 'NULL' or a 'list' of\n",
      "          length 2 giving the row and column names respectively.  An\n",
      "          empty list is treated as 'NULL', and a list of length one as\n",
      "          row names.  The list can be named, and the list names will be\n",
      "          used as names for the dimensions.\n",
      "\n",
      "       x: an R object.\n",
      "\n",
      "     ...: additional arguments to be passed to or from methods.\n",
      "\n",
      "rownames.force: logical indicating if the resulting matrix should have\n",
      "          character (rather than 'NULL') 'rownames'.  The default,\n",
      "          'NA', uses 'NULL' rownames if the data frame has 'automatic'\n",
      "          row.names or for a zero-row data frame.\n",
      "\n",
      "_\bD_\be_\bt_\ba_\bi_\bl_\bs:\n",
      "\n",
      "     If one of 'nrow' or 'ncol' is not given, an attempt is made to\n",
      "     infer it from the length of 'data' and the other parameter.  If\n",
      "     neither is given, a one-column matrix is returned.\n",
      "\n",
      "     If there are too few elements in 'data' to fill the matrix, then\n",
      "     the elements in 'data' are recycled.  If 'data' has length zero,\n",
      "     'NA' of an appropriate type is used for atomic vectors ('0' for\n",
      "     raw vectors) and 'NULL' for lists.\n",
      "\n",
      "     'is.matrix' returns 'TRUE' if 'x' is a vector and has a '\"dim\"'\n",
      "     attribute of length 2 and 'FALSE' otherwise.  Note that a\n",
      "     'data.frame' is *not* a matrix by this test.  The function is\n",
      "     generic: you can write methods to handle specific classes of\n",
      "     objects, see InternalMethods.\n",
      "\n",
      "     'as.matrix' is a generic function.  The method for data frames\n",
      "     will return a character matrix if there is only atomic columns and\n",
      "     any non-(numeric/logical/complex) column, applying 'as.vector' to\n",
      "     factors and 'format' to other non-character columns.  Otherwise,\n",
      "     the usual coercion hierarchy (logical < integer < double <\n",
      "     complex) will be used, e.g., all-logical data frames will be\n",
      "     coerced to a logical matrix, mixed logical-integer will give a\n",
      "     integer matrix, etc.\n",
      "\n",
      "     The default method for 'as.matrix' calls 'as.vector(x)', and hence\n",
      "     e.g. coerces factors to character vectors.\n",
      "\n",
      "     When coercing a vector, it produces a one-column matrix, and\n",
      "     promotes the names (if any) of the vector to the rownames of the\n",
      "     matrix.\n",
      "\n",
      "     'is.matrix' is a primitive function.\n",
      "\n",
      "     The 'print' method for a matrix gives a rectangular layout with\n",
      "     dimnames or indices.  For a list matrix, the entries of length not\n",
      "     one are printed in the form 'integer,7' indicating the type and\n",
      "     length.\n",
      "\n",
      "_\bN_\bo_\bt_\be:\n",
      "\n",
      "     If you just want to convert a vector to a matrix, something like\n",
      "\n",
      "       dim(x) <- c(nx, ny)\n",
      "       dimnames(x) <- list(row_names, col_names)\n",
      "     \n",
      "     will avoid duplicating 'x' _and_ preserve 'class(x)' which may be\n",
      "     useful, e.g., for 'Date' objects.\n",
      "\n",
      "_\bR_\be_\bf_\be_\br_\be_\bn_\bc_\be_\bs:\n",
      "\n",
      "     Becker, R. A., Chambers, J. M. and Wilks, A. R. (1988) _The New S\n",
      "     Language_.  Wadsworth & Brooks/Cole.\n",
      "\n",
      "_\bS_\be_\be _\bA_\bl_\bs_\bo:\n",
      "\n",
      "     'data.matrix', which attempts to convert to a numeric matrix.\n",
      "\n",
      "     A matrix is the special case of a two-dimensional 'array'.\n",
      "     'inherits(m, \"array\")' is true for a 'matrix' 'm'.\n",
      "\n",
      "_\bE_\bx_\ba_\bm_\bp_\bl_\be_\bs:\n",
      "\n",
      "     is.matrix(as.matrix(1:10))\n",
      "     !is.matrix(warpbreaks)  # data.frame, NOT matrix!\n",
      "     warpbreaks[1:10,]\n",
      "     as.matrix(warpbreaks[1:10,])  # using as.matrix.data.frame(.) method\n",
      "     \n",
      "     ## Example of setting row and column names\n",
      "     mdat <- matrix(c(1,2,3, 11,12,13), nrow = 2, ncol = 3, byrow = TRUE,\n",
      "                    dimnames = list(c(\"row1\", \"row2\"),\n",
      "                                    c(\"C.1\", \"C.2\", \"C.3\")))\n",
      "     mdat\n",
      "     "
     ]
    }
   ],
   "source": [
    "?matrix"
   ]
  },
  {
   "cell_type": "code",
   "execution_count": 11,
   "id": "7110943d",
   "metadata": {
    "vscode": {
     "languageId": "r"
    }
   },
   "outputs": [
    {
     "data": {
      "text/html": [
       "<table class=\"dataframe\">\n",
       "<caption>A matrix: 2 × 2 of type dbl</caption>\n",
       "<tbody>\n",
       "\t<tr><td>1</td><td>1</td></tr>\n",
       "\t<tr><td>2</td><td>3</td></tr>\n",
       "</tbody>\n",
       "</table>\n"
      ],
      "text/latex": [
       "A matrix: 2 × 2 of type dbl\n",
       "\\begin{tabular}{ll}\n",
       "\t 1 & 1\\\\\n",
       "\t 2 & 3\\\\\n",
       "\\end{tabular}\n"
      ],
      "text/markdown": [
       "\n",
       "A matrix: 2 × 2 of type dbl\n",
       "\n",
       "| 1 | 1 |\n",
       "| 2 | 3 |\n",
       "\n"
      ],
      "text/plain": [
       "     [,1] [,2]\n",
       "[1,] 1    1   \n",
       "[2,] 2    3   "
      ]
     },
     "metadata": {},
     "output_type": "display_data"
    }
   ],
   "source": [
    "matrix(data = c(1, 1, 2, 3), nrow = 2, ncol = 2, byrow = TRUE)"
   ]
  },
  {
   "cell_type": "code",
   "execution_count": 12,
   "id": "fa647f15",
   "metadata": {
    "vscode": {
     "languageId": "r"
    }
   },
   "outputs": [
    {
     "data": {
      "text/html": [
       "<table class=\"dataframe\">\n",
       "<caption>A matrix: 2 × 2 of type dbl</caption>\n",
       "<tbody>\n",
       "\t<tr><td>1</td><td>1</td></tr>\n",
       "\t<tr><td>2</td><td>2</td></tr>\n",
       "</tbody>\n",
       "</table>\n"
      ],
      "text/latex": [
       "A matrix: 2 × 2 of type dbl\n",
       "\\begin{tabular}{ll}\n",
       "\t 1 & 1\\\\\n",
       "\t 2 & 2\\\\\n",
       "\\end{tabular}\n"
      ],
      "text/markdown": [
       "\n",
       "A matrix: 2 × 2 of type dbl\n",
       "\n",
       "| 1 | 1 |\n",
       "| 2 | 2 |\n",
       "\n"
      ],
      "text/plain": [
       "     [,1] [,2]\n",
       "[1,] 1    1   \n",
       "[2,] 2    2   "
      ]
     },
     "metadata": {},
     "output_type": "display_data"
    }
   ],
   "source": [
    "matrix(c(1, 2, 1, 2), 2, 2)"
   ]
  },
  {
   "cell_type": "code",
   "execution_count": 13,
   "id": "565230e8",
   "metadata": {
    "vscode": {
     "languageId": "r"
    }
   },
   "outputs": [
    {
     "data": {
      "text/html": [
       "<style>\n",
       ".list-inline {list-style: none; margin:0; padding: 0}\n",
       ".list-inline>li {display: inline-block}\n",
       ".list-inline>li:not(:last-child)::after {content: \"\\00b7\"; padding: 0 .5ex}\n",
       "</style>\n",
       "<ol class=list-inline><li>1.00582019208442</li><li>-0.962909845068689</li><li>0.292563222005791</li><li>-0.336944540690253</li><li>1.73312291169335</li><li>1.20478758800513</li><li>-0.00434992013231816</li><li>2.27401062601305</li><li>-1.13402462150406</li><li>0.0667825180342869</li><li>0.0500966209464587</li><li>-0.913885577046605</li><li>0.936719350320158</li><li>0.420060450400879</li><li>-0.662779966207176</li><li>-0.651387589849413</li><li>-0.643951836261763</li><li>-0.0197054452963237</li><li>-1.46781599241457</li><li>0.108224126741666</li><li>0.114618952130037</li><li>-1.28871562924277</li><li>0.172596812440932</li><li>-0.250254816266016</li><li>0.551348241881949</li><li>-0.391612436598126</li><li>-0.488296964195335</li><li>1.03655825091399</li><li>0.45281128297217</li><li>-0.885762020789955</li><li>-0.349147217952884</li><li>0.230626719337389</li><li>1.93879015162508</li><li>1.22507790306894</li><li>-0.217464439009015</li><li>1.26916563163216</li><li>-2.08478330194768</li><li>-1.637974825989</li><li>-0.338755868212338</li><li>0.835913853976366</li><li>-0.256883489908157</li><li>-0.697437914820043</li><li>0.470576428278305</li><li>-0.362310587704264</li><li>-1.08548667836498</li><li>-0.596740224180601</li><li>0.0632350598055442</li><li>-0.502508588301836</li><li>-0.196642104490087</li><li>0.171897283271735</li></ol>\n"
      ],
      "text/latex": [
       "\\begin{enumerate*}\n",
       "\\item 1.00582019208442\n",
       "\\item -0.962909845068689\n",
       "\\item 0.292563222005791\n",
       "\\item -0.336944540690253\n",
       "\\item 1.73312291169335\n",
       "\\item 1.20478758800513\n",
       "\\item -0.00434992013231816\n",
       "\\item 2.27401062601305\n",
       "\\item -1.13402462150406\n",
       "\\item 0.0667825180342869\n",
       "\\item 0.0500966209464587\n",
       "\\item -0.913885577046605\n",
       "\\item 0.936719350320158\n",
       "\\item 0.420060450400879\n",
       "\\item -0.662779966207176\n",
       "\\item -0.651387589849413\n",
       "\\item -0.643951836261763\n",
       "\\item -0.0197054452963237\n",
       "\\item -1.46781599241457\n",
       "\\item 0.108224126741666\n",
       "\\item 0.114618952130037\n",
       "\\item -1.28871562924277\n",
       "\\item 0.172596812440932\n",
       "\\item -0.250254816266016\n",
       "\\item 0.551348241881949\n",
       "\\item -0.391612436598126\n",
       "\\item -0.488296964195335\n",
       "\\item 1.03655825091399\n",
       "\\item 0.45281128297217\n",
       "\\item -0.885762020789955\n",
       "\\item -0.349147217952884\n",
       "\\item 0.230626719337389\n",
       "\\item 1.93879015162508\n",
       "\\item 1.22507790306894\n",
       "\\item -0.217464439009015\n",
       "\\item 1.26916563163216\n",
       "\\item -2.08478330194768\n",
       "\\item -1.637974825989\n",
       "\\item -0.338755868212338\n",
       "\\item 0.835913853976366\n",
       "\\item -0.256883489908157\n",
       "\\item -0.697437914820043\n",
       "\\item 0.470576428278305\n",
       "\\item -0.362310587704264\n",
       "\\item -1.08548667836498\n",
       "\\item -0.596740224180601\n",
       "\\item 0.0632350598055442\n",
       "\\item -0.502508588301836\n",
       "\\item -0.196642104490087\n",
       "\\item 0.171897283271735\n",
       "\\end{enumerate*}\n"
      ],
      "text/markdown": [
       "1. 1.00582019208442\n",
       "2. -0.962909845068689\n",
       "3. 0.292563222005791\n",
       "4. -0.336944540690253\n",
       "5. 1.73312291169335\n",
       "6. 1.20478758800513\n",
       "7. -0.00434992013231816\n",
       "8. 2.27401062601305\n",
       "9. -1.13402462150406\n",
       "10. 0.0667825180342869\n",
       "11. 0.0500966209464587\n",
       "12. -0.913885577046605\n",
       "13. 0.936719350320158\n",
       "14. 0.420060450400879\n",
       "15. -0.662779966207176\n",
       "16. -0.651387589849413\n",
       "17. -0.643951836261763\n",
       "18. -0.0197054452963237\n",
       "19. -1.46781599241457\n",
       "20. 0.108224126741666\n",
       "21. 0.114618952130037\n",
       "22. -1.28871562924277\n",
       "23. 0.172596812440932\n",
       "24. -0.250254816266016\n",
       "25. 0.551348241881949\n",
       "26. -0.391612436598126\n",
       "27. -0.488296964195335\n",
       "28. 1.03655825091399\n",
       "29. 0.45281128297217\n",
       "30. -0.885762020789955\n",
       "31. -0.349147217952884\n",
       "32. 0.230626719337389\n",
       "33. 1.93879015162508\n",
       "34. 1.22507790306894\n",
       "35. -0.217464439009015\n",
       "36. 1.26916563163216\n",
       "37. -2.08478330194768\n",
       "38. -1.637974825989\n",
       "39. -0.338755868212338\n",
       "40. 0.835913853976366\n",
       "41. -0.256883489908157\n",
       "42. -0.697437914820043\n",
       "43. 0.470576428278305\n",
       "44. -0.362310587704264\n",
       "45. -1.08548667836498\n",
       "46. -0.596740224180601\n",
       "47. 0.0632350598055442\n",
       "48. -0.502508588301836\n",
       "49. -0.196642104490087\n",
       "50. 0.171897283271735\n",
       "\n",
       "\n"
      ],
      "text/plain": [
       " [1]  1.00582019 -0.96290985  0.29256322 -0.33694454  1.73312291  1.20478759\n",
       " [7] -0.00434992  2.27401063 -1.13402462  0.06678252  0.05009662 -0.91388558\n",
       "[13]  0.93671935  0.42006045 -0.66277997 -0.65138759 -0.64395184 -0.01970545\n",
       "[19] -1.46781599  0.10822413  0.11461895 -1.28871563  0.17259681 -0.25025482\n",
       "[25]  0.55134824 -0.39161244 -0.48829696  1.03655825  0.45281128 -0.88576202\n",
       "[31] -0.34914722  0.23062672  1.93879015  1.22507790 -0.21746444  1.26916563\n",
       "[37] -2.08478330 -1.63797483 -0.33875587  0.83591385 -0.25688349 -0.69743791\n",
       "[43]  0.47057643 -0.36231059 -1.08548668 -0.59674022  0.06323506 -0.50250859\n",
       "[49] -0.19664210  0.17189728"
      ]
     },
     "metadata": {},
     "output_type": "display_data"
    }
   ],
   "source": [
    "x <- rnorm(50)\n",
    "x"
   ]
  },
  {
   "cell_type": "code",
   "execution_count": 14,
   "id": "d8297255",
   "metadata": {
    "vscode": {
     "languageId": "r"
    }
   },
   "outputs": [
    {
     "data": {
      "text/html": [
       "<style>\n",
       ".list-inline {list-style: none; margin:0; padding: 0}\n",
       ".list-inline>li {display: inline-block}\n",
       ".list-inline>li:not(:last-child)::after {content: \"\\00b7\"; padding: 0 .5ex}\n",
       "</style>\n",
       "<ol class=list-inline><li>51.0166939435446</li><li>49.008757340054</li><li>50.1841741089924</li><li>49.7100351128247</li><li>51.8421436546532</li><li>51.2715074115871</li><li>50.0660231071017</li><li>52.1839655745728</li><li>48.8190055889769</li><li>50.1030053617553</li><li>50.0487349547407</li><li>49.1669583239134</li><li>51.0901629597693</li><li>50.4844070653786</li><li>49.4088226040661</li><li>49.393509547792</li><li>49.5630364842093</li><li>49.9128400898372</li><li>48.5817833432613</li><li>50.0513565412923</li><li>49.9966763629153</li><li>48.8506803111725</li><li>50.2019567250668</li><li>49.7815932103417</li><li>50.4720850557261</li><li>49.5536489061173</li><li>49.2885923515611</li><li>51.1457955145807</li><li>50.409659266179</li><li>49.1302085791514</li><li>49.5213036168033</li><li>50.1806046095357</li><li>52.1095215505602</li><li>51.2546303645488</li><li>49.7411839957399</li><li>51.2601559071043</li><li>47.9692940182802</li><li>48.3074844912236</li><li>49.648242796798</li><li>50.8963344912141</li><li>49.7917795545196</li><li>49.3382614966767</li><li>50.487915446209</li><li>49.4757844794099</li><li>48.9520215888099</li><li>49.4365228822248</li><li>50.0840533978516</li><li>49.3680962641909</li><li>49.6557752826962</li><li>50.1213942195889</li></ol>\n"
      ],
      "text/latex": [
       "\\begin{enumerate*}\n",
       "\\item 51.0166939435446\n",
       "\\item 49.008757340054\n",
       "\\item 50.1841741089924\n",
       "\\item 49.7100351128247\n",
       "\\item 51.8421436546532\n",
       "\\item 51.2715074115871\n",
       "\\item 50.0660231071017\n",
       "\\item 52.1839655745728\n",
       "\\item 48.8190055889769\n",
       "\\item 50.1030053617553\n",
       "\\item 50.0487349547407\n",
       "\\item 49.1669583239134\n",
       "\\item 51.0901629597693\n",
       "\\item 50.4844070653786\n",
       "\\item 49.4088226040661\n",
       "\\item 49.393509547792\n",
       "\\item 49.5630364842093\n",
       "\\item 49.9128400898372\n",
       "\\item 48.5817833432613\n",
       "\\item 50.0513565412923\n",
       "\\item 49.9966763629153\n",
       "\\item 48.8506803111725\n",
       "\\item 50.2019567250668\n",
       "\\item 49.7815932103417\n",
       "\\item 50.4720850557261\n",
       "\\item 49.5536489061173\n",
       "\\item 49.2885923515611\n",
       "\\item 51.1457955145807\n",
       "\\item 50.409659266179\n",
       "\\item 49.1302085791514\n",
       "\\item 49.5213036168033\n",
       "\\item 50.1806046095357\n",
       "\\item 52.1095215505602\n",
       "\\item 51.2546303645488\n",
       "\\item 49.7411839957399\n",
       "\\item 51.2601559071043\n",
       "\\item 47.9692940182802\n",
       "\\item 48.3074844912236\n",
       "\\item 49.648242796798\n",
       "\\item 50.8963344912141\n",
       "\\item 49.7917795545196\n",
       "\\item 49.3382614966767\n",
       "\\item 50.487915446209\n",
       "\\item 49.4757844794099\n",
       "\\item 48.9520215888099\n",
       "\\item 49.4365228822248\n",
       "\\item 50.0840533978516\n",
       "\\item 49.3680962641909\n",
       "\\item 49.6557752826962\n",
       "\\item 50.1213942195889\n",
       "\\end{enumerate*}\n"
      ],
      "text/markdown": [
       "1. 51.0166939435446\n",
       "2. 49.008757340054\n",
       "3. 50.1841741089924\n",
       "4. 49.7100351128247\n",
       "5. 51.8421436546532\n",
       "6. 51.2715074115871\n",
       "7. 50.0660231071017\n",
       "8. 52.1839655745728\n",
       "9. 48.8190055889769\n",
       "10. 50.1030053617553\n",
       "11. 50.0487349547407\n",
       "12. 49.1669583239134\n",
       "13. 51.0901629597693\n",
       "14. 50.4844070653786\n",
       "15. 49.4088226040661\n",
       "16. 49.393509547792\n",
       "17. 49.5630364842093\n",
       "18. 49.9128400898372\n",
       "19. 48.5817833432613\n",
       "20. 50.0513565412923\n",
       "21. 49.9966763629153\n",
       "22. 48.8506803111725\n",
       "23. 50.2019567250668\n",
       "24. 49.7815932103417\n",
       "25. 50.4720850557261\n",
       "26. 49.5536489061173\n",
       "27. 49.2885923515611\n",
       "28. 51.1457955145807\n",
       "29. 50.409659266179\n",
       "30. 49.1302085791514\n",
       "31. 49.5213036168033\n",
       "32. 50.1806046095357\n",
       "33. 52.1095215505602\n",
       "34. 51.2546303645488\n",
       "35. 49.7411839957399\n",
       "36. 51.2601559071043\n",
       "37. 47.9692940182802\n",
       "38. 48.3074844912236\n",
       "39. 49.648242796798\n",
       "40. 50.8963344912141\n",
       "41. 49.7917795545196\n",
       "42. 49.3382614966767\n",
       "43. 50.487915446209\n",
       "44. 49.4757844794099\n",
       "45. 48.9520215888099\n",
       "46. 49.4365228822248\n",
       "47. 50.0840533978516\n",
       "48. 49.3680962641909\n",
       "49. 49.6557752826962\n",
       "50. 50.1213942195889\n",
       "\n",
       "\n"
      ],
      "text/plain": [
       " [1] 51.01669 49.00876 50.18417 49.71004 51.84214 51.27151 50.06602 52.18397\n",
       " [9] 48.81901 50.10301 50.04873 49.16696 51.09016 50.48441 49.40882 49.39351\n",
       "[17] 49.56304 49.91284 48.58178 50.05136 49.99668 48.85068 50.20196 49.78159\n",
       "[25] 50.47209 49.55365 49.28859 51.14580 50.40966 49.13021 49.52130 50.18060\n",
       "[33] 52.10952 51.25463 49.74118 51.26016 47.96929 48.30748 49.64824 50.89633\n",
       "[41] 49.79178 49.33826 50.48792 49.47578 48.95202 49.43652 50.08405 49.36810\n",
       "[49] 49.65578 50.12139"
      ]
     },
     "metadata": {},
     "output_type": "display_data"
    }
   ],
   "source": [
    "y <- x + rnorm(50, mean = 50, sd = 0.1)\n",
    "y"
   ]
  },
  {
   "cell_type": "code",
   "execution_count": 15,
   "id": "29af6285",
   "metadata": {
    "vscode": {
     "languageId": "r"
    }
   },
   "outputs": [
    {
     "data": {
      "text/html": [
       "0.995413856170965"
      ],
      "text/latex": [
       "0.995413856170965"
      ],
      "text/markdown": [
       "0.995413856170965"
      ],
      "text/plain": [
       "[1] 0.9954139"
      ]
     },
     "metadata": {},
     "output_type": "display_data"
    }
   ],
   "source": [
    "cor(x, y)"
   ]
  },
  {
   "cell_type": "code",
   "execution_count": 16,
   "id": "94561aca",
   "metadata": {
    "vscode": {
     "languageId": "r"
    }
   },
   "outputs": [
    {
     "data": {
      "text/html": [
       "<style>\n",
       ".list-inline {list-style: none; margin:0; padding: 0}\n",
       ".list-inline>li {display: inline-block}\n",
       ".list-inline>li:not(:last-child)::after {content: \"\\00b7\"; padding: 0 .5ex}\n",
       "</style>\n",
       "<ol class=list-inline><li>-1.14397631447974</li><li>1.34212936561501</li><li>2.18539047574276</li><li>0.536392517923731</li><li>0.0631929664685468</li><li>0.502234482468979</li><li>-0.000416724686432643</li><li>0.565819840539162</li><li>-0.572522688962623</li><li>-1.11022500727696</li><li>-0.0486871233624514</li><li>-0.695656217619366</li><li>0.828917480303335</li><li>0.206652855081802</li><li>-0.235674509102427</li><li>-0.556310491381104</li><li>-0.364754357080585</li><li>0.862355034263622</li><li>-0.63077153536771</li><li>0.313602125215739</li><li>-0.931495317661393</li><li>0.823867618473952</li><li>0.523370702077482</li><li>0.706921411979056</li><li>0.420204325601679</li><li>-0.269052154682033</li><li>-1.51031729990999</li><li>-0.69021247657504</li><li>-0.143471952443572</li><li>-1.0135274099044</li><li>1.57327373614751</li><li>0.0127465054882014</li><li>0.872647049887217</li><li>0.422066190530336</li><li>-0.0188157916578866</li><li>2.61574896890584</li><li>-0.693140174826871</li><li>-0.266321780991085</li><li>-0.720636441231524</li><li>1.36773420645149</li><li>0.264007332160512</li><li>0.632186807367191</li><li>-1.33065098578719</li><li>0.0268888182209596</li><li>1.0406363207788</li><li>1.31202379854711</li><li>-0.0300020766733214</li><li>-0.250025712488174</li><li>0.0234144856913592</li><li>1.65987065574227</li></ol>\n"
      ],
      "text/latex": [
       "\\begin{enumerate*}\n",
       "\\item -1.14397631447974\n",
       "\\item 1.34212936561501\n",
       "\\item 2.18539047574276\n",
       "\\item 0.536392517923731\n",
       "\\item 0.0631929664685468\n",
       "\\item 0.502234482468979\n",
       "\\item -0.000416724686432643\n",
       "\\item 0.565819840539162\n",
       "\\item -0.572522688962623\n",
       "\\item -1.11022500727696\n",
       "\\item -0.0486871233624514\n",
       "\\item -0.695656217619366\n",
       "\\item 0.828917480303335\n",
       "\\item 0.206652855081802\n",
       "\\item -0.235674509102427\n",
       "\\item -0.556310491381104\n",
       "\\item -0.364754357080585\n",
       "\\item 0.862355034263622\n",
       "\\item -0.63077153536771\n",
       "\\item 0.313602125215739\n",
       "\\item -0.931495317661393\n",
       "\\item 0.823867618473952\n",
       "\\item 0.523370702077482\n",
       "\\item 0.706921411979056\n",
       "\\item 0.420204325601679\n",
       "\\item -0.269052154682033\n",
       "\\item -1.51031729990999\n",
       "\\item -0.69021247657504\n",
       "\\item -0.143471952443572\n",
       "\\item -1.0135274099044\n",
       "\\item 1.57327373614751\n",
       "\\item 0.0127465054882014\n",
       "\\item 0.872647049887217\n",
       "\\item 0.422066190530336\n",
       "\\item -0.0188157916578866\n",
       "\\item 2.61574896890584\n",
       "\\item -0.693140174826871\n",
       "\\item -0.266321780991085\n",
       "\\item -0.720636441231524\n",
       "\\item 1.36773420645149\n",
       "\\item 0.264007332160512\n",
       "\\item 0.632186807367191\n",
       "\\item -1.33065098578719\n",
       "\\item 0.0268888182209596\n",
       "\\item 1.0406363207788\n",
       "\\item 1.31202379854711\n",
       "\\item -0.0300020766733214\n",
       "\\item -0.250025712488174\n",
       "\\item 0.0234144856913592\n",
       "\\item 1.65987065574227\n",
       "\\end{enumerate*}\n"
      ],
      "text/markdown": [
       "1. -1.14397631447974\n",
       "2. 1.34212936561501\n",
       "3. 2.18539047574276\n",
       "4. 0.536392517923731\n",
       "5. 0.0631929664685468\n",
       "6. 0.502234482468979\n",
       "7. -0.000416724686432643\n",
       "8. 0.565819840539162\n",
       "9. -0.572522688962623\n",
       "10. -1.11022500727696\n",
       "11. -0.0486871233624514\n",
       "12. -0.695656217619366\n",
       "13. 0.828917480303335\n",
       "14. 0.206652855081802\n",
       "15. -0.235674509102427\n",
       "16. -0.556310491381104\n",
       "17. -0.364754357080585\n",
       "18. 0.862355034263622\n",
       "19. -0.63077153536771\n",
       "20. 0.313602125215739\n",
       "21. -0.931495317661393\n",
       "22. 0.823867618473952\n",
       "23. 0.523370702077482\n",
       "24. 0.706921411979056\n",
       "25. 0.420204325601679\n",
       "26. -0.269052154682033\n",
       "27. -1.51031729990999\n",
       "28. -0.69021247657504\n",
       "29. -0.143471952443572\n",
       "30. -1.0135274099044\n",
       "31. 1.57327373614751\n",
       "32. 0.0127465054882014\n",
       "33. 0.872647049887217\n",
       "34. 0.422066190530336\n",
       "35. -0.0188157916578866\n",
       "36. 2.61574896890584\n",
       "37. -0.693140174826871\n",
       "38. -0.266321780991085\n",
       "39. -0.720636441231524\n",
       "40. 1.36773420645149\n",
       "41. 0.264007332160512\n",
       "42. 0.632186807367191\n",
       "43. -1.33065098578719\n",
       "44. 0.0268888182209596\n",
       "45. 1.0406363207788\n",
       "46. 1.31202379854711\n",
       "47. -0.0300020766733214\n",
       "48. -0.250025712488174\n",
       "49. 0.0234144856913592\n",
       "50. 1.65987065574227\n",
       "\n",
       "\n"
      ],
      "text/plain": [
       " [1] -1.1439763145  1.3421293656  2.1853904757  0.5363925179  0.0631929665\n",
       " [6]  0.5022344825 -0.0004167247  0.5658198405 -0.5725226890 -1.1102250073\n",
       "[11] -0.0486871234 -0.6956562176  0.8289174803  0.2066528551 -0.2356745091\n",
       "[16] -0.5563104914 -0.3647543571  0.8623550343 -0.6307715354  0.3136021252\n",
       "[21] -0.9314953177  0.8238676185  0.5233707021  0.7069214120  0.4202043256\n",
       "[26] -0.2690521547 -1.5103172999 -0.6902124766 -0.1434719524 -1.0135274099\n",
       "[31]  1.5732737361  0.0127465055  0.8726470499  0.4220661905 -0.0188157917\n",
       "[36]  2.6157489689 -0.6931401748 -0.2663217810 -0.7206364412  1.3677342065\n",
       "[41]  0.2640073322  0.6321868074 -1.3306509858  0.0268888182  1.0406363208\n",
       "[46]  1.3120237985 -0.0300020767 -0.2500257125  0.0234144857  1.6598706557"
      ]
     },
     "metadata": {},
     "output_type": "display_data"
    }
   ],
   "source": [
    "set.seed(1303)\n",
    "rnorm(50)"
   ]
  },
  {
   "cell_type": "code",
   "execution_count": 17,
   "id": "d06c58fb",
   "metadata": {
    "vscode": {
     "languageId": "r"
    }
   },
   "outputs": [
    {
     "data": {
      "text/html": [
       "-0.0639219404513384"
      ],
      "text/latex": [
       "-0.0639219404513384"
      ],
      "text/markdown": [
       "-0.0639219404513384"
      ],
      "text/plain": [
       "[1] -0.06392194"
      ]
     },
     "metadata": {},
     "output_type": "display_data"
    }
   ],
   "source": [
    "set.seed(3)\n",
    "y <- rnorm(50)\n",
    "mean(y)"
   ]
  },
  {
   "cell_type": "code",
   "execution_count": 18,
   "id": "4fdff497",
   "metadata": {
    "vscode": {
     "languageId": "r"
    }
   },
   "outputs": [
    {
     "data": {
      "text/html": [
       "0.791745723462576"
      ],
      "text/latex": [
       "0.791745723462576"
      ],
      "text/markdown": [
       "0.791745723462576"
      ],
      "text/plain": [
       "[1] 0.7917457"
      ]
     },
     "metadata": {},
     "output_type": "display_data"
    }
   ],
   "source": [
    "var(y)"
   ]
  },
  {
   "cell_type": "code",
   "execution_count": 19,
   "id": "3516dfd1",
   "metadata": {
    "vscode": {
     "languageId": "r"
    }
   },
   "outputs": [
    {
     "data": {
      "text/html": [
       "0.889800945977569"
      ],
      "text/latex": [
       "0.889800945977569"
      ],
      "text/markdown": [
       "0.889800945977569"
      ],
      "text/plain": [
       "[1] 0.8898009"
      ]
     },
     "metadata": {},
     "output_type": "display_data"
    }
   ],
   "source": [
    "sqrt(var(y))"
   ]
  },
  {
   "cell_type": "code",
   "execution_count": 20,
   "id": "16ae5ca1",
   "metadata": {
    "vscode": {
     "languageId": "r"
    }
   },
   "outputs": [
    {
     "data": {
      "text/html": [
       "0.889800945977569"
      ],
      "text/latex": [
       "0.889800945977569"
      ],
      "text/markdown": [
       "0.889800945977569"
      ],
      "text/plain": [
       "[1] 0.8898009"
      ]
     },
     "metadata": {},
     "output_type": "display_data"
    }
   ],
   "source": [
    "sd(y)"
   ]
  },
  {
   "cell_type": "code",
   "execution_count": 21,
   "id": "b7fdbe99",
   "metadata": {
    "vscode": {
     "languageId": "r"
    }
   },
   "outputs": [
    {
     "data": {
      "text/html": [
       "<style>\n",
       ".list-inline {list-style: none; margin:0; padding: 0}\n",
       ".list-inline>li {display: inline-block}\n",
       ".list-inline>li:not(:last-child)::after {content: \"\\00b7\"; padding: 0 .5ex}\n",
       "</style>\n",
       "<ol class=list-inline><li>'x'</li><li>'y'</li></ol>\n"
      ],
      "text/latex": [
       "\\begin{enumerate*}\n",
       "\\item 'x'\n",
       "\\item 'y'\n",
       "\\end{enumerate*}\n"
      ],
      "text/markdown": [
       "1. 'x'\n",
       "2. 'y'\n",
       "\n",
       "\n"
      ],
      "text/plain": [
       "[1] \"x\" \"y\""
      ]
     },
     "metadata": {},
     "output_type": "display_data"
    }
   ],
   "source": [
    "ls()"
   ]
  },
  {
   "cell_type": "code",
   "execution_count": 22,
   "id": "9028195d",
   "metadata": {
    "vscode": {
     "languageId": "r"
    }
   },
   "outputs": [
    {
     "data": {
      "image/png": "[encoded data removed]",
      "text/plain": [
       "plot without title"
      ]
     },
     "metadata": {
      "image/png": {
       "height": 420,
       "width": 420
      }
     },
     "output_type": "display_data"
    }
   ],
   "source": [
    "plot(x, y)"
   ]
  },
  {
   "cell_type": "code",
   "execution_count": 23,
   "id": "62373cdc",
   "metadata": {
    "vscode": {
     "languageId": "r"
    }
   },
   "outputs": [
    {
     "data": {
      "image/png": "[encoded data removed]",
      "text/plain": [
       "plot without title"
      ]
     },
     "metadata": {
      "image/png": {
       "height": 420,
       "width": 420
      }
     },
     "output_type": "display_data"
    }
   ],
   "source": [
    "x <- rnorm(100)\n",
    "y <- rnorm(100)\n",
    "plot(x,y)"
   ]
  },
  {
   "cell_type": "code",
   "execution_count": 24,
   "id": "016ee624",
   "metadata": {
    "vscode": {
     "languageId": "r"
    }
   },
   "outputs": [
    {
     "data": {
      "image/png": "[encoded data removed]",
      "text/plain": [
       "Plot with title \"Tutorial\""
      ]
     },
     "metadata": {
      "image/png": {
       "height": 420,
       "width": 420
      }
     },
     "output_type": "display_data"
    }
   ],
   "source": [
    "plot(x, y, xlab = \"Lab1\", ylab = \"Lab2\", main = \"Tutorial\")"
   ]
  },
  {
   "cell_type": "code",
   "execution_count": 25,
   "id": "26f20734",
   "metadata": {
    "vscode": {
     "languageId": "r"
    }
   },
   "outputs": [
    {
     "data": {
      "text/html": [
       "<style>\n",
       ".list-inline {list-style: none; margin:0; padding: 0}\n",
       ".list-inline>li {display: inline-block}\n",
       ".list-inline>li:not(:last-child)::after {content: \"\\00b7\"; padding: 0 .5ex}\n",
       "</style>\n",
       "<ol class=list-inline><li>1</li><li>2</li><li>3</li><li>4</li><li>5</li><li>6</li><li>7</li><li>8</li><li>9</li><li>10</li></ol>\n"
      ],
      "text/latex": [
       "\\begin{enumerate*}\n",
       "\\item 1\n",
       "\\item 2\n",
       "\\item 3\n",
       "\\item 4\n",
       "\\item 5\n",
       "\\item 6\n",
       "\\item 7\n",
       "\\item 8\n",
       "\\item 9\n",
       "\\item 10\n",
       "\\end{enumerate*}\n"
      ],
      "text/markdown": [
       "1. 1\n",
       "2. 2\n",
       "3. 3\n",
       "4. 4\n",
       "5. 5\n",
       "6. 6\n",
       "7. 7\n",
       "8. 8\n",
       "9. 9\n",
       "10. 10\n",
       "\n",
       "\n"
      ],
      "text/plain": [
       " [1]  1  2  3  4  5  6  7  8  9 10"
      ]
     },
     "metadata": {},
     "output_type": "display_data"
    }
   ],
   "source": [
    "a <- seq(1, 10)\n",
    "a"
   ]
  },
  {
   "cell_type": "code",
   "execution_count": 26,
   "id": "3b2d3822",
   "metadata": {
    "vscode": {
     "languageId": "r"
    }
   },
   "outputs": [],
   "source": [
    "x <- seq(-pi, pi, length = 50)"
   ]
  },
  {
   "cell_type": "code",
   "execution_count": 27,
   "id": "ac22818e",
   "metadata": {
    "vscode": {
     "languageId": "r"
    }
   },
   "outputs": [
    {
     "data": {
      "image/png": "[encoded data removed]",
      "text/plain": [
       "plot without title"
      ]
     },
     "metadata": {
      "image/png": {
       "height": 420,
       "width": 420
      }
     },
     "output_type": "display_data"
    }
   ],
   "source": [
    "y <- x\n",
    "f <- outer(x, y, function(x, y) cos(y) / (1 + x^2))\n",
    "contour(x, y, f)\n",
    "contour(x, y, f, nlevels = 45, add = TRUE)\n"
   ]
  },
  {
   "cell_type": "code",
   "execution_count": 28,
   "id": "f7a50038",
   "metadata": {
    "vscode": {
     "languageId": "r"
    }
   },
   "outputs": [
    {
     "data": {
      "image/png": "[encoded data removed]",
      "text/plain": [
       "plot without title"
      ]
     },
     "metadata": {
      "image/png": {
       "height": 420,
       "width": 420
      }
     },
     "output_type": "display_data"
    }
   ],
   "source": [
    "fa <- (f - t(f)) / 2\n",
    "contour(x, y, fa, nlevels = 15)"
   ]
  },
  {
   "cell_type": "code",
   "execution_count": 29,
   "id": "d60882c0",
   "metadata": {
    "vscode": {
     "languageId": "r"
    }
   },
   "outputs": [
    {
     "data": {
      "image/png": "[encoded data removed]",
      "text/plain": [
       "plot without title"
      ]
     },
     "metadata": {
      "image/png": {
       "height": 420,
       "width": 420
      }
     },
     "output_type": "display_data"
    }
   ],
   "source": [
    "image(x, y, fa)"
   ]
  },
  {
   "cell_type": "code",
   "execution_count": 30,
   "id": "4589a9b9",
   "metadata": {
    "vscode": {
     "languageId": "r"
    }
   },
   "outputs": [
    {
     "data": {
      "image/png": "[encoded data removed]",
      "text/plain": [
       "plot without title"
      ]
     },
     "metadata": {
      "image/png": {
       "height": 420,
       "width": 420
      }
     },
     "output_type": "display_data"
    }
   ],
   "source": [
    "persp(x, y, fa)"
   ]
  },
  {
   "cell_type": "code",
   "execution_count": 31,
   "id": "add232f1",
   "metadata": {
    "vscode": {
     "languageId": "r"
    }
   },
   "outputs": [
    {
     "data": {
      "image/png": "[encoded data removed]",
      "text/plain": [
       "plot without title"
      ]
     },
     "metadata": {
      "image/png": {
       "height": 420,
       "width": 420
      }
     },
     "output_type": "display_data"
    }
   ],
   "source": [
    "persp(x, y, fa, theta = 30, phi = 20)"
   ]
  },
  {
   "cell_type": "code",
   "execution_count": 32,
   "id": "115ad7b9",
   "metadata": {
    "vscode": {
     "languageId": "r"
    }
   },
   "outputs": [
    {
     "data": {
      "image/png": "[encoded data removed]",
      "text/plain": [
       "plot without title"
      ]
     },
     "metadata": {
      "image/png": {
       "height": 420,
       "width": 420
      }
     },
     "output_type": "display_data"
    }
   ],
   "source": [
    "persp(x, y, fa, theta = 30, phi = 70)"
   ]
  },
  {
   "cell_type": "code",
   "execution_count": 33,
   "id": "ec4fc419",
   "metadata": {
    "vscode": {
     "languageId": "r"
    }
   },
   "outputs": [
    {
     "data": {
      "image/png": "[encoded data removed]",
      "text/plain": [
       "plot without title"
      ]
     },
     "metadata": {
      "image/png": {
       "height": 420,
       "width": 420
      }
     },
     "output_type": "display_data"
    }
   ],
   "source": [
    "persp(x, y, fa, theta = 30, phi = 40)"
   ]
  },
  {
   "cell_type": "code",
   "execution_count": 34,
   "id": "79042d86",
   "metadata": {
    "vscode": {
     "languageId": "r"
    }
   },
   "outputs": [],
   "source": [
    "A <- matrix(1:16, 4, 4)"
   ]
  },
  {
   "cell_type": "code",
   "execution_count": 35,
   "id": "0005f907",
   "metadata": {
    "vscode": {
     "languageId": "r"
    }
   },
   "outputs": [
    {
     "data": {
      "text/html": [
       "<table class=\"dataframe\">\n",
       "<caption>A matrix: 4 × 4 of type int</caption>\n",
       "<tbody>\n",
       "\t<tr><td>1</td><td>5</td><td> 9</td><td>13</td></tr>\n",
       "\t<tr><td>2</td><td>6</td><td>10</td><td>14</td></tr>\n",
       "\t<tr><td>3</td><td>7</td><td>11</td><td>15</td></tr>\n",
       "\t<tr><td>4</td><td>8</td><td>12</td><td>16</td></tr>\n",
       "</tbody>\n",
       "</table>\n"
      ],
      "text/latex": [
       "A matrix: 4 × 4 of type int\n",
       "\\begin{tabular}{llll}\n",
       "\t 1 & 5 &  9 & 13\\\\\n",
       "\t 2 & 6 & 10 & 14\\\\\n",
       "\t 3 & 7 & 11 & 15\\\\\n",
       "\t 4 & 8 & 12 & 16\\\\\n",
       "\\end{tabular}\n"
      ],
      "text/markdown": [
       "\n",
       "A matrix: 4 × 4 of type int\n",
       "\n",
       "| 1 | 5 |  9 | 13 |\n",
       "| 2 | 6 | 10 | 14 |\n",
       "| 3 | 7 | 11 | 15 |\n",
       "| 4 | 8 | 12 | 16 |\n",
       "\n"
      ],
      "text/plain": [
       "     [,1] [,2] [,3] [,4]\n",
       "[1,] 1    5     9   13  \n",
       "[2,] 2    6    10   14  \n",
       "[3,] 3    7    11   15  \n",
       "[4,] 4    8    12   16  "
      ]
     },
     "metadata": {},
     "output_type": "display_data"
    }
   ],
   "source": [
    "A"
   ]
  },
  {
   "cell_type": "code",
   "execution_count": 36,
   "id": "91e11708",
   "metadata": {
    "vscode": {
     "languageId": "r"
    }
   },
   "outputs": [
    {
     "data": {
      "text/html": [
       "10"
      ],
      "text/latex": [
       "10"
      ],
      "text/markdown": [
       "10"
      ],
      "text/plain": [
       "[1] 10"
      ]
     },
     "metadata": {},
     "output_type": "display_data"
    }
   ],
   "source": [
    "A[2, 3]"
   ]
  },
  {
   "cell_type": "code",
   "execution_count": 39,
   "id": "c9e82f6b",
   "metadata": {
    "vscode": {
     "languageId": "r"
    }
   },
   "outputs": [
    {
     "data": {
      "text/html": [
       "<table class=\"dataframe\">\n",
       "<caption>A matrix: 2 × 2 of type int</caption>\n",
       "<tbody>\n",
       "\t<tr><td>5</td><td>13</td></tr>\n",
       "\t<tr><td>7</td><td>15</td></tr>\n",
       "</tbody>\n",
       "</table>\n"
      ],
      "text/latex": [
       "A matrix: 2 × 2 of type int\n",
       "\\begin{tabular}{ll}\n",
       "\t 5 & 13\\\\\n",
       "\t 7 & 15\\\\\n",
       "\\end{tabular}\n"
      ],
      "text/markdown": [
       "\n",
       "A matrix: 2 × 2 of type int\n",
       "\n",
       "| 5 | 13 |\n",
       "| 7 | 15 |\n",
       "\n"
      ],
      "text/plain": [
       "     [,1] [,2]\n",
       "[1,] 5    13  \n",
       "[2,] 7    15  "
      ]
     },
     "metadata": {},
     "output_type": "display_data"
    }
   ],
   "source": [
    "A[c(1, 3), c(2, 4)]"
   ]
  },
  {
   "cell_type": "code",
   "execution_count": 43,
   "id": "bbb941db",
   "metadata": {
    "vscode": {
     "languageId": "r"
    }
   },
   "outputs": [
    {
     "data": {
      "text/html": [
       "<table class=\"dataframe\">\n",
       "<caption>A matrix: 3 × 3 of type int</caption>\n",
       "<tbody>\n",
       "\t<tr><td>5</td><td> 9</td><td>13</td></tr>\n",
       "\t<tr><td>6</td><td>10</td><td>14</td></tr>\n",
       "\t<tr><td>7</td><td>11</td><td>15</td></tr>\n",
       "</tbody>\n",
       "</table>\n"
      ],
      "text/latex": [
       "A matrix: 3 × 3 of type int\n",
       "\\begin{tabular}{lll}\n",
       "\t 5 &  9 & 13\\\\\n",
       "\t 6 & 10 & 14\\\\\n",
       "\t 7 & 11 & 15\\\\\n",
       "\\end{tabular}\n"
      ],
      "text/markdown": [
       "\n",
       "A matrix: 3 × 3 of type int\n",
       "\n",
       "| 5 |  9 | 13 |\n",
       "| 6 | 10 | 14 |\n",
       "| 7 | 11 | 15 |\n",
       "\n"
      ],
      "text/plain": [
       "     [,1] [,2] [,3]\n",
       "[1,] 5     9   13  \n",
       "[2,] 6    10   14  \n",
       "[3,] 7    11   15  "
      ]
     },
     "metadata": {},
     "output_type": "display_data"
    }
   ],
   "source": [
    "A[1:3, 2:4]"
   ]
  },
  {
   "cell_type": "code",
   "execution_count": 44,
   "id": "024ce6fc",
   "metadata": {
    "vscode": {
     "languageId": "r"
    }
   },
   "outputs": [
    {
     "data": {
      "text/html": [
       "<style>\n",
       ".list-inline {list-style: none; margin:0; padding: 0}\n",
       ".list-inline>li {display: inline-block}\n",
       ".list-inline>li:not(:last-child)::after {content: \"\\00b7\"; padding: 0 .5ex}\n",
       "</style>\n",
       "<ol class=list-inline><li>4</li><li>4</li></ol>\n"
      ],
      "text/latex": [
       "\\begin{enumerate*}\n",
       "\\item 4\n",
       "\\item 4\n",
       "\\end{enumerate*}\n"
      ],
      "text/markdown": [
       "1. 4\n",
       "2. 4\n",
       "\n",
       "\n"
      ],
      "text/plain": [
       "[1] 4 4"
      ]
     },
     "metadata": {},
     "output_type": "display_data"
    }
   ],
   "source": [
    "dim(A)"
   ]
  },
  {
   "cell_type": "code",
   "execution_count": 59,
   "id": "1e7fb05d",
   "metadata": {
    "vscode": {
     "languageId": "r"
    }
   },
   "outputs": [],
   "source": [
    "Auto <- read.table(\"D:/python_self/freecodecamp/ISL/Resources/data/Auto.data\", header = T, na.strings = \"?\", stringsAsFactors = T)\n"
   ]
  },
  {
   "cell_type": "code",
   "execution_count": 60,
   "id": "dfde28ea",
   "metadata": {
    "vscode": {
     "languageId": "r"
    }
   },
   "outputs": [
    {
     "data": {
      "text/html": [
       "<table class=\"dataframe\">\n",
       "<caption>A data.frame: 397 × 9</caption>\n",
       "<thead>\n",
       "\t<tr><th scope=col>mpg</th><th scope=col>cylinders</th><th scope=col>displacement</th><th scope=col>horsepower</th><th scope=col>weight</th><th scope=col>acceleration</th><th scope=col>year</th><th scope=col>origin</th><th scope=col>name</th></tr>\n",
       "\t<tr><th scope=col>&lt;dbl&gt;</th><th scope=col>&lt;int&gt;</th><th scope=col>&lt;dbl&gt;</th><th scope=col>&lt;dbl&gt;</th><th scope=col>&lt;dbl&gt;</th><th scope=col>&lt;dbl&gt;</th><th scope=col>&lt;int&gt;</th><th scope=col>&lt;int&gt;</th><th scope=col>&lt;fct&gt;</th></tr>\n",
       "</thead>\n",
       "<tbody>\n",
       "\t<tr><td>18</td><td>8</td><td>307</td><td>130</td><td>3504</td><td>12.0</td><td>70</td><td>1</td><td>chevrolet chevelle malibu   </td></tr>\n",
       "\t<tr><td>15</td><td>8</td><td>350</td><td>165</td><td>3693</td><td>11.5</td><td>70</td><td>1</td><td>buick skylark 320           </td></tr>\n",
       "\t<tr><td>18</td><td>8</td><td>318</td><td>150</td><td>3436</td><td>11.0</td><td>70</td><td>1</td><td>plymouth satellite          </td></tr>\n",
       "\t<tr><td>16</td><td>8</td><td>304</td><td>150</td><td>3433</td><td>12.0</td><td>70</td><td>1</td><td>amc rebel sst               </td></tr>\n",
       "\t<tr><td>17</td><td>8</td><td>302</td><td>140</td><td>3449</td><td>10.5</td><td>70</td><td>1</td><td>ford torino                 </td></tr>\n",
       "\t<tr><td>15</td><td>8</td><td>429</td><td>198</td><td>4341</td><td>10.0</td><td>70</td><td>1</td><td>ford galaxie 500            </td></tr>\n",
       "\t<tr><td>14</td><td>8</td><td>454</td><td>220</td><td>4354</td><td> 9.0</td><td>70</td><td>1</td><td>chevrolet impala            </td></tr>\n",
       "\t<tr><td>14</td><td>8</td><td>440</td><td>215</td><td>4312</td><td> 8.5</td><td>70</td><td>1</td><td>plymouth fury iii           </td></tr>\n",
       "\t<tr><td>14</td><td>8</td><td>455</td><td>225</td><td>4425</td><td>10.0</td><td>70</td><td>1</td><td>pontiac catalina            </td></tr>\n",
       "\t<tr><td>15</td><td>8</td><td>390</td><td>190</td><td>3850</td><td> 8.5</td><td>70</td><td>1</td><td>amc ambassador dpl          </td></tr>\n",
       "\t<tr><td>15</td><td>8</td><td>383</td><td>170</td><td>3563</td><td>10.0</td><td>70</td><td>1</td><td>dodge challenger se         </td></tr>\n",
       "\t<tr><td>14</td><td>8</td><td>340</td><td>160</td><td>3609</td><td> 8.0</td><td>70</td><td>1</td><td>plymouth 'cuda 340          </td></tr>\n",
       "\t<tr><td>15</td><td>8</td><td>400</td><td>150</td><td>3761</td><td> 9.5</td><td>70</td><td>1</td><td>chevrolet monte carlo       </td></tr>\n",
       "\t<tr><td>14</td><td>8</td><td>455</td><td>225</td><td>3086</td><td>10.0</td><td>70</td><td>1</td><td>buick estate wagon (sw)     </td></tr>\n",
       "\t<tr><td>24</td><td>4</td><td>113</td><td> 95</td><td>2372</td><td>15.0</td><td>70</td><td>3</td><td>toyota corona mark ii       </td></tr>\n",
       "\t<tr><td>22</td><td>6</td><td>198</td><td> 95</td><td>2833</td><td>15.5</td><td>70</td><td>1</td><td>plymouth duster             </td></tr>\n",
       "\t<tr><td>18</td><td>6</td><td>199</td><td> 97</td><td>2774</td><td>15.5</td><td>70</td><td>1</td><td>amc hornet                  </td></tr>\n",
       "\t<tr><td>21</td><td>6</td><td>200</td><td> 85</td><td>2587</td><td>16.0</td><td>70</td><td>1</td><td>ford maverick               </td></tr>\n",
       "\t<tr><td>27</td><td>4</td><td> 97</td><td> 88</td><td>2130</td><td>14.5</td><td>70</td><td>3</td><td>datsun pl510                </td></tr>\n",
       "\t<tr><td>26</td><td>4</td><td> 97</td><td> 46</td><td>1835</td><td>20.5</td><td>70</td><td>2</td><td>volkswagen 1131 deluxe sedan</td></tr>\n",
       "\t<tr><td>25</td><td>4</td><td>110</td><td> 87</td><td>2672</td><td>17.5</td><td>70</td><td>2</td><td>peugeot 504                 </td></tr>\n",
       "\t<tr><td>24</td><td>4</td><td>107</td><td> 90</td><td>2430</td><td>14.5</td><td>70</td><td>2</td><td>audi 100 ls                 </td></tr>\n",
       "\t<tr><td>25</td><td>4</td><td>104</td><td> 95</td><td>2375</td><td>17.5</td><td>70</td><td>2</td><td>saab 99e                    </td></tr>\n",
       "\t<tr><td>26</td><td>4</td><td>121</td><td>113</td><td>2234</td><td>12.5</td><td>70</td><td>2</td><td>bmw 2002                    </td></tr>\n",
       "\t<tr><td>21</td><td>6</td><td>199</td><td> 90</td><td>2648</td><td>15.0</td><td>70</td><td>1</td><td>amc gremlin                 </td></tr>\n",
       "\t<tr><td>10</td><td>8</td><td>360</td><td>215</td><td>4615</td><td>14.0</td><td>70</td><td>1</td><td>ford f250                   </td></tr>\n",
       "\t<tr><td>10</td><td>8</td><td>307</td><td>200</td><td>4376</td><td>15.0</td><td>70</td><td>1</td><td>chevy c20                   </td></tr>\n",
       "\t<tr><td>11</td><td>8</td><td>318</td><td>210</td><td>4382</td><td>13.5</td><td>70</td><td>1</td><td>dodge d200                  </td></tr>\n",
       "\t<tr><td> 9</td><td>8</td><td>304</td><td>193</td><td>4732</td><td>18.5</td><td>70</td><td>1</td><td>hi 1200d                    </td></tr>\n",
       "\t<tr><td>27</td><td>4</td><td> 97</td><td> 88</td><td>2130</td><td>14.5</td><td>71</td><td>3</td><td>datsun pl510                </td></tr>\n",
       "\t<tr><td>⋮</td><td>⋮</td><td>⋮</td><td>⋮</td><td>⋮</td><td>⋮</td><td>⋮</td><td>⋮</td><td>⋮</td></tr>\n",
       "\t<tr><td>28</td><td>4</td><td>112</td><td> 88</td><td>2605</td><td>19.6</td><td>82</td><td>1</td><td>chevrolet cavalier               </td></tr>\n",
       "\t<tr><td>27</td><td>4</td><td>112</td><td> 88</td><td>2640</td><td>18.6</td><td>82</td><td>1</td><td>chevrolet cavalier wagon         </td></tr>\n",
       "\t<tr><td>34</td><td>4</td><td>112</td><td> 88</td><td>2395</td><td>18.0</td><td>82</td><td>1</td><td>chevrolet cavalier 2-door        </td></tr>\n",
       "\t<tr><td>31</td><td>4</td><td>112</td><td> 85</td><td>2575</td><td>16.2</td><td>82</td><td>1</td><td>pontiac j2000 se hatchback       </td></tr>\n",
       "\t<tr><td>29</td><td>4</td><td>135</td><td> 84</td><td>2525</td><td>16.0</td><td>82</td><td>1</td><td>dodge aries se                   </td></tr>\n",
       "\t<tr><td>27</td><td>4</td><td>151</td><td> 90</td><td>2735</td><td>18.0</td><td>82</td><td>1</td><td>pontiac phoenix                  </td></tr>\n",
       "\t<tr><td>24</td><td>4</td><td>140</td><td> 92</td><td>2865</td><td>16.4</td><td>82</td><td>1</td><td>ford fairmont futura             </td></tr>\n",
       "\t<tr><td>36</td><td>4</td><td>105</td><td> 74</td><td>1980</td><td>15.3</td><td>82</td><td>2</td><td>volkswagen rabbit l              </td></tr>\n",
       "\t<tr><td>37</td><td>4</td><td> 91</td><td> 68</td><td>2025</td><td>18.2</td><td>82</td><td>3</td><td>mazda glc custom l               </td></tr>\n",
       "\t<tr><td>31</td><td>4</td><td> 91</td><td> 68</td><td>1970</td><td>17.6</td><td>82</td><td>3</td><td>mazda glc custom                 </td></tr>\n",
       "\t<tr><td>38</td><td>4</td><td>105</td><td> 63</td><td>2125</td><td>14.7</td><td>82</td><td>1</td><td>plymouth horizon miser           </td></tr>\n",
       "\t<tr><td>36</td><td>4</td><td> 98</td><td> 70</td><td>2125</td><td>17.3</td><td>82</td><td>1</td><td>mercury lynx l                   </td></tr>\n",
       "\t<tr><td>36</td><td>4</td><td>120</td><td> 88</td><td>2160</td><td>14.5</td><td>82</td><td>3</td><td>nissan stanza xe                 </td></tr>\n",
       "\t<tr><td>36</td><td>4</td><td>107</td><td> 75</td><td>2205</td><td>14.5</td><td>82</td><td>3</td><td>honda accord                     </td></tr>\n",
       "\t<tr><td>34</td><td>4</td><td>108</td><td> 70</td><td>2245</td><td>16.9</td><td>82</td><td>3</td><td>toyota corolla                   </td></tr>\n",
       "\t<tr><td>38</td><td>4</td><td> 91</td><td> 67</td><td>1965</td><td>15.0</td><td>82</td><td>3</td><td>honda civic                      </td></tr>\n",
       "\t<tr><td>32</td><td>4</td><td> 91</td><td> 67</td><td>1965</td><td>15.7</td><td>82</td><td>3</td><td>honda civic (auto)               </td></tr>\n",
       "\t<tr><td>38</td><td>4</td><td> 91</td><td> 67</td><td>1995</td><td>16.2</td><td>82</td><td>3</td><td>datsun 310 gx                    </td></tr>\n",
       "\t<tr><td>25</td><td>6</td><td>181</td><td>110</td><td>2945</td><td>16.4</td><td>82</td><td>1</td><td>buick century limited            </td></tr>\n",
       "\t<tr><td>38</td><td>6</td><td>262</td><td> 85</td><td>3015</td><td>17.0</td><td>82</td><td>1</td><td>oldsmobile cutlass ciera (diesel)</td></tr>\n",
       "\t<tr><td>26</td><td>4</td><td>156</td><td> 92</td><td>2585</td><td>14.5</td><td>82</td><td>1</td><td>chrysler lebaron medallion       </td></tr>\n",
       "\t<tr><td>22</td><td>6</td><td>232</td><td>112</td><td>2835</td><td>14.7</td><td>82</td><td>1</td><td>ford granada l                   </td></tr>\n",
       "\t<tr><td>32</td><td>4</td><td>144</td><td> 96</td><td>2665</td><td>13.9</td><td>82</td><td>3</td><td>toyota celica gt                 </td></tr>\n",
       "\t<tr><td>36</td><td>4</td><td>135</td><td> 84</td><td>2370</td><td>13.0</td><td>82</td><td>1</td><td>dodge charger 2.2                </td></tr>\n",
       "\t<tr><td>27</td><td>4</td><td>151</td><td> 90</td><td>2950</td><td>17.3</td><td>82</td><td>1</td><td>chevrolet camaro                 </td></tr>\n",
       "\t<tr><td>27</td><td>4</td><td>140</td><td> 86</td><td>2790</td><td>15.6</td><td>82</td><td>1</td><td>ford mustang gl                  </td></tr>\n",
       "\t<tr><td>44</td><td>4</td><td> 97</td><td> 52</td><td>2130</td><td>24.6</td><td>82</td><td>2</td><td>vw pickup                        </td></tr>\n",
       "\t<tr><td>32</td><td>4</td><td>135</td><td> 84</td><td>2295</td><td>11.6</td><td>82</td><td>1</td><td>dodge rampage                    </td></tr>\n",
       "\t<tr><td>28</td><td>4</td><td>120</td><td> 79</td><td>2625</td><td>18.6</td><td>82</td><td>1</td><td>ford ranger                      </td></tr>\n",
       "\t<tr><td>31</td><td>4</td><td>119</td><td> 82</td><td>2720</td><td>19.4</td><td>82</td><td>1</td><td>chevy s-10                       </td></tr>\n",
       "</tbody>\n",
       "</table>\n"
      ],
      "text/latex": [
       "A data.frame: 397 × 9\n",
       "\\begin{tabular}{lllllllll}\n",
       " mpg & cylinders & displacement & horsepower & weight & acceleration & year & origin & name\\\\\n",
       " <dbl> & <int> & <dbl> & <dbl> & <dbl> & <dbl> & <int> & <int> & <fct>\\\\\n",
       "\\hline\n",
       "\t 18 & 8 & 307 & 130 & 3504 & 12.0 & 70 & 1 & chevrolet chevelle malibu   \\\\\n",
       "\t 15 & 8 & 350 & 165 & 3693 & 11.5 & 70 & 1 & buick skylark 320           \\\\\n",
       "\t 18 & 8 & 318 & 150 & 3436 & 11.0 & 70 & 1 & plymouth satellite          \\\\\n",
       "\t 16 & 8 & 304 & 150 & 3433 & 12.0 & 70 & 1 & amc rebel sst               \\\\\n",
       "\t 17 & 8 & 302 & 140 & 3449 & 10.5 & 70 & 1 & ford torino                 \\\\\n",
       "\t 15 & 8 & 429 & 198 & 4341 & 10.0 & 70 & 1 & ford galaxie 500            \\\\\n",
       "\t 14 & 8 & 454 & 220 & 4354 &  9.0 & 70 & 1 & chevrolet impala            \\\\\n",
       "\t 14 & 8 & 440 & 215 & 4312 &  8.5 & 70 & 1 & plymouth fury iii           \\\\\n",
       "\t 14 & 8 & 455 & 225 & 4425 & 10.0 & 70 & 1 & pontiac catalina            \\\\\n",
       "\t 15 & 8 & 390 & 190 & 3850 &  8.5 & 70 & 1 & amc ambassador dpl          \\\\\n",
       "\t 15 & 8 & 383 & 170 & 3563 & 10.0 & 70 & 1 & dodge challenger se         \\\\\n",
       "\t 14 & 8 & 340 & 160 & 3609 &  8.0 & 70 & 1 & plymouth 'cuda 340          \\\\\n",
       "\t 15 & 8 & 400 & 150 & 3761 &  9.5 & 70 & 1 & chevrolet monte carlo       \\\\\n",
       "\t 14 & 8 & 455 & 225 & 3086 & 10.0 & 70 & 1 & buick estate wagon (sw)     \\\\\n",
       "\t 24 & 4 & 113 &  95 & 2372 & 15.0 & 70 & 3 & toyota corona mark ii       \\\\\n",
       "\t 22 & 6 & 198 &  95 & 2833 & 15.5 & 70 & 1 & plymouth duster             \\\\\n",
       "\t 18 & 6 & 199 &  97 & 2774 & 15.5 & 70 & 1 & amc hornet                  \\\\\n",
       "\t 21 & 6 & 200 &  85 & 2587 & 16.0 & 70 & 1 & ford maverick               \\\\\n",
       "\t 27 & 4 &  97 &  88 & 2130 & 14.5 & 70 & 3 & datsun pl510                \\\\\n",
       "\t 26 & 4 &  97 &  46 & 1835 & 20.5 & 70 & 2 & volkswagen 1131 deluxe sedan\\\\\n",
       "\t 25 & 4 & 110 &  87 & 2672 & 17.5 & 70 & 2 & peugeot 504                 \\\\\n",
       "\t 24 & 4 & 107 &  90 & 2430 & 14.5 & 70 & 2 & audi 100 ls                 \\\\\n",
       "\t 25 & 4 & 104 &  95 & 2375 & 17.5 & 70 & 2 & saab 99e                    \\\\\n",
       "\t 26 & 4 & 121 & 113 & 2234 & 12.5 & 70 & 2 & bmw 2002                    \\\\\n",
       "\t 21 & 6 & 199 &  90 & 2648 & 15.0 & 70 & 1 & amc gremlin                 \\\\\n",
       "\t 10 & 8 & 360 & 215 & 4615 & 14.0 & 70 & 1 & ford f250                   \\\\\n",
       "\t 10 & 8 & 307 & 200 & 4376 & 15.0 & 70 & 1 & chevy c20                   \\\\\n",
       "\t 11 & 8 & 318 & 210 & 4382 & 13.5 & 70 & 1 & dodge d200                  \\\\\n",
       "\t  9 & 8 & 304 & 193 & 4732 & 18.5 & 70 & 1 & hi 1200d                    \\\\\n",
       "\t 27 & 4 &  97 &  88 & 2130 & 14.5 & 71 & 3 & datsun pl510                \\\\\n",
       "\t ⋮ & ⋮ & ⋮ & ⋮ & ⋮ & ⋮ & ⋮ & ⋮ & ⋮\\\\\n",
       "\t 28 & 4 & 112 &  88 & 2605 & 19.6 & 82 & 1 & chevrolet cavalier               \\\\\n",
       "\t 27 & 4 & 112 &  88 & 2640 & 18.6 & 82 & 1 & chevrolet cavalier wagon         \\\\\n",
       "\t 34 & 4 & 112 &  88 & 2395 & 18.0 & 82 & 1 & chevrolet cavalier 2-door        \\\\\n",
       "\t 31 & 4 & 112 &  85 & 2575 & 16.2 & 82 & 1 & pontiac j2000 se hatchback       \\\\\n",
       "\t 29 & 4 & 135 &  84 & 2525 & 16.0 & 82 & 1 & dodge aries se                   \\\\\n",
       "\t 27 & 4 & 151 &  90 & 2735 & 18.0 & 82 & 1 & pontiac phoenix                  \\\\\n",
       "\t 24 & 4 & 140 &  92 & 2865 & 16.4 & 82 & 1 & ford fairmont futura             \\\\\n",
       "\t 36 & 4 & 105 &  74 & 1980 & 15.3 & 82 & 2 & volkswagen rabbit l              \\\\\n",
       "\t 37 & 4 &  91 &  68 & 2025 & 18.2 & 82 & 3 & mazda glc custom l               \\\\\n",
       "\t 31 & 4 &  91 &  68 & 1970 & 17.6 & 82 & 3 & mazda glc custom                 \\\\\n",
       "\t 38 & 4 & 105 &  63 & 2125 & 14.7 & 82 & 1 & plymouth horizon miser           \\\\\n",
       "\t 36 & 4 &  98 &  70 & 2125 & 17.3 & 82 & 1 & mercury lynx l                   \\\\\n",
       "\t 36 & 4 & 120 &  88 & 2160 & 14.5 & 82 & 3 & nissan stanza xe                 \\\\\n",
       "\t 36 & 4 & 107 &  75 & 2205 & 14.5 & 82 & 3 & honda accord                     \\\\\n",
       "\t 34 & 4 & 108 &  70 & 2245 & 16.9 & 82 & 3 & toyota corolla                   \\\\\n",
       "\t 38 & 4 &  91 &  67 & 1965 & 15.0 & 82 & 3 & honda civic                      \\\\\n",
       "\t 32 & 4 &  91 &  67 & 1965 & 15.7 & 82 & 3 & honda civic (auto)               \\\\\n",
       "\t 38 & 4 &  91 &  67 & 1995 & 16.2 & 82 & 3 & datsun 310 gx                    \\\\\n",
       "\t 25 & 6 & 181 & 110 & 2945 & 16.4 & 82 & 1 & buick century limited            \\\\\n",
       "\t 38 & 6 & 262 &  85 & 3015 & 17.0 & 82 & 1 & oldsmobile cutlass ciera (diesel)\\\\\n",
       "\t 26 & 4 & 156 &  92 & 2585 & 14.5 & 82 & 1 & chrysler lebaron medallion       \\\\\n",
       "\t 22 & 6 & 232 & 112 & 2835 & 14.7 & 82 & 1 & ford granada l                   \\\\\n",
       "\t 32 & 4 & 144 &  96 & 2665 & 13.9 & 82 & 3 & toyota celica gt                 \\\\\n",
       "\t 36 & 4 & 135 &  84 & 2370 & 13.0 & 82 & 1 & dodge charger 2.2                \\\\\n",
       "\t 27 & 4 & 151 &  90 & 2950 & 17.3 & 82 & 1 & chevrolet camaro                 \\\\\n",
       "\t 27 & 4 & 140 &  86 & 2790 & 15.6 & 82 & 1 & ford mustang gl                  \\\\\n",
       "\t 44 & 4 &  97 &  52 & 2130 & 24.6 & 82 & 2 & vw pickup                        \\\\\n",
       "\t 32 & 4 & 135 &  84 & 2295 & 11.6 & 82 & 1 & dodge rampage                    \\\\\n",
       "\t 28 & 4 & 120 &  79 & 2625 & 18.6 & 82 & 1 & ford ranger                      \\\\\n",
       "\t 31 & 4 & 119 &  82 & 2720 & 19.4 & 82 & 1 & chevy s-10                       \\\\\n",
       "\\end{tabular}\n"
      ],
      "text/markdown": [
       "\n",
       "A data.frame: 397 × 9\n",
       "\n",
       "| mpg &lt;dbl&gt; | cylinders &lt;int&gt; | displacement &lt;dbl&gt; | horsepower &lt;dbl&gt; | weight &lt;dbl&gt; | acceleration &lt;dbl&gt; | year &lt;int&gt; | origin &lt;int&gt; | name &lt;fct&gt; |\n",
       "|---|---|---|---|---|---|---|---|---|\n",
       "| 18 | 8 | 307 | 130 | 3504 | 12.0 | 70 | 1 | chevrolet chevelle malibu    |\n",
       "| 15 | 8 | 350 | 165 | 3693 | 11.5 | 70 | 1 | buick skylark 320            |\n",
       "| 18 | 8 | 318 | 150 | 3436 | 11.0 | 70 | 1 | plymouth satellite           |\n",
       "| 16 | 8 | 304 | 150 | 3433 | 12.0 | 70 | 1 | amc rebel sst                |\n",
       "| 17 | 8 | 302 | 140 | 3449 | 10.5 | 70 | 1 | ford torino                  |\n",
       "| 15 | 8 | 429 | 198 | 4341 | 10.0 | 70 | 1 | ford galaxie 500             |\n",
       "| 14 | 8 | 454 | 220 | 4354 |  9.0 | 70 | 1 | chevrolet impala             |\n",
       "| 14 | 8 | 440 | 215 | 4312 |  8.5 | 70 | 1 | plymouth fury iii            |\n",
       "| 14 | 8 | 455 | 225 | 4425 | 10.0 | 70 | 1 | pontiac catalina             |\n",
       "| 15 | 8 | 390 | 190 | 3850 |  8.5 | 70 | 1 | amc ambassador dpl           |\n",
       "| 15 | 8 | 383 | 170 | 3563 | 10.0 | 70 | 1 | dodge challenger se          |\n",
       "| 14 | 8 | 340 | 160 | 3609 |  8.0 | 70 | 1 | plymouth 'cuda 340           |\n",
       "| 15 | 8 | 400 | 150 | 3761 |  9.5 | 70 | 1 | chevrolet monte carlo        |\n",
       "| 14 | 8 | 455 | 225 | 3086 | 10.0 | 70 | 1 | buick estate wagon (sw)      |\n",
       "| 24 | 4 | 113 |  95 | 2372 | 15.0 | 70 | 3 | toyota corona mark ii        |\n",
       "| 22 | 6 | 198 |  95 | 2833 | 15.5 | 70 | 1 | plymouth duster              |\n",
       "| 18 | 6 | 199 |  97 | 2774 | 15.5 | 70 | 1 | amc hornet                   |\n",
       "| 21 | 6 | 200 |  85 | 2587 | 16.0 | 70 | 1 | ford maverick                |\n",
       "| 27 | 4 |  97 |  88 | 2130 | 14.5 | 70 | 3 | datsun pl510                 |\n",
       "| 26 | 4 |  97 |  46 | 1835 | 20.5 | 70 | 2 | volkswagen 1131 deluxe sedan |\n",
       "| 25 | 4 | 110 |  87 | 2672 | 17.5 | 70 | 2 | peugeot 504                  |\n",
       "| 24 | 4 | 107 |  90 | 2430 | 14.5 | 70 | 2 | audi 100 ls                  |\n",
       "| 25 | 4 | 104 |  95 | 2375 | 17.5 | 70 | 2 | saab 99e                     |\n",
       "| 26 | 4 | 121 | 113 | 2234 | 12.5 | 70 | 2 | bmw 2002                     |\n",
       "| 21 | 6 | 199 |  90 | 2648 | 15.0 | 70 | 1 | amc gremlin                  |\n",
       "| 10 | 8 | 360 | 215 | 4615 | 14.0 | 70 | 1 | ford f250                    |\n",
       "| 10 | 8 | 307 | 200 | 4376 | 15.0 | 70 | 1 | chevy c20                    |\n",
       "| 11 | 8 | 318 | 210 | 4382 | 13.5 | 70 | 1 | dodge d200                   |\n",
       "|  9 | 8 | 304 | 193 | 4732 | 18.5 | 70 | 1 | hi 1200d                     |\n",
       "| 27 | 4 |  97 |  88 | 2130 | 14.5 | 71 | 3 | datsun pl510                 |\n",
       "| ⋮ | ⋮ | ⋮ | ⋮ | ⋮ | ⋮ | ⋮ | ⋮ | ⋮ |\n",
       "| 28 | 4 | 112 |  88 | 2605 | 19.6 | 82 | 1 | chevrolet cavalier                |\n",
       "| 27 | 4 | 112 |  88 | 2640 | 18.6 | 82 | 1 | chevrolet cavalier wagon          |\n",
       "| 34 | 4 | 112 |  88 | 2395 | 18.0 | 82 | 1 | chevrolet cavalier 2-door         |\n",
       "| 31 | 4 | 112 |  85 | 2575 | 16.2 | 82 | 1 | pontiac j2000 se hatchback        |\n",
       "| 29 | 4 | 135 |  84 | 2525 | 16.0 | 82 | 1 | dodge aries se                    |\n",
       "| 27 | 4 | 151 |  90 | 2735 | 18.0 | 82 | 1 | pontiac phoenix                   |\n",
       "| 24 | 4 | 140 |  92 | 2865 | 16.4 | 82 | 1 | ford fairmont futura              |\n",
       "| 36 | 4 | 105 |  74 | 1980 | 15.3 | 82 | 2 | volkswagen rabbit l               |\n",
       "| 37 | 4 |  91 |  68 | 2025 | 18.2 | 82 | 3 | mazda glc custom l                |\n",
       "| 31 | 4 |  91 |  68 | 1970 | 17.6 | 82 | 3 | mazda glc custom                  |\n",
       "| 38 | 4 | 105 |  63 | 2125 | 14.7 | 82 | 1 | plymouth horizon miser            |\n",
       "| 36 | 4 |  98 |  70 | 2125 | 17.3 | 82 | 1 | mercury lynx l                    |\n",
       "| 36 | 4 | 120 |  88 | 2160 | 14.5 | 82 | 3 | nissan stanza xe                  |\n",
       "| 36 | 4 | 107 |  75 | 2205 | 14.5 | 82 | 3 | honda accord                      |\n",
       "| 34 | 4 | 108 |  70 | 2245 | 16.9 | 82 | 3 | toyota corolla                    |\n",
       "| 38 | 4 |  91 |  67 | 1965 | 15.0 | 82 | 3 | honda civic                       |\n",
       "| 32 | 4 |  91 |  67 | 1965 | 15.7 | 82 | 3 | honda civic (auto)                |\n",
       "| 38 | 4 |  91 |  67 | 1995 | 16.2 | 82 | 3 | datsun 310 gx                     |\n",
       "| 25 | 6 | 181 | 110 | 2945 | 16.4 | 82 | 1 | buick century limited             |\n",
       "| 38 | 6 | 262 |  85 | 3015 | 17.0 | 82 | 1 | oldsmobile cutlass ciera (diesel) |\n",
       "| 26 | 4 | 156 |  92 | 2585 | 14.5 | 82 | 1 | chrysler lebaron medallion        |\n",
       "| 22 | 6 | 232 | 112 | 2835 | 14.7 | 82 | 1 | ford granada l                    |\n",
       "| 32 | 4 | 144 |  96 | 2665 | 13.9 | 82 | 3 | toyota celica gt                  |\n",
       "| 36 | 4 | 135 |  84 | 2370 | 13.0 | 82 | 1 | dodge charger 2.2                 |\n",
       "| 27 | 4 | 151 |  90 | 2950 | 17.3 | 82 | 1 | chevrolet camaro                  |\n",
       "| 27 | 4 | 140 |  86 | 2790 | 15.6 | 82 | 1 | ford mustang gl                   |\n",
       "| 44 | 4 |  97 |  52 | 2130 | 24.6 | 82 | 2 | vw pickup                         |\n",
       "| 32 | 4 | 135 |  84 | 2295 | 11.6 | 82 | 1 | dodge rampage                     |\n",
       "| 28 | 4 | 120 |  79 | 2625 | 18.6 | 82 | 1 | ford ranger                       |\n",
       "| 31 | 4 | 119 |  82 | 2720 | 19.4 | 82 | 1 | chevy s-10                        |\n",
       "\n"
      ],
      "text/plain": [
       "    mpg cylinders displacement horsepower weight acceleration year origin\n",
       "1   18  8         307          130        3504   12.0         70   1     \n",
       "2   15  8         350          165        3693   11.5         70   1     \n",
       "3   18  8         318          150        3436   11.0         70   1     \n",
       "4   16  8         304          150        3433   12.0         70   1     \n",
       "5   17  8         302          140        3449   10.5         70   1     \n",
       "6   15  8         429          198        4341   10.0         70   1     \n",
       "7   14  8         454          220        4354    9.0         70   1     \n",
       "8   14  8         440          215        4312    8.5         70   1     \n",
       "9   14  8         455          225        4425   10.0         70   1     \n",
       "10  15  8         390          190        3850    8.5         70   1     \n",
       "11  15  8         383          170        3563   10.0         70   1     \n",
       "12  14  8         340          160        3609    8.0         70   1     \n",
       "13  15  8         400          150        3761    9.5         70   1     \n",
       "14  14  8         455          225        3086   10.0         70   1     \n",
       "15  24  4         113           95        2372   15.0         70   3     \n",
       "16  22  6         198           95        2833   15.5         70   1     \n",
       "17  18  6         199           97        2774   15.5         70   1     \n",
       "18  21  6         200           85        2587   16.0         70   1     \n",
       "19  27  4          97           88        2130   14.5         70   3     \n",
       "20  26  4          97           46        1835   20.5         70   2     \n",
       "21  25  4         110           87        2672   17.5         70   2     \n",
       "22  24  4         107           90        2430   14.5         70   2     \n",
       "23  25  4         104           95        2375   17.5         70   2     \n",
       "24  26  4         121          113        2234   12.5         70   2     \n",
       "25  21  6         199           90        2648   15.0         70   1     \n",
       "26  10  8         360          215        4615   14.0         70   1     \n",
       "27  10  8         307          200        4376   15.0         70   1     \n",
       "28  11  8         318          210        4382   13.5         70   1     \n",
       "29   9  8         304          193        4732   18.5         70   1     \n",
       "30  27  4          97           88        2130   14.5         71   3     \n",
       "⋮   ⋮   ⋮         ⋮            ⋮          ⋮      ⋮            ⋮    ⋮     \n",
       "368 28  4         112           88        2605   19.6         82   1     \n",
       "369 27  4         112           88        2640   18.6         82   1     \n",
       "370 34  4         112           88        2395   18.0         82   1     \n",
       "371 31  4         112           85        2575   16.2         82   1     \n",
       "372 29  4         135           84        2525   16.0         82   1     \n",
       "373 27  4         151           90        2735   18.0         82   1     \n",
       "374 24  4         140           92        2865   16.4         82   1     \n",
       "375 36  4         105           74        1980   15.3         82   2     \n",
       "376 37  4          91           68        2025   18.2         82   3     \n",
       "377 31  4          91           68        1970   17.6         82   3     \n",
       "378 38  4         105           63        2125   14.7         82   1     \n",
       "379 36  4          98           70        2125   17.3         82   1     \n",
       "380 36  4         120           88        2160   14.5         82   3     \n",
       "381 36  4         107           75        2205   14.5         82   3     \n",
       "382 34  4         108           70        2245   16.9         82   3     \n",
       "383 38  4          91           67        1965   15.0         82   3     \n",
       "384 32  4          91           67        1965   15.7         82   3     \n",
       "385 38  4          91           67        1995   16.2         82   3     \n",
       "386 25  6         181          110        2945   16.4         82   1     \n",
       "387 38  6         262           85        3015   17.0         82   1     \n",
       "388 26  4         156           92        2585   14.5         82   1     \n",
       "389 22  6         232          112        2835   14.7         82   1     \n",
       "390 32  4         144           96        2665   13.9         82   3     \n",
       "391 36  4         135           84        2370   13.0         82   1     \n",
       "392 27  4         151           90        2950   17.3         82   1     \n",
       "393 27  4         140           86        2790   15.6         82   1     \n",
       "394 44  4          97           52        2130   24.6         82   2     \n",
       "395 32  4         135           84        2295   11.6         82   1     \n",
       "396 28  4         120           79        2625   18.6         82   1     \n",
       "397 31  4         119           82        2720   19.4         82   1     \n",
       "    name                             \n",
       "1   chevrolet chevelle malibu        \n",
       "2   buick skylark 320                \n",
       "3   plymouth satellite               \n",
       "4   amc rebel sst                    \n",
       "5   ford torino                      \n",
       "6   ford galaxie 500                 \n",
       "7   chevrolet impala                 \n",
       "8   plymouth fury iii                \n",
       "9   pontiac catalina                 \n",
       "10  amc ambassador dpl               \n",
       "11  dodge challenger se              \n",
       "12  plymouth 'cuda 340               \n",
       "13  chevrolet monte carlo            \n",
       "14  buick estate wagon (sw)          \n",
       "15  toyota corona mark ii            \n",
       "16  plymouth duster                  \n",
       "17  amc hornet                       \n",
       "18  ford maverick                    \n",
       "19  datsun pl510                     \n",
       "20  volkswagen 1131 deluxe sedan     \n",
       "21  peugeot 504                      \n",
       "22  audi 100 ls                      \n",
       "23  saab 99e                         \n",
       "24  bmw 2002                         \n",
       "25  amc gremlin                      \n",
       "26  ford f250                        \n",
       "27  chevy c20                        \n",
       "28  dodge d200                       \n",
       "29  hi 1200d                         \n",
       "30  datsun pl510                     \n",
       "⋮   ⋮                                \n",
       "368 chevrolet cavalier               \n",
       "369 chevrolet cavalier wagon         \n",
       "370 chevrolet cavalier 2-door        \n",
       "371 pontiac j2000 se hatchback       \n",
       "372 dodge aries se                   \n",
       "373 pontiac phoenix                  \n",
       "374 ford fairmont futura             \n",
       "375 volkswagen rabbit l              \n",
       "376 mazda glc custom l               \n",
       "377 mazda glc custom                 \n",
       "378 plymouth horizon miser           \n",
       "379 mercury lynx l                   \n",
       "380 nissan stanza xe                 \n",
       "381 honda accord                     \n",
       "382 toyota corolla                   \n",
       "383 honda civic                      \n",
       "384 honda civic (auto)               \n",
       "385 datsun 310 gx                    \n",
       "386 buick century limited            \n",
       "387 oldsmobile cutlass ciera (diesel)\n",
       "388 chrysler lebaron medallion       \n",
       "389 ford granada l                   \n",
       "390 toyota celica gt                 \n",
       "391 dodge charger 2.2                \n",
       "392 chevrolet camaro                 \n",
       "393 ford mustang gl                  \n",
       "394 vw pickup                        \n",
       "395 dodge rampage                    \n",
       "396 ford ranger                      \n",
       "397 chevy s-10                       "
      ]
     },
     "metadata": {},
     "output_type": "display_data"
    }
   ],
   "source": [
    "View(Auto)"
   ]
  },
  {
   "cell_type": "code",
   "execution_count": 58,
   "id": "c9238e1a",
   "metadata": {
    "vscode": {
     "languageId": "r"
    }
   },
   "outputs": [
    {
     "data": {
      "text/html": [
       "<table class=\"dataframe\">\n",
       "<caption>A data.frame: 6 × 9</caption>\n",
       "<thead>\n",
       "\t<tr><th></th><th scope=col>mpg</th><th scope=col>cylinders</th><th scope=col>displacement</th><th scope=col>horsepower</th><th scope=col>weight</th><th scope=col>acceleration</th><th scope=col>year</th><th scope=col>origin</th><th scope=col>name</th></tr>\n",
       "\t<tr><th></th><th scope=col>&lt;dbl&gt;</th><th scope=col>&lt;int&gt;</th><th scope=col>&lt;dbl&gt;</th><th scope=col>&lt;dbl&gt;</th><th scope=col>&lt;dbl&gt;</th><th scope=col>&lt;dbl&gt;</th><th scope=col>&lt;int&gt;</th><th scope=col>&lt;int&gt;</th><th scope=col>&lt;chr&gt;</th></tr>\n",
       "</thead>\n",
       "<tbody>\n",
       "\t<tr><th scope=row>1</th><td>18</td><td>8</td><td>307</td><td>130</td><td>3504</td><td>12.0</td><td>70</td><td>1</td><td>chevrolet chevelle malibu</td></tr>\n",
       "\t<tr><th scope=row>2</th><td>15</td><td>8</td><td>350</td><td>165</td><td>3693</td><td>11.5</td><td>70</td><td>1</td><td>buick skylark 320        </td></tr>\n",
       "\t<tr><th scope=row>3</th><td>18</td><td>8</td><td>318</td><td>150</td><td>3436</td><td>11.0</td><td>70</td><td>1</td><td>plymouth satellite       </td></tr>\n",
       "\t<tr><th scope=row>4</th><td>16</td><td>8</td><td>304</td><td>150</td><td>3433</td><td>12.0</td><td>70</td><td>1</td><td>amc rebel sst            </td></tr>\n",
       "\t<tr><th scope=row>5</th><td>17</td><td>8</td><td>302</td><td>140</td><td>3449</td><td>10.5</td><td>70</td><td>1</td><td>ford torino              </td></tr>\n",
       "\t<tr><th scope=row>6</th><td>15</td><td>8</td><td>429</td><td>198</td><td>4341</td><td>10.0</td><td>70</td><td>1</td><td>ford galaxie 500         </td></tr>\n",
       "</tbody>\n",
       "</table>\n"
      ],
      "text/latex": [
       "A data.frame: 6 × 9\n",
       "\\begin{tabular}{r|lllllllll}\n",
       "  & mpg & cylinders & displacement & horsepower & weight & acceleration & year & origin & name\\\\\n",
       "  & <dbl> & <int> & <dbl> & <dbl> & <dbl> & <dbl> & <int> & <int> & <chr>\\\\\n",
       "\\hline\n",
       "\t1 & 18 & 8 & 307 & 130 & 3504 & 12.0 & 70 & 1 & chevrolet chevelle malibu\\\\\n",
       "\t2 & 15 & 8 & 350 & 165 & 3693 & 11.5 & 70 & 1 & buick skylark 320        \\\\\n",
       "\t3 & 18 & 8 & 318 & 150 & 3436 & 11.0 & 70 & 1 & plymouth satellite       \\\\\n",
       "\t4 & 16 & 8 & 304 & 150 & 3433 & 12.0 & 70 & 1 & amc rebel sst            \\\\\n",
       "\t5 & 17 & 8 & 302 & 140 & 3449 & 10.5 & 70 & 1 & ford torino              \\\\\n",
       "\t6 & 15 & 8 & 429 & 198 & 4341 & 10.0 & 70 & 1 & ford galaxie 500         \\\\\n",
       "\\end{tabular}\n"
      ],
      "text/markdown": [
       "\n",
       "A data.frame: 6 × 9\n",
       "\n",
       "| <!--/--> | mpg &lt;dbl&gt; | cylinders &lt;int&gt; | displacement &lt;dbl&gt; | horsepower &lt;dbl&gt; | weight &lt;dbl&gt; | acceleration &lt;dbl&gt; | year &lt;int&gt; | origin &lt;int&gt; | name &lt;chr&gt; |\n",
       "|---|---|---|---|---|---|---|---|---|---|\n",
       "| 1 | 18 | 8 | 307 | 130 | 3504 | 12.0 | 70 | 1 | chevrolet chevelle malibu |\n",
       "| 2 | 15 | 8 | 350 | 165 | 3693 | 11.5 | 70 | 1 | buick skylark 320         |\n",
       "| 3 | 18 | 8 | 318 | 150 | 3436 | 11.0 | 70 | 1 | plymouth satellite        |\n",
       "| 4 | 16 | 8 | 304 | 150 | 3433 | 12.0 | 70 | 1 | amc rebel sst             |\n",
       "| 5 | 17 | 8 | 302 | 140 | 3449 | 10.5 | 70 | 1 | ford torino               |\n",
       "| 6 | 15 | 8 | 429 | 198 | 4341 | 10.0 | 70 | 1 | ford galaxie 500          |\n",
       "\n"
      ],
      "text/plain": [
       "  mpg cylinders displacement horsepower weight acceleration year origin\n",
       "1 18  8         307          130        3504   12.0         70   1     \n",
       "2 15  8         350          165        3693   11.5         70   1     \n",
       "3 18  8         318          150        3436   11.0         70   1     \n",
       "4 16  8         304          150        3433   12.0         70   1     \n",
       "5 17  8         302          140        3449   10.5         70   1     \n",
       "6 15  8         429          198        4341   10.0         70   1     \n",
       "  name                     \n",
       "1 chevrolet chevelle malibu\n",
       "2 buick skylark 320        \n",
       "3 plymouth satellite       \n",
       "4 amc rebel sst            \n",
       "5 ford torino              \n",
       "6 ford galaxie 500         "
      ]
     },
     "metadata": {},
     "output_type": "display_data"
    }
   ],
   "source": [
    "head(Auto)"
   ]
  },
  {
   "cell_type": "code",
   "execution_count": 64,
   "id": "8d454483",
   "metadata": {
    "vscode": {
     "languageId": "r"
    }
   },
   "outputs": [
    {
     "data": {
      "text/html": [
       "<table class=\"dataframe\">\n",
       "<caption>A data.frame: 392 × 9</caption>\n",
       "<thead>\n",
       "\t<tr><th scope=col>mpg</th><th scope=col>cylinders</th><th scope=col>displacement</th><th scope=col>horsepower</th><th scope=col>weight</th><th scope=col>acceleration</th><th scope=col>year</th><th scope=col>origin</th><th scope=col>name</th></tr>\n",
       "\t<tr><th scope=col>&lt;dbl&gt;</th><th scope=col>&lt;int&gt;</th><th scope=col>&lt;dbl&gt;</th><th scope=col>&lt;int&gt;</th><th scope=col>&lt;int&gt;</th><th scope=col>&lt;dbl&gt;</th><th scope=col>&lt;int&gt;</th><th scope=col>&lt;int&gt;</th><th scope=col>&lt;fct&gt;</th></tr>\n",
       "</thead>\n",
       "<tbody>\n",
       "\t<tr><td>18</td><td>8</td><td>307</td><td>130</td><td>3504</td><td>12.0</td><td>70</td><td>1</td><td>chevrolet chevelle malibu   </td></tr>\n",
       "\t<tr><td>15</td><td>8</td><td>350</td><td>165</td><td>3693</td><td>11.5</td><td>70</td><td>1</td><td>buick skylark 320           </td></tr>\n",
       "\t<tr><td>18</td><td>8</td><td>318</td><td>150</td><td>3436</td><td>11.0</td><td>70</td><td>1</td><td>plymouth satellite          </td></tr>\n",
       "\t<tr><td>16</td><td>8</td><td>304</td><td>150</td><td>3433</td><td>12.0</td><td>70</td><td>1</td><td>amc rebel sst               </td></tr>\n",
       "\t<tr><td>17</td><td>8</td><td>302</td><td>140</td><td>3449</td><td>10.5</td><td>70</td><td>1</td><td>ford torino                 </td></tr>\n",
       "\t<tr><td>15</td><td>8</td><td>429</td><td>198</td><td>4341</td><td>10.0</td><td>70</td><td>1</td><td>ford galaxie 500            </td></tr>\n",
       "\t<tr><td>14</td><td>8</td><td>454</td><td>220</td><td>4354</td><td> 9.0</td><td>70</td><td>1</td><td>chevrolet impala            </td></tr>\n",
       "\t<tr><td>14</td><td>8</td><td>440</td><td>215</td><td>4312</td><td> 8.5</td><td>70</td><td>1</td><td>plymouth fury iii           </td></tr>\n",
       "\t<tr><td>14</td><td>8</td><td>455</td><td>225</td><td>4425</td><td>10.0</td><td>70</td><td>1</td><td>pontiac catalina            </td></tr>\n",
       "\t<tr><td>15</td><td>8</td><td>390</td><td>190</td><td>3850</td><td> 8.5</td><td>70</td><td>1</td><td>amc ambassador dpl          </td></tr>\n",
       "\t<tr><td>15</td><td>8</td><td>383</td><td>170</td><td>3563</td><td>10.0</td><td>70</td><td>1</td><td>dodge challenger se         </td></tr>\n",
       "\t<tr><td>14</td><td>8</td><td>340</td><td>160</td><td>3609</td><td> 8.0</td><td>70</td><td>1</td><td>plymouth 'cuda 340          </td></tr>\n",
       "\t<tr><td>15</td><td>8</td><td>400</td><td>150</td><td>3761</td><td> 9.5</td><td>70</td><td>1</td><td>chevrolet monte carlo       </td></tr>\n",
       "\t<tr><td>14</td><td>8</td><td>455</td><td>225</td><td>3086</td><td>10.0</td><td>70</td><td>1</td><td>buick estate wagon (sw)     </td></tr>\n",
       "\t<tr><td>24</td><td>4</td><td>113</td><td> 95</td><td>2372</td><td>15.0</td><td>70</td><td>3</td><td>toyota corona mark ii       </td></tr>\n",
       "\t<tr><td>22</td><td>6</td><td>198</td><td> 95</td><td>2833</td><td>15.5</td><td>70</td><td>1</td><td>plymouth duster             </td></tr>\n",
       "\t<tr><td>18</td><td>6</td><td>199</td><td> 97</td><td>2774</td><td>15.5</td><td>70</td><td>1</td><td>amc hornet                  </td></tr>\n",
       "\t<tr><td>21</td><td>6</td><td>200</td><td> 85</td><td>2587</td><td>16.0</td><td>70</td><td>1</td><td>ford maverick               </td></tr>\n",
       "\t<tr><td>27</td><td>4</td><td> 97</td><td> 88</td><td>2130</td><td>14.5</td><td>70</td><td>3</td><td>datsun pl510                </td></tr>\n",
       "\t<tr><td>26</td><td>4</td><td> 97</td><td> 46</td><td>1835</td><td>20.5</td><td>70</td><td>2</td><td>volkswagen 1131 deluxe sedan</td></tr>\n",
       "\t<tr><td>25</td><td>4</td><td>110</td><td> 87</td><td>2672</td><td>17.5</td><td>70</td><td>2</td><td>peugeot 504                 </td></tr>\n",
       "\t<tr><td>24</td><td>4</td><td>107</td><td> 90</td><td>2430</td><td>14.5</td><td>70</td><td>2</td><td>audi 100 ls                 </td></tr>\n",
       "\t<tr><td>25</td><td>4</td><td>104</td><td> 95</td><td>2375</td><td>17.5</td><td>70</td><td>2</td><td>saab 99e                    </td></tr>\n",
       "\t<tr><td>26</td><td>4</td><td>121</td><td>113</td><td>2234</td><td>12.5</td><td>70</td><td>2</td><td>bmw 2002                    </td></tr>\n",
       "\t<tr><td>21</td><td>6</td><td>199</td><td> 90</td><td>2648</td><td>15.0</td><td>70</td><td>1</td><td>amc gremlin                 </td></tr>\n",
       "\t<tr><td>10</td><td>8</td><td>360</td><td>215</td><td>4615</td><td>14.0</td><td>70</td><td>1</td><td>ford f250                   </td></tr>\n",
       "\t<tr><td>10</td><td>8</td><td>307</td><td>200</td><td>4376</td><td>15.0</td><td>70</td><td>1</td><td>chevy c20                   </td></tr>\n",
       "\t<tr><td>11</td><td>8</td><td>318</td><td>210</td><td>4382</td><td>13.5</td><td>70</td><td>1</td><td>dodge d200                  </td></tr>\n",
       "\t<tr><td> 9</td><td>8</td><td>304</td><td>193</td><td>4732</td><td>18.5</td><td>70</td><td>1</td><td>hi 1200d                    </td></tr>\n",
       "\t<tr><td>27</td><td>4</td><td> 97</td><td> 88</td><td>2130</td><td>14.5</td><td>71</td><td>3</td><td>datsun pl510                </td></tr>\n",
       "\t<tr><td>⋮</td><td>⋮</td><td>⋮</td><td>⋮</td><td>⋮</td><td>⋮</td><td>⋮</td><td>⋮</td><td>⋮</td></tr>\n",
       "\t<tr><td>28</td><td>4</td><td>112</td><td> 88</td><td>2605</td><td>19.6</td><td>82</td><td>1</td><td>chevrolet cavalier               </td></tr>\n",
       "\t<tr><td>27</td><td>4</td><td>112</td><td> 88</td><td>2640</td><td>18.6</td><td>82</td><td>1</td><td>chevrolet cavalier wagon         </td></tr>\n",
       "\t<tr><td>34</td><td>4</td><td>112</td><td> 88</td><td>2395</td><td>18.0</td><td>82</td><td>1</td><td>chevrolet cavalier 2-door        </td></tr>\n",
       "\t<tr><td>31</td><td>4</td><td>112</td><td> 85</td><td>2575</td><td>16.2</td><td>82</td><td>1</td><td>pontiac j2000 se hatchback       </td></tr>\n",
       "\t<tr><td>29</td><td>4</td><td>135</td><td> 84</td><td>2525</td><td>16.0</td><td>82</td><td>1</td><td>dodge aries se                   </td></tr>\n",
       "\t<tr><td>27</td><td>4</td><td>151</td><td> 90</td><td>2735</td><td>18.0</td><td>82</td><td>1</td><td>pontiac phoenix                  </td></tr>\n",
       "\t<tr><td>24</td><td>4</td><td>140</td><td> 92</td><td>2865</td><td>16.4</td><td>82</td><td>1</td><td>ford fairmont futura             </td></tr>\n",
       "\t<tr><td>36</td><td>4</td><td>105</td><td> 74</td><td>1980</td><td>15.3</td><td>82</td><td>2</td><td>volkswagen rabbit l              </td></tr>\n",
       "\t<tr><td>37</td><td>4</td><td> 91</td><td> 68</td><td>2025</td><td>18.2</td><td>82</td><td>3</td><td>mazda glc custom l               </td></tr>\n",
       "\t<tr><td>31</td><td>4</td><td> 91</td><td> 68</td><td>1970</td><td>17.6</td><td>82</td><td>3</td><td>mazda glc custom                 </td></tr>\n",
       "\t<tr><td>38</td><td>4</td><td>105</td><td> 63</td><td>2125</td><td>14.7</td><td>82</td><td>1</td><td>plymouth horizon miser           </td></tr>\n",
       "\t<tr><td>36</td><td>4</td><td> 98</td><td> 70</td><td>2125</td><td>17.3</td><td>82</td><td>1</td><td>mercury lynx l                   </td></tr>\n",
       "\t<tr><td>36</td><td>4</td><td>120</td><td> 88</td><td>2160</td><td>14.5</td><td>82</td><td>3</td><td>nissan stanza xe                 </td></tr>\n",
       "\t<tr><td>36</td><td>4</td><td>107</td><td> 75</td><td>2205</td><td>14.5</td><td>82</td><td>3</td><td>honda accord                     </td></tr>\n",
       "\t<tr><td>34</td><td>4</td><td>108</td><td> 70</td><td>2245</td><td>16.9</td><td>82</td><td>3</td><td>toyota corolla                   </td></tr>\n",
       "\t<tr><td>38</td><td>4</td><td> 91</td><td> 67</td><td>1965</td><td>15.0</td><td>82</td><td>3</td><td>honda civic                      </td></tr>\n",
       "\t<tr><td>32</td><td>4</td><td> 91</td><td> 67</td><td>1965</td><td>15.7</td><td>82</td><td>3</td><td>honda civic (auto)               </td></tr>\n",
       "\t<tr><td>38</td><td>4</td><td> 91</td><td> 67</td><td>1995</td><td>16.2</td><td>82</td><td>3</td><td>datsun 310 gx                    </td></tr>\n",
       "\t<tr><td>25</td><td>6</td><td>181</td><td>110</td><td>2945</td><td>16.4</td><td>82</td><td>1</td><td>buick century limited            </td></tr>\n",
       "\t<tr><td>38</td><td>6</td><td>262</td><td> 85</td><td>3015</td><td>17.0</td><td>82</td><td>1</td><td>oldsmobile cutlass ciera (diesel)</td></tr>\n",
       "\t<tr><td>26</td><td>4</td><td>156</td><td> 92</td><td>2585</td><td>14.5</td><td>82</td><td>1</td><td>chrysler lebaron medallion       </td></tr>\n",
       "\t<tr><td>22</td><td>6</td><td>232</td><td>112</td><td>2835</td><td>14.7</td><td>82</td><td>1</td><td>ford granada l                   </td></tr>\n",
       "\t<tr><td>32</td><td>4</td><td>144</td><td> 96</td><td>2665</td><td>13.9</td><td>82</td><td>3</td><td>toyota celica gt                 </td></tr>\n",
       "\t<tr><td>36</td><td>4</td><td>135</td><td> 84</td><td>2370</td><td>13.0</td><td>82</td><td>1</td><td>dodge charger 2.2                </td></tr>\n",
       "\t<tr><td>27</td><td>4</td><td>151</td><td> 90</td><td>2950</td><td>17.3</td><td>82</td><td>1</td><td>chevrolet camaro                 </td></tr>\n",
       "\t<tr><td>27</td><td>4</td><td>140</td><td> 86</td><td>2790</td><td>15.6</td><td>82</td><td>1</td><td>ford mustang gl                  </td></tr>\n",
       "\t<tr><td>44</td><td>4</td><td> 97</td><td> 52</td><td>2130</td><td>24.6</td><td>82</td><td>2</td><td>vw pickup                        </td></tr>\n",
       "\t<tr><td>32</td><td>4</td><td>135</td><td> 84</td><td>2295</td><td>11.6</td><td>82</td><td>1</td><td>dodge rampage                    </td></tr>\n",
       "\t<tr><td>28</td><td>4</td><td>120</td><td> 79</td><td>2625</td><td>18.6</td><td>82</td><td>1</td><td>ford ranger                      </td></tr>\n",
       "\t<tr><td>31</td><td>4</td><td>119</td><td> 82</td><td>2720</td><td>19.4</td><td>82</td><td>1</td><td>chevy s-10                       </td></tr>\n",
       "</tbody>\n",
       "</table>\n"
      ],
      "text/latex": [
       "A data.frame: 392 × 9\n",
       "\\begin{tabular}{lllllllll}\n",
       " mpg & cylinders & displacement & horsepower & weight & acceleration & year & origin & name\\\\\n",
       " <dbl> & <int> & <dbl> & <int> & <int> & <dbl> & <int> & <int> & <fct>\\\\\n",
       "\\hline\n",
       "\t 18 & 8 & 307 & 130 & 3504 & 12.0 & 70 & 1 & chevrolet chevelle malibu   \\\\\n",
       "\t 15 & 8 & 350 & 165 & 3693 & 11.5 & 70 & 1 & buick skylark 320           \\\\\n",
       "\t 18 & 8 & 318 & 150 & 3436 & 11.0 & 70 & 1 & plymouth satellite          \\\\\n",
       "\t 16 & 8 & 304 & 150 & 3433 & 12.0 & 70 & 1 & amc rebel sst               \\\\\n",
       "\t 17 & 8 & 302 & 140 & 3449 & 10.5 & 70 & 1 & ford torino                 \\\\\n",
       "\t 15 & 8 & 429 & 198 & 4341 & 10.0 & 70 & 1 & ford galaxie 500            \\\\\n",
       "\t 14 & 8 & 454 & 220 & 4354 &  9.0 & 70 & 1 & chevrolet impala            \\\\\n",
       "\t 14 & 8 & 440 & 215 & 4312 &  8.5 & 70 & 1 & plymouth fury iii           \\\\\n",
       "\t 14 & 8 & 455 & 225 & 4425 & 10.0 & 70 & 1 & pontiac catalina            \\\\\n",
       "\t 15 & 8 & 390 & 190 & 3850 &  8.5 & 70 & 1 & amc ambassador dpl          \\\\\n",
       "\t 15 & 8 & 383 & 170 & 3563 & 10.0 & 70 & 1 & dodge challenger se         \\\\\n",
       "\t 14 & 8 & 340 & 160 & 3609 &  8.0 & 70 & 1 & plymouth 'cuda 340          \\\\\n",
       "\t 15 & 8 & 400 & 150 & 3761 &  9.5 & 70 & 1 & chevrolet monte carlo       \\\\\n",
       "\t 14 & 8 & 455 & 225 & 3086 & 10.0 & 70 & 1 & buick estate wagon (sw)     \\\\\n",
       "\t 24 & 4 & 113 &  95 & 2372 & 15.0 & 70 & 3 & toyota corona mark ii       \\\\\n",
       "\t 22 & 6 & 198 &  95 & 2833 & 15.5 & 70 & 1 & plymouth duster             \\\\\n",
       "\t 18 & 6 & 199 &  97 & 2774 & 15.5 & 70 & 1 & amc hornet                  \\\\\n",
       "\t 21 & 6 & 200 &  85 & 2587 & 16.0 & 70 & 1 & ford maverick               \\\\\n",
       "\t 27 & 4 &  97 &  88 & 2130 & 14.5 & 70 & 3 & datsun pl510                \\\\\n",
       "\t 26 & 4 &  97 &  46 & 1835 & 20.5 & 70 & 2 & volkswagen 1131 deluxe sedan\\\\\n",
       "\t 25 & 4 & 110 &  87 & 2672 & 17.5 & 70 & 2 & peugeot 504                 \\\\\n",
       "\t 24 & 4 & 107 &  90 & 2430 & 14.5 & 70 & 2 & audi 100 ls                 \\\\\n",
       "\t 25 & 4 & 104 &  95 & 2375 & 17.5 & 70 & 2 & saab 99e                    \\\\\n",
       "\t 26 & 4 & 121 & 113 & 2234 & 12.5 & 70 & 2 & bmw 2002                    \\\\\n",
       "\t 21 & 6 & 199 &  90 & 2648 & 15.0 & 70 & 1 & amc gremlin                 \\\\\n",
       "\t 10 & 8 & 360 & 215 & 4615 & 14.0 & 70 & 1 & ford f250                   \\\\\n",
       "\t 10 & 8 & 307 & 200 & 4376 & 15.0 & 70 & 1 & chevy c20                   \\\\\n",
       "\t 11 & 8 & 318 & 210 & 4382 & 13.5 & 70 & 1 & dodge d200                  \\\\\n",
       "\t  9 & 8 & 304 & 193 & 4732 & 18.5 & 70 & 1 & hi 1200d                    \\\\\n",
       "\t 27 & 4 &  97 &  88 & 2130 & 14.5 & 71 & 3 & datsun pl510                \\\\\n",
       "\t ⋮ & ⋮ & ⋮ & ⋮ & ⋮ & ⋮ & ⋮ & ⋮ & ⋮\\\\\n",
       "\t 28 & 4 & 112 &  88 & 2605 & 19.6 & 82 & 1 & chevrolet cavalier               \\\\\n",
       "\t 27 & 4 & 112 &  88 & 2640 & 18.6 & 82 & 1 & chevrolet cavalier wagon         \\\\\n",
       "\t 34 & 4 & 112 &  88 & 2395 & 18.0 & 82 & 1 & chevrolet cavalier 2-door        \\\\\n",
       "\t 31 & 4 & 112 &  85 & 2575 & 16.2 & 82 & 1 & pontiac j2000 se hatchback       \\\\\n",
       "\t 29 & 4 & 135 &  84 & 2525 & 16.0 & 82 & 1 & dodge aries se                   \\\\\n",
       "\t 27 & 4 & 151 &  90 & 2735 & 18.0 & 82 & 1 & pontiac phoenix                  \\\\\n",
       "\t 24 & 4 & 140 &  92 & 2865 & 16.4 & 82 & 1 & ford fairmont futura             \\\\\n",
       "\t 36 & 4 & 105 &  74 & 1980 & 15.3 & 82 & 2 & volkswagen rabbit l              \\\\\n",
       "\t 37 & 4 &  91 &  68 & 2025 & 18.2 & 82 & 3 & mazda glc custom l               \\\\\n",
       "\t 31 & 4 &  91 &  68 & 1970 & 17.6 & 82 & 3 & mazda glc custom                 \\\\\n",
       "\t 38 & 4 & 105 &  63 & 2125 & 14.7 & 82 & 1 & plymouth horizon miser           \\\\\n",
       "\t 36 & 4 &  98 &  70 & 2125 & 17.3 & 82 & 1 & mercury lynx l                   \\\\\n",
       "\t 36 & 4 & 120 &  88 & 2160 & 14.5 & 82 & 3 & nissan stanza xe                 \\\\\n",
       "\t 36 & 4 & 107 &  75 & 2205 & 14.5 & 82 & 3 & honda accord                     \\\\\n",
       "\t 34 & 4 & 108 &  70 & 2245 & 16.9 & 82 & 3 & toyota corolla                   \\\\\n",
       "\t 38 & 4 &  91 &  67 & 1965 & 15.0 & 82 & 3 & honda civic                      \\\\\n",
       "\t 32 & 4 &  91 &  67 & 1965 & 15.7 & 82 & 3 & honda civic (auto)               \\\\\n",
       "\t 38 & 4 &  91 &  67 & 1995 & 16.2 & 82 & 3 & datsun 310 gx                    \\\\\n",
       "\t 25 & 6 & 181 & 110 & 2945 & 16.4 & 82 & 1 & buick century limited            \\\\\n",
       "\t 38 & 6 & 262 &  85 & 3015 & 17.0 & 82 & 1 & oldsmobile cutlass ciera (diesel)\\\\\n",
       "\t 26 & 4 & 156 &  92 & 2585 & 14.5 & 82 & 1 & chrysler lebaron medallion       \\\\\n",
       "\t 22 & 6 & 232 & 112 & 2835 & 14.7 & 82 & 1 & ford granada l                   \\\\\n",
       "\t 32 & 4 & 144 &  96 & 2665 & 13.9 & 82 & 3 & toyota celica gt                 \\\\\n",
       "\t 36 & 4 & 135 &  84 & 2370 & 13.0 & 82 & 1 & dodge charger 2.2                \\\\\n",
       "\t 27 & 4 & 151 &  90 & 2950 & 17.3 & 82 & 1 & chevrolet camaro                 \\\\\n",
       "\t 27 & 4 & 140 &  86 & 2790 & 15.6 & 82 & 1 & ford mustang gl                  \\\\\n",
       "\t 44 & 4 &  97 &  52 & 2130 & 24.6 & 82 & 2 & vw pickup                        \\\\\n",
       "\t 32 & 4 & 135 &  84 & 2295 & 11.6 & 82 & 1 & dodge rampage                    \\\\\n",
       "\t 28 & 4 & 120 &  79 & 2625 & 18.6 & 82 & 1 & ford ranger                      \\\\\n",
       "\t 31 & 4 & 119 &  82 & 2720 & 19.4 & 82 & 1 & chevy s-10                       \\\\\n",
       "\\end{tabular}\n"
      ],
      "text/markdown": [
       "\n",
       "A data.frame: 392 × 9\n",
       "\n",
       "| mpg &lt;dbl&gt; | cylinders &lt;int&gt; | displacement &lt;dbl&gt; | horsepower &lt;int&gt; | weight &lt;int&gt; | acceleration &lt;dbl&gt; | year &lt;int&gt; | origin &lt;int&gt; | name &lt;fct&gt; |\n",
       "|---|---|---|---|---|---|---|---|---|\n",
       "| 18 | 8 | 307 | 130 | 3504 | 12.0 | 70 | 1 | chevrolet chevelle malibu    |\n",
       "| 15 | 8 | 350 | 165 | 3693 | 11.5 | 70 | 1 | buick skylark 320            |\n",
       "| 18 | 8 | 318 | 150 | 3436 | 11.0 | 70 | 1 | plymouth satellite           |\n",
       "| 16 | 8 | 304 | 150 | 3433 | 12.0 | 70 | 1 | amc rebel sst                |\n",
       "| 17 | 8 | 302 | 140 | 3449 | 10.5 | 70 | 1 | ford torino                  |\n",
       "| 15 | 8 | 429 | 198 | 4341 | 10.0 | 70 | 1 | ford galaxie 500             |\n",
       "| 14 | 8 | 454 | 220 | 4354 |  9.0 | 70 | 1 | chevrolet impala             |\n",
       "| 14 | 8 | 440 | 215 | 4312 |  8.5 | 70 | 1 | plymouth fury iii            |\n",
       "| 14 | 8 | 455 | 225 | 4425 | 10.0 | 70 | 1 | pontiac catalina             |\n",
       "| 15 | 8 | 390 | 190 | 3850 |  8.5 | 70 | 1 | amc ambassador dpl           |\n",
       "| 15 | 8 | 383 | 170 | 3563 | 10.0 | 70 | 1 | dodge challenger se          |\n",
       "| 14 | 8 | 340 | 160 | 3609 |  8.0 | 70 | 1 | plymouth 'cuda 340           |\n",
       "| 15 | 8 | 400 | 150 | 3761 |  9.5 | 70 | 1 | chevrolet monte carlo        |\n",
       "| 14 | 8 | 455 | 225 | 3086 | 10.0 | 70 | 1 | buick estate wagon (sw)      |\n",
       "| 24 | 4 | 113 |  95 | 2372 | 15.0 | 70 | 3 | toyota corona mark ii        |\n",
       "| 22 | 6 | 198 |  95 | 2833 | 15.5 | 70 | 1 | plymouth duster              |\n",
       "| 18 | 6 | 199 |  97 | 2774 | 15.5 | 70 | 1 | amc hornet                   |\n",
       "| 21 | 6 | 200 |  85 | 2587 | 16.0 | 70 | 1 | ford maverick                |\n",
       "| 27 | 4 |  97 |  88 | 2130 | 14.5 | 70 | 3 | datsun pl510                 |\n",
       "| 26 | 4 |  97 |  46 | 1835 | 20.5 | 70 | 2 | volkswagen 1131 deluxe sedan |\n",
       "| 25 | 4 | 110 |  87 | 2672 | 17.5 | 70 | 2 | peugeot 504                  |\n",
       "| 24 | 4 | 107 |  90 | 2430 | 14.5 | 70 | 2 | audi 100 ls                  |\n",
       "| 25 | 4 | 104 |  95 | 2375 | 17.5 | 70 | 2 | saab 99e                     |\n",
       "| 26 | 4 | 121 | 113 | 2234 | 12.5 | 70 | 2 | bmw 2002                     |\n",
       "| 21 | 6 | 199 |  90 | 2648 | 15.0 | 70 | 1 | amc gremlin                  |\n",
       "| 10 | 8 | 360 | 215 | 4615 | 14.0 | 70 | 1 | ford f250                    |\n",
       "| 10 | 8 | 307 | 200 | 4376 | 15.0 | 70 | 1 | chevy c20                    |\n",
       "| 11 | 8 | 318 | 210 | 4382 | 13.5 | 70 | 1 | dodge d200                   |\n",
       "|  9 | 8 | 304 | 193 | 4732 | 18.5 | 70 | 1 | hi 1200d                     |\n",
       "| 27 | 4 |  97 |  88 | 2130 | 14.5 | 71 | 3 | datsun pl510                 |\n",
       "| ⋮ | ⋮ | ⋮ | ⋮ | ⋮ | ⋮ | ⋮ | ⋮ | ⋮ |\n",
       "| 28 | 4 | 112 |  88 | 2605 | 19.6 | 82 | 1 | chevrolet cavalier                |\n",
       "| 27 | 4 | 112 |  88 | 2640 | 18.6 | 82 | 1 | chevrolet cavalier wagon          |\n",
       "| 34 | 4 | 112 |  88 | 2395 | 18.0 | 82 | 1 | chevrolet cavalier 2-door         |\n",
       "| 31 | 4 | 112 |  85 | 2575 | 16.2 | 82 | 1 | pontiac j2000 se hatchback        |\n",
       "| 29 | 4 | 135 |  84 | 2525 | 16.0 | 82 | 1 | dodge aries se                    |\n",
       "| 27 | 4 | 151 |  90 | 2735 | 18.0 | 82 | 1 | pontiac phoenix                   |\n",
       "| 24 | 4 | 140 |  92 | 2865 | 16.4 | 82 | 1 | ford fairmont futura              |\n",
       "| 36 | 4 | 105 |  74 | 1980 | 15.3 | 82 | 2 | volkswagen rabbit l               |\n",
       "| 37 | 4 |  91 |  68 | 2025 | 18.2 | 82 | 3 | mazda glc custom l                |\n",
       "| 31 | 4 |  91 |  68 | 1970 | 17.6 | 82 | 3 | mazda glc custom                  |\n",
       "| 38 | 4 | 105 |  63 | 2125 | 14.7 | 82 | 1 | plymouth horizon miser            |\n",
       "| 36 | 4 |  98 |  70 | 2125 | 17.3 | 82 | 1 | mercury lynx l                    |\n",
       "| 36 | 4 | 120 |  88 | 2160 | 14.5 | 82 | 3 | nissan stanza xe                  |\n",
       "| 36 | 4 | 107 |  75 | 2205 | 14.5 | 82 | 3 | honda accord                      |\n",
       "| 34 | 4 | 108 |  70 | 2245 | 16.9 | 82 | 3 | toyota corolla                    |\n",
       "| 38 | 4 |  91 |  67 | 1965 | 15.0 | 82 | 3 | honda civic                       |\n",
       "| 32 | 4 |  91 |  67 | 1965 | 15.7 | 82 | 3 | honda civic (auto)                |\n",
       "| 38 | 4 |  91 |  67 | 1995 | 16.2 | 82 | 3 | datsun 310 gx                     |\n",
       "| 25 | 6 | 181 | 110 | 2945 | 16.4 | 82 | 1 | buick century limited             |\n",
       "| 38 | 6 | 262 |  85 | 3015 | 17.0 | 82 | 1 | oldsmobile cutlass ciera (diesel) |\n",
       "| 26 | 4 | 156 |  92 | 2585 | 14.5 | 82 | 1 | chrysler lebaron medallion        |\n",
       "| 22 | 6 | 232 | 112 | 2835 | 14.7 | 82 | 1 | ford granada l                    |\n",
       "| 32 | 4 | 144 |  96 | 2665 | 13.9 | 82 | 3 | toyota celica gt                  |\n",
       "| 36 | 4 | 135 |  84 | 2370 | 13.0 | 82 | 1 | dodge charger 2.2                 |\n",
       "| 27 | 4 | 151 |  90 | 2950 | 17.3 | 82 | 1 | chevrolet camaro                  |\n",
       "| 27 | 4 | 140 |  86 | 2790 | 15.6 | 82 | 1 | ford mustang gl                   |\n",
       "| 44 | 4 |  97 |  52 | 2130 | 24.6 | 82 | 2 | vw pickup                         |\n",
       "| 32 | 4 | 135 |  84 | 2295 | 11.6 | 82 | 1 | dodge rampage                     |\n",
       "| 28 | 4 | 120 |  79 | 2625 | 18.6 | 82 | 1 | ford ranger                       |\n",
       "| 31 | 4 | 119 |  82 | 2720 | 19.4 | 82 | 1 | chevy s-10                        |\n",
       "\n"
      ],
      "text/plain": [
       "    mpg cylinders displacement horsepower weight acceleration year origin\n",
       "1   18  8         307          130        3504   12.0         70   1     \n",
       "2   15  8         350          165        3693   11.5         70   1     \n",
       "3   18  8         318          150        3436   11.0         70   1     \n",
       "4   16  8         304          150        3433   12.0         70   1     \n",
       "5   17  8         302          140        3449   10.5         70   1     \n",
       "6   15  8         429          198        4341   10.0         70   1     \n",
       "7   14  8         454          220        4354    9.0         70   1     \n",
       "8   14  8         440          215        4312    8.5         70   1     \n",
       "9   14  8         455          225        4425   10.0         70   1     \n",
       "10  15  8         390          190        3850    8.5         70   1     \n",
       "11  15  8         383          170        3563   10.0         70   1     \n",
       "12  14  8         340          160        3609    8.0         70   1     \n",
       "13  15  8         400          150        3761    9.5         70   1     \n",
       "14  14  8         455          225        3086   10.0         70   1     \n",
       "15  24  4         113           95        2372   15.0         70   3     \n",
       "16  22  6         198           95        2833   15.5         70   1     \n",
       "17  18  6         199           97        2774   15.5         70   1     \n",
       "18  21  6         200           85        2587   16.0         70   1     \n",
       "19  27  4          97           88        2130   14.5         70   3     \n",
       "20  26  4          97           46        1835   20.5         70   2     \n",
       "21  25  4         110           87        2672   17.5         70   2     \n",
       "22  24  4         107           90        2430   14.5         70   2     \n",
       "23  25  4         104           95        2375   17.5         70   2     \n",
       "24  26  4         121          113        2234   12.5         70   2     \n",
       "25  21  6         199           90        2648   15.0         70   1     \n",
       "26  10  8         360          215        4615   14.0         70   1     \n",
       "27  10  8         307          200        4376   15.0         70   1     \n",
       "28  11  8         318          210        4382   13.5         70   1     \n",
       "29   9  8         304          193        4732   18.5         70   1     \n",
       "30  27  4          97           88        2130   14.5         71   3     \n",
       "⋮   ⋮   ⋮         ⋮            ⋮          ⋮      ⋮            ⋮    ⋮     \n",
       "363 28  4         112           88        2605   19.6         82   1     \n",
       "364 27  4         112           88        2640   18.6         82   1     \n",
       "365 34  4         112           88        2395   18.0         82   1     \n",
       "366 31  4         112           85        2575   16.2         82   1     \n",
       "367 29  4         135           84        2525   16.0         82   1     \n",
       "368 27  4         151           90        2735   18.0         82   1     \n",
       "369 24  4         140           92        2865   16.4         82   1     \n",
       "370 36  4         105           74        1980   15.3         82   2     \n",
       "371 37  4          91           68        2025   18.2         82   3     \n",
       "372 31  4          91           68        1970   17.6         82   3     \n",
       "373 38  4         105           63        2125   14.7         82   1     \n",
       "374 36  4          98           70        2125   17.3         82   1     \n",
       "375 36  4         120           88        2160   14.5         82   3     \n",
       "376 36  4         107           75        2205   14.5         82   3     \n",
       "377 34  4         108           70        2245   16.9         82   3     \n",
       "378 38  4          91           67        1965   15.0         82   3     \n",
       "379 32  4          91           67        1965   15.7         82   3     \n",
       "380 38  4          91           67        1995   16.2         82   3     \n",
       "381 25  6         181          110        2945   16.4         82   1     \n",
       "382 38  6         262           85        3015   17.0         82   1     \n",
       "383 26  4         156           92        2585   14.5         82   1     \n",
       "384 22  6         232          112        2835   14.7         82   1     \n",
       "385 32  4         144           96        2665   13.9         82   3     \n",
       "386 36  4         135           84        2370   13.0         82   1     \n",
       "387 27  4         151           90        2950   17.3         82   1     \n",
       "388 27  4         140           86        2790   15.6         82   1     \n",
       "389 44  4          97           52        2130   24.6         82   2     \n",
       "390 32  4         135           84        2295   11.6         82   1     \n",
       "391 28  4         120           79        2625   18.6         82   1     \n",
       "392 31  4         119           82        2720   19.4         82   1     \n",
       "    name                             \n",
       "1   chevrolet chevelle malibu        \n",
       "2   buick skylark 320                \n",
       "3   plymouth satellite               \n",
       "4   amc rebel sst                    \n",
       "5   ford torino                      \n",
       "6   ford galaxie 500                 \n",
       "7   chevrolet impala                 \n",
       "8   plymouth fury iii                \n",
       "9   pontiac catalina                 \n",
       "10  amc ambassador dpl               \n",
       "11  dodge challenger se              \n",
       "12  plymouth 'cuda 340               \n",
       "13  chevrolet monte carlo            \n",
       "14  buick estate wagon (sw)          \n",
       "15  toyota corona mark ii            \n",
       "16  plymouth duster                  \n",
       "17  amc hornet                       \n",
       "18  ford maverick                    \n",
       "19  datsun pl510                     \n",
       "20  volkswagen 1131 deluxe sedan     \n",
       "21  peugeot 504                      \n",
       "22  audi 100 ls                      \n",
       "23  saab 99e                         \n",
       "24  bmw 2002                         \n",
       "25  amc gremlin                      \n",
       "26  ford f250                        \n",
       "27  chevy c20                        \n",
       "28  dodge d200                       \n",
       "29  hi 1200d                         \n",
       "30  datsun pl510                     \n",
       "⋮   ⋮                                \n",
       "363 chevrolet cavalier               \n",
       "364 chevrolet cavalier wagon         \n",
       "365 chevrolet cavalier 2-door        \n",
       "366 pontiac j2000 se hatchback       \n",
       "367 dodge aries se                   \n",
       "368 pontiac phoenix                  \n",
       "369 ford fairmont futura             \n",
       "370 volkswagen rabbit l              \n",
       "371 mazda glc custom l               \n",
       "372 mazda glc custom                 \n",
       "373 plymouth horizon miser           \n",
       "374 mercury lynx l                   \n",
       "375 nissan stanza xe                 \n",
       "376 honda accord                     \n",
       "377 toyota corolla                   \n",
       "378 honda civic                      \n",
       "379 honda civic (auto)               \n",
       "380 datsun 310 gx                    \n",
       "381 buick century limited            \n",
       "382 oldsmobile cutlass ciera (diesel)\n",
       "383 chrysler lebaron medallion       \n",
       "384 ford granada l                   \n",
       "385 toyota celica gt                 \n",
       "386 dodge charger 2.2                \n",
       "387 chevrolet camaro                 \n",
       "388 ford mustang gl                  \n",
       "389 vw pickup                        \n",
       "390 dodge rampage                    \n",
       "391 ford ranger                      \n",
       "392 chevy s-10                       "
      ]
     },
     "metadata": {},
     "output_type": "display_data"
    }
   ],
   "source": [
    "Auto_1 <- read.csv(\"D:/python_self/freecodecamp/ISL/Resources/data/Auto.csv\", header = T, na.strings = \"?\", stringsAsFactors = T)\n",
    "Auto_1"
   ]
  },
  {
   "cell_type": "code",
   "execution_count": 65,
   "id": "a8c27977",
   "metadata": {
    "vscode": {
     "languageId": "r"
    }
   },
   "outputs": [
    {
     "data": {
      "text/html": [
       "<style>\n",
       ".list-inline {list-style: none; margin:0; padding: 0}\n",
       ".list-inline>li {display: inline-block}\n",
       ".list-inline>li:not(:last-child)::after {content: \"\\00b7\"; padding: 0 .5ex}\n",
       "</style>\n",
       "<ol class=list-inline><li>392</li><li>9</li></ol>\n"
      ],
      "text/latex": [
       "\\begin{enumerate*}\n",
       "\\item 392\n",
       "\\item 9\n",
       "\\end{enumerate*}\n"
      ],
      "text/markdown": [
       "1. 392\n",
       "2. 9\n",
       "\n",
       "\n"
      ],
      "text/plain": [
       "[1] 392   9"
      ]
     },
     "metadata": {},
     "output_type": "display_data"
    }
   ],
   "source": [
    "dim(Auto_1)"
   ]
  },
  {
   "cell_type": "code",
   "execution_count": 66,
   "id": "a967dfb9",
   "metadata": {
    "vscode": {
     "languageId": "r"
    }
   },
   "outputs": [
    {
     "data": {
      "text/html": [
       "<style>\n",
       ".list-inline {list-style: none; margin:0; padding: 0}\n",
       ".list-inline>li {display: inline-block}\n",
       ".list-inline>li:not(:last-child)::after {content: \"\\00b7\"; padding: 0 .5ex}\n",
       "</style>\n",
       "<ol class=list-inline><li>'mpg'</li><li>'cylinders'</li><li>'displacement'</li><li>'horsepower'</li><li>'weight'</li><li>'acceleration'</li><li>'year'</li><li>'origin'</li><li>'name'</li></ol>\n"
      ],
      "text/latex": [
       "\\begin{enumerate*}\n",
       "\\item 'mpg'\n",
       "\\item 'cylinders'\n",
       "\\item 'displacement'\n",
       "\\item 'horsepower'\n",
       "\\item 'weight'\n",
       "\\item 'acceleration'\n",
       "\\item 'year'\n",
       "\\item 'origin'\n",
       "\\item 'name'\n",
       "\\end{enumerate*}\n"
      ],
      "text/markdown": [
       "1. 'mpg'\n",
       "2. 'cylinders'\n",
       "3. 'displacement'\n",
       "4. 'horsepower'\n",
       "5. 'weight'\n",
       "6. 'acceleration'\n",
       "7. 'year'\n",
       "8. 'origin'\n",
       "9. 'name'\n",
       "\n",
       "\n"
      ],
      "text/plain": [
       "[1] \"mpg\"          \"cylinders\"    \"displacement\" \"horsepower\"   \"weight\"      \n",
       "[6] \"acceleration\" \"year\"         \"origin\"       \"name\"        "
      ]
     },
     "metadata": {},
     "output_type": "display_data"
    }
   ],
   "source": [
    "names(Auto_1)"
   ]
  },
  {
   "cell_type": "code",
   "execution_count": 67,
   "id": "5a02c766",
   "metadata": {
    "vscode": {
     "languageId": "r"
    }
   },
   "outputs": [
    {
     "data": {
      "image/png": "[encoded data removed]",
      "text/plain": [
       "plot without title"
      ]
     },
     "metadata": {
      "image/png": {
       "height": 420,
       "width": 420
      }
     },
     "output_type": "display_data"
    }
   ],
   "source": [
    "plot(Auto_1$cylinders, Auto_1$mpg)"
   ]
  },
  {
   "cell_type": "code",
   "execution_count": 69,
   "id": "32af485b",
   "metadata": {
    "vscode": {
     "languageId": "r"
    }
   },
   "outputs": [
    {
     "name": "stderr",
     "output_type": "stream",
     "text": [
      "The following objects are masked from Auto (pos = 3):\n",
      "\n",
      "    acceleration, cylinders, displacement, horsepower, mpg, name,\n",
      "    origin, weight, year\n",
      "\n",
      "\n"
     ]
    }
   ],
   "source": [
    "attach(Auto)"
   ]
  },
  {
   "cell_type": "code",
   "execution_count": 70,
   "id": "cf04a28f",
   "metadata": {
    "vscode": {
     "languageId": "r"
    }
   },
   "outputs": [
    {
     "data": {
      "image/png": "[encoded data removed]",
      "text/plain": [
       "plot without title"
      ]
     },
     "metadata": {
      "image/png": {
       "height": 420,
       "width": 420
      }
     },
     "output_type": "display_data"
    }
   ],
   "source": [
    "plot(cylinders, mpg)"
   ]
  },
  {
   "cell_type": "code",
   "execution_count": 71,
   "id": "e1ea29a3",
   "metadata": {
    "vscode": {
     "languageId": "r"
    }
   },
   "outputs": [],
   "source": [
    "cylinders <- as.factor(cylinders)"
   ]
  },
  {
   "cell_type": "code",
   "execution_count": 75,
   "id": "8f3e6e65",
   "metadata": {
    "vscode": {
     "languageId": "r"
    }
   },
   "outputs": [
    {
     "data": {
      "image/png": "[encoded data removed]",
      "text/plain": [
       "plot without title"
      ]
     },
     "metadata": {
      "image/png": {
       "height": 420,
       "width": 420
      }
     },
     "output_type": "display_data"
    }
   ],
   "source": [
    "plot(cylinders, mpg, col = \"red\", varwidth = TRUE, horizontal = TRUE)"
   ]
  },
  {
   "cell_type": "code",
   "execution_count": 76,
   "id": "175bcd96",
   "metadata": {
    "vscode": {
     "languageId": "r"
    }
   },
   "outputs": [
    {
     "data": {
      "image/png": "[encoded data removed]",
      "text/plain": [
       "Plot with title \"Histogram of mpg\""
      ]
     },
     "metadata": {
      "image/png": {
       "height": 420,
       "width": 420
      }
     },
     "output_type": "display_data"
    }
   ],
   "source": [
    "hist(mpg)"
   ]
  },
  {
   "cell_type": "code",
   "execution_count": 81,
   "id": "d7602093",
   "metadata": {
    "vscode": {
     "languageId": "r"
    }
   },
   "outputs": [
    {
     "data": {
      "text/html": [
       "<style>\n",
       ".list-inline {list-style: none; margin:0; padding: 0}\n",
       ".list-inline>li {display: inline-block}\n",
       ".list-inline>li:not(:last-child)::after {content: \"\\00b7\"; padding: 0 .5ex}\n",
       "</style>\n",
       "<ol class=list-inline><li>7.652592</li><li>6.37716</li><li>7.652592</li><li>6.802304</li><li>7.227448</li><li>6.37716</li><li>5.952016</li><li>5.952016</li><li>5.952016</li><li>6.37716</li><li>6.37716</li><li>5.952016</li><li>6.37716</li><li>5.952016</li><li>10.203456</li><li>9.353168</li><li>7.652592</li><li>8.928024</li><li>11.478888</li><li>11.053744</li><li>10.6286</li><li>10.203456</li><li>10.6286</li><li>11.053744</li><li>8.928024</li><li>4.25144</li><li>4.25144</li><li>4.676584</li><li>3.826296</li><li>11.478888</li><li>11.904032</li><li>10.6286</li><li>10.6286</li><li>8.077736</li><li>6.802304</li><li>7.227448</li><li>8.077736</li><li>7.652592</li><li>5.952016</li><li>5.952016</li><li>5.952016</li><li>5.952016</li><li>5.101728</li><li>5.526872</li><li>5.526872</li><li>7.652592</li><li>9.353168</li><li>8.077736</li><li>7.652592</li><li>9.778312</li><li>11.904032</li><li>12.75432</li><li>12.75432</li><li>13.179464</li><li>14.88004</li><li>11.478888</li><li>11.053744</li><li>10.203456</li><li>10.6286</li><li>9.778312</li><li>8.50288</li><li>8.928024</li><li>5.526872</li><li>5.952016</li><li>6.37716</li><li>5.952016</li><li>7.227448</li><li>4.676584</li><li>5.526872</li><li>5.101728</li><li>5.526872</li><li>8.077736</li><li>6.37716</li><li>5.526872</li><li>5.526872</li><li>5.952016</li><li>7.652592</li><li>9.353168</li><li>8.928024</li><li>11.053744</li><li>9.353168</li><li>11.904032</li><li>9.778312</li><li>11.904032</li><li>11.478888</li><li>5.526872</li><li>5.952016</li><li>5.526872</li><li>5.952016</li><li>6.37716</li><li>5.101728</li><li>5.526872</li><li>5.526872</li><li>5.952016</li><li>5.526872</li><li>5.101728</li><li>5.526872</li><li>7.652592</li><li>6.802304</li><li>7.652592</li><li>7.652592</li><li>9.778312</li><li>11.053744</li><li>4.676584</li><li>5.101728</li><li>5.526872</li><li>5.101728</li><li>7.652592</li><li>8.50288</li><li>8.928024</li><li>9.353168</li><li>7.652592</li><li>8.077736</li><li>8.928024</li><li>11.053744</li><li>6.37716</li><li>6.802304</li><li>12.329176</li><li>10.203456</li><li>8.50288</li><li>8.077736</li><li>6.37716</li><li>10.203456</li><li>8.50288</li><li>4.676584</li><li>8.50288</li><li>8.928024</li><li>8.077736</li><li>6.37716</li><li>13.179464</li><li>11.053744</li><li>13.604608</li><li>10.6286</li><li>6.802304</li><li>6.802304</li><li>7.652592</li><li>6.802304</li><li>5.526872</li><li>5.952016</li><li>5.952016</li><li>5.952016</li><li>12.329176</li><li>11.053744</li><li>11.053744</li><li>13.179464</li><li>13.604608</li><li>11.904032</li><li>10.203456</li><li>11.053744</li><li>10.203456</li><li>11.053744</li><li>13.179464</li><li>8.077736</li><li>7.652592</li><li>6.37716</li><li>6.37716</li><li>6.802304</li><li>6.37716</li><li>6.802304</li><li>5.952016</li><li>7.227448</li><li>6.802304</li><li>6.37716</li><li>7.652592</li><li>8.928024</li><li>8.50288</li><li>5.526872</li><li>12.329176</li><li>9.778312</li><li>8.50288</li><li>9.778312</li><li>10.203456</li><li>10.6286</li><li>10.203456</li><li>7.652592</li><li>12.329176</li><li>8.077736</li><li>9.778312</li><li>9.778312</li><li>9.353168</li><li>10.6286</li><li>14.029752</li><li>11.904032</li><li>10.6286</li><li>10.6286</li><li>11.053744</li><li>11.478888</li><li>7.44002</li><li>6.802304</li><li>6.589732</li><li>6.164588</li><li>9.353168</li><li>9.353168</li><li>10.203456</li><li>9.56574</li><li>12.329176</li><li>10.416028</li><li>12.329176</li><li>14.029752</li><li>8.50288</li><li>7.652592</li><li>7.865164</li><li>7.44002</li><li>12.541748</li><li>13.604608</li><li>11.904032</li><li>11.266316</li><li>8.50288</li><li>5.526872</li><li>8.077736</li><li>8.077736</li><li>7.014876</li><li>7.014876</li><li>5.526872</li><li>5.526872</li><li>5.526872</li><li>13.392036</li><li>12.75432</li><li>15.305184</li><li>10.841172</li><li>14.242324</li><li>7.44002</li><li>7.227448</li><li>6.589732</li><li>6.37716</li><li>7.44002</li><li>8.715452</li><li>8.077736</li><li>7.865164</li><li>6.802304</li><li>6.589732</li><li>6.589732</li><li>6.802304</li><li>12.329176</li><li>10.416028</li><li>11.053744</li><li>10.841172</li><li>12.966892</li><li>14.242324</li><li>12.75432</li><li>12.966892</li><li>9.353168</li><li>9.140596</li><li>9.140596</li><li>18.3237064</li><li>15.3476984</li><li>13.9447232</li><li>16.7506736</li><li>15.3476984</li><li>8.4603656</li><li>8.2477936</li><li>8.5879088</li><li>8.1627648</li><li>8.715452</li><li>8.5879088</li><li>10.6711144</li><li>8.715452</li><li>8.2477936</li><li>8.7579664</li><li>8.8429952</li><li>7.9076784</li><li>7.6951064</li><li>8.1627648</li><li>7.5250488</li><li>7.6951064</li><li>7.44002</li><li>12.75432</li><li>11.69146</li><li>11.5639168</li><li>13.1369496</li><li>8.9705384</li><li>9.8633408</li><li>10.1184272</li><li>10.1609416</li><li>8.6304232</li><li>7.227448</li><li>9.1831104</li><li>6.8873328</li><li>13.392036</li><li>12.541748</li><li>9.140596</li><li>8.4178512</li><li>9.4807112</li><li>8.5879088</li><li>8.7579664</li><li>7.227448</li><li>7.4825344</li><li>7.014876</li><li>7.7376208</li><li>7.1849336</li><li>6.589732</li><li>8.1627648</li><li>7.865164</li><li>13.5620936</li><li>14.4974104</li><li>15.1776408</li><li>11.6489456</li><li>10.7986576</li><li>9.778312</li><li>11.5639168</li><li>10.1609416</li><li>14.5399248</li><li>14.667468</li><li>13.5195792</li><li>15.8578712</li><li>12.0740896</li><li>12.2441472</li><li>11.3938592</li><li>14.242324</li><li>17.643476</li><li>16.1979864</li><li>13.6471224</li><li>15.8153568</li><li>11.904032</li><li>11.2238016</li><li>10.3309992</li><li>8.1202504</li><li>14.5824392</li><li>12.6692912</li><li>13.3070072</li><li>15.730328</li><li>13.6896368</li><li>19.8117104</li><li>11.8615176</li><li>17.3458752</li><li>18.8338792</li><li>18.4512496</li><li>15.4752416</li><li>12.75432</li><li>18.9614224</li><li>17.3883896</li><li>14.3698672</li><li>12.6692912</li><li>13.9022088</li><li>10.0759128</li><li>14.88004</li><li>10.0333984</li><li>13.7746656</li><li>11.5639168</li><li>11.3088304</li><li>10.9687152</li><li>9.990884</li><li>12.75432</li><li>16.6231304</li><li>16.580616</li><li>14.9225544</li><li>13.7321512</li><li>15.730328</li><li>16.0279288</li><li>14.4974104</li><li>14.7524968</li><li>14.6249536</li><li>12.7118056</li><li>14.029752</li><li>14.667468</li><li>14.3273528</li><li>13.7746656</li><li>13.9872376</li><li>13.4345504</li><li>11.9465464</li><li>13.0519208</li><li>10.7986576</li><li>10.2884848</li><li>9.5232256</li><li>11.3088304</li><li>8.5879088</li><li>7.4825344</li><li>11.904032</li><li>11.478888</li><li>14.454896</li><li>13.179464</li><li>12.329176</li><li>11.478888</li><li>10.203456</li><li>15.305184</li><li>15.730328</li><li>13.179464</li><li>16.155472</li><li>15.305184</li><li>15.305184</li><li>15.305184</li><li>14.454896</li><li>16.155472</li><li>13.604608</li><li>16.155472</li><li>10.6286</li><li>16.155472</li><li>11.053744</li><li>9.353168</li><li>13.604608</li><li>15.305184</li><li>11.478888</li><li>11.478888</li><li>18.706336</li><li>13.604608</li><li>11.904032</li><li>13.179464</li></ol>\n"
      ],
      "text/latex": [
       "\\begin{enumerate*}\n",
       "\\item 7.652592\n",
       "\\item 6.37716\n",
       "\\item 7.652592\n",
       "\\item 6.802304\n",
       "\\item 7.227448\n",
       "\\item 6.37716\n",
       "\\item 5.952016\n",
       "\\item 5.952016\n",
       "\\item 5.952016\n",
       "\\item 6.37716\n",
       "\\item 6.37716\n",
       "\\item 5.952016\n",
       "\\item 6.37716\n",
       "\\item 5.952016\n",
       "\\item 10.203456\n",
       "\\item 9.353168\n",
       "\\item 7.652592\n",
       "\\item 8.928024\n",
       "\\item 11.478888\n",
       "\\item 11.053744\n",
       "\\item 10.6286\n",
       "\\item 10.203456\n",
       "\\item 10.6286\n",
       "\\item 11.053744\n",
       "\\item 8.928024\n",
       "\\item 4.25144\n",
       "\\item 4.25144\n",
       "\\item 4.676584\n",
       "\\item 3.826296\n",
       "\\item 11.478888\n",
       "\\item 11.904032\n",
       "\\item 10.6286\n",
       "\\item 10.6286\n",
       "\\item 8.077736\n",
       "\\item 6.802304\n",
       "\\item 7.227448\n",
       "\\item 8.077736\n",
       "\\item 7.652592\n",
       "\\item 5.952016\n",
       "\\item 5.952016\n",
       "\\item 5.952016\n",
       "\\item 5.952016\n",
       "\\item 5.101728\n",
       "\\item 5.526872\n",
       "\\item 5.526872\n",
       "\\item 7.652592\n",
       "\\item 9.353168\n",
       "\\item 8.077736\n",
       "\\item 7.652592\n",
       "\\item 9.778312\n",
       "\\item 11.904032\n",
       "\\item 12.75432\n",
       "\\item 12.75432\n",
       "\\item 13.179464\n",
       "\\item 14.88004\n",
       "\\item 11.478888\n",
       "\\item 11.053744\n",
       "\\item 10.203456\n",
       "\\item 10.6286\n",
       "\\item 9.778312\n",
       "\\item 8.50288\n",
       "\\item 8.928024\n",
       "\\item 5.526872\n",
       "\\item 5.952016\n",
       "\\item 6.37716\n",
       "\\item 5.952016\n",
       "\\item 7.227448\n",
       "\\item 4.676584\n",
       "\\item 5.526872\n",
       "\\item 5.101728\n",
       "\\item 5.526872\n",
       "\\item 8.077736\n",
       "\\item 6.37716\n",
       "\\item 5.526872\n",
       "\\item 5.526872\n",
       "\\item 5.952016\n",
       "\\item 7.652592\n",
       "\\item 9.353168\n",
       "\\item 8.928024\n",
       "\\item 11.053744\n",
       "\\item 9.353168\n",
       "\\item 11.904032\n",
       "\\item 9.778312\n",
       "\\item 11.904032\n",
       "\\item 11.478888\n",
       "\\item 5.526872\n",
       "\\item 5.952016\n",
       "\\item 5.526872\n",
       "\\item 5.952016\n",
       "\\item 6.37716\n",
       "\\item 5.101728\n",
       "\\item 5.526872\n",
       "\\item 5.526872\n",
       "\\item 5.952016\n",
       "\\item 5.526872\n",
       "\\item 5.101728\n",
       "\\item 5.526872\n",
       "\\item 7.652592\n",
       "\\item 6.802304\n",
       "\\item 7.652592\n",
       "\\item 7.652592\n",
       "\\item 9.778312\n",
       "\\item 11.053744\n",
       "\\item 4.676584\n",
       "\\item 5.101728\n",
       "\\item 5.526872\n",
       "\\item 5.101728\n",
       "\\item 7.652592\n",
       "\\item 8.50288\n",
       "\\item 8.928024\n",
       "\\item 9.353168\n",
       "\\item 7.652592\n",
       "\\item 8.077736\n",
       "\\item 8.928024\n",
       "\\item 11.053744\n",
       "\\item 6.37716\n",
       "\\item 6.802304\n",
       "\\item 12.329176\n",
       "\\item 10.203456\n",
       "\\item 8.50288\n",
       "\\item 8.077736\n",
       "\\item 6.37716\n",
       "\\item 10.203456\n",
       "\\item 8.50288\n",
       "\\item 4.676584\n",
       "\\item 8.50288\n",
       "\\item 8.928024\n",
       "\\item 8.077736\n",
       "\\item 6.37716\n",
       "\\item 13.179464\n",
       "\\item 11.053744\n",
       "\\item 13.604608\n",
       "\\item 10.6286\n",
       "\\item 6.802304\n",
       "\\item 6.802304\n",
       "\\item 7.652592\n",
       "\\item 6.802304\n",
       "\\item 5.526872\n",
       "\\item 5.952016\n",
       "\\item 5.952016\n",
       "\\item 5.952016\n",
       "\\item 12.329176\n",
       "\\item 11.053744\n",
       "\\item 11.053744\n",
       "\\item 13.179464\n",
       "\\item 13.604608\n",
       "\\item 11.904032\n",
       "\\item 10.203456\n",
       "\\item 11.053744\n",
       "\\item 10.203456\n",
       "\\item 11.053744\n",
       "\\item 13.179464\n",
       "\\item 8.077736\n",
       "\\item 7.652592\n",
       "\\item 6.37716\n",
       "\\item 6.37716\n",
       "\\item 6.802304\n",
       "\\item 6.37716\n",
       "\\item 6.802304\n",
       "\\item 5.952016\n",
       "\\item 7.227448\n",
       "\\item 6.802304\n",
       "\\item 6.37716\n",
       "\\item 7.652592\n",
       "\\item 8.928024\n",
       "\\item 8.50288\n",
       "\\item 5.526872\n",
       "\\item 12.329176\n",
       "\\item 9.778312\n",
       "\\item 8.50288\n",
       "\\item 9.778312\n",
       "\\item 10.203456\n",
       "\\item 10.6286\n",
       "\\item 10.203456\n",
       "\\item 7.652592\n",
       "\\item 12.329176\n",
       "\\item 8.077736\n",
       "\\item 9.778312\n",
       "\\item 9.778312\n",
       "\\item 9.353168\n",
       "\\item 10.6286\n",
       "\\item 14.029752\n",
       "\\item 11.904032\n",
       "\\item 10.6286\n",
       "\\item 10.6286\n",
       "\\item 11.053744\n",
       "\\item 11.478888\n",
       "\\item 7.44002\n",
       "\\item 6.802304\n",
       "\\item 6.589732\n",
       "\\item 6.164588\n",
       "\\item 9.353168\n",
       "\\item 9.353168\n",
       "\\item 10.203456\n",
       "\\item 9.56574\n",
       "\\item 12.329176\n",
       "\\item 10.416028\n",
       "\\item 12.329176\n",
       "\\item 14.029752\n",
       "\\item 8.50288\n",
       "\\item 7.652592\n",
       "\\item 7.865164\n",
       "\\item 7.44002\n",
       "\\item 12.541748\n",
       "\\item 13.604608\n",
       "\\item 11.904032\n",
       "\\item 11.266316\n",
       "\\item 8.50288\n",
       "\\item 5.526872\n",
       "\\item 8.077736\n",
       "\\item 8.077736\n",
       "\\item 7.014876\n",
       "\\item 7.014876\n",
       "\\item 5.526872\n",
       "\\item 5.526872\n",
       "\\item 5.526872\n",
       "\\item 13.392036\n",
       "\\item 12.75432\n",
       "\\item 15.305184\n",
       "\\item 10.841172\n",
       "\\item 14.242324\n",
       "\\item 7.44002\n",
       "\\item 7.227448\n",
       "\\item 6.589732\n",
       "\\item 6.37716\n",
       "\\item 7.44002\n",
       "\\item 8.715452\n",
       "\\item 8.077736\n",
       "\\item 7.865164\n",
       "\\item 6.802304\n",
       "\\item 6.589732\n",
       "\\item 6.589732\n",
       "\\item 6.802304\n",
       "\\item 12.329176\n",
       "\\item 10.416028\n",
       "\\item 11.053744\n",
       "\\item 10.841172\n",
       "\\item 12.966892\n",
       "\\item 14.242324\n",
       "\\item 12.75432\n",
       "\\item 12.966892\n",
       "\\item 9.353168\n",
       "\\item 9.140596\n",
       "\\item 9.140596\n",
       "\\item 18.3237064\n",
       "\\item 15.3476984\n",
       "\\item 13.9447232\n",
       "\\item 16.7506736\n",
       "\\item 15.3476984\n",
       "\\item 8.4603656\n",
       "\\item 8.2477936\n",
       "\\item 8.5879088\n",
       "\\item 8.1627648\n",
       "\\item 8.715452\n",
       "\\item 8.5879088\n",
       "\\item 10.6711144\n",
       "\\item 8.715452\n",
       "\\item 8.2477936\n",
       "\\item 8.7579664\n",
       "\\item 8.8429952\n",
       "\\item 7.9076784\n",
       "\\item 7.6951064\n",
       "\\item 8.1627648\n",
       "\\item 7.5250488\n",
       "\\item 7.6951064\n",
       "\\item 7.44002\n",
       "\\item 12.75432\n",
       "\\item 11.69146\n",
       "\\item 11.5639168\n",
       "\\item 13.1369496\n",
       "\\item 8.9705384\n",
       "\\item 9.8633408\n",
       "\\item 10.1184272\n",
       "\\item 10.1609416\n",
       "\\item 8.6304232\n",
       "\\item 7.227448\n",
       "\\item 9.1831104\n",
       "\\item 6.8873328\n",
       "\\item 13.392036\n",
       "\\item 12.541748\n",
       "\\item 9.140596\n",
       "\\item 8.4178512\n",
       "\\item 9.4807112\n",
       "\\item 8.5879088\n",
       "\\item 8.7579664\n",
       "\\item 7.227448\n",
       "\\item 7.4825344\n",
       "\\item 7.014876\n",
       "\\item 7.7376208\n",
       "\\item 7.1849336\n",
       "\\item 6.589732\n",
       "\\item 8.1627648\n",
       "\\item 7.865164\n",
       "\\item 13.5620936\n",
       "\\item 14.4974104\n",
       "\\item 15.1776408\n",
       "\\item 11.6489456\n",
       "\\item 10.7986576\n",
       "\\item 9.778312\n",
       "\\item 11.5639168\n",
       "\\item 10.1609416\n",
       "\\item 14.5399248\n",
       "\\item 14.667468\n",
       "\\item 13.5195792\n",
       "\\item 15.8578712\n",
       "\\item 12.0740896\n",
       "\\item 12.2441472\n",
       "\\item 11.3938592\n",
       "\\item 14.242324\n",
       "\\item 17.643476\n",
       "\\item 16.1979864\n",
       "\\item 13.6471224\n",
       "\\item 15.8153568\n",
       "\\item 11.904032\n",
       "\\item 11.2238016\n",
       "\\item 10.3309992\n",
       "\\item 8.1202504\n",
       "\\item 14.5824392\n",
       "\\item 12.6692912\n",
       "\\item 13.3070072\n",
       "\\item 15.730328\n",
       "\\item 13.6896368\n",
       "\\item 19.8117104\n",
       "\\item 11.8615176\n",
       "\\item 17.3458752\n",
       "\\item 18.8338792\n",
       "\\item 18.4512496\n",
       "\\item 15.4752416\n",
       "\\item 12.75432\n",
       "\\item 18.9614224\n",
       "\\item 17.3883896\n",
       "\\item 14.3698672\n",
       "\\item 12.6692912\n",
       "\\item 13.9022088\n",
       "\\item 10.0759128\n",
       "\\item 14.88004\n",
       "\\item 10.0333984\n",
       "\\item 13.7746656\n",
       "\\item 11.5639168\n",
       "\\item 11.3088304\n",
       "\\item 10.9687152\n",
       "\\item 9.990884\n",
       "\\item 12.75432\n",
       "\\item 16.6231304\n",
       "\\item 16.580616\n",
       "\\item 14.9225544\n",
       "\\item 13.7321512\n",
       "\\item 15.730328\n",
       "\\item 16.0279288\n",
       "\\item 14.4974104\n",
       "\\item 14.7524968\n",
       "\\item 14.6249536\n",
       "\\item 12.7118056\n",
       "\\item 14.029752\n",
       "\\item 14.667468\n",
       "\\item 14.3273528\n",
       "\\item 13.7746656\n",
       "\\item 13.9872376\n",
       "\\item 13.4345504\n",
       "\\item 11.9465464\n",
       "\\item 13.0519208\n",
       "\\item 10.7986576\n",
       "\\item 10.2884848\n",
       "\\item 9.5232256\n",
       "\\item 11.3088304\n",
       "\\item 8.5879088\n",
       "\\item 7.4825344\n",
       "\\item 11.904032\n",
       "\\item 11.478888\n",
       "\\item 14.454896\n",
       "\\item 13.179464\n",
       "\\item 12.329176\n",
       "\\item 11.478888\n",
       "\\item 10.203456\n",
       "\\item 15.305184\n",
       "\\item 15.730328\n",
       "\\item 13.179464\n",
       "\\item 16.155472\n",
       "\\item 15.305184\n",
       "\\item 15.305184\n",
       "\\item 15.305184\n",
       "\\item 14.454896\n",
       "\\item 16.155472\n",
       "\\item 13.604608\n",
       "\\item 16.155472\n",
       "\\item 10.6286\n",
       "\\item 16.155472\n",
       "\\item 11.053744\n",
       "\\item 9.353168\n",
       "\\item 13.604608\n",
       "\\item 15.305184\n",
       "\\item 11.478888\n",
       "\\item 11.478888\n",
       "\\item 18.706336\n",
       "\\item 13.604608\n",
       "\\item 11.904032\n",
       "\\item 13.179464\n",
       "\\end{enumerate*}\n"
      ],
      "text/markdown": [
       "1. 7.652592\n",
       "2. 6.37716\n",
       "3. 7.652592\n",
       "4. 6.802304\n",
       "5. 7.227448\n",
       "6. 6.37716\n",
       "7. 5.952016\n",
       "8. 5.952016\n",
       "9. 5.952016\n",
       "10. 6.37716\n",
       "11. 6.37716\n",
       "12. 5.952016\n",
       "13. 6.37716\n",
       "14. 5.952016\n",
       "15. 10.203456\n",
       "16. 9.353168\n",
       "17. 7.652592\n",
       "18. 8.928024\n",
       "19. 11.478888\n",
       "20. 11.053744\n",
       "21. 10.6286\n",
       "22. 10.203456\n",
       "23. 10.6286\n",
       "24. 11.053744\n",
       "25. 8.928024\n",
       "26. 4.25144\n",
       "27. 4.25144\n",
       "28. 4.676584\n",
       "29. 3.826296\n",
       "30. 11.478888\n",
       "31. 11.904032\n",
       "32. 10.6286\n",
       "33. 10.6286\n",
       "34. 8.077736\n",
       "35. 6.802304\n",
       "36. 7.227448\n",
       "37. 8.077736\n",
       "38. 7.652592\n",
       "39. 5.952016\n",
       "40. 5.952016\n",
       "41. 5.952016\n",
       "42. 5.952016\n",
       "43. 5.101728\n",
       "44. 5.526872\n",
       "45. 5.526872\n",
       "46. 7.652592\n",
       "47. 9.353168\n",
       "48. 8.077736\n",
       "49. 7.652592\n",
       "50. 9.778312\n",
       "51. 11.904032\n",
       "52. 12.75432\n",
       "53. 12.75432\n",
       "54. 13.179464\n",
       "55. 14.88004\n",
       "56. 11.478888\n",
       "57. 11.053744\n",
       "58. 10.203456\n",
       "59. 10.6286\n",
       "60. 9.778312\n",
       "61. 8.50288\n",
       "62. 8.928024\n",
       "63. 5.526872\n",
       "64. 5.952016\n",
       "65. 6.37716\n",
       "66. 5.952016\n",
       "67. 7.227448\n",
       "68. 4.676584\n",
       "69. 5.526872\n",
       "70. 5.101728\n",
       "71. 5.526872\n",
       "72. 8.077736\n",
       "73. 6.37716\n",
       "74. 5.526872\n",
       "75. 5.526872\n",
       "76. 5.952016\n",
       "77. 7.652592\n",
       "78. 9.353168\n",
       "79. 8.928024\n",
       "80. 11.053744\n",
       "81. 9.353168\n",
       "82. 11.904032\n",
       "83. 9.778312\n",
       "84. 11.904032\n",
       "85. 11.478888\n",
       "86. 5.526872\n",
       "87. 5.952016\n",
       "88. 5.526872\n",
       "89. 5.952016\n",
       "90. 6.37716\n",
       "91. 5.101728\n",
       "92. 5.526872\n",
       "93. 5.526872\n",
       "94. 5.952016\n",
       "95. 5.526872\n",
       "96. 5.101728\n",
       "97. 5.526872\n",
       "98. 7.652592\n",
       "99. 6.802304\n",
       "100. 7.652592\n",
       "101. 7.652592\n",
       "102. 9.778312\n",
       "103. 11.053744\n",
       "104. 4.676584\n",
       "105. 5.101728\n",
       "106. 5.526872\n",
       "107. 5.101728\n",
       "108. 7.652592\n",
       "109. 8.50288\n",
       "110. 8.928024\n",
       "111. 9.353168\n",
       "112. 7.652592\n",
       "113. 8.077736\n",
       "114. 8.928024\n",
       "115. 11.053744\n",
       "116. 6.37716\n",
       "117. 6.802304\n",
       "118. 12.329176\n",
       "119. 10.203456\n",
       "120. 8.50288\n",
       "121. 8.077736\n",
       "122. 6.37716\n",
       "123. 10.203456\n",
       "124. 8.50288\n",
       "125. 4.676584\n",
       "126. 8.50288\n",
       "127. 8.928024\n",
       "128. 8.077736\n",
       "129. 6.37716\n",
       "130. 13.179464\n",
       "131. 11.053744\n",
       "132. 13.604608\n",
       "133. 10.6286\n",
       "134. 6.802304\n",
       "135. 6.802304\n",
       "136. 7.652592\n",
       "137. 6.802304\n",
       "138. 5.526872\n",
       "139. 5.952016\n",
       "140. 5.952016\n",
       "141. 5.952016\n",
       "142. 12.329176\n",
       "143. 11.053744\n",
       "144. 11.053744\n",
       "145. 13.179464\n",
       "146. 13.604608\n",
       "147. 11.904032\n",
       "148. 10.203456\n",
       "149. 11.053744\n",
       "150. 10.203456\n",
       "151. 11.053744\n",
       "152. 13.179464\n",
       "153. 8.077736\n",
       "154. 7.652592\n",
       "155. 6.37716\n",
       "156. 6.37716\n",
       "157. 6.802304\n",
       "158. 6.37716\n",
       "159. 6.802304\n",
       "160. 5.952016\n",
       "161. 7.227448\n",
       "162. 6.802304\n",
       "163. 6.37716\n",
       "164. 7.652592\n",
       "165. 8.928024\n",
       "166. 8.50288\n",
       "167. 5.526872\n",
       "168. 12.329176\n",
       "169. 9.778312\n",
       "170. 8.50288\n",
       "171. 9.778312\n",
       "172. 10.203456\n",
       "173. 10.6286\n",
       "174. 10.203456\n",
       "175. 7.652592\n",
       "176. 12.329176\n",
       "177. 8.077736\n",
       "178. 9.778312\n",
       "179. 9.778312\n",
       "180. 9.353168\n",
       "181. 10.6286\n",
       "182. 14.029752\n",
       "183. 11.904032\n",
       "184. 10.6286\n",
       "185. 10.6286\n",
       "186. 11.053744\n",
       "187. 11.478888\n",
       "188. 7.44002\n",
       "189. 6.802304\n",
       "190. 6.589732\n",
       "191. 6.164588\n",
       "192. 9.353168\n",
       "193. 9.353168\n",
       "194. 10.203456\n",
       "195. 9.56574\n",
       "196. 12.329176\n",
       "197. 10.416028\n",
       "198. 12.329176\n",
       "199. 14.029752\n",
       "200. 8.50288\n",
       "201. 7.652592\n",
       "202. 7.865164\n",
       "203. 7.44002\n",
       "204. 12.541748\n",
       "205. 13.604608\n",
       "206. 11.904032\n",
       "207. 11.266316\n",
       "208. 8.50288\n",
       "209. 5.526872\n",
       "210. 8.077736\n",
       "211. 8.077736\n",
       "212. 7.014876\n",
       "213. 7.014876\n",
       "214. 5.526872\n",
       "215. 5.526872\n",
       "216. 5.526872\n",
       "217. 13.392036\n",
       "218. 12.75432\n",
       "219. 15.305184\n",
       "220. 10.841172\n",
       "221. 14.242324\n",
       "222. 7.44002\n",
       "223. 7.227448\n",
       "224. 6.589732\n",
       "225. 6.37716\n",
       "226. 7.44002\n",
       "227. 8.715452\n",
       "228. 8.077736\n",
       "229. 7.865164\n",
       "230. 6.802304\n",
       "231. 6.589732\n",
       "232. 6.589732\n",
       "233. 6.802304\n",
       "234. 12.329176\n",
       "235. 10.416028\n",
       "236. 11.053744\n",
       "237. 10.841172\n",
       "238. 12.966892\n",
       "239. 14.242324\n",
       "240. 12.75432\n",
       "241. 12.966892\n",
       "242. 9.353168\n",
       "243. 9.140596\n",
       "244. 9.140596\n",
       "245. 18.3237064\n",
       "246. 15.3476984\n",
       "247. 13.9447232\n",
       "248. 16.7506736\n",
       "249. 15.3476984\n",
       "250. 8.4603656\n",
       "251. 8.2477936\n",
       "252. 8.5879088\n",
       "253. 8.1627648\n",
       "254. 8.715452\n",
       "255. 8.5879088\n",
       "256. 10.6711144\n",
       "257. 8.715452\n",
       "258. 8.2477936\n",
       "259. 8.7579664\n",
       "260. 8.8429952\n",
       "261. 7.9076784\n",
       "262. 7.6951064\n",
       "263. 8.1627648\n",
       "264. 7.5250488\n",
       "265. 7.6951064\n",
       "266. 7.44002\n",
       "267. 12.75432\n",
       "268. 11.69146\n",
       "269. 11.5639168\n",
       "270. 13.1369496\n",
       "271. 8.9705384\n",
       "272. 9.8633408\n",
       "273. 10.1184272\n",
       "274. 10.1609416\n",
       "275. 8.6304232\n",
       "276. 7.227448\n",
       "277. 9.1831104\n",
       "278. 6.8873328\n",
       "279. 13.392036\n",
       "280. 12.541748\n",
       "281. 9.140596\n",
       "282. 8.4178512\n",
       "283. 9.4807112\n",
       "284. 8.5879088\n",
       "285. 8.7579664\n",
       "286. 7.227448\n",
       "287. 7.4825344\n",
       "288. 7.014876\n",
       "289. 7.7376208\n",
       "290. 7.1849336\n",
       "291. 6.589732\n",
       "292. 8.1627648\n",
       "293. 7.865164\n",
       "294. 13.5620936\n",
       "295. 14.4974104\n",
       "296. 15.1776408\n",
       "297. 11.6489456\n",
       "298. 10.7986576\n",
       "299. 9.778312\n",
       "300. 11.5639168\n",
       "301. 10.1609416\n",
       "302. 14.5399248\n",
       "303. 14.667468\n",
       "304. 13.5195792\n",
       "305. 15.8578712\n",
       "306. 12.0740896\n",
       "307. 12.2441472\n",
       "308. 11.3938592\n",
       "309. 14.242324\n",
       "310. 17.643476\n",
       "311. 16.1979864\n",
       "312. 13.6471224\n",
       "313. 15.8153568\n",
       "314. 11.904032\n",
       "315. 11.2238016\n",
       "316. 10.3309992\n",
       "317. 8.1202504\n",
       "318. 14.5824392\n",
       "319. 12.6692912\n",
       "320. 13.3070072\n",
       "321. 15.730328\n",
       "322. 13.6896368\n",
       "323. 19.8117104\n",
       "324. 11.8615176\n",
       "325. 17.3458752\n",
       "326. 18.8338792\n",
       "327. 18.4512496\n",
       "328. 15.4752416\n",
       "329. 12.75432\n",
       "330. 18.9614224\n",
       "331. 17.3883896\n",
       "332. 14.3698672\n",
       "333. 12.6692912\n",
       "334. 13.9022088\n",
       "335. 10.0759128\n",
       "336. 14.88004\n",
       "337. 10.0333984\n",
       "338. 13.7746656\n",
       "339. 11.5639168\n",
       "340. 11.3088304\n",
       "341. 10.9687152\n",
       "342. 9.990884\n",
       "343. 12.75432\n",
       "344. 16.6231304\n",
       "345. 16.580616\n",
       "346. 14.9225544\n",
       "347. 13.7321512\n",
       "348. 15.730328\n",
       "349. 16.0279288\n",
       "350. 14.4974104\n",
       "351. 14.7524968\n",
       "352. 14.6249536\n",
       "353. 12.7118056\n",
       "354. 14.029752\n",
       "355. 14.667468\n",
       "356. 14.3273528\n",
       "357. 13.7746656\n",
       "358. 13.9872376\n",
       "359. 13.4345504\n",
       "360. 11.9465464\n",
       "361. 13.0519208\n",
       "362. 10.7986576\n",
       "363. 10.2884848\n",
       "364. 9.5232256\n",
       "365. 11.3088304\n",
       "366. 8.5879088\n",
       "367. 7.4825344\n",
       "368. 11.904032\n",
       "369. 11.478888\n",
       "370. 14.454896\n",
       "371. 13.179464\n",
       "372. 12.329176\n",
       "373. 11.478888\n",
       "374. 10.203456\n",
       "375. 15.305184\n",
       "376. 15.730328\n",
       "377. 13.179464\n",
       "378. 16.155472\n",
       "379. 15.305184\n",
       "380. 15.305184\n",
       "381. 15.305184\n",
       "382. 14.454896\n",
       "383. 16.155472\n",
       "384. 13.604608\n",
       "385. 16.155472\n",
       "386. 10.6286\n",
       "387. 16.155472\n",
       "388. 11.053744\n",
       "389. 9.353168\n",
       "390. 13.604608\n",
       "391. 15.305184\n",
       "392. 11.478888\n",
       "393. 11.478888\n",
       "394. 18.706336\n",
       "395. 13.604608\n",
       "396. 11.904032\n",
       "397. 13.179464\n",
       "\n",
       "\n"
      ],
      "text/plain": [
       "  [1]  7.652592  6.377160  7.652592  6.802304  7.227448  6.377160  5.952016\n",
       "  [8]  5.952016  5.952016  6.377160  6.377160  5.952016  6.377160  5.952016\n",
       " [15] 10.203456  9.353168  7.652592  8.928024 11.478888 11.053744 10.628600\n",
       " [22] 10.203456 10.628600 11.053744  8.928024  4.251440  4.251440  4.676584\n",
       " [29]  3.826296 11.478888 11.904032 10.628600 10.628600  8.077736  6.802304\n",
       " [36]  7.227448  8.077736  7.652592  5.952016  5.952016  5.952016  5.952016\n",
       " [43]  5.101728  5.526872  5.526872  7.652592  9.353168  8.077736  7.652592\n",
       " [50]  9.778312 11.904032 12.754320 12.754320 13.179464 14.880040 11.478888\n",
       " [57] 11.053744 10.203456 10.628600  9.778312  8.502880  8.928024  5.526872\n",
       " [64]  5.952016  6.377160  5.952016  7.227448  4.676584  5.526872  5.101728\n",
       " [71]  5.526872  8.077736  6.377160  5.526872  5.526872  5.952016  7.652592\n",
       " [78]  9.353168  8.928024 11.053744  9.353168 11.904032  9.778312 11.904032\n",
       " [85] 11.478888  5.526872  5.952016  5.526872  5.952016  6.377160  5.101728\n",
       " [92]  5.526872  5.526872  5.952016  5.526872  5.101728  5.526872  7.652592\n",
       " [99]  6.802304  7.652592  7.652592  9.778312 11.053744  4.676584  5.101728\n",
       "[106]  5.526872  5.101728  7.652592  8.502880  8.928024  9.353168  7.652592\n",
       "[113]  8.077736  8.928024 11.053744  6.377160  6.802304 12.329176 10.203456\n",
       "[120]  8.502880  8.077736  6.377160 10.203456  8.502880  4.676584  8.502880\n",
       "[127]  8.928024  8.077736  6.377160 13.179464 11.053744 13.604608 10.628600\n",
       "[134]  6.802304  6.802304  7.652592  6.802304  5.526872  5.952016  5.952016\n",
       "[141]  5.952016 12.329176 11.053744 11.053744 13.179464 13.604608 11.904032\n",
       "[148] 10.203456 11.053744 10.203456 11.053744 13.179464  8.077736  7.652592\n",
       "[155]  6.377160  6.377160  6.802304  6.377160  6.802304  5.952016  7.227448\n",
       "[162]  6.802304  6.377160  7.652592  8.928024  8.502880  5.526872 12.329176\n",
       "[169]  9.778312  8.502880  9.778312 10.203456 10.628600 10.203456  7.652592\n",
       "[176] 12.329176  8.077736  9.778312  9.778312  9.353168 10.628600 14.029752\n",
       "[183] 11.904032 10.628600 10.628600 11.053744 11.478888  7.440020  6.802304\n",
       "[190]  6.589732  6.164588  9.353168  9.353168 10.203456  9.565740 12.329176\n",
       "[197] 10.416028 12.329176 14.029752  8.502880  7.652592  7.865164  7.440020\n",
       "[204] 12.541748 13.604608 11.904032 11.266316  8.502880  5.526872  8.077736\n",
       "[211]  8.077736  7.014876  7.014876  5.526872  5.526872  5.526872 13.392036\n",
       "[218] 12.754320 15.305184 10.841172 14.242324  7.440020  7.227448  6.589732\n",
       "[225]  6.377160  7.440020  8.715452  8.077736  7.865164  6.802304  6.589732\n",
       "[232]  6.589732  6.802304 12.329176 10.416028 11.053744 10.841172 12.966892\n",
       "[239] 14.242324 12.754320 12.966892  9.353168  9.140596  9.140596 18.323706\n",
       "[246] 15.347698 13.944723 16.750674 15.347698  8.460366  8.247794  8.587909\n",
       "[253]  8.162765  8.715452  8.587909 10.671114  8.715452  8.247794  8.757966\n",
       "[260]  8.842995  7.907678  7.695106  8.162765  7.525049  7.695106  7.440020\n",
       "[267] 12.754320 11.691460 11.563917 13.136950  8.970538  9.863341 10.118427\n",
       "[274] 10.160942  8.630423  7.227448  9.183110  6.887333 13.392036 12.541748\n",
       "[281]  9.140596  8.417851  9.480711  8.587909  8.757966  7.227448  7.482534\n",
       "[288]  7.014876  7.737621  7.184934  6.589732  8.162765  7.865164 13.562094\n",
       "[295] 14.497410 15.177641 11.648946 10.798658  9.778312 11.563917 10.160942\n",
       "[302] 14.539925 14.667468 13.519579 15.857871 12.074090 12.244147 11.393859\n",
       "[309] 14.242324 17.643476 16.197986 13.647122 15.815357 11.904032 11.223802\n",
       "[316] 10.330999  8.120250 14.582439 12.669291 13.307007 15.730328 13.689637\n",
       "[323] 19.811710 11.861518 17.345875 18.833879 18.451250 15.475242 12.754320\n",
       "[330] 18.961422 17.388390 14.369867 12.669291 13.902209 10.075913 14.880040\n",
       "[337] 10.033398 13.774666 11.563917 11.308830 10.968715  9.990884 12.754320\n",
       "[344] 16.623130 16.580616 14.922554 13.732151 15.730328 16.027929 14.497410\n",
       "[351] 14.752497 14.624954 12.711806 14.029752 14.667468 14.327353 13.774666\n",
       "[358] 13.987238 13.434550 11.946546 13.051921 10.798658 10.288485  9.523226\n",
       "[365] 11.308830  8.587909  7.482534 11.904032 11.478888 14.454896 13.179464\n",
       "[372] 12.329176 11.478888 10.203456 15.305184 15.730328 13.179464 16.155472\n",
       "[379] 15.305184 15.305184 15.305184 14.454896 16.155472 13.604608 16.155472\n",
       "[386] 10.628600 16.155472 11.053744  9.353168 13.604608 15.305184 11.478888\n",
       "[393] 11.478888 18.706336 13.604608 11.904032 13.179464"
      ]
     },
     "metadata": {},
     "output_type": "display_data"
    }
   ],
   "source": [
    "kml <- mpg * 0.425144\n",
    "kml"
   ]
  },
  {
   "cell_type": "code",
   "execution_count": 82,
   "id": "e7570c6a",
   "metadata": {
    "vscode": {
     "languageId": "r"
    }
   },
   "outputs": [
    {
     "data": {
      "image/png": "[encoded data removed]",
      "text/plain": [
       "Plot with title \"Histogram of kml\""
      ]
     },
     "metadata": {
      "image/png": {
       "height": 420,
       "width": 420
      }
     },
     "output_type": "display_data"
    }
   ],
   "source": [
    "hist(kml)"
   ]
  },
  {
   "cell_type": "code",
   "execution_count": 89,
   "id": "6a1bc1a9",
   "metadata": {
    "vscode": {
     "languageId": "r"
    }
   },
   "outputs": [
    {
     "data": {
      "image/png": "[encoded data removed]",
      "text/plain": [
       "Plot with title \"Histogram of kml\""
      ]
     },
     "metadata": {
      "image/png": {
       "height": 420,
       "width": 420
      }
     },
     "output_type": "display_data"
    }
   ],
   "source": [
    "hist(kml, col = 10, breaks = 15)"
   ]
  },
  {
   "cell_type": "code",
   "execution_count": 96,
   "id": "b019b475",
   "metadata": {
    "vscode": {
     "languageId": "r"
    }
   },
   "outputs": [
    {
     "data": {
      "image/png": "[encoded data removed]",
      "text/plain": [
       "plot without title"
      ]
     },
     "metadata": {
      "image/png": {
       "height": 420,
       "width": 420
      }
     },
     "output_type": "display_data"
    }
   ],
   "source": [
    "# par(pin = c(160, 90))\n",
    "pairs(Auto_1)"
   ]
  },
  {
   "cell_type": "code",
   "execution_count": 102,
   "id": "55378ea2",
   "metadata": {
    "vscode": {
     "languageId": "r"
    }
   },
   "outputs": [
    {
     "data": {
      "image/png": "[encoded data removed]",
      "text/plain": [
       "plot without title"
      ]
     },
     "metadata": {
      "image/png": {
       "height": 420,
       "width": 420
      }
     },
     "output_type": "display_data"
    }
   ],
   "source": [
    "pairs(~ mpg + displacement + horsepower + weight + acceleration ,data = Auto)"
   ]
  },
  {
   "cell_type": "code",
   "execution_count": 104,
   "id": "5d634bc6",
   "metadata": {
    "vscode": {
     "languageId": "r"
    }
   },
   "outputs": [
    {
     "data": {
      "text/html": [],
      "text/latex": [],
      "text/markdown": [],
      "text/plain": [
       "integer(0)"
      ]
     },
     "metadata": {},
     "output_type": "display_data"
    },
    {
     "data": {
      "image/png": "[encoded data removed]",
      "text/plain": [
       "plot without title"
      ]
     },
     "metadata": {
      "image/png": {
       "height": 420,
       "width": 420
      }
     },
     "output_type": "display_data"
    }
   ],
   "source": [
    "plot(horsepower, mpg)\n",
    "identify(horsepower, mpg, name)"
   ]
  },
  {
   "cell_type": "code",
   "execution_count": 105,
   "id": "3bdb27aa",
   "metadata": {
    "vscode": {
     "languageId": "r"
    }
   },
   "outputs": [
    {
     "data": {
      "text/plain": [
       "      mpg          cylinders      displacement     horsepower        weight    \n",
       " Min.   : 9.00   Min.   :3.000   Min.   : 68.0   Min.   : 46.0   Min.   :1613  \n",
       " 1st Qu.:17.00   1st Qu.:4.000   1st Qu.:105.0   1st Qu.: 75.0   1st Qu.:2225  \n",
       " Median :22.75   Median :4.000   Median :151.0   Median : 93.5   Median :2804  \n",
       " Mean   :23.45   Mean   :5.472   Mean   :194.4   Mean   :104.5   Mean   :2978  \n",
       " 3rd Qu.:29.00   3rd Qu.:8.000   3rd Qu.:275.8   3rd Qu.:126.0   3rd Qu.:3615  \n",
       " Max.   :46.60   Max.   :8.000   Max.   :455.0   Max.   :230.0   Max.   :5140  \n",
       "                                                                               \n",
       "  acceleration        year           origin                      name    \n",
       " Min.   : 8.00   Min.   :70.00   Min.   :1.000   amc matador       :  5  \n",
       " 1st Qu.:13.78   1st Qu.:73.00   1st Qu.:1.000   ford pinto        :  5  \n",
       " Median :15.50   Median :76.00   Median :1.000   toyota corolla    :  5  \n",
       " Mean   :15.54   Mean   :75.98   Mean   :1.577   amc gremlin       :  4  \n",
       " 3rd Qu.:17.02   3rd Qu.:79.00   3rd Qu.:2.000   amc hornet        :  4  \n",
       " Max.   :24.80   Max.   :82.00   Max.   :3.000   chevrolet chevette:  4  \n",
       "                                                 (Other)           :365  "
      ]
     },
     "metadata": {},
     "output_type": "display_data"
    }
   ],
   "source": [
    "summary(Auto_1)"
   ]
  },
  {
   "cell_type": "code",
   "execution_count": 106,
   "id": "76cf595a",
   "metadata": {
    "vscode": {
     "languageId": "r"
    }
   },
   "outputs": [
    {
     "data": {
      "text/plain": [
       "   Min. 1st Qu.  Median    Mean 3rd Qu.    Max. \n",
       "  3.826   7.440   9.778   9.998  12.329  19.812 "
      ]
     },
     "metadata": {},
     "output_type": "display_data"
    }
   ],
   "source": [
    "summary(kml)"
   ]
  },
  {
   "cell_type": "code",
   "execution_count": 107,
   "id": "86641ebf",
   "metadata": {
    "vscode": {
     "languageId": "r"
    }
   },
   "outputs": [],
   "source": [
    "q()"
   ]
  },
  {
   "cell_type": "markdown",
   "id": "c15da4b1",
   "metadata": {},
   "source": [
    "Intro to R Lecture"
   ]
  },
  {
   "cell_type": "code",
   "execution_count": 3,
   "id": "71a49cb3",
   "metadata": {
    "vscode": {
     "languageId": "r"
    }
   },
   "outputs": [],
   "source": [
    "x <- c(2, 7, 5)"
   ]
  },
  {
   "cell_type": "code",
   "execution_count": 4,
   "id": "8bd74e2d",
   "metadata": {
    "vscode": {
     "languageId": "r"
    }
   },
   "outputs": [
    {
     "data": {
      "text/html": [
       "<style>\n",
       ".list-inline {list-style: none; margin:0; padding: 0}\n",
       ".list-inline>li {display: inline-block}\n",
       ".list-inline>li:not(:last-child)::after {content: \"\\00b7\"; padding: 0 .5ex}\n",
       "</style>\n",
       "<ol class=list-inline><li>2</li><li>7</li><li>5</li></ol>\n"
      ],
      "text/latex": [
       "\\begin{enumerate*}\n",
       "\\item 2\n",
       "\\item 7\n",
       "\\item 5\n",
       "\\end{enumerate*}\n"
      ],
      "text/markdown": [
       "1. 2\n",
       "2. 7\n",
       "3. 5\n",
       "\n",
       "\n"
      ],
      "text/plain": [
       "[1] 2 7 5"
      ]
     },
     "metadata": {},
     "output_type": "display_data"
    }
   ],
   "source": [
    "x"
   ]
  },
  {
   "cell_type": "code",
   "execution_count": 5,
   "id": "4e2cb796",
   "metadata": {
    "vscode": {
     "languageId": "r"
    }
   },
   "outputs": [],
   "source": [
    "y <- seq(from = 4, length = 3, by = 3)"
   ]
  },
  {
   "cell_type": "code",
   "execution_count": 6,
   "id": "f3a73050",
   "metadata": {
    "vscode": {
     "languageId": "r"
    }
   },
   "outputs": [
    {
     "data": {
      "text/html": [
       "<style>\n",
       ".list-inline {list-style: none; margin:0; padding: 0}\n",
       ".list-inline>li {display: inline-block}\n",
       ".list-inline>li:not(:last-child)::after {content: \"\\00b7\"; padding: 0 .5ex}\n",
       "</style>\n",
       "<ol class=list-inline><li>4</li><li>7</li><li>10</li></ol>\n"
      ],
      "text/latex": [
       "\\begin{enumerate*}\n",
       "\\item 4\n",
       "\\item 7\n",
       "\\item 10\n",
       "\\end{enumerate*}\n"
      ],
      "text/markdown": [
       "1. 4\n",
       "2. 7\n",
       "3. 10\n",
       "\n",
       "\n"
      ],
      "text/plain": [
       "[1]  4  7 10"
      ]
     },
     "metadata": {},
     "output_type": "display_data"
    }
   ],
   "source": [
    "y"
   ]
  },
  {
   "cell_type": "code",
   "execution_count": 7,
   "id": "d1076474",
   "metadata": {
    "vscode": {
     "languageId": "r"
    }
   },
   "outputs": [
    {
     "name": "stdout",
     "output_type": "stream",
     "text": [
      "seq                    package:base                    R Documentation\n",
      "\n",
      "_\bS_\be_\bq_\bu_\be_\bn_\bc_\be _\bG_\be_\bn_\be_\br_\ba_\bt_\bi_\bo_\bn\n",
      "\n",
      "_\bD_\be_\bs_\bc_\br_\bi_\bp_\bt_\bi_\bo_\bn:\n",
      "\n",
      "     Generate regular sequences.  'seq' is a standard generic with a\n",
      "     default method.  'seq.int' is a primitive which can be much faster\n",
      "     but has a few restrictions.  'seq_along' and 'seq_len' are very\n",
      "     fast primitives for two common cases.\n",
      "\n",
      "_\bU_\bs_\ba_\bg_\be:\n",
      "\n",
      "     seq(...)\n",
      "     \n",
      "     ## Default S3 method:\n",
      "     seq(from = 1, to = 1, by = ((to - from)/(length.out - 1)),\n",
      "         length.out = NULL, along.with = NULL, ...)\n",
      "     \n",
      "     seq.int(from, to, by, length.out, along.with, ...)\n",
      "     \n",
      "     seq_along(along.with)\n",
      "     seq_len(length.out)\n",
      "     \n",
      "_\bA_\br_\bg_\bu_\bm_\be_\bn_\bt_\bs:\n",
      "\n",
      "     ...: arguments passed to or from methods.\n",
      "\n",
      "from, to: the starting and (maximal) end values of the sequence.  Of\n",
      "          length '1' unless just 'from' is supplied as an unnamed\n",
      "          argument.\n",
      "\n",
      "      by: number: increment of the sequence.\n",
      "\n",
      "length.out: desired length of the sequence.  A non-negative number,\n",
      "          which for 'seq' and 'seq.int' will be rounded up if\n",
      "          fractional.\n",
      "\n",
      "along.with: take the length from the length of this argument.\n",
      "\n",
      "_\bD_\be_\bt_\ba_\bi_\bl_\bs:\n",
      "\n",
      "     Numerical inputs should all be finite (that is, not infinite,\n",
      "     'NaN' or 'NA').\n",
      "\n",
      "     The interpretation of the unnamed arguments of 'seq' and 'seq.int'\n",
      "     is _not_ standard, and it is recommended always to name the\n",
      "     arguments when programming.\n",
      "\n",
      "     'seq' is generic, and only the default method is described here.\n",
      "     Note that it dispatches on the class of the *first* argument\n",
      "     irrespective of argument names.  This can have unintended\n",
      "     consequences if it is called with just one argument intending this\n",
      "     to be taken as 'along.with': it is much better to use 'seq_along'\n",
      "     in that case.\n",
      "\n",
      "     'seq.int' is an internal generic which dispatches on methods for\n",
      "     '\"seq\"' based on the class of the first supplied argument (before\n",
      "     argument matching).\n",
      "\n",
      "     Typical usages are\n",
      "\n",
      "     seq(from, to)\n",
      "     seq(from, to, by= )\n",
      "     seq(from, to, length.out= )\n",
      "     seq(along.with= )\n",
      "     seq(from)\n",
      "     seq(length.out= )\n",
      "     \n",
      "     The first form generates the sequence 'from, from+/-1, ..., to'\n",
      "     (identical to 'from:to').\n",
      "\n",
      "     The second form generates 'from, from+by', ..., up to the sequence\n",
      "     value less than or equal to 'to'.  Specifying 'to - from' and 'by'\n",
      "     of opposite signs is an error.  Note that the computed final value\n",
      "     can go just beyond 'to' to allow for rounding error, but is\n",
      "     truncated to 'to'.  ('Just beyond' is by up to 1e-10 times\n",
      "     'abs(from - to)'.)\n",
      "\n",
      "     The third generates a sequence of 'length.out' equally spaced\n",
      "     values from 'from' to 'to'.  ('length.out' is usually abbreviated\n",
      "     to 'length' or 'len', and 'seq_len' is much faster.)\n",
      "\n",
      "     The fourth form generates the integer sequence '1, 2, ...,\n",
      "     length(along.with)'.  ('along.with' is usually abbreviated to\n",
      "     'along', and 'seq_along' is much faster.)\n",
      "\n",
      "     The fifth form generates the sequence '1, 2, ..., length(from)'\n",
      "     (as if argument 'along.with' had been specified), _unless_ the\n",
      "     argument is numeric of length 1 when it is interpreted as '1:from'\n",
      "     (even for 'seq(0)' for compatibility with S).  Using either\n",
      "     'seq_along' or 'seq_len' is much preferred (unless strict S\n",
      "     compatibility is essential).\n",
      "\n",
      "     The final form generates the integer sequence '1, 2, ...,\n",
      "     length.out' unless 'length.out = 0', when it generates\n",
      "     'integer(0)'.\n",
      "\n",
      "     Very small sequences (with 'from - to' of the order of 10^{-14}\n",
      "     times the larger of the ends) will return 'from'.\n",
      "\n",
      "     For 'seq' (only), up to two of 'from', 'to' and 'by' can be\n",
      "     supplied as complex values provided 'length.out' or 'along.with'\n",
      "     is specified.  More generally, the default method of 'seq' will\n",
      "     handle classed objects with methods for the 'Math', 'Ops' and\n",
      "     'Summary' group generics.\n",
      "\n",
      "     'seq.int', 'seq_along' and 'seq_len' are primitive.\n",
      "\n",
      "_\bV_\ba_\bl_\bu_\be:\n",
      "\n",
      "     'seq.int' and the default method of 'seq' for numeric arguments\n",
      "     return a vector of type '\"integer\"' or '\"double\"': programmers\n",
      "     should not rely on which.\n",
      "\n",
      "     'seq_along' and 'seq_len' return an integer vector, unless it is a\n",
      "     _long vector_ when it will be double.\n",
      "\n",
      "_\bR_\be_\bf_\be_\br_\be_\bn_\bc_\be_\bs:\n",
      "\n",
      "     Becker, R. A., Chambers, J. M. and Wilks, A. R. (1988) _The New S\n",
      "     Language_.  Wadsworth & Brooks/Cole.\n",
      "\n",
      "_\bS_\be_\be _\bA_\bl_\bs_\bo:\n",
      "\n",
      "     The methods 'seq.Date' and 'seq.POSIXt'.\n",
      "\n",
      "     ':', 'rep', 'sequence', 'row', 'col'.\n",
      "\n",
      "_\bE_\bx_\ba_\bm_\bp_\bl_\be_\bs:\n",
      "\n",
      "     seq(0, 1, length.out = 11)\n",
      "     seq(stats::rnorm(20)) # effectively 'along'\n",
      "     seq(1, 9, by = 2)     # matches 'end'\n",
      "     seq(1, 9, by = pi)    # stays below 'end'\n",
      "     seq(1, 6, by = 3)\n",
      "     seq(1.575, 5.125, by = 0.05)\n",
      "     seq(17) # same as 1:17, or even better seq_len(17)\n",
      "     "
     ]
    }
   ],
   "source": [
    "?seq"
   ]
  },
  {
   "cell_type": "code",
   "execution_count": 9,
   "id": "fb5bf3d0",
   "metadata": {
    "vscode": {
     "languageId": "r"
    }
   },
   "outputs": [
    {
     "data": {
      "text/html": [
       "<style>\n",
       ".list-inline {list-style: none; margin:0; padding: 0}\n",
       ".list-inline>li {display: inline-block}\n",
       ".list-inline>li:not(:last-child)::after {content: \"\\00b7\"; padding: 0 .5ex}\n",
       "</style>\n",
       "<ol class=list-inline><li>6</li><li>14</li><li>15</li></ol>\n"
      ],
      "text/latex": [
       "\\begin{enumerate*}\n",
       "\\item 6\n",
       "\\item 14\n",
       "\\item 15\n",
       "\\end{enumerate*}\n"
      ],
      "text/markdown": [
       "1. 6\n",
       "2. 14\n",
       "3. 15\n",
       "\n",
       "\n"
      ],
      "text/plain": [
       "[1]  6 14 15"
      ]
     },
     "metadata": {},
     "output_type": "display_data"
    }
   ],
   "source": [
    "x + y"
   ]
  },
  {
   "cell_type": "code",
   "execution_count": 10,
   "id": "25f8f881",
   "metadata": {
    "vscode": {
     "languageId": "r"
    }
   },
   "outputs": [
    {
     "data": {
      "text/html": [
       "7"
      ],
      "text/latex": [
       "7"
      ],
      "text/markdown": [
       "7"
      ],
      "text/plain": [
       "[1] 7"
      ]
     },
     "metadata": {},
     "output_type": "display_data"
    }
   ],
   "source": [
    "x[2]"
   ]
  },
  {
   "cell_type": "code",
   "execution_count": 11,
   "id": "035fef89",
   "metadata": {
    "vscode": {
     "languageId": "r"
    }
   },
   "outputs": [
    {
     "data": {
      "text/html": [
       "<style>\n",
       ".list-inline {list-style: none; margin:0; padding: 0}\n",
       ".list-inline>li {display: inline-block}\n",
       ".list-inline>li:not(:last-child)::after {content: \"\\00b7\"; padding: 0 .5ex}\n",
       "</style>\n",
       "<ol class=list-inline><li>7</li><li>5</li></ol>\n"
      ],
      "text/latex": [
       "\\begin{enumerate*}\n",
       "\\item 7\n",
       "\\item 5\n",
       "\\end{enumerate*}\n"
      ],
      "text/markdown": [
       "1. 7\n",
       "2. 5\n",
       "\n",
       "\n"
      ],
      "text/plain": [
       "[1] 7 5"
      ]
     },
     "metadata": {},
     "output_type": "display_data"
    }
   ],
   "source": [
    "x[2:3]"
   ]
  },
  {
   "cell_type": "code",
   "execution_count": 12,
   "id": "374cbbd8",
   "metadata": {
    "vscode": {
     "languageId": "r"
    }
   },
   "outputs": [
    {
     "data": {
      "text/html": [
       "<style>\n",
       ".list-inline {list-style: none; margin:0; padding: 0}\n",
       ".list-inline>li {display: inline-block}\n",
       ".list-inline>li:not(:last-child)::after {content: \"\\00b7\"; padding: 0 .5ex}\n",
       "</style>\n",
       "<ol class=list-inline><li>2</li><li>5</li></ol>\n"
      ],
      "text/latex": [
       "\\begin{enumerate*}\n",
       "\\item 2\n",
       "\\item 5\n",
       "\\end{enumerate*}\n"
      ],
      "text/markdown": [
       "1. 2\n",
       "2. 5\n",
       "\n",
       "\n"
      ],
      "text/plain": [
       "[1] 2 5"
      ]
     },
     "metadata": {},
     "output_type": "display_data"
    }
   ],
   "source": [
    "x[-2]"
   ]
  },
  {
   "cell_type": "code",
   "execution_count": 13,
   "id": "dd8244d8",
   "metadata": {
    "vscode": {
     "languageId": "r"
    }
   },
   "outputs": [
    {
     "data": {
      "image/png": "[encoded data removed]",
      "text/plain": [
       "plot without title"
      ]
     },
     "metadata": {
      "image/png": {
       "height": 420,
       "width": 420
      }
     },
     "output_type": "display_data"
    }
   ],
   "source": [
    "x <- runif(50)\n",
    "y <- rnorm(50)\n",
    "plot(x,y)"
   ]
  },
  {
   "cell_type": "code",
   "execution_count": 17,
   "id": "4150adfd",
   "metadata": {
    "vscode": {
     "languageId": "r"
    }
   },
   "outputs": [
    {
     "data": {
      "image/png": "[encoded data removed]",
      "text/plain": [
       "Plot with title \"Histogram of y\""
      ]
     },
     "metadata": {
      "image/png": {
       "height": 420,
       "width": 420
      }
     },
     "output_type": "display_data"
    }
   ],
   "source": [
    "par(mfrow = c(2, 1))\n",
    "plot(x, y)\n",
    "hist(y)"
   ]
  },
  {
   "cell_type": "code",
   "execution_count": 18,
   "id": "0b7d970f",
   "metadata": {
    "vscode": {
     "languageId": "r"
    }
   },
   "outputs": [
    {
     "data": {
      "text/html": [
       "<style>\n",
       ".list-inline {list-style: none; margin:0; padding: 0}\n",
       ".list-inline>li {display: inline-block}\n",
       ".list-inline>li:not(:last-child)::after {content: \"\\00b7\"; padding: 0 .5ex}\n",
       "</style>\n",
       "<ol class=list-inline><li>'.GlobalEnv'</li><li>'jupyter:irkernel'</li><li>'package:stats'</li><li>'package:graphics'</li><li>'package:grDevices'</li><li>'package:utils'</li><li>'package:datasets'</li><li>'package:methods'</li><li>'Autoloads'</li><li>'package:base'</li></ol>\n"
      ],
      "text/latex": [
       "\\begin{enumerate*}\n",
       "\\item '.GlobalEnv'\n",
       "\\item 'jupyter:irkernel'\n",
       "\\item 'package:stats'\n",
       "\\item 'package:graphics'\n",
       "\\item 'package:grDevices'\n",
       "\\item 'package:utils'\n",
       "\\item 'package:datasets'\n",
       "\\item 'package:methods'\n",
       "\\item 'Autoloads'\n",
       "\\item 'package:base'\n",
       "\\end{enumerate*}\n"
      ],
      "text/markdown": [
       "1. '.GlobalEnv'\n",
       "2. 'jupyter:irkernel'\n",
       "3. 'package:stats'\n",
       "4. 'package:graphics'\n",
       "5. 'package:grDevices'\n",
       "6. 'package:utils'\n",
       "7. 'package:datasets'\n",
       "8. 'package:methods'\n",
       "9. 'Autoloads'\n",
       "10. 'package:base'\n",
       "\n",
       "\n"
      ],
      "text/plain": [
       " [1] \".GlobalEnv\"        \"jupyter:irkernel\"  \"package:stats\"    \n",
       " [4] \"package:graphics\"  \"package:grDevices\" \"package:utils\"    \n",
       " [7] \"package:datasets\"  \"package:methods\"   \"Autoloads\"        \n",
       "[10] \"package:base\"     "
      ]
     },
     "metadata": {},
     "output_type": "display_data"
    }
   ],
   "source": [
    "search()"
   ]
  },
  {
   "cell_type": "code",
   "execution_count": 19,
   "id": "258ea741",
   "metadata": {
    "vscode": {
     "languageId": "r"
    }
   },
   "outputs": [
    {
     "name": "stderr",
     "output_type": "stream",
     "text": [
      "Loading required package: ISLR2\n",
      "\n"
     ]
    }
   ],
   "source": [
    "require(ISLR2)"
   ]
  },
  {
   "cell_type": "code",
   "execution_count": 20,
   "id": "c5976d71",
   "metadata": {
    "vscode": {
     "languageId": "r"
    }
   },
   "outputs": [],
   "source": [
    "attach(Auto)"
   ]
  },
  {
   "cell_type": "code",
   "execution_count": 21,
   "id": "c77d1178",
   "metadata": {
    "vscode": {
     "languageId": "r"
    }
   },
   "outputs": [
    {
     "data": {
      "text/html": [
       "<style>\n",
       ".list-inline {list-style: none; margin:0; padding: 0}\n",
       ".list-inline>li {display: inline-block}\n",
       ".list-inline>li:not(:last-child)::after {content: \"\\00b7\"; padding: 0 .5ex}\n",
       "</style>\n",
       "<ol class=list-inline><li>'.GlobalEnv'</li><li>'Auto'</li><li>'package:ISLR2'</li><li>'jupyter:irkernel'</li><li>'package:stats'</li><li>'package:graphics'</li><li>'package:grDevices'</li><li>'package:utils'</li><li>'package:datasets'</li><li>'package:methods'</li><li>'Autoloads'</li><li>'package:base'</li></ol>\n"
      ],
      "text/latex": [
       "\\begin{enumerate*}\n",
       "\\item '.GlobalEnv'\n",
       "\\item 'Auto'\n",
       "\\item 'package:ISLR2'\n",
       "\\item 'jupyter:irkernel'\n",
       "\\item 'package:stats'\n",
       "\\item 'package:graphics'\n",
       "\\item 'package:grDevices'\n",
       "\\item 'package:utils'\n",
       "\\item 'package:datasets'\n",
       "\\item 'package:methods'\n",
       "\\item 'Autoloads'\n",
       "\\item 'package:base'\n",
       "\\end{enumerate*}\n"
      ],
      "text/markdown": [
       "1. '.GlobalEnv'\n",
       "2. 'Auto'\n",
       "3. 'package:ISLR2'\n",
       "4. 'jupyter:irkernel'\n",
       "5. 'package:stats'\n",
       "6. 'package:graphics'\n",
       "7. 'package:grDevices'\n",
       "8. 'package:utils'\n",
       "9. 'package:datasets'\n",
       "10. 'package:methods'\n",
       "11. 'Autoloads'\n",
       "12. 'package:base'\n",
       "\n",
       "\n"
      ],
      "text/plain": [
       " [1] \".GlobalEnv\"        \"Auto\"              \"package:ISLR2\"    \n",
       " [4] \"jupyter:irkernel\"  \"package:stats\"     \"package:graphics\" \n",
       " [7] \"package:grDevices\" \"package:utils\"     \"package:datasets\" \n",
       "[10] \"package:methods\"   \"Autoloads\"         \"package:base\"     "
      ]
     },
     "metadata": {},
     "output_type": "display_data"
    }
   ],
   "source": [
    "search()"
   ]
  },
  {
   "cell_type": "code",
   "execution_count": null,
   "id": "ef7c14a4",
   "metadata": {
    "vscode": {
     "languageId": "r"
    }
   },
   "outputs": [],
   "source": []
  }
 ],
 "metadata": {
  "kernelspec": {
   "display_name": "R",
   "language": "R",
   "name": "ir"
  },
  "language_info": {
   "codemirror_mode": "r",
   "file_extension": ".r",
   "mimetype": "text/x-r-source",
   "name": "R",
   "pygments_lexer": "r",
   "version": "4.3.2"
  }
 },
 "nbformat": 4,
 "nbformat_minor": 5
}
