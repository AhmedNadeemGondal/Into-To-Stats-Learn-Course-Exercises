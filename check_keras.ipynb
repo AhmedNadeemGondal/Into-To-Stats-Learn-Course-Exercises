{
 "cells": [
  {
   "cell_type": "code",
   "execution_count": 3,
   "metadata": {
    "vscode": {
     "languageId": "r"
    }
   },
   "outputs": [],
   "source": [
    "library(keras3)"
   ]
  },
  {
   "cell_type": "code",
   "execution_count": 4,
   "metadata": {
    "vscode": {
     "languageId": "r"
    }
   },
   "outputs": [
    {
     "ename": "ERROR",
     "evalue": "Error: C:/Users/ahmed.gondal/AppData/Local/anaconda3/python311.dll - The specified module could not be found.\r\n\n",
     "output_type": "error",
     "traceback": [
      "Error: C:/Users/ahmed.gondal/AppData/Local/anaconda3/python311.dll - The specified module could not be found.\r\n\nTraceback:\n",
      "1. dataset_mnist()",
      "2. keras$datasets",
      "3. `$.python.builtin.module`(keras, \"datasets\")",
      "4. py_get_attr(x, name, TRUE)",
      "5. (function (proxy) \n . {\n .     if (!py_is_module_proxy(proxy)) \n .         return(FALSE)\n .     collect_value <- function(name, clear = TRUE) {\n .         if (exists(name, envir = proxy, inherits = FALSE)) {\n .             value <- get(name, envir = proxy, inherits = FALSE)\n .             if (clear) \n .                 remove(list = name, envir = proxy)\n .             value\n .         }\n .         else {\n .             NULL\n .         }\n .     }\n .     get_module <- collect_value(\"get_module\")\n .     if (!is.null(get_module)) \n .         assign(\"module\", get_module(), envir = proxy)\n .     module <- get(\"module\", envir = proxy)\n .     before_load <- collect_value(\"before_load\", clear = TRUE)\n .     if (is.function(before_load)) \n .         before_load()\n .     result <- tryCatch(import(module), error = clear_error_handler())\n .     if (inherits(result, \"error\")) {\n .         on_error <- collect_value(\"on_error\", clear = FALSE)\n .         if (!is.null(on_error)) {\n .             if (is.function(on_error)) \n .                 on_error(result)\n .             stop(\"Error loading Python module \", module, call. = FALSE)\n .         }\n .         else {\n .             message <- py_config_error_message(paste(\"Python module\", \n .                 module, \"was not found.\"))\n .             stop(message, call. = FALSE)\n .         }\n .     }\n .     collect_value(\"on_error\", clear = TRUE)\n .     .globals$delay_load_imports <- NULL\n .     py_module_proxy_import(proxy)\n .     on_load <- collect_value(\"on_load\", clear = TRUE)\n .     if (is.function(on_load)) \n .         on_load()\n .     TRUE\n . })(<environment>)",
      "6. on_error(result)",
      "7. stop(e$message, call. = FALSE)"
     ]
    }
   ],
   "source": [
    "mnist <- dataset_mnist()\n",
    "x_train <- mnist$train$x\n",
    "y_train <- mnist$train$y\n",
    "x_test <- mnist$test$x\n",
    "y_test <- mnist$test$y"
   ]
  },
  {
   "cell_type": "code",
   "execution_count": null,
   "metadata": {
    "vscode": {
     "languageId": "r"
    }
   },
   "outputs": [],
   "source": []
  }
 ],
 "metadata": {
  "kernelspec": {
   "display_name": "R",
   "language": "R",
   "name": "ir"
  },
  "language_info": {
   "codemirror_mode": "r",
   "file_extension": ".r",
   "mimetype": "text/x-r-source",
   "name": "R",
   "pygments_lexer": "r",
   "version": "4.4.0"
  }
 },
 "nbformat": 4,
 "nbformat_minor": 2
}
