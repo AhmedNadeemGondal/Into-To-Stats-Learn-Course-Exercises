{
 "cells": [
  {
   "cell_type": "code",
   "execution_count": 2,
   "metadata": {
    "vscode": {
     "languageId": "r"
    }
   },
   "outputs": [],
   "source": [
    "load(\"D:/python_self/freecodecamp/ISL/R_WD/ESL.mixture.rda\")\n"
   ]
  },
  {
   "cell_type": "code",
   "execution_count": 3,
   "metadata": {
    "vscode": {
     "languageId": "r"
    }
   },
   "outputs": [
    {
     "data": {
      "text/html": [
       "<style>\n",
       ".list-inline {list-style: none; margin:0; padding: 0}\n",
       ".list-inline>li {display: inline-block}\n",
       ".list-inline>li:not(:last-child)::after {content: \"\\00b7\"; padding: 0 .5ex}\n",
       "</style>\n",
       "<ol class=list-inline><li>'x'</li><li>'y'</li><li>'xnew'</li><li>'prob'</li><li>'marginal'</li><li>'px1'</li><li>'px2'</li><li>'means'</li></ol>\n"
      ],
      "text/latex": [
       "\\begin{enumerate*}\n",
       "\\item 'x'\n",
       "\\item 'y'\n",
       "\\item 'xnew'\n",
       "\\item 'prob'\n",
       "\\item 'marginal'\n",
       "\\item 'px1'\n",
       "\\item 'px2'\n",
       "\\item 'means'\n",
       "\\end{enumerate*}\n"
      ],
      "text/markdown": [
       "1. 'x'\n",
       "2. 'y'\n",
       "3. 'xnew'\n",
       "4. 'prob'\n",
       "5. 'marginal'\n",
       "6. 'px1'\n",
       "7. 'px2'\n",
       "8. 'means'\n",
       "\n",
       "\n"
      ],
      "text/plain": [
       "[1] \"x\"        \"y\"        \"xnew\"     \"prob\"     \"marginal\" \"px1\"      \"px2\"     \n",
       "[8] \"means\"   "
      ]
     },
     "metadata": {},
     "output_type": "display_data"
    }
   ],
   "source": [
    "names(ESL.mixture)\n"
   ]
  },
  {
   "cell_type": "code",
   "execution_count": 8,
   "metadata": {
    "vscode": {
     "languageId": "r"
    }
   },
   "outputs": [],
   "source": [
    "attach(ESL.mixture)\n"
   ]
  },
  {
   "cell_type": "code",
   "execution_count": 9,
   "metadata": {
    "vscode": {
     "languageId": "r"
    }
   },
   "outputs": [
    {
     "data": {
      "image/png": "[encoded data removed]",
      "text/plain": [
       "plot without title"
      ]
     },
     "metadata": {
      "image/png": {
       "height": 420,
       "width": 420
      }
     },
     "output_type": "display_data"
    }
   ],
   "source": [
    "plot(x, col = y + 1)\n"
   ]
  },
  {
   "cell_type": "code",
   "execution_count": 11,
   "metadata": {
    "vscode": {
     "languageId": "r"
    }
   },
   "outputs": [],
   "source": [
    "dat <- data.frame(y = factor(y), x)\n"
   ]
  },
  {
   "cell_type": "code",
   "execution_count": 13,
   "metadata": {
    "vscode": {
     "languageId": "r"
    }
   },
   "outputs": [
    {
     "name": "stderr",
     "output_type": "stream",
     "text": [
      "Loading required package: e1071\n",
      "\n",
      "Warning message:\n",
      "\"package 'e1071' was built under R version 4.4.1\"\n"
     ]
    }
   ],
   "source": [
    "require(e1071)\n"
   ]
  },
  {
   "cell_type": "code",
   "execution_count": 14,
   "metadata": {
    "vscode": {
     "languageId": "r"
    }
   },
   "outputs": [],
   "source": [
    "fit <- svm(factor(y) ~ .,\n",
    "    data = dat,\n",
    "    scale = FALSE,\n",
    "    kernel = \"radial\",\n",
    "    cost = 5\n",
    ")\n"
   ]
  },
  {
   "cell_type": "code",
   "execution_count": 15,
   "metadata": {
    "vscode": {
     "languageId": "r"
    }
   },
   "outputs": [],
   "source": [
    "xgrid <- expand.grid(X1 = px1, X2 = px2)\n",
    "ygrid <- predict(fit, xgrid)\n"
   ]
  },
  {
   "cell_type": "code",
   "execution_count": 19,
   "metadata": {
    "vscode": {
     "languageId": "r"
    }
   },
   "outputs": [
    {
     "data": {
      "image/png": "[encoded data removed]",
      "text/plain": [
       "plot without title"
      ]
     },
     "metadata": {
      "image/png": {
       "height": 420,
       "width": 420
      }
     },
     "output_type": "display_data"
    }
   ],
   "source": [
    "plot(xgrid, col = as.numeric(ygrid), pch = 20, cex = .7)\n",
    "points(x, col = y + 1, pch = 19)\n"
   ]
  },
  {
   "cell_type": "code",
   "execution_count": 24,
   "metadata": {
    "vscode": {
     "languageId": "r"
    }
   },
   "outputs": [],
   "source": [
    "func <- predict(fit, xgrid, decision.values = TRUE)\n",
    "func <- attributes(func)$decision\n"
   ]
  },
  {
   "cell_type": "code",
   "execution_count": 25,
   "metadata": {
    "vscode": {
     "languageId": "r"
    }
   },
   "outputs": [
    {
     "data": {
      "text/html": [
       "<table class=\"dataframe\">\n",
       "<caption>A matrix: 6831 × 1 of type dbl</caption>\n",
       "<thead>\n",
       "\t<tr><th></th><th scope=col>0/1</th></tr>\n",
       "</thead>\n",
       "<tbody>\n",
       "\t<tr><th scope=row>1</th><td>-0.0547559831</td></tr>\n",
       "\t<tr><th scope=row>2</th><td>-0.0499997805</td></tr>\n",
       "\t<tr><th scope=row>3</th><td>-0.0445018502</td></tr>\n",
       "\t<tr><th scope=row>4</th><td>-0.0382759841</td></tr>\n",
       "\t<tr><th scope=row>5</th><td>-0.0313684094</td></tr>\n",
       "\t<tr><th scope=row>6</th><td>-0.0238609588</td></tr>\n",
       "\t<tr><th scope=row>7</th><td>-0.0158721870</td></tr>\n",
       "\t<tr><th scope=row>8</th><td>-0.0075558168</td></tr>\n",
       "\t<tr><th scope=row>9</th><td> 0.0009040118</td></tr>\n",
       "\t<tr><th scope=row>10</th><td> 0.0093010579</td></tr>\n",
       "\t<tr><th scope=row>11</th><td> 0.0174189948</td></tr>\n",
       "\t<tr><th scope=row>12</th><td> 0.0250469663</td></tr>\n",
       "\t<tr><th scope=row>13</th><td> 0.0319981832</td></tr>\n",
       "\t<tr><th scope=row>14</th><td> 0.0381306985</td></tr>\n",
       "\t<tr><th scope=row>15</th><td> 0.0433691517</td></tr>\n",
       "\t<tr><th scope=row>16</th><td> 0.0477259703</td></tr>\n",
       "\t<tr><th scope=row>17</th><td> 0.0513203049</td></tr>\n",
       "\t<tr><th scope=row>18</th><td> 0.0543928793</td></tr>\n",
       "\t<tr><th scope=row>19</th><td> 0.0573149897</td></tr>\n",
       "\t<tr><th scope=row>20</th><td> 0.0605901045</td></tr>\n",
       "\t<tr><th scope=row>21</th><td> 0.0648468878</td></tr>\n",
       "\t<tr><th scope=row>22</th><td> 0.0708229932</td></tr>\n",
       "\t<tr><th scope=row>23</th><td> 0.0793395978</td></tr>\n",
       "\t<tr><th scope=row>24</th><td> 0.0912673434</td></tr>\n",
       "\t<tr><th scope=row>25</th><td> 0.1074850386</td></tr>\n",
       "\t<tr><th scope=row>26</th><td> 0.1288331169</td></tr>\n",
       "\t<tr><th scope=row>27</th><td> 0.1560643554</td></tr>\n",
       "\t<tr><th scope=row>28</th><td> 0.1897947080</td></tr>\n",
       "\t<tr><th scope=row>29</th><td> 0.2304572413</td></tr>\n",
       "\t<tr><th scope=row>30</th><td> 0.2782620797</td></tr>\n",
       "\t<tr><th scope=row>⋮</th><td>⋮</td></tr>\n",
       "\t<tr><th scope=row>6802</th><td>-1.1855900</td></tr>\n",
       "\t<tr><th scope=row>6803</th><td>-1.1693653</td></tr>\n",
       "\t<tr><th scope=row>6804</th><td>-1.1367077</td></tr>\n",
       "\t<tr><th scope=row>6805</th><td>-1.0870516</td></tr>\n",
       "\t<tr><th scope=row>6806</th><td>-1.0209511</td></tr>\n",
       "\t<tr><th scope=row>6807</th><td>-0.9400922</td></tr>\n",
       "\t<tr><th scope=row>6808</th><td>-0.8472133</td></tr>\n",
       "\t<tr><th scope=row>6809</th><td>-0.7459366</td></tr>\n",
       "\t<tr><th scope=row>6810</th><td>-0.6405260</td></tr>\n",
       "\t<tr><th scope=row>6811</th><td>-0.5355898</td></tr>\n",
       "\t<tr><th scope=row>6812</th><td>-0.4357527</td></tr>\n",
       "\t<tr><th scope=row>6813</th><td>-0.3453277</td></tr>\n",
       "\t<tr><th scope=row>6814</th><td>-0.2680121</td></tr>\n",
       "\t<tr><th scope=row>6815</th><td>-0.2066356</td></tr>\n",
       "\t<tr><th scope=row>6816</th><td>-0.1629783</td></tr>\n",
       "\t<tr><th scope=row>6817</th><td>-0.1376736</td></tr>\n",
       "\t<tr><th scope=row>6818</th><td>-0.1302007</td></tr>\n",
       "\t<tr><th scope=row>6819</th><td>-0.1389642</td></tr>\n",
       "\t<tr><th scope=row>6820</th><td>-0.1614516</td></tr>\n",
       "\t<tr><th scope=row>6821</th><td>-0.1944510</td></tr>\n",
       "\t<tr><th scope=row>6822</th><td>-0.2343103</td></tr>\n",
       "\t<tr><th scope=row>6823</th><td>-0.2772133</td></tr>\n",
       "\t<tr><th scope=row>6824</th><td>-0.3194501</td></tr>\n",
       "\t<tr><th scope=row>6825</th><td>-0.3576615</td></tr>\n",
       "\t<tr><th scope=row>6826</th><td>-0.3890385</td></tr>\n",
       "\t<tr><th scope=row>6827</th><td>-0.4114665</td></tr>\n",
       "\t<tr><th scope=row>6828</th><td>-0.4236056</td></tr>\n",
       "\t<tr><th scope=row>6829</th><td>-0.4249080</td></tr>\n",
       "\t<tr><th scope=row>6830</th><td>-0.4155765</td></tr>\n",
       "\t<tr><th scope=row>6831</th><td>-0.3964730</td></tr>\n",
       "</tbody>\n",
       "</table>\n"
      ],
      "text/latex": [
       "A matrix: 6831 × 1 of type dbl\n",
       "\\begin{tabular}{r|l}\n",
       "  & 0/1\\\\\n",
       "\\hline\n",
       "\t1 & -0.0547559831\\\\\n",
       "\t2 & -0.0499997805\\\\\n",
       "\t3 & -0.0445018502\\\\\n",
       "\t4 & -0.0382759841\\\\\n",
       "\t5 & -0.0313684094\\\\\n",
       "\t6 & -0.0238609588\\\\\n",
       "\t7 & -0.0158721870\\\\\n",
       "\t8 & -0.0075558168\\\\\n",
       "\t9 &  0.0009040118\\\\\n",
       "\t10 &  0.0093010579\\\\\n",
       "\t11 &  0.0174189948\\\\\n",
       "\t12 &  0.0250469663\\\\\n",
       "\t13 &  0.0319981832\\\\\n",
       "\t14 &  0.0381306985\\\\\n",
       "\t15 &  0.0433691517\\\\\n",
       "\t16 &  0.0477259703\\\\\n",
       "\t17 &  0.0513203049\\\\\n",
       "\t18 &  0.0543928793\\\\\n",
       "\t19 &  0.0573149897\\\\\n",
       "\t20 &  0.0605901045\\\\\n",
       "\t21 &  0.0648468878\\\\\n",
       "\t22 &  0.0708229932\\\\\n",
       "\t23 &  0.0793395978\\\\\n",
       "\t24 &  0.0912673434\\\\\n",
       "\t25 &  0.1074850386\\\\\n",
       "\t26 &  0.1288331169\\\\\n",
       "\t27 &  0.1560643554\\\\\n",
       "\t28 &  0.1897947080\\\\\n",
       "\t29 &  0.2304572413\\\\\n",
       "\t30 &  0.2782620797\\\\\n",
       "\t⋮ & ⋮\\\\\n",
       "\t6802 & -1.1855900\\\\\n",
       "\t6803 & -1.1693653\\\\\n",
       "\t6804 & -1.1367077\\\\\n",
       "\t6805 & -1.0870516\\\\\n",
       "\t6806 & -1.0209511\\\\\n",
       "\t6807 & -0.9400922\\\\\n",
       "\t6808 & -0.8472133\\\\\n",
       "\t6809 & -0.7459366\\\\\n",
       "\t6810 & -0.6405260\\\\\n",
       "\t6811 & -0.5355898\\\\\n",
       "\t6812 & -0.4357527\\\\\n",
       "\t6813 & -0.3453277\\\\\n",
       "\t6814 & -0.2680121\\\\\n",
       "\t6815 & -0.2066356\\\\\n",
       "\t6816 & -0.1629783\\\\\n",
       "\t6817 & -0.1376736\\\\\n",
       "\t6818 & -0.1302007\\\\\n",
       "\t6819 & -0.1389642\\\\\n",
       "\t6820 & -0.1614516\\\\\n",
       "\t6821 & -0.1944510\\\\\n",
       "\t6822 & -0.2343103\\\\\n",
       "\t6823 & -0.2772133\\\\\n",
       "\t6824 & -0.3194501\\\\\n",
       "\t6825 & -0.3576615\\\\\n",
       "\t6826 & -0.3890385\\\\\n",
       "\t6827 & -0.4114665\\\\\n",
       "\t6828 & -0.4236056\\\\\n",
       "\t6829 & -0.4249080\\\\\n",
       "\t6830 & -0.4155765\\\\\n",
       "\t6831 & -0.3964730\\\\\n",
       "\\end{tabular}\n"
      ],
      "text/markdown": [
       "\n",
       "A matrix: 6831 × 1 of type dbl\n",
       "\n",
       "| <!--/--> | 0/1 |\n",
       "|---|---|\n",
       "| 1 | -0.0547559831 |\n",
       "| 2 | -0.0499997805 |\n",
       "| 3 | -0.0445018502 |\n",
       "| 4 | -0.0382759841 |\n",
       "| 5 | -0.0313684094 |\n",
       "| 6 | -0.0238609588 |\n",
       "| 7 | -0.0158721870 |\n",
       "| 8 | -0.0075558168 |\n",
       "| 9 |  0.0009040118 |\n",
       "| 10 |  0.0093010579 |\n",
       "| 11 |  0.0174189948 |\n",
       "| 12 |  0.0250469663 |\n",
       "| 13 |  0.0319981832 |\n",
       "| 14 |  0.0381306985 |\n",
       "| 15 |  0.0433691517 |\n",
       "| 16 |  0.0477259703 |\n",
       "| 17 |  0.0513203049 |\n",
       "| 18 |  0.0543928793 |\n",
       "| 19 |  0.0573149897 |\n",
       "| 20 |  0.0605901045 |\n",
       "| 21 |  0.0648468878 |\n",
       "| 22 |  0.0708229932 |\n",
       "| 23 |  0.0793395978 |\n",
       "| 24 |  0.0912673434 |\n",
       "| 25 |  0.1074850386 |\n",
       "| 26 |  0.1288331169 |\n",
       "| 27 |  0.1560643554 |\n",
       "| 28 |  0.1897947080 |\n",
       "| 29 |  0.2304572413 |\n",
       "| 30 |  0.2782620797 |\n",
       "| ⋮ | ⋮ |\n",
       "| 6802 | -1.1855900 |\n",
       "| 6803 | -1.1693653 |\n",
       "| 6804 | -1.1367077 |\n",
       "| 6805 | -1.0870516 |\n",
       "| 6806 | -1.0209511 |\n",
       "| 6807 | -0.9400922 |\n",
       "| 6808 | -0.8472133 |\n",
       "| 6809 | -0.7459366 |\n",
       "| 6810 | -0.6405260 |\n",
       "| 6811 | -0.5355898 |\n",
       "| 6812 | -0.4357527 |\n",
       "| 6813 | -0.3453277 |\n",
       "| 6814 | -0.2680121 |\n",
       "| 6815 | -0.2066356 |\n",
       "| 6816 | -0.1629783 |\n",
       "| 6817 | -0.1376736 |\n",
       "| 6818 | -0.1302007 |\n",
       "| 6819 | -0.1389642 |\n",
       "| 6820 | -0.1614516 |\n",
       "| 6821 | -0.1944510 |\n",
       "| 6822 | -0.2343103 |\n",
       "| 6823 | -0.2772133 |\n",
       "| 6824 | -0.3194501 |\n",
       "| 6825 | -0.3576615 |\n",
       "| 6826 | -0.3890385 |\n",
       "| 6827 | -0.4114665 |\n",
       "| 6828 | -0.4236056 |\n",
       "| 6829 | -0.4249080 |\n",
       "| 6830 | -0.4155765 |\n",
       "| 6831 | -0.3964730 |\n",
       "\n"
      ],
      "text/plain": [
       "     0/1          \n",
       "1    -0.0547559831\n",
       "2    -0.0499997805\n",
       "3    -0.0445018502\n",
       "4    -0.0382759841\n",
       "5    -0.0313684094\n",
       "6    -0.0238609588\n",
       "7    -0.0158721870\n",
       "8    -0.0075558168\n",
       "9     0.0009040118\n",
       "10    0.0093010579\n",
       "11    0.0174189948\n",
       "12    0.0250469663\n",
       "13    0.0319981832\n",
       "14    0.0381306985\n",
       "15    0.0433691517\n",
       "16    0.0477259703\n",
       "17    0.0513203049\n",
       "18    0.0543928793\n",
       "19    0.0573149897\n",
       "20    0.0605901045\n",
       "21    0.0648468878\n",
       "22    0.0708229932\n",
       "23    0.0793395978\n",
       "24    0.0912673434\n",
       "25    0.1074850386\n",
       "26    0.1288331169\n",
       "27    0.1560643554\n",
       "28    0.1897947080\n",
       "29    0.2304572413\n",
       "30    0.2782620797\n",
       "⋮    ⋮            \n",
       "6802 -1.1855900   \n",
       "6803 -1.1693653   \n",
       "6804 -1.1367077   \n",
       "6805 -1.0870516   \n",
       "6806 -1.0209511   \n",
       "6807 -0.9400922   \n",
       "6808 -0.8472133   \n",
       "6809 -0.7459366   \n",
       "6810 -0.6405260   \n",
       "6811 -0.5355898   \n",
       "6812 -0.4357527   \n",
       "6813 -0.3453277   \n",
       "6814 -0.2680121   \n",
       "6815 -0.2066356   \n",
       "6816 -0.1629783   \n",
       "6817 -0.1376736   \n",
       "6818 -0.1302007   \n",
       "6819 -0.1389642   \n",
       "6820 -0.1614516   \n",
       "6821 -0.1944510   \n",
       "6822 -0.2343103   \n",
       "6823 -0.2772133   \n",
       "6824 -0.3194501   \n",
       "6825 -0.3576615   \n",
       "6826 -0.3890385   \n",
       "6827 -0.4114665   \n",
       "6828 -0.4236056   \n",
       "6829 -0.4249080   \n",
       "6830 -0.4155765   \n",
       "6831 -0.3964730   "
      ]
     },
     "metadata": {},
     "output_type": "display_data"
    }
   ],
   "source": [
    "func"
   ]
  },
  {
   "cell_type": "code",
   "execution_count": 29,
   "metadata": {
    "vscode": {
     "languageId": "r"
    }
   },
   "outputs": [
    {
     "data": {
      "image/png": "[encoded data removed]",
      "text/plain": [
       "plot without title"
      ]
     },
     "metadata": {
      "image/png": {
       "height": 420,
       "width": 420
      }
     },
     "output_type": "display_data"
    }
   ],
   "source": [
    "plot(xgrid, col = as.numeric(ygrid), pch = 20, cex = .2)\n",
    "points(x, col = y + 1, pch = 19)\n",
    "contour(px1, px2, matrix(func, 69, 99), level = 0, add = TRUE)\n",
    "contour(px1,\n",
    "    px2,\n",
    "    matrix(prob, 69, 99),\n",
    "    level = .5,\n",
    "    add = TRUE,\n",
    "    col = \"blue\",\n",
    "    lwd = 2\n",
    ")\n"
   ]
  },
  {
   "cell_type": "code",
   "execution_count": null,
   "metadata": {
    "vscode": {
     "languageId": "r"
    }
   },
   "outputs": [],
   "source": []
  }
 ],
 "metadata": {
  "kernelspec": {
   "display_name": "R",
   "language": "R",
   "name": "ir"
  },
  "language_info": {
   "codemirror_mode": "r",
   "file_extension": ".r",
   "mimetype": "text/x-r-source",
   "name": "R",
   "pygments_lexer": "r",
   "version": "4.4.0"
  }
 },
 "nbformat": 4,
 "nbformat_minor": 2
}
