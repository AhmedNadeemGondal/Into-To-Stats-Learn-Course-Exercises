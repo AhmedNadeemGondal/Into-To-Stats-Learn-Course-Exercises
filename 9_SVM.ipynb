{
 "cells": [
  {
   "cell_type": "code",
   "execution_count": 1,
   "metadata": {
    "vscode": {
     "languageId": "r"
    }
   },
   "outputs": [],
   "source": [
    "set.seed(10111)\n"
   ]
  },
  {
   "cell_type": "code",
   "execution_count": 2,
   "metadata": {
    "vscode": {
     "languageId": "r"
    }
   },
   "outputs": [
    {
     "data": {
      "text/html": [
       "<table class=\"dataframe\">\n",
       "<caption>A matrix: 20 × 2 of type dbl</caption>\n",
       "<tbody>\n",
       "\t<tr><td> 0.4992207</td><td> 0.83459057</td></tr>\n",
       "\t<tr><td>-0.5095988</td><td> 0.86535664</td></tr>\n",
       "\t<tr><td>-0.3130123</td><td>-0.54000741</td></tr>\n",
       "\t<tr><td> 0.7136758</td><td> 0.09454017</td></tr>\n",
       "\t<tr><td>-1.0506291</td><td>-0.49390571</td></tr>\n",
       "\t<tr><td>-0.7504743</td><td> 0.19165412</td></tr>\n",
       "\t<tr><td>-0.3502830</td><td>-0.16827662</td></tr>\n",
       "\t<tr><td> 0.6202636</td><td>-0.03877393</td></tr>\n",
       "\t<tr><td>-0.2169360</td><td> 0.03409674</td></tr>\n",
       "\t<tr><td>-0.2485535</td><td> 0.68234694</td></tr>\n",
       "\t<tr><td> 0.3264276</td><td> 0.40061717</td></tr>\n",
       "\t<tr><td>-0.3113315</td><td> 0.38550956</td></tr>\n",
       "\t<tr><td> 1.7057305</td><td> 0.52631182</td></tr>\n",
       "\t<tr><td> 1.3354574</td><td>-1.49779748</td></tr>\n",
       "\t<tr><td>-2.3406379</td><td> 1.20544301</td></tr>\n",
       "\t<tr><td> 0.2445945</td><td>-1.18418390</td></tr>\n",
       "\t<tr><td>-0.2278119</td><td> 0.53916368</td></tr>\n",
       "\t<tr><td>-1.3640324</td><td> 1.32334502</td></tr>\n",
       "\t<tr><td> 0.6404738</td><td> 0.17708567</td></tr>\n",
       "\t<tr><td>-2.0440209</td><td> 0.95016425</td></tr>\n",
       "</tbody>\n",
       "</table>\n"
      ],
      "text/latex": [
       "A matrix: 20 × 2 of type dbl\n",
       "\\begin{tabular}{ll}\n",
       "\t  0.4992207 &  0.83459057\\\\\n",
       "\t -0.5095988 &  0.86535664\\\\\n",
       "\t -0.3130123 & -0.54000741\\\\\n",
       "\t  0.7136758 &  0.09454017\\\\\n",
       "\t -1.0506291 & -0.49390571\\\\\n",
       "\t -0.7504743 &  0.19165412\\\\\n",
       "\t -0.3502830 & -0.16827662\\\\\n",
       "\t  0.6202636 & -0.03877393\\\\\n",
       "\t -0.2169360 &  0.03409674\\\\\n",
       "\t -0.2485535 &  0.68234694\\\\\n",
       "\t  0.3264276 &  0.40061717\\\\\n",
       "\t -0.3113315 &  0.38550956\\\\\n",
       "\t  1.7057305 &  0.52631182\\\\\n",
       "\t  1.3354574 & -1.49779748\\\\\n",
       "\t -2.3406379 &  1.20544301\\\\\n",
       "\t  0.2445945 & -1.18418390\\\\\n",
       "\t -0.2278119 &  0.53916368\\\\\n",
       "\t -1.3640324 &  1.32334502\\\\\n",
       "\t  0.6404738 &  0.17708567\\\\\n",
       "\t -2.0440209 &  0.95016425\\\\\n",
       "\\end{tabular}\n"
      ],
      "text/markdown": [
       "\n",
       "A matrix: 20 × 2 of type dbl\n",
       "\n",
       "|  0.4992207 |  0.83459057 |\n",
       "| -0.5095988 |  0.86535664 |\n",
       "| -0.3130123 | -0.54000741 |\n",
       "|  0.7136758 |  0.09454017 |\n",
       "| -1.0506291 | -0.49390571 |\n",
       "| -0.7504743 |  0.19165412 |\n",
       "| -0.3502830 | -0.16827662 |\n",
       "|  0.6202636 | -0.03877393 |\n",
       "| -0.2169360 |  0.03409674 |\n",
       "| -0.2485535 |  0.68234694 |\n",
       "|  0.3264276 |  0.40061717 |\n",
       "| -0.3113315 |  0.38550956 |\n",
       "|  1.7057305 |  0.52631182 |\n",
       "|  1.3354574 | -1.49779748 |\n",
       "| -2.3406379 |  1.20544301 |\n",
       "|  0.2445945 | -1.18418390 |\n",
       "| -0.2278119 |  0.53916368 |\n",
       "| -1.3640324 |  1.32334502 |\n",
       "|  0.6404738 |  0.17708567 |\n",
       "| -2.0440209 |  0.95016425 |\n",
       "\n"
      ],
      "text/plain": [
       "      [,1]       [,2]       \n",
       " [1,]  0.4992207  0.83459057\n",
       " [2,] -0.5095988  0.86535664\n",
       " [3,] -0.3130123 -0.54000741\n",
       " [4,]  0.7136758  0.09454017\n",
       " [5,] -1.0506291 -0.49390571\n",
       " [6,] -0.7504743  0.19165412\n",
       " [7,] -0.3502830 -0.16827662\n",
       " [8,]  0.6202636 -0.03877393\n",
       " [9,] -0.2169360  0.03409674\n",
       "[10,] -0.2485535  0.68234694\n",
       "[11,]  0.3264276  0.40061717\n",
       "[12,] -0.3113315  0.38550956\n",
       "[13,]  1.7057305  0.52631182\n",
       "[14,]  1.3354574 -1.49779748\n",
       "[15,] -2.3406379  1.20544301\n",
       "[16,]  0.2445945 -1.18418390\n",
       "[17,] -0.2278119  0.53916368\n",
       "[18,] -1.3640324  1.32334502\n",
       "[19,]  0.6404738  0.17708567\n",
       "[20,] -2.0440209  0.95016425"
      ]
     },
     "metadata": {},
     "output_type": "display_data"
    }
   ],
   "source": [
    "x <- matrix(rnorm(40), 20, 2)\n",
    "x\n"
   ]
  },
  {
   "cell_type": "code",
   "execution_count": 3,
   "metadata": {
    "vscode": {
     "languageId": "r"
    }
   },
   "outputs": [],
   "source": [
    "y <- rep(c(-1, 1), c(10, 10))\n"
   ]
  },
  {
   "cell_type": "code",
   "execution_count": 4,
   "metadata": {
    "vscode": {
     "languageId": "r"
    }
   },
   "outputs": [
    {
     "data": {
      "text/html": [
       "<style>\n",
       ".list-inline {list-style: none; margin:0; padding: 0}\n",
       ".list-inline>li {display: inline-block}\n",
       ".list-inline>li:not(:last-child)::after {content: \"\\00b7\"; padding: 0 .5ex}\n",
       "</style>\n",
       "<ol class=list-inline><li>-1</li><li>-1</li><li>-1</li><li>-1</li><li>-1</li><li>-1</li><li>-1</li><li>-1</li><li>-1</li><li>-1</li><li>1</li><li>1</li><li>1</li><li>1</li><li>1</li><li>1</li><li>1</li><li>1</li><li>1</li><li>1</li></ol>\n"
      ],
      "text/latex": [
       "\\begin{enumerate*}\n",
       "\\item -1\n",
       "\\item -1\n",
       "\\item -1\n",
       "\\item -1\n",
       "\\item -1\n",
       "\\item -1\n",
       "\\item -1\n",
       "\\item -1\n",
       "\\item -1\n",
       "\\item -1\n",
       "\\item 1\n",
       "\\item 1\n",
       "\\item 1\n",
       "\\item 1\n",
       "\\item 1\n",
       "\\item 1\n",
       "\\item 1\n",
       "\\item 1\n",
       "\\item 1\n",
       "\\item 1\n",
       "\\end{enumerate*}\n"
      ],
      "text/markdown": [
       "1. -1\n",
       "2. -1\n",
       "3. -1\n",
       "4. -1\n",
       "5. -1\n",
       "6. -1\n",
       "7. -1\n",
       "8. -1\n",
       "9. -1\n",
       "10. -1\n",
       "11. 1\n",
       "12. 1\n",
       "13. 1\n",
       "14. 1\n",
       "15. 1\n",
       "16. 1\n",
       "17. 1\n",
       "18. 1\n",
       "19. 1\n",
       "20. 1\n",
       "\n",
       "\n"
      ],
      "text/plain": [
       " [1] -1 -1 -1 -1 -1 -1 -1 -1 -1 -1  1  1  1  1  1  1  1  1  1  1"
      ]
     },
     "metadata": {},
     "output_type": "display_data"
    }
   ],
   "source": [
    "y\n"
   ]
  },
  {
   "cell_type": "code",
   "execution_count": 5,
   "metadata": {
    "vscode": {
     "languageId": "r"
    }
   },
   "outputs": [],
   "source": [
    "x[y == 1, ] <- x[y == 1, ] + 1\n"
   ]
  },
  {
   "cell_type": "code",
   "execution_count": 6,
   "metadata": {
    "vscode": {
     "languageId": "r"
    }
   },
   "outputs": [
    {
     "data": {
      "text/html": [
       "<table class=\"dataframe\">\n",
       "<caption>A matrix: 20 × 2 of type dbl</caption>\n",
       "<tbody>\n",
       "\t<tr><td> 0.4992207</td><td> 0.83459057</td></tr>\n",
       "\t<tr><td>-0.5095988</td><td> 0.86535664</td></tr>\n",
       "\t<tr><td>-0.3130123</td><td>-0.54000741</td></tr>\n",
       "\t<tr><td> 0.7136758</td><td> 0.09454017</td></tr>\n",
       "\t<tr><td>-1.0506291</td><td>-0.49390571</td></tr>\n",
       "\t<tr><td>-0.7504743</td><td> 0.19165412</td></tr>\n",
       "\t<tr><td>-0.3502830</td><td>-0.16827662</td></tr>\n",
       "\t<tr><td> 0.6202636</td><td>-0.03877393</td></tr>\n",
       "\t<tr><td>-0.2169360</td><td> 0.03409674</td></tr>\n",
       "\t<tr><td>-0.2485535</td><td> 0.68234694</td></tr>\n",
       "\t<tr><td> 1.3264276</td><td> 1.40061717</td></tr>\n",
       "\t<tr><td> 0.6886685</td><td> 1.38550956</td></tr>\n",
       "\t<tr><td> 2.7057305</td><td> 1.52631182</td></tr>\n",
       "\t<tr><td> 2.3354574</td><td>-0.49779748</td></tr>\n",
       "\t<tr><td>-1.3406379</td><td> 2.20544301</td></tr>\n",
       "\t<tr><td> 1.2445945</td><td>-0.18418390</td></tr>\n",
       "\t<tr><td> 0.7721881</td><td> 1.53916368</td></tr>\n",
       "\t<tr><td>-0.3640324</td><td> 2.32334502</td></tr>\n",
       "\t<tr><td> 1.6404738</td><td> 1.17708567</td></tr>\n",
       "\t<tr><td>-1.0440209</td><td> 1.95016425</td></tr>\n",
       "</tbody>\n",
       "</table>\n"
      ],
      "text/latex": [
       "A matrix: 20 × 2 of type dbl\n",
       "\\begin{tabular}{ll}\n",
       "\t  0.4992207 &  0.83459057\\\\\n",
       "\t -0.5095988 &  0.86535664\\\\\n",
       "\t -0.3130123 & -0.54000741\\\\\n",
       "\t  0.7136758 &  0.09454017\\\\\n",
       "\t -1.0506291 & -0.49390571\\\\\n",
       "\t -0.7504743 &  0.19165412\\\\\n",
       "\t -0.3502830 & -0.16827662\\\\\n",
       "\t  0.6202636 & -0.03877393\\\\\n",
       "\t -0.2169360 &  0.03409674\\\\\n",
       "\t -0.2485535 &  0.68234694\\\\\n",
       "\t  1.3264276 &  1.40061717\\\\\n",
       "\t  0.6886685 &  1.38550956\\\\\n",
       "\t  2.7057305 &  1.52631182\\\\\n",
       "\t  2.3354574 & -0.49779748\\\\\n",
       "\t -1.3406379 &  2.20544301\\\\\n",
       "\t  1.2445945 & -0.18418390\\\\\n",
       "\t  0.7721881 &  1.53916368\\\\\n",
       "\t -0.3640324 &  2.32334502\\\\\n",
       "\t  1.6404738 &  1.17708567\\\\\n",
       "\t -1.0440209 &  1.95016425\\\\\n",
       "\\end{tabular}\n"
      ],
      "text/markdown": [
       "\n",
       "A matrix: 20 × 2 of type dbl\n",
       "\n",
       "|  0.4992207 |  0.83459057 |\n",
       "| -0.5095988 |  0.86535664 |\n",
       "| -0.3130123 | -0.54000741 |\n",
       "|  0.7136758 |  0.09454017 |\n",
       "| -1.0506291 | -0.49390571 |\n",
       "| -0.7504743 |  0.19165412 |\n",
       "| -0.3502830 | -0.16827662 |\n",
       "|  0.6202636 | -0.03877393 |\n",
       "| -0.2169360 |  0.03409674 |\n",
       "| -0.2485535 |  0.68234694 |\n",
       "|  1.3264276 |  1.40061717 |\n",
       "|  0.6886685 |  1.38550956 |\n",
       "|  2.7057305 |  1.52631182 |\n",
       "|  2.3354574 | -0.49779748 |\n",
       "| -1.3406379 |  2.20544301 |\n",
       "|  1.2445945 | -0.18418390 |\n",
       "|  0.7721881 |  1.53916368 |\n",
       "| -0.3640324 |  2.32334502 |\n",
       "|  1.6404738 |  1.17708567 |\n",
       "| -1.0440209 |  1.95016425 |\n",
       "\n"
      ],
      "text/plain": [
       "      [,1]       [,2]       \n",
       " [1,]  0.4992207  0.83459057\n",
       " [2,] -0.5095988  0.86535664\n",
       " [3,] -0.3130123 -0.54000741\n",
       " [4,]  0.7136758  0.09454017\n",
       " [5,] -1.0506291 -0.49390571\n",
       " [6,] -0.7504743  0.19165412\n",
       " [7,] -0.3502830 -0.16827662\n",
       " [8,]  0.6202636 -0.03877393\n",
       " [9,] -0.2169360  0.03409674\n",
       "[10,] -0.2485535  0.68234694\n",
       "[11,]  1.3264276  1.40061717\n",
       "[12,]  0.6886685  1.38550956\n",
       "[13,]  2.7057305  1.52631182\n",
       "[14,]  2.3354574 -0.49779748\n",
       "[15,] -1.3406379  2.20544301\n",
       "[16,]  1.2445945 -0.18418390\n",
       "[17,]  0.7721881  1.53916368\n",
       "[18,] -0.3640324  2.32334502\n",
       "[19,]  1.6404738  1.17708567\n",
       "[20,] -1.0440209  1.95016425"
      ]
     },
     "metadata": {},
     "output_type": "display_data"
    }
   ],
   "source": [
    "x\n"
   ]
  },
  {
   "cell_type": "code",
   "execution_count": 7,
   "metadata": {
    "vscode": {
     "languageId": "r"
    }
   },
   "outputs": [
    {
     "data": {
      "image/png": "[encoded data removed]",
      "text/plain": [
       "plot without title"
      ]
     },
     "metadata": {
      "image/png": {
       "height": 420,
       "width": 420
      }
     },
     "output_type": "display_data"
    }
   ],
   "source": [
    "plot(x, col = y + 3, pch = 19)\n"
   ]
  },
  {
   "cell_type": "code",
   "execution_count": 8,
   "metadata": {
    "vscode": {
     "languageId": "r"
    }
   },
   "outputs": [
    {
     "name": "stderr",
     "output_type": "stream",
     "text": [
      "Loading required package: e1071\n",
      "\n",
      "Warning message:\n",
      "\"package 'e1071' was built under R version 4.4.1\"\n"
     ]
    }
   ],
   "source": [
    "require(e1071)\n"
   ]
  },
  {
   "cell_type": "code",
   "execution_count": 9,
   "metadata": {
    "vscode": {
     "languageId": "r"
    }
   },
   "outputs": [],
   "source": [
    "dat <- data.frame(x, y = as.factor((y)))\n"
   ]
  },
  {
   "cell_type": "code",
   "execution_count": 10,
   "metadata": {
    "vscode": {
     "languageId": "r"
    }
   },
   "outputs": [],
   "source": [
    "svmfit <- svm(y ~ ., data = dat, kernel = \"linear\", cost = 10, scale = FALSE)\n"
   ]
  },
  {
   "cell_type": "code",
   "execution_count": 11,
   "metadata": {
    "vscode": {
     "languageId": "r"
    }
   },
   "outputs": [
    {
     "data": {
      "text/plain": [
       "\n",
       "Call:\n",
       "svm(formula = y ~ ., data = dat, kernel = \"linear\", cost = 10, scale = FALSE)\n",
       "\n",
       "\n",
       "Parameters:\n",
       "   SVM-Type:  C-classification \n",
       " SVM-Kernel:  linear \n",
       "       cost:  10 \n",
       "\n",
       "Number of Support Vectors:  6\n"
      ]
     },
     "metadata": {},
     "output_type": "display_data"
    }
   ],
   "source": [
    "svmfit\n"
   ]
  },
  {
   "cell_type": "code",
   "execution_count": 12,
   "metadata": {
    "vscode": {
     "languageId": "r"
    }
   },
   "outputs": [
    {
     "data": {
      "image/png": "[encoded data removed]",
      "text/plain": [
       "Plot with title \"SVM classification plot\""
      ]
     },
     "metadata": {
      "image/png": {
       "height": 420,
       "width": 420
      }
     },
     "output_type": "display_data"
    }
   ],
   "source": [
    "plot(svmfit, dat)\n"
   ]
  },
  {
   "cell_type": "code",
   "execution_count": 13,
   "metadata": {
    "vscode": {
     "languageId": "r"
    }
   },
   "outputs": [],
   "source": [
    "make_grid <- function(x, n = 75) {\n",
    "    grange <- apply(x, 2, range)\n",
    "    x1 <- seq(from = grange[1, 1], to = grange[2, 2], length = n)\n",
    "    x2 <- seq(from = grange[1, 2], to = grange[2, 2], length = n)\n",
    "    expand.grid(X1 = x1, X2 = x2)\n",
    "}\n"
   ]
  },
  {
   "cell_type": "code",
   "execution_count": 14,
   "metadata": {
    "vscode": {
     "languageId": "r"
    }
   },
   "outputs": [],
   "source": [
    "xgrid <- make_grid(x)\n"
   ]
  },
  {
   "cell_type": "code",
   "execution_count": 15,
   "metadata": {
    "vscode": {
     "languageId": "r"
    }
   },
   "outputs": [
    {
     "data": {
      "text/html": [
       "<table class=\"dataframe\">\n",
       "<caption>A data.frame: 5625 × 2</caption>\n",
       "<thead>\n",
       "\t<tr><th scope=col>X1</th><th scope=col>X2</th></tr>\n",
       "\t<tr><th scope=col>&lt;dbl&gt;</th><th scope=col>&lt;dbl&gt;</th></tr>\n",
       "</thead>\n",
       "<tbody>\n",
       "\t<tr><td>-1.340637901</td><td>-0.5400074</td></tr>\n",
       "\t<tr><td>-1.291124618</td><td>-0.5400074</td></tr>\n",
       "\t<tr><td>-1.241611336</td><td>-0.5400074</td></tr>\n",
       "\t<tr><td>-1.192098053</td><td>-0.5400074</td></tr>\n",
       "\t<tr><td>-1.142584770</td><td>-0.5400074</td></tr>\n",
       "\t<tr><td>-1.093071487</td><td>-0.5400074</td></tr>\n",
       "\t<tr><td>-1.043558204</td><td>-0.5400074</td></tr>\n",
       "\t<tr><td>-0.994044922</td><td>-0.5400074</td></tr>\n",
       "\t<tr><td>-0.944531639</td><td>-0.5400074</td></tr>\n",
       "\t<tr><td>-0.895018356</td><td>-0.5400074</td></tr>\n",
       "\t<tr><td>-0.845505073</td><td>-0.5400074</td></tr>\n",
       "\t<tr><td>-0.795991791</td><td>-0.5400074</td></tr>\n",
       "\t<tr><td>-0.746478508</td><td>-0.5400074</td></tr>\n",
       "\t<tr><td>-0.696965225</td><td>-0.5400074</td></tr>\n",
       "\t<tr><td>-0.647451942</td><td>-0.5400074</td></tr>\n",
       "\t<tr><td>-0.597938660</td><td>-0.5400074</td></tr>\n",
       "\t<tr><td>-0.548425377</td><td>-0.5400074</td></tr>\n",
       "\t<tr><td>-0.498912094</td><td>-0.5400074</td></tr>\n",
       "\t<tr><td>-0.449398811</td><td>-0.5400074</td></tr>\n",
       "\t<tr><td>-0.399885529</td><td>-0.5400074</td></tr>\n",
       "\t<tr><td>-0.350372246</td><td>-0.5400074</td></tr>\n",
       "\t<tr><td>-0.300858963</td><td>-0.5400074</td></tr>\n",
       "\t<tr><td>-0.251345680</td><td>-0.5400074</td></tr>\n",
       "\t<tr><td>-0.201832398</td><td>-0.5400074</td></tr>\n",
       "\t<tr><td>-0.152319115</td><td>-0.5400074</td></tr>\n",
       "\t<tr><td>-0.102805832</td><td>-0.5400074</td></tr>\n",
       "\t<tr><td>-0.053292549</td><td>-0.5400074</td></tr>\n",
       "\t<tr><td>-0.003779266</td><td>-0.5400074</td></tr>\n",
       "\t<tr><td> 0.045734016</td><td>-0.5400074</td></tr>\n",
       "\t<tr><td> 0.095247299</td><td>-0.5400074</td></tr>\n",
       "\t<tr><td>⋮</td><td>⋮</td></tr>\n",
       "\t<tr><td>0.8874598</td><td>2.323345</td></tr>\n",
       "\t<tr><td>0.9369731</td><td>2.323345</td></tr>\n",
       "\t<tr><td>0.9864864</td><td>2.323345</td></tr>\n",
       "\t<tr><td>1.0359997</td><td>2.323345</td></tr>\n",
       "\t<tr><td>1.0855130</td><td>2.323345</td></tr>\n",
       "\t<tr><td>1.1350262</td><td>2.323345</td></tr>\n",
       "\t<tr><td>1.1845395</td><td>2.323345</td></tr>\n",
       "\t<tr><td>1.2340528</td><td>2.323345</td></tr>\n",
       "\t<tr><td>1.2835661</td><td>2.323345</td></tr>\n",
       "\t<tr><td>1.3330794</td><td>2.323345</td></tr>\n",
       "\t<tr><td>1.3825927</td><td>2.323345</td></tr>\n",
       "\t<tr><td>1.4321059</td><td>2.323345</td></tr>\n",
       "\t<tr><td>1.4816192</td><td>2.323345</td></tr>\n",
       "\t<tr><td>1.5311325</td><td>2.323345</td></tr>\n",
       "\t<tr><td>1.5806458</td><td>2.323345</td></tr>\n",
       "\t<tr><td>1.6301591</td><td>2.323345</td></tr>\n",
       "\t<tr><td>1.6796723</td><td>2.323345</td></tr>\n",
       "\t<tr><td>1.7291856</td><td>2.323345</td></tr>\n",
       "\t<tr><td>1.7786989</td><td>2.323345</td></tr>\n",
       "\t<tr><td>1.8282122</td><td>2.323345</td></tr>\n",
       "\t<tr><td>1.8777255</td><td>2.323345</td></tr>\n",
       "\t<tr><td>1.9272388</td><td>2.323345</td></tr>\n",
       "\t<tr><td>1.9767520</td><td>2.323345</td></tr>\n",
       "\t<tr><td>2.0262653</td><td>2.323345</td></tr>\n",
       "\t<tr><td>2.0757786</td><td>2.323345</td></tr>\n",
       "\t<tr><td>2.1252919</td><td>2.323345</td></tr>\n",
       "\t<tr><td>2.1748052</td><td>2.323345</td></tr>\n",
       "\t<tr><td>2.2243185</td><td>2.323345</td></tr>\n",
       "\t<tr><td>2.2738317</td><td>2.323345</td></tr>\n",
       "\t<tr><td>2.3233450</td><td>2.323345</td></tr>\n",
       "</tbody>\n",
       "</table>\n"
      ],
      "text/latex": [
       "A data.frame: 5625 × 2\n",
       "\\begin{tabular}{ll}\n",
       " X1 & X2\\\\\n",
       " <dbl> & <dbl>\\\\\n",
       "\\hline\n",
       "\t -1.340637901 & -0.5400074\\\\\n",
       "\t -1.291124618 & -0.5400074\\\\\n",
       "\t -1.241611336 & -0.5400074\\\\\n",
       "\t -1.192098053 & -0.5400074\\\\\n",
       "\t -1.142584770 & -0.5400074\\\\\n",
       "\t -1.093071487 & -0.5400074\\\\\n",
       "\t -1.043558204 & -0.5400074\\\\\n",
       "\t -0.994044922 & -0.5400074\\\\\n",
       "\t -0.944531639 & -0.5400074\\\\\n",
       "\t -0.895018356 & -0.5400074\\\\\n",
       "\t -0.845505073 & -0.5400074\\\\\n",
       "\t -0.795991791 & -0.5400074\\\\\n",
       "\t -0.746478508 & -0.5400074\\\\\n",
       "\t -0.696965225 & -0.5400074\\\\\n",
       "\t -0.647451942 & -0.5400074\\\\\n",
       "\t -0.597938660 & -0.5400074\\\\\n",
       "\t -0.548425377 & -0.5400074\\\\\n",
       "\t -0.498912094 & -0.5400074\\\\\n",
       "\t -0.449398811 & -0.5400074\\\\\n",
       "\t -0.399885529 & -0.5400074\\\\\n",
       "\t -0.350372246 & -0.5400074\\\\\n",
       "\t -0.300858963 & -0.5400074\\\\\n",
       "\t -0.251345680 & -0.5400074\\\\\n",
       "\t -0.201832398 & -0.5400074\\\\\n",
       "\t -0.152319115 & -0.5400074\\\\\n",
       "\t -0.102805832 & -0.5400074\\\\\n",
       "\t -0.053292549 & -0.5400074\\\\\n",
       "\t -0.003779266 & -0.5400074\\\\\n",
       "\t  0.045734016 & -0.5400074\\\\\n",
       "\t  0.095247299 & -0.5400074\\\\\n",
       "\t ⋮ & ⋮\\\\\n",
       "\t 0.8874598 & 2.323345\\\\\n",
       "\t 0.9369731 & 2.323345\\\\\n",
       "\t 0.9864864 & 2.323345\\\\\n",
       "\t 1.0359997 & 2.323345\\\\\n",
       "\t 1.0855130 & 2.323345\\\\\n",
       "\t 1.1350262 & 2.323345\\\\\n",
       "\t 1.1845395 & 2.323345\\\\\n",
       "\t 1.2340528 & 2.323345\\\\\n",
       "\t 1.2835661 & 2.323345\\\\\n",
       "\t 1.3330794 & 2.323345\\\\\n",
       "\t 1.3825927 & 2.323345\\\\\n",
       "\t 1.4321059 & 2.323345\\\\\n",
       "\t 1.4816192 & 2.323345\\\\\n",
       "\t 1.5311325 & 2.323345\\\\\n",
       "\t 1.5806458 & 2.323345\\\\\n",
       "\t 1.6301591 & 2.323345\\\\\n",
       "\t 1.6796723 & 2.323345\\\\\n",
       "\t 1.7291856 & 2.323345\\\\\n",
       "\t 1.7786989 & 2.323345\\\\\n",
       "\t 1.8282122 & 2.323345\\\\\n",
       "\t 1.8777255 & 2.323345\\\\\n",
       "\t 1.9272388 & 2.323345\\\\\n",
       "\t 1.9767520 & 2.323345\\\\\n",
       "\t 2.0262653 & 2.323345\\\\\n",
       "\t 2.0757786 & 2.323345\\\\\n",
       "\t 2.1252919 & 2.323345\\\\\n",
       "\t 2.1748052 & 2.323345\\\\\n",
       "\t 2.2243185 & 2.323345\\\\\n",
       "\t 2.2738317 & 2.323345\\\\\n",
       "\t 2.3233450 & 2.323345\\\\\n",
       "\\end{tabular}\n"
      ],
      "text/markdown": [
       "\n",
       "A data.frame: 5625 × 2\n",
       "\n",
       "| X1 &lt;dbl&gt; | X2 &lt;dbl&gt; |\n",
       "|---|---|\n",
       "| -1.340637901 | -0.5400074 |\n",
       "| -1.291124618 | -0.5400074 |\n",
       "| -1.241611336 | -0.5400074 |\n",
       "| -1.192098053 | -0.5400074 |\n",
       "| -1.142584770 | -0.5400074 |\n",
       "| -1.093071487 | -0.5400074 |\n",
       "| -1.043558204 | -0.5400074 |\n",
       "| -0.994044922 | -0.5400074 |\n",
       "| -0.944531639 | -0.5400074 |\n",
       "| -0.895018356 | -0.5400074 |\n",
       "| -0.845505073 | -0.5400074 |\n",
       "| -0.795991791 | -0.5400074 |\n",
       "| -0.746478508 | -0.5400074 |\n",
       "| -0.696965225 | -0.5400074 |\n",
       "| -0.647451942 | -0.5400074 |\n",
       "| -0.597938660 | -0.5400074 |\n",
       "| -0.548425377 | -0.5400074 |\n",
       "| -0.498912094 | -0.5400074 |\n",
       "| -0.449398811 | -0.5400074 |\n",
       "| -0.399885529 | -0.5400074 |\n",
       "| -0.350372246 | -0.5400074 |\n",
       "| -0.300858963 | -0.5400074 |\n",
       "| -0.251345680 | -0.5400074 |\n",
       "| -0.201832398 | -0.5400074 |\n",
       "| -0.152319115 | -0.5400074 |\n",
       "| -0.102805832 | -0.5400074 |\n",
       "| -0.053292549 | -0.5400074 |\n",
       "| -0.003779266 | -0.5400074 |\n",
       "|  0.045734016 | -0.5400074 |\n",
       "|  0.095247299 | -0.5400074 |\n",
       "| ⋮ | ⋮ |\n",
       "| 0.8874598 | 2.323345 |\n",
       "| 0.9369731 | 2.323345 |\n",
       "| 0.9864864 | 2.323345 |\n",
       "| 1.0359997 | 2.323345 |\n",
       "| 1.0855130 | 2.323345 |\n",
       "| 1.1350262 | 2.323345 |\n",
       "| 1.1845395 | 2.323345 |\n",
       "| 1.2340528 | 2.323345 |\n",
       "| 1.2835661 | 2.323345 |\n",
       "| 1.3330794 | 2.323345 |\n",
       "| 1.3825927 | 2.323345 |\n",
       "| 1.4321059 | 2.323345 |\n",
       "| 1.4816192 | 2.323345 |\n",
       "| 1.5311325 | 2.323345 |\n",
       "| 1.5806458 | 2.323345 |\n",
       "| 1.6301591 | 2.323345 |\n",
       "| 1.6796723 | 2.323345 |\n",
       "| 1.7291856 | 2.323345 |\n",
       "| 1.7786989 | 2.323345 |\n",
       "| 1.8282122 | 2.323345 |\n",
       "| 1.8777255 | 2.323345 |\n",
       "| 1.9272388 | 2.323345 |\n",
       "| 1.9767520 | 2.323345 |\n",
       "| 2.0262653 | 2.323345 |\n",
       "| 2.0757786 | 2.323345 |\n",
       "| 2.1252919 | 2.323345 |\n",
       "| 2.1748052 | 2.323345 |\n",
       "| 2.2243185 | 2.323345 |\n",
       "| 2.2738317 | 2.323345 |\n",
       "| 2.3233450 | 2.323345 |\n",
       "\n"
      ],
      "text/plain": [
       "     X1           X2        \n",
       "1    -1.340637901 -0.5400074\n",
       "2    -1.291124618 -0.5400074\n",
       "3    -1.241611336 -0.5400074\n",
       "4    -1.192098053 -0.5400074\n",
       "5    -1.142584770 -0.5400074\n",
       "6    -1.093071487 -0.5400074\n",
       "7    -1.043558204 -0.5400074\n",
       "8    -0.994044922 -0.5400074\n",
       "9    -0.944531639 -0.5400074\n",
       "10   -0.895018356 -0.5400074\n",
       "11   -0.845505073 -0.5400074\n",
       "12   -0.795991791 -0.5400074\n",
       "13   -0.746478508 -0.5400074\n",
       "14   -0.696965225 -0.5400074\n",
       "15   -0.647451942 -0.5400074\n",
       "16   -0.597938660 -0.5400074\n",
       "17   -0.548425377 -0.5400074\n",
       "18   -0.498912094 -0.5400074\n",
       "19   -0.449398811 -0.5400074\n",
       "20   -0.399885529 -0.5400074\n",
       "21   -0.350372246 -0.5400074\n",
       "22   -0.300858963 -0.5400074\n",
       "23   -0.251345680 -0.5400074\n",
       "24   -0.201832398 -0.5400074\n",
       "25   -0.152319115 -0.5400074\n",
       "26   -0.102805832 -0.5400074\n",
       "27   -0.053292549 -0.5400074\n",
       "28   -0.003779266 -0.5400074\n",
       "29    0.045734016 -0.5400074\n",
       "30    0.095247299 -0.5400074\n",
       "⋮    ⋮            ⋮         \n",
       "5596 0.8874598    2.323345  \n",
       "5597 0.9369731    2.323345  \n",
       "5598 0.9864864    2.323345  \n",
       "5599 1.0359997    2.323345  \n",
       "5600 1.0855130    2.323345  \n",
       "5601 1.1350262    2.323345  \n",
       "5602 1.1845395    2.323345  \n",
       "5603 1.2340528    2.323345  \n",
       "5604 1.2835661    2.323345  \n",
       "5605 1.3330794    2.323345  \n",
       "5606 1.3825927    2.323345  \n",
       "5607 1.4321059    2.323345  \n",
       "5608 1.4816192    2.323345  \n",
       "5609 1.5311325    2.323345  \n",
       "5610 1.5806458    2.323345  \n",
       "5611 1.6301591    2.323345  \n",
       "5612 1.6796723    2.323345  \n",
       "5613 1.7291856    2.323345  \n",
       "5614 1.7786989    2.323345  \n",
       "5615 1.8282122    2.323345  \n",
       "5616 1.8777255    2.323345  \n",
       "5617 1.9272388    2.323345  \n",
       "5618 1.9767520    2.323345  \n",
       "5619 2.0262653    2.323345  \n",
       "5620 2.0757786    2.323345  \n",
       "5621 2.1252919    2.323345  \n",
       "5622 2.1748052    2.323345  \n",
       "5623 2.2243185    2.323345  \n",
       "5624 2.2738317    2.323345  \n",
       "5625 2.3233450    2.323345  "
      ]
     },
     "metadata": {},
     "output_type": "display_data"
    }
   ],
   "source": [
    "xgrid\n"
   ]
  },
  {
   "cell_type": "code",
   "execution_count": 16,
   "metadata": {
    "vscode": {
     "languageId": "r"
    }
   },
   "outputs": [],
   "source": [
    "ygrid <- predict(svmfit, xgrid)\n"
   ]
  },
  {
   "cell_type": "code",
   "execution_count": 17,
   "metadata": {
    "vscode": {
     "languageId": "r"
    }
   },
   "outputs": [
    {
     "data": {
      "image/png": "[encoded data removed]",
      "text/plain": [
       "plot without title"
      ]
     },
     "metadata": {
      "image/png": {
       "height": 420,
       "width": 420
      }
     },
     "output_type": "display_data"
    }
   ],
   "source": [
    "plot(xgrid, col = c(\"red\", \"blue\")[as.numeric(ygrid)], pch = 20, cex = .2)\n",
    "points(x, col = y + 3, pch = 19)\n",
    "points(x[svmfit$index, ], pch = 5, cex = 2)\n"
   ]
  },
  {
   "cell_type": "code",
   "execution_count": 18,
   "metadata": {
    "vscode": {
     "languageId": "r"
    }
   },
   "outputs": [],
   "source": [
    "beta <- drop(t(svmfit$coefs) %*% x[svmfit$index, ])\n",
    "beta0 <- svmfit$rho\n"
   ]
  },
  {
   "cell_type": "code",
   "execution_count": 19,
   "metadata": {
    "vscode": {
     "languageId": "r"
    }
   },
   "outputs": [
    {
     "data": {
      "image/png": "[encoded data removed]",
      "text/plain": [
       "plot without title"
      ]
     },
     "metadata": {
      "image/png": {
       "height": 420,
       "width": 420
      }
     },
     "output_type": "display_data"
    }
   ],
   "source": [
    "plot(xgrid, col = c(\"red\", \"blue\")[as.numeric(ygrid)], pch = 20, cex = .2)\n",
    "points(x, col = y + 3, pch = 19)\n",
    "points(x[svmfit$index, ], pch = 5, cex = 2)\n",
    "abline(beta0 / beta[2], -beta[1] / beta[2])\n",
    "abline((beta0 - 1) / beta[2], -beta[1] / beta[2], lty = 2)\n",
    "abline((beta0 + 1) / beta[2], -beta[1] / beta[2], lty = 2)\n"
   ]
  }
 ],
 "metadata": {
  "kernelspec": {
   "display_name": "R",
   "language": "R",
   "name": "ir"
  },
  "language_info": {
   "codemirror_mode": "r",
   "file_extension": ".r",
   "mimetype": "text/x-r-source",
   "name": "R",
   "pygments_lexer": "r",
   "version": "4.4.0"
  }
 },
 "nbformat": 4,
 "nbformat_minor": 2
}
