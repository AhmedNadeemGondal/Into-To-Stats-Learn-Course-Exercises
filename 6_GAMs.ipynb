{
 "cells": [
  {
   "cell_type": "code",
   "execution_count": 2,
   "metadata": {
    "vscode": {
     "languageId": "r"
    }
   },
   "outputs": [
    {
     "name": "stderr",
     "output_type": "stream",
     "text": [
      "Loading required package: ISLR2\n",
      "\n"
     ]
    }
   ],
   "source": [
    "require(ISLR2)\n"
   ]
  },
  {
   "cell_type": "code",
   "execution_count": 3,
   "metadata": {
    "vscode": {
     "languageId": "r"
    }
   },
   "outputs": [],
   "source": [
    "attach(Wage)\n"
   ]
  },
  {
   "cell_type": "code",
   "execution_count": 4,
   "metadata": {
    "vscode": {
     "languageId": "r"
    }
   },
   "outputs": [],
   "source": [
    "fit <- lm(wage ~ poly(age, 4), data = Wage)\n"
   ]
  },
  {
   "cell_type": "code",
   "execution_count": 5,
   "metadata": {
    "vscode": {
     "languageId": "r"
    }
   },
   "outputs": [
    {
     "data": {
      "text/plain": [
       "\n",
       "Call:\n",
       "lm(formula = wage ~ poly(age, 4), data = Wage)\n",
       "\n",
       "Residuals:\n",
       "    Min      1Q  Median      3Q     Max \n",
       "-98.707 -24.626  -4.993  15.217 203.693 \n",
       "\n",
       "Coefficients:\n",
       "               Estimate Std. Error t value Pr(>|t|)    \n",
       "(Intercept)    111.7036     0.7287 153.283  < 2e-16 ***\n",
       "poly(age, 4)1  447.0679    39.9148  11.201  < 2e-16 ***\n",
       "poly(age, 4)2 -478.3158    39.9148 -11.983  < 2e-16 ***\n",
       "poly(age, 4)3  125.5217    39.9148   3.145  0.00168 ** \n",
       "poly(age, 4)4  -77.9112    39.9148  -1.952  0.05104 .  \n",
       "---\n",
       "Signif. codes:  0 '***' 0.001 '**' 0.01 '*' 0.05 '.' 0.1 ' ' 1\n",
       "\n",
       "Residual standard error: 39.91 on 2995 degrees of freedom\n",
       "Multiple R-squared:  0.08626,\tAdjusted R-squared:  0.08504 \n",
       "F-statistic: 70.69 on 4 and 2995 DF,  p-value: < 2.2e-16\n"
      ]
     },
     "metadata": {},
     "output_type": "display_data"
    }
   ],
   "source": [
    "summary(fit)\n"
   ]
  },
  {
   "cell_type": "code",
   "execution_count": 6,
   "metadata": {
    "vscode": {
     "languageId": "r"
    }
   },
   "outputs": [],
   "source": [
    "agelims <- range(age)\n"
   ]
  },
  {
   "cell_type": "code",
   "execution_count": 7,
   "metadata": {
    "vscode": {
     "languageId": "r"
    }
   },
   "outputs": [],
   "source": [
    "age_grid <- seq(from = agelims[1], to = agelims[2])\n"
   ]
  },
  {
   "cell_type": "code",
   "execution_count": 8,
   "metadata": {
    "vscode": {
     "languageId": "r"
    }
   },
   "outputs": [
    {
     "data": {
      "text/html": [
       "<style>\n",
       ".list-inline {list-style: none; margin:0; padding: 0}\n",
       ".list-inline>li {display: inline-block}\n",
       ".list-inline>li:not(:last-child)::after {content: \"\\00b7\"; padding: 0 .5ex}\n",
       "</style>\n",
       "<ol class=list-inline><li>18</li><li>19</li><li>20</li><li>21</li><li>22</li><li>23</li><li>24</li><li>25</li><li>26</li><li>27</li><li>28</li><li>29</li><li>30</li><li>31</li><li>32</li><li>33</li><li>34</li><li>35</li><li>36</li><li>37</li><li>38</li><li>39</li><li>40</li><li>41</li><li>42</li><li>43</li><li>44</li><li>45</li><li>46</li><li>47</li><li>48</li><li>49</li><li>50</li><li>51</li><li>52</li><li>53</li><li>54</li><li>55</li><li>56</li><li>57</li><li>58</li><li>59</li><li>60</li><li>61</li><li>62</li><li>63</li><li>64</li><li>65</li><li>66</li><li>67</li><li>68</li><li>69</li><li>70</li><li>71</li><li>72</li><li>73</li><li>74</li><li>75</li><li>76</li><li>77</li><li>78</li><li>79</li><li>80</li></ol>\n"
      ],
      "text/latex": [
       "\\begin{enumerate*}\n",
       "\\item 18\n",
       "\\item 19\n",
       "\\item 20\n",
       "\\item 21\n",
       "\\item 22\n",
       "\\item 23\n",
       "\\item 24\n",
       "\\item 25\n",
       "\\item 26\n",
       "\\item 27\n",
       "\\item 28\n",
       "\\item 29\n",
       "\\item 30\n",
       "\\item 31\n",
       "\\item 32\n",
       "\\item 33\n",
       "\\item 34\n",
       "\\item 35\n",
       "\\item 36\n",
       "\\item 37\n",
       "\\item 38\n",
       "\\item 39\n",
       "\\item 40\n",
       "\\item 41\n",
       "\\item 42\n",
       "\\item 43\n",
       "\\item 44\n",
       "\\item 45\n",
       "\\item 46\n",
       "\\item 47\n",
       "\\item 48\n",
       "\\item 49\n",
       "\\item 50\n",
       "\\item 51\n",
       "\\item 52\n",
       "\\item 53\n",
       "\\item 54\n",
       "\\item 55\n",
       "\\item 56\n",
       "\\item 57\n",
       "\\item 58\n",
       "\\item 59\n",
       "\\item 60\n",
       "\\item 61\n",
       "\\item 62\n",
       "\\item 63\n",
       "\\item 64\n",
       "\\item 65\n",
       "\\item 66\n",
       "\\item 67\n",
       "\\item 68\n",
       "\\item 69\n",
       "\\item 70\n",
       "\\item 71\n",
       "\\item 72\n",
       "\\item 73\n",
       "\\item 74\n",
       "\\item 75\n",
       "\\item 76\n",
       "\\item 77\n",
       "\\item 78\n",
       "\\item 79\n",
       "\\item 80\n",
       "\\end{enumerate*}\n"
      ],
      "text/markdown": [
       "1. 18\n",
       "2. 19\n",
       "3. 20\n",
       "4. 21\n",
       "5. 22\n",
       "6. 23\n",
       "7. 24\n",
       "8. 25\n",
       "9. 26\n",
       "10. 27\n",
       "11. 28\n",
       "12. 29\n",
       "13. 30\n",
       "14. 31\n",
       "15. 32\n",
       "16. 33\n",
       "17. 34\n",
       "18. 35\n",
       "19. 36\n",
       "20. 37\n",
       "21. 38\n",
       "22. 39\n",
       "23. 40\n",
       "24. 41\n",
       "25. 42\n",
       "26. 43\n",
       "27. 44\n",
       "28. 45\n",
       "29. 46\n",
       "30. 47\n",
       "31. 48\n",
       "32. 49\n",
       "33. 50\n",
       "34. 51\n",
       "35. 52\n",
       "36. 53\n",
       "37. 54\n",
       "38. 55\n",
       "39. 56\n",
       "40. 57\n",
       "41. 58\n",
       "42. 59\n",
       "43. 60\n",
       "44. 61\n",
       "45. 62\n",
       "46. 63\n",
       "47. 64\n",
       "48. 65\n",
       "49. 66\n",
       "50. 67\n",
       "51. 68\n",
       "52. 69\n",
       "53. 70\n",
       "54. 71\n",
       "55. 72\n",
       "56. 73\n",
       "57. 74\n",
       "58. 75\n",
       "59. 76\n",
       "60. 77\n",
       "61. 78\n",
       "62. 79\n",
       "63. 80\n",
       "\n",
       "\n"
      ],
      "text/plain": [
       " [1] 18 19 20 21 22 23 24 25 26 27 28 29 30 31 32 33 34 35 36 37 38 39 40 41 42\n",
       "[26] 43 44 45 46 47 48 49 50 51 52 53 54 55 56 57 58 59 60 61 62 63 64 65 66 67\n",
       "[51] 68 69 70 71 72 73 74 75 76 77 78 79 80"
      ]
     },
     "metadata": {},
     "output_type": "display_data"
    }
   ],
   "source": [
    "age_grid\n"
   ]
  },
  {
   "cell_type": "code",
   "execution_count": 9,
   "metadata": {
    "vscode": {
     "languageId": "r"
    }
   },
   "outputs": [],
   "source": [
    "preds <- predict(fit, newdata = list(age = age_grid), se = TRUE)\n"
   ]
  },
  {
   "cell_type": "code",
   "execution_count": 10,
   "metadata": {
    "vscode": {
     "languageId": "r"
    }
   },
   "outputs": [],
   "source": [
    "se_bands <- cbind(preds$fit + 2 * preds$se, preds$fit - 2 * preds$se)\n"
   ]
  },
  {
   "cell_type": "code",
   "execution_count": 11,
   "metadata": {
    "vscode": {
     "languageId": "r"
    }
   },
   "outputs": [
    {
     "data": {
      "image/png": "[encoded data removed]",
      "text/plain": [
       "plot without title"
      ]
     },
     "metadata": {
      "image/png": {
       "height": 420,
       "width": 420
      }
     },
     "output_type": "display_data"
    }
   ],
   "source": [
    "plot(age, wage, col = \"darkgrey\")\n",
    "lines(age_grid, preds$fit, lwd = 2, col = \"blue\")\n",
    "matlines(age_grid, se_bands, col = \"blue\", lty = 2)\n"
   ]
  },
  {
   "cell_type": "code",
   "execution_count": 12,
   "metadata": {
    "vscode": {
     "languageId": "r"
    }
   },
   "outputs": [],
   "source": [
    "fit_a <- lm(wage ~ age + I(age^2) + I(age^3) + I(age^4), data = Wage)\n"
   ]
  },
  {
   "cell_type": "code",
   "execution_count": 13,
   "metadata": {
    "vscode": {
     "languageId": "r"
    }
   },
   "outputs": [
    {
     "data": {
      "text/plain": [
       "\n",
       "Call:\n",
       "lm(formula = wage ~ age + I(age^2) + I(age^3) + I(age^4), data = Wage)\n",
       "\n",
       "Residuals:\n",
       "    Min      1Q  Median      3Q     Max \n",
       "-98.707 -24.626  -4.993  15.217 203.693 \n",
       "\n",
       "Coefficients:\n",
       "              Estimate Std. Error t value Pr(>|t|)    \n",
       "(Intercept) -1.842e+02  6.004e+01  -3.067 0.002180 ** \n",
       "age          2.125e+01  5.887e+00   3.609 0.000312 ***\n",
       "I(age^2)    -5.639e-01  2.061e-01  -2.736 0.006261 ** \n",
       "I(age^3)     6.811e-03  3.066e-03   2.221 0.026398 *  \n",
       "I(age^4)    -3.204e-05  1.641e-05  -1.952 0.051039 .  \n",
       "---\n",
       "Signif. codes:  0 '***' 0.001 '**' 0.01 '*' 0.05 '.' 0.1 ' ' 1\n",
       "\n",
       "Residual standard error: 39.91 on 2995 degrees of freedom\n",
       "Multiple R-squared:  0.08626,\tAdjusted R-squared:  0.08504 \n",
       "F-statistic: 70.69 on 4 and 2995 DF,  p-value: < 2.2e-16\n"
      ]
     },
     "metadata": {},
     "output_type": "display_data"
    }
   ],
   "source": [
    "summary(fit_a)\n"
   ]
  },
  {
   "cell_type": "code",
   "execution_count": 14,
   "metadata": {
    "vscode": {
     "languageId": "r"
    }
   },
   "outputs": [
    {
     "data": {
      "image/png": "[encoded data removed]",
      "text/plain": [
       "plot without title"
      ]
     },
     "metadata": {
      "image/png": {
       "height": 420,
       "width": 420
      }
     },
     "output_type": "display_data"
    }
   ],
   "source": [
    "plot(fitted(fit), fitted(fit_a))\n"
   ]
  },
  {
   "cell_type": "code",
   "execution_count": 15,
   "metadata": {
    "vscode": {
     "languageId": "r"
    }
   },
   "outputs": [
    {
     "data": {
      "text/plain": [
       "\n",
       "Call:\n",
       "lm(formula = wage ~ poly(age, 4), data = Wage)\n",
       "\n",
       "Residuals:\n",
       "    Min      1Q  Median      3Q     Max \n",
       "-98.707 -24.626  -4.993  15.217 203.693 \n",
       "\n",
       "Coefficients:\n",
       "               Estimate Std. Error t value Pr(>|t|)    \n",
       "(Intercept)    111.7036     0.7287 153.283  < 2e-16 ***\n",
       "poly(age, 4)1  447.0679    39.9148  11.201  < 2e-16 ***\n",
       "poly(age, 4)2 -478.3158    39.9148 -11.983  < 2e-16 ***\n",
       "poly(age, 4)3  125.5217    39.9148   3.145  0.00168 ** \n",
       "poly(age, 4)4  -77.9112    39.9148  -1.952  0.05104 .  \n",
       "---\n",
       "Signif. codes:  0 '***' 0.001 '**' 0.01 '*' 0.05 '.' 0.1 ' ' 1\n",
       "\n",
       "Residual standard error: 39.91 on 2995 degrees of freedom\n",
       "Multiple R-squared:  0.08626,\tAdjusted R-squared:  0.08504 \n",
       "F-statistic: 70.69 on 4 and 2995 DF,  p-value: < 2.2e-16\n"
      ]
     },
     "metadata": {},
     "output_type": "display_data"
    }
   ],
   "source": [
    "summary(fit)\n"
   ]
  },
  {
   "cell_type": "code",
   "execution_count": 16,
   "metadata": {
    "vscode": {
     "languageId": "r"
    }
   },
   "outputs": [
    {
     "data": {
      "text/html": [
       "<table class=\"dataframe\">\n",
       "<caption>A anova: 4 × 6</caption>\n",
       "<thead>\n",
       "\t<tr><th></th><th scope=col>Res.Df</th><th scope=col>RSS</th><th scope=col>Df</th><th scope=col>Sum of Sq</th><th scope=col>F</th><th scope=col>Pr(&gt;F)</th></tr>\n",
       "\t<tr><th></th><th scope=col>&lt;dbl&gt;</th><th scope=col>&lt;dbl&gt;</th><th scope=col>&lt;dbl&gt;</th><th scope=col>&lt;dbl&gt;</th><th scope=col>&lt;dbl&gt;</th><th scope=col>&lt;dbl&gt;</th></tr>\n",
       "</thead>\n",
       "<tbody>\n",
       "\t<tr><th scope=row>1</th><td>2995</td><td>3995721</td><td>NA</td><td>       NA</td><td>        NA</td><td>          NA</td></tr>\n",
       "\t<tr><th scope=row>2</th><td>2994</td><td>3867992</td><td> 1</td><td>127728.88</td><td>102.737760</td><td>9.215004e-24</td></tr>\n",
       "\t<tr><th scope=row>3</th><td>2993</td><td>3725395</td><td> 1</td><td>142597.10</td><td>114.696898</td><td>2.728971e-26</td></tr>\n",
       "\t<tr><th scope=row>4</th><td>2992</td><td>3719809</td><td> 1</td><td>  5586.66</td><td>  4.493588</td><td>3.410431e-02</td></tr>\n",
       "</tbody>\n",
       "</table>\n"
      ],
      "text/latex": [
       "A anova: 4 × 6\n",
       "\\begin{tabular}{r|llllll}\n",
       "  & Res.Df & RSS & Df & Sum of Sq & F & Pr(>F)\\\\\n",
       "  & <dbl> & <dbl> & <dbl> & <dbl> & <dbl> & <dbl>\\\\\n",
       "\\hline\n",
       "\t1 & 2995 & 3995721 & NA &        NA &         NA &           NA\\\\\n",
       "\t2 & 2994 & 3867992 &  1 & 127728.88 & 102.737760 & 9.215004e-24\\\\\n",
       "\t3 & 2993 & 3725395 &  1 & 142597.10 & 114.696898 & 2.728971e-26\\\\\n",
       "\t4 & 2992 & 3719809 &  1 &   5586.66 &   4.493588 & 3.410431e-02\\\\\n",
       "\\end{tabular}\n"
      ],
      "text/markdown": [
       "\n",
       "A anova: 4 × 6\n",
       "\n",
       "| <!--/--> | Res.Df &lt;dbl&gt; | RSS &lt;dbl&gt; | Df &lt;dbl&gt; | Sum of Sq &lt;dbl&gt; | F &lt;dbl&gt; | Pr(&gt;F) &lt;dbl&gt; |\n",
       "|---|---|---|---|---|---|---|\n",
       "| 1 | 2995 | 3995721 | NA |        NA |         NA |           NA |\n",
       "| 2 | 2994 | 3867992 |  1 | 127728.88 | 102.737760 | 9.215004e-24 |\n",
       "| 3 | 2993 | 3725395 |  1 | 142597.10 | 114.696898 | 2.728971e-26 |\n",
       "| 4 | 2992 | 3719809 |  1 |   5586.66 |   4.493588 | 3.410431e-02 |\n",
       "\n"
      ],
      "text/plain": [
       "  Res.Df RSS     Df Sum of Sq F          Pr(>F)      \n",
       "1 2995   3995721 NA        NA         NA           NA\n",
       "2 2994   3867992  1 127728.88 102.737760 9.215004e-24\n",
       "3 2993   3725395  1 142597.10 114.696898 2.728971e-26\n",
       "4 2992   3719809  1   5586.66   4.493588 3.410431e-02"
      ]
     },
     "metadata": {},
     "output_type": "display_data"
    }
   ],
   "source": [
    "fit_b <- lm(wage ~ education, data = Wage)\n",
    "fit_c <- lm(wage ~ education + age, data = Wage)\n",
    "fit_d <- lm(wage ~ education + poly(age, 2), data = Wage)\n",
    "fit_e <- lm(wage ~ education + poly(age, 3), data = Wage)\n",
    "anova(fit_b, fit_c, fit_d, fit_e)\n"
   ]
  },
  {
   "cell_type": "code",
   "execution_count": 17,
   "metadata": {
    "vscode": {
     "languageId": "r"
    }
   },
   "outputs": [],
   "source": [
    "fit_binomial = glm(I(wage > 250) ~ poly(age, 3), data = Wage, family = binomial)"
   ]
  },
  {
   "cell_type": "code",
   "execution_count": 18,
   "metadata": {
    "vscode": {
     "languageId": "r"
    }
   },
   "outputs": [],
   "source": [
    "pred_bi = predict(fit_binomial, list(age = age_grid), se = TRUE)"
   ]
  },
  {
   "cell_type": "code",
   "execution_count": 19,
   "metadata": {
    "vscode": {
     "languageId": "r"
    }
   },
   "outputs": [],
   "source": [
    "bi_se_bands <- pred_bi$fit + cbind(fit_binomial = 0, lower = - 2 * pred_bi$se, upper = 2 * pred_bi$se)"
   ]
  },
  {
   "cell_type": "code",
   "execution_count": 20,
   "metadata": {
    "vscode": {
     "languageId": "r"
    }
   },
   "outputs": [
    {
     "data": {
      "text/html": [
       "<table class=\"dataframe\">\n",
       "<caption>A matrix: 63 × 3 of type dbl</caption>\n",
       "<thead>\n",
       "\t<tr><th></th><th scope=col>fit_binomial</th><th scope=col>lower</th><th scope=col>upper</th></tr>\n",
       "</thead>\n",
       "<tbody>\n",
       "\t<tr><th scope=row>1</th><td>-7.664756</td><td>-10.759826</td><td>-4.569686</td></tr>\n",
       "\t<tr><th scope=row>2</th><td>-7.324776</td><td>-10.106699</td><td>-4.542852</td></tr>\n",
       "\t<tr><th scope=row>3</th><td>-7.001732</td><td> -9.492821</td><td>-4.510643</td></tr>\n",
       "\t<tr><th scope=row>4</th><td>-6.695229</td><td> -8.917158</td><td>-4.473300</td></tr>\n",
       "\t<tr><th scope=row>5</th><td>-6.404868</td><td> -8.378691</td><td>-4.431045</td></tr>\n",
       "\t<tr><th scope=row>6</th><td>-6.130251</td><td> -7.876426</td><td>-4.384076</td></tr>\n",
       "\t<tr><th scope=row>7</th><td>-5.870980</td><td> -7.409397</td><td>-4.332563</td></tr>\n",
       "\t<tr><th scope=row>8</th><td>-5.626658</td><td> -6.976672</td><td>-4.276644</td></tr>\n",
       "\t<tr><th scope=row>9</th><td>-5.396887</td><td> -6.577351</td><td>-4.216423</td></tr>\n",
       "\t<tr><th scope=row>10</th><td>-5.181269</td><td> -6.210574</td><td>-4.151964</td></tr>\n",
       "\t<tr><th scope=row>11</th><td>-4.979406</td><td> -5.875505</td><td>-4.083307</td></tr>\n",
       "\t<tr><th scope=row>12</th><td>-4.790901</td><td> -5.571315</td><td>-4.010487</td></tr>\n",
       "\t<tr><th scope=row>13</th><td>-4.615356</td><td> -5.297126</td><td>-3.933586</td></tr>\n",
       "\t<tr><th scope=row>14</th><td>-4.452372</td><td> -5.051924</td><td>-3.852821</td></tr>\n",
       "\t<tr><th scope=row>15</th><td>-4.301553</td><td> -4.834438</td><td>-3.768668</td></tr>\n",
       "\t<tr><th scope=row>16</th><td>-4.162500</td><td> -4.643000</td><td>-3.682001</td></tr>\n",
       "\t<tr><th scope=row>17</th><td>-4.034816</td><td> -4.475457</td><td>-3.594175</td></tr>\n",
       "\t<tr><th scope=row>18</th><td>-3.918103</td><td> -4.329222</td><td>-3.506984</td></tr>\n",
       "\t<tr><th scope=row>19</th><td>-3.811963</td><td> -4.201464</td><td>-3.422462</td></tr>\n",
       "\t<tr><th scope=row>20</th><td>-3.715998</td><td> -4.089397</td><td>-3.342598</td></tr>\n",
       "\t<tr><th scope=row>21</th><td>-3.629810</td><td> -3.990547</td><td>-3.269073</td></tr>\n",
       "\t<tr><th scope=row>22</th><td>-3.553002</td><td> -3.902904</td><td>-3.203101</td></tr>\n",
       "\t<tr><th scope=row>23</th><td>-3.485177</td><td> -3.824975</td><td>-3.145379</td></tr>\n",
       "\t<tr><th scope=row>24</th><td>-3.425935</td><td> -3.755745</td><td>-3.096125</td></tr>\n",
       "\t<tr><th scope=row>25</th><td>-3.374880</td><td> -3.694622</td><td>-3.055137</td></tr>\n",
       "\t<tr><th scope=row>26</th><td>-3.331613</td><td> -3.641353</td><td>-3.021873</td></tr>\n",
       "\t<tr><th scope=row>27</th><td>-3.295737</td><td> -3.595957</td><td>-2.995517</td></tr>\n",
       "\t<tr><th scope=row>28</th><td>-3.266854</td><td> -3.558651</td><td>-2.975057</td></tr>\n",
       "\t<tr><th scope=row>29</th><td>-3.244567</td><td> -3.529762</td><td>-2.959371</td></tr>\n",
       "\t<tr><th scope=row>30</th><td>-3.228477</td><td> -3.509626</td><td>-2.947327</td></tr>\n",
       "\t<tr><th scope=row>⋮</th><td>⋮</td><td>⋮</td><td>⋮</td></tr>\n",
       "\t<tr><th scope=row>34</th><td>-3.218135</td><td>-3.517439</td><td>-2.9188307</td></tr>\n",
       "\t<tr><th scope=row>35</th><td>-3.227066</td><td>-3.539340</td><td>-2.9147914</td></tr>\n",
       "\t<tr><th scope=row>36</th><td>-3.239807</td><td>-3.567565</td><td>-2.9120484</td></tr>\n",
       "\t<tr><th scope=row>37</th><td>-3.255961</td><td>-3.601144</td><td>-2.9107784</td></tr>\n",
       "\t<tr><th scope=row>38</th><td>-3.275130</td><td>-3.639178</td><td>-2.9110829</td></tr>\n",
       "\t<tr><th scope=row>39</th><td>-3.296917</td><td>-3.680917</td><td>-2.9129173</td></tr>\n",
       "\t<tr><th scope=row>40</th><td>-3.320924</td><td>-3.725810</td><td>-2.9160374</td></tr>\n",
       "\t<tr><th scope=row>41</th><td>-3.346752</td><td>-3.773546</td><td>-2.9199578</td></tr>\n",
       "\t<tr><th scope=row>42</th><td>-3.374005</td><td>-3.824091</td><td>-2.9239185</td></tr>\n",
       "\t<tr><th scope=row>43</th><td>-3.402283</td><td>-3.877707</td><td>-2.9268599</td></tr>\n",
       "\t<tr><th scope=row>44</th><td>-3.431191</td><td>-3.934968</td><td>-2.9274135</td></tr>\n",
       "\t<tr><th scope=row>45</th><td>-3.460329</td><td>-3.996741</td><td>-2.9239166</td></tr>\n",
       "\t<tr><th scope=row>46</th><td>-3.489300</td><td>-4.064140</td><td>-2.9144593</td></tr>\n",
       "\t<tr><th scope=row>47</th><td>-3.517706</td><td>-4.138446</td><td>-2.8969658</td></tr>\n",
       "\t<tr><th scope=row>48</th><td>-3.545149</td><td>-4.220999</td><td>-2.8692995</td></tr>\n",
       "\t<tr><th scope=row>49</th><td>-3.571232</td><td>-4.313093</td><td>-2.8293721</td></tr>\n",
       "\t<tr><th scope=row>50</th><td>-3.595557</td><td>-4.415883</td><td>-2.7752317</td></tr>\n",
       "\t<tr><th scope=row>51</th><td>-3.617726</td><td>-4.530340</td><td>-2.7051130</td></tr>\n",
       "\t<tr><th scope=row>52</th><td>-3.637342</td><td>-4.657236</td><td>-2.6174478</td></tr>\n",
       "\t<tr><th scope=row>53</th><td>-3.654005</td><td>-4.797166</td><td>-2.5108444</td></tr>\n",
       "\t<tr><th scope=row>54</th><td>-3.667320</td><td>-4.950589</td><td>-2.3840510</td></tr>\n",
       "\t<tr><th scope=row>55</th><td>-3.676887</td><td>-5.117859</td><td>-2.2359155</td></tr>\n",
       "\t<tr><th scope=row>56</th><td>-3.682310</td><td>-5.299268</td><td>-2.0653513</td></tr>\n",
       "\t<tr><th scope=row>57</th><td>-3.683190</td><td>-5.495070</td><td>-1.8713092</td></tr>\n",
       "\t<tr><th scope=row>58</th><td>-3.679129</td><td>-5.705499</td><td>-1.6527588</td></tr>\n",
       "\t<tr><th scope=row>59</th><td>-3.669730</td><td>-5.930785</td><td>-1.4086755</td></tr>\n",
       "\t<tr><th scope=row>60</th><td>-3.654596</td><td>-6.171158</td><td>-1.1380333</td></tr>\n",
       "\t<tr><th scope=row>61</th><td>-3.633327</td><td>-6.426854</td><td>-0.8397999</td></tr>\n",
       "\t<tr><th scope=row>62</th><td>-3.605527</td><td>-6.698118</td><td>-0.5129354</td></tr>\n",
       "\t<tr><th scope=row>63</th><td>-3.570798</td><td>-6.985204</td><td>-0.1563908</td></tr>\n",
       "</tbody>\n",
       "</table>\n"
      ],
      "text/latex": [
       "A matrix: 63 × 3 of type dbl\n",
       "\\begin{tabular}{r|lll}\n",
       "  & fit\\_binomial & lower & upper\\\\\n",
       "\\hline\n",
       "\t1 & -7.664756 & -10.759826 & -4.569686\\\\\n",
       "\t2 & -7.324776 & -10.106699 & -4.542852\\\\\n",
       "\t3 & -7.001732 &  -9.492821 & -4.510643\\\\\n",
       "\t4 & -6.695229 &  -8.917158 & -4.473300\\\\\n",
       "\t5 & -6.404868 &  -8.378691 & -4.431045\\\\\n",
       "\t6 & -6.130251 &  -7.876426 & -4.384076\\\\\n",
       "\t7 & -5.870980 &  -7.409397 & -4.332563\\\\\n",
       "\t8 & -5.626658 &  -6.976672 & -4.276644\\\\\n",
       "\t9 & -5.396887 &  -6.577351 & -4.216423\\\\\n",
       "\t10 & -5.181269 &  -6.210574 & -4.151964\\\\\n",
       "\t11 & -4.979406 &  -5.875505 & -4.083307\\\\\n",
       "\t12 & -4.790901 &  -5.571315 & -4.010487\\\\\n",
       "\t13 & -4.615356 &  -5.297126 & -3.933586\\\\\n",
       "\t14 & -4.452372 &  -5.051924 & -3.852821\\\\\n",
       "\t15 & -4.301553 &  -4.834438 & -3.768668\\\\\n",
       "\t16 & -4.162500 &  -4.643000 & -3.682001\\\\\n",
       "\t17 & -4.034816 &  -4.475457 & -3.594175\\\\\n",
       "\t18 & -3.918103 &  -4.329222 & -3.506984\\\\\n",
       "\t19 & -3.811963 &  -4.201464 & -3.422462\\\\\n",
       "\t20 & -3.715998 &  -4.089397 & -3.342598\\\\\n",
       "\t21 & -3.629810 &  -3.990547 & -3.269073\\\\\n",
       "\t22 & -3.553002 &  -3.902904 & -3.203101\\\\\n",
       "\t23 & -3.485177 &  -3.824975 & -3.145379\\\\\n",
       "\t24 & -3.425935 &  -3.755745 & -3.096125\\\\\n",
       "\t25 & -3.374880 &  -3.694622 & -3.055137\\\\\n",
       "\t26 & -3.331613 &  -3.641353 & -3.021873\\\\\n",
       "\t27 & -3.295737 &  -3.595957 & -2.995517\\\\\n",
       "\t28 & -3.266854 &  -3.558651 & -2.975057\\\\\n",
       "\t29 & -3.244567 &  -3.529762 & -2.959371\\\\\n",
       "\t30 & -3.228477 &  -3.509626 & -2.947327\\\\\n",
       "\t⋮ & ⋮ & ⋮ & ⋮\\\\\n",
       "\t34 & -3.218135 & -3.517439 & -2.9188307\\\\\n",
       "\t35 & -3.227066 & -3.539340 & -2.9147914\\\\\n",
       "\t36 & -3.239807 & -3.567565 & -2.9120484\\\\\n",
       "\t37 & -3.255961 & -3.601144 & -2.9107784\\\\\n",
       "\t38 & -3.275130 & -3.639178 & -2.9110829\\\\\n",
       "\t39 & -3.296917 & -3.680917 & -2.9129173\\\\\n",
       "\t40 & -3.320924 & -3.725810 & -2.9160374\\\\\n",
       "\t41 & -3.346752 & -3.773546 & -2.9199578\\\\\n",
       "\t42 & -3.374005 & -3.824091 & -2.9239185\\\\\n",
       "\t43 & -3.402283 & -3.877707 & -2.9268599\\\\\n",
       "\t44 & -3.431191 & -3.934968 & -2.9274135\\\\\n",
       "\t45 & -3.460329 & -3.996741 & -2.9239166\\\\\n",
       "\t46 & -3.489300 & -4.064140 & -2.9144593\\\\\n",
       "\t47 & -3.517706 & -4.138446 & -2.8969658\\\\\n",
       "\t48 & -3.545149 & -4.220999 & -2.8692995\\\\\n",
       "\t49 & -3.571232 & -4.313093 & -2.8293721\\\\\n",
       "\t50 & -3.595557 & -4.415883 & -2.7752317\\\\\n",
       "\t51 & -3.617726 & -4.530340 & -2.7051130\\\\\n",
       "\t52 & -3.637342 & -4.657236 & -2.6174478\\\\\n",
       "\t53 & -3.654005 & -4.797166 & -2.5108444\\\\\n",
       "\t54 & -3.667320 & -4.950589 & -2.3840510\\\\\n",
       "\t55 & -3.676887 & -5.117859 & -2.2359155\\\\\n",
       "\t56 & -3.682310 & -5.299268 & -2.0653513\\\\\n",
       "\t57 & -3.683190 & -5.495070 & -1.8713092\\\\\n",
       "\t58 & -3.679129 & -5.705499 & -1.6527588\\\\\n",
       "\t59 & -3.669730 & -5.930785 & -1.4086755\\\\\n",
       "\t60 & -3.654596 & -6.171158 & -1.1380333\\\\\n",
       "\t61 & -3.633327 & -6.426854 & -0.8397999\\\\\n",
       "\t62 & -3.605527 & -6.698118 & -0.5129354\\\\\n",
       "\t63 & -3.570798 & -6.985204 & -0.1563908\\\\\n",
       "\\end{tabular}\n"
      ],
      "text/markdown": [
       "\n",
       "A matrix: 63 × 3 of type dbl\n",
       "\n",
       "| <!--/--> | fit_binomial | lower | upper |\n",
       "|---|---|---|---|\n",
       "| 1 | -7.664756 | -10.759826 | -4.569686 |\n",
       "| 2 | -7.324776 | -10.106699 | -4.542852 |\n",
       "| 3 | -7.001732 |  -9.492821 | -4.510643 |\n",
       "| 4 | -6.695229 |  -8.917158 | -4.473300 |\n",
       "| 5 | -6.404868 |  -8.378691 | -4.431045 |\n",
       "| 6 | -6.130251 |  -7.876426 | -4.384076 |\n",
       "| 7 | -5.870980 |  -7.409397 | -4.332563 |\n",
       "| 8 | -5.626658 |  -6.976672 | -4.276644 |\n",
       "| 9 | -5.396887 |  -6.577351 | -4.216423 |\n",
       "| 10 | -5.181269 |  -6.210574 | -4.151964 |\n",
       "| 11 | -4.979406 |  -5.875505 | -4.083307 |\n",
       "| 12 | -4.790901 |  -5.571315 | -4.010487 |\n",
       "| 13 | -4.615356 |  -5.297126 | -3.933586 |\n",
       "| 14 | -4.452372 |  -5.051924 | -3.852821 |\n",
       "| 15 | -4.301553 |  -4.834438 | -3.768668 |\n",
       "| 16 | -4.162500 |  -4.643000 | -3.682001 |\n",
       "| 17 | -4.034816 |  -4.475457 | -3.594175 |\n",
       "| 18 | -3.918103 |  -4.329222 | -3.506984 |\n",
       "| 19 | -3.811963 |  -4.201464 | -3.422462 |\n",
       "| 20 | -3.715998 |  -4.089397 | -3.342598 |\n",
       "| 21 | -3.629810 |  -3.990547 | -3.269073 |\n",
       "| 22 | -3.553002 |  -3.902904 | -3.203101 |\n",
       "| 23 | -3.485177 |  -3.824975 | -3.145379 |\n",
       "| 24 | -3.425935 |  -3.755745 | -3.096125 |\n",
       "| 25 | -3.374880 |  -3.694622 | -3.055137 |\n",
       "| 26 | -3.331613 |  -3.641353 | -3.021873 |\n",
       "| 27 | -3.295737 |  -3.595957 | -2.995517 |\n",
       "| 28 | -3.266854 |  -3.558651 | -2.975057 |\n",
       "| 29 | -3.244567 |  -3.529762 | -2.959371 |\n",
       "| 30 | -3.228477 |  -3.509626 | -2.947327 |\n",
       "| ⋮ | ⋮ | ⋮ | ⋮ |\n",
       "| 34 | -3.218135 | -3.517439 | -2.9188307 |\n",
       "| 35 | -3.227066 | -3.539340 | -2.9147914 |\n",
       "| 36 | -3.239807 | -3.567565 | -2.9120484 |\n",
       "| 37 | -3.255961 | -3.601144 | -2.9107784 |\n",
       "| 38 | -3.275130 | -3.639178 | -2.9110829 |\n",
       "| 39 | -3.296917 | -3.680917 | -2.9129173 |\n",
       "| 40 | -3.320924 | -3.725810 | -2.9160374 |\n",
       "| 41 | -3.346752 | -3.773546 | -2.9199578 |\n",
       "| 42 | -3.374005 | -3.824091 | -2.9239185 |\n",
       "| 43 | -3.402283 | -3.877707 | -2.9268599 |\n",
       "| 44 | -3.431191 | -3.934968 | -2.9274135 |\n",
       "| 45 | -3.460329 | -3.996741 | -2.9239166 |\n",
       "| 46 | -3.489300 | -4.064140 | -2.9144593 |\n",
       "| 47 | -3.517706 | -4.138446 | -2.8969658 |\n",
       "| 48 | -3.545149 | -4.220999 | -2.8692995 |\n",
       "| 49 | -3.571232 | -4.313093 | -2.8293721 |\n",
       "| 50 | -3.595557 | -4.415883 | -2.7752317 |\n",
       "| 51 | -3.617726 | -4.530340 | -2.7051130 |\n",
       "| 52 | -3.637342 | -4.657236 | -2.6174478 |\n",
       "| 53 | -3.654005 | -4.797166 | -2.5108444 |\n",
       "| 54 | -3.667320 | -4.950589 | -2.3840510 |\n",
       "| 55 | -3.676887 | -5.117859 | -2.2359155 |\n",
       "| 56 | -3.682310 | -5.299268 | -2.0653513 |\n",
       "| 57 | -3.683190 | -5.495070 | -1.8713092 |\n",
       "| 58 | -3.679129 | -5.705499 | -1.6527588 |\n",
       "| 59 | -3.669730 | -5.930785 | -1.4086755 |\n",
       "| 60 | -3.654596 | -6.171158 | -1.1380333 |\n",
       "| 61 | -3.633327 | -6.426854 | -0.8397999 |\n",
       "| 62 | -3.605527 | -6.698118 | -0.5129354 |\n",
       "| 63 | -3.570798 | -6.985204 | -0.1563908 |\n",
       "\n"
      ],
      "text/plain": [
       "   fit_binomial lower      upper     \n",
       "1  -7.664756    -10.759826 -4.569686 \n",
       "2  -7.324776    -10.106699 -4.542852 \n",
       "3  -7.001732     -9.492821 -4.510643 \n",
       "4  -6.695229     -8.917158 -4.473300 \n",
       "5  -6.404868     -8.378691 -4.431045 \n",
       "6  -6.130251     -7.876426 -4.384076 \n",
       "7  -5.870980     -7.409397 -4.332563 \n",
       "8  -5.626658     -6.976672 -4.276644 \n",
       "9  -5.396887     -6.577351 -4.216423 \n",
       "10 -5.181269     -6.210574 -4.151964 \n",
       "11 -4.979406     -5.875505 -4.083307 \n",
       "12 -4.790901     -5.571315 -4.010487 \n",
       "13 -4.615356     -5.297126 -3.933586 \n",
       "14 -4.452372     -5.051924 -3.852821 \n",
       "15 -4.301553     -4.834438 -3.768668 \n",
       "16 -4.162500     -4.643000 -3.682001 \n",
       "17 -4.034816     -4.475457 -3.594175 \n",
       "18 -3.918103     -4.329222 -3.506984 \n",
       "19 -3.811963     -4.201464 -3.422462 \n",
       "20 -3.715998     -4.089397 -3.342598 \n",
       "21 -3.629810     -3.990547 -3.269073 \n",
       "22 -3.553002     -3.902904 -3.203101 \n",
       "23 -3.485177     -3.824975 -3.145379 \n",
       "24 -3.425935     -3.755745 -3.096125 \n",
       "25 -3.374880     -3.694622 -3.055137 \n",
       "26 -3.331613     -3.641353 -3.021873 \n",
       "27 -3.295737     -3.595957 -2.995517 \n",
       "28 -3.266854     -3.558651 -2.975057 \n",
       "29 -3.244567     -3.529762 -2.959371 \n",
       "30 -3.228477     -3.509626 -2.947327 \n",
       "⋮  ⋮            ⋮          ⋮         \n",
       "34 -3.218135    -3.517439  -2.9188307\n",
       "35 -3.227066    -3.539340  -2.9147914\n",
       "36 -3.239807    -3.567565  -2.9120484\n",
       "37 -3.255961    -3.601144  -2.9107784\n",
       "38 -3.275130    -3.639178  -2.9110829\n",
       "39 -3.296917    -3.680917  -2.9129173\n",
       "40 -3.320924    -3.725810  -2.9160374\n",
       "41 -3.346752    -3.773546  -2.9199578\n",
       "42 -3.374005    -3.824091  -2.9239185\n",
       "43 -3.402283    -3.877707  -2.9268599\n",
       "44 -3.431191    -3.934968  -2.9274135\n",
       "45 -3.460329    -3.996741  -2.9239166\n",
       "46 -3.489300    -4.064140  -2.9144593\n",
       "47 -3.517706    -4.138446  -2.8969658\n",
       "48 -3.545149    -4.220999  -2.8692995\n",
       "49 -3.571232    -4.313093  -2.8293721\n",
       "50 -3.595557    -4.415883  -2.7752317\n",
       "51 -3.617726    -4.530340  -2.7051130\n",
       "52 -3.637342    -4.657236  -2.6174478\n",
       "53 -3.654005    -4.797166  -2.5108444\n",
       "54 -3.667320    -4.950589  -2.3840510\n",
       "55 -3.676887    -5.117859  -2.2359155\n",
       "56 -3.682310    -5.299268  -2.0653513\n",
       "57 -3.683190    -5.495070  -1.8713092\n",
       "58 -3.679129    -5.705499  -1.6527588\n",
       "59 -3.669730    -5.930785  -1.4086755\n",
       "60 -3.654596    -6.171158  -1.1380333\n",
       "61 -3.633327    -6.426854  -0.8397999\n",
       "62 -3.605527    -6.698118  -0.5129354\n",
       "63 -3.570798    -6.985204  -0.1563908"
      ]
     },
     "metadata": {},
     "output_type": "display_data"
    }
   ],
   "source": [
    "bi_se_bands"
   ]
  },
  {
   "cell_type": "code",
   "execution_count": 21,
   "metadata": {
    "vscode": {
     "languageId": "r"
    }
   },
   "outputs": [],
   "source": [
    "prob_bands = exp(bi_se_bands) / (1 + exp(bi_se_bands))"
   ]
  },
  {
   "cell_type": "code",
   "execution_count": 22,
   "metadata": {
    "vscode": {
     "languageId": "r"
    }
   },
   "outputs": [
    {
     "data": {
      "image/png": "[encoded data removed]",
      "text/plain": [
       "plot without title"
      ]
     },
     "metadata": {
      "image/png": {
       "height": 420,
       "width": 420
      }
     },
     "output_type": "display_data"
    }
   ],
   "source": [
    "matplot(age_grid, prob_bands,\n",
    "    col = \"blue\",\n",
    "    lwd = c(2, 1, 1),\n",
    "    lty = c(1, 2, 2),\n",
    "    type = \"l\",\n",
    "    ylim = c(0, 0.1)\n",
    ")\n",
    "points(\n",
    "    jitter(age), I(wage > 250) / 10,\n",
    "    pch = \"I\",\n",
    "    cex = 0.5\n",
    ")\n"
   ]
  },
  {
   "cell_type": "code",
   "execution_count": 23,
   "metadata": {
    "vscode": {
     "languageId": "r"
    }
   },
   "outputs": [
    {
     "name": "stderr",
     "output_type": "stream",
     "text": [
      "Loading required package: splines\n",
      "\n"
     ]
    }
   ],
   "source": [
    "require(splines)"
   ]
  },
  {
   "cell_type": "code",
   "execution_count": 24,
   "metadata": {
    "vscode": {
     "languageId": "r"
    }
   },
   "outputs": [],
   "source": [
    "fit_cubic <- lm(wage ~ bs(age, knots = c(25, 40, 60)), data = Wage)"
   ]
  },
  {
   "cell_type": "code",
   "execution_count": 32,
   "metadata": {
    "vscode": {
     "languageId": "r"
    }
   },
   "outputs": [],
   "source": [
    "pred_cubic = predict(fit_cubic, list(age = age_grid), se = TRUE)"
   ]
  },
  {
   "cell_type": "code",
   "execution_count": 33,
   "metadata": {
    "vscode": {
     "languageId": "r"
    }
   },
   "outputs": [
    {
     "data": {
      "text/html": [
       "<dl>\n",
       "\t<dt>$fit</dt>\n",
       "\t\t<dd><style>\n",
       ".dl-inline {width: auto; margin:0; padding: 0}\n",
       ".dl-inline>dt, .dl-inline>dd {float: none; width: auto; display: inline-block}\n",
       ".dl-inline>dt::after {content: \":\\0020\"; padding-right: .5ex}\n",
       ".dl-inline>dt:not(:first-of-type) {padding-left: .5ex}\n",
       "</style><dl class=dl-inline><dt>1</dt><dd>60.4937141899874</dd><dt>2</dt><dd>62.7125435102836</dd><dt>3</dt><dd>65.8160245236675</dd><dt>4</dt><dd>69.5924321055352</dd><dt>5</dt><dd>73.8300411312829</dd><dt>6</dt><dd>78.3171264763068</dd><dt>7</dt><dd>82.841963016003</dd><dt>8</dt><dd>87.1928256257678</dd><dt>9</dt><dd>91.1964993371951</dd><dt>10</dt><dd>94.833809806671</dd><dt>11</dt><dd>98.1240928467792</dd><dt>12</dt><dd>101.086684270104</dd><dt>13</dt><dd>103.740919889228</dd><dt>14</dt><dd>106.106135516737</dd><dt>15</dt><dd>108.201666965213</dd><dt>16</dt><dd>110.04685004724</dd><dt>17</dt><dd>111.661020575404</dd><dt>18</dt><dd>113.063514362286</dd><dt>19</dt><dd>114.273667220472</dd><dt>20</dt><dd>115.310814962545</dd><dt>21</dt><dd>116.194293401088</dd><dt>22</dt><dd>116.943438348686</dd><dt>23</dt><dd>117.577585617923</dd><dt>24</dt><dd>118.113635493182</dd><dt>25</dt><dd>118.558746146046</dd><dt>26</dt><dd>118.917640219898</dd><dt>27</dt><dd>119.195040358121</dd><dt>28</dt><dd>119.395669204097</dd><dt>29</dt><dd>119.524249401209</dd><dt>30</dt><dd>119.585503592839</dd><dt>31</dt><dd>119.584154422372</dd><dt>32</dt><dd>119.524924533188</dd><dt>33</dt><dd>119.412536568672</dd><dt>34</dt><dd>119.251713172205</dd><dt>35</dt><dd>119.04717698717</dd><dt>36</dt><dd>118.803650656951</dd><dt>37</dt><dd>118.52585682493</dd><dt>38</dt><dd>118.218518134489</dd><dt>39</dt><dd>117.886357229012</dd><dt>40</dt><dd>117.53409675188</dd><dt>41</dt><dd>117.166459346478</dd><dt>42</dt><dd>116.788167656187</dd><dt>43</dt><dd>116.403944324391</dd><dt>44</dt><dd>116.013806138554</dd><dt>45</dt><dd>115.598946462477</dd><dt>46</dt><dd>115.13585280404</dd><dt>47</dt><dd>114.601012671126</dd><dt>48</dt><dd>113.970913571616</dd><dt>49</dt><dd>113.222043013392</dd><dt>50</dt><dd>112.330888504337</dd><dt>51</dt><dd>111.273937552332</dd><dt>52</dt><dd>110.027677665258</dd><dt>53</dt><dd>108.568596350998</dd><dt>54</dt><dd>106.873181117434</dd><dt>55</dt><dd>104.917919472447</dd><dt>56</dt><dd>102.67929892392</dd><dt>57</dt><dd>100.133806979734</dd><dt>58</dt><dd>97.2579311477703</dd><dt>59</dt><dd>94.0281589359117</dd><dt>60</dt><dd>90.42097785204</dd><dt>61</dt><dd>86.4128754040367</dd><dt>62</dt><dd>81.9803390997839</dd><dt>63</dt><dd>77.0998564471633</dd></dl>\n",
       "</dd>\n",
       "\t<dt>$se.fit</dt>\n",
       "\t\t<dd><style>\n",
       ".dl-inline {width: auto; margin:0; padding: 0}\n",
       ".dl-inline>dt, .dl-inline>dd {float: none; width: auto; display: inline-block}\n",
       ".dl-inline>dt::after {content: \":\\0020\"; padding-right: .5ex}\n",
       ".dl-inline>dt:not(:first-of-type) {padding-left: .5ex}\n",
       "</style><dl class=dl-inline><dt>1</dt><dd>9.46039408613638</dd><dt>2</dt><dd>5.625189620561</dd><dt>3</dt><dd>3.77585491891094</dd><dt>4</dt><dd>3.33469465650805</dd><dt>5</dt><dd>3.22037615795411</dd><dt>6</dt><dd>2.92123262427334</dd><dt>7</dt><dd>2.45188046077696</dd><dt>8</dt><dd>2.01172932481419</dd><dt>9</dt><dd>1.76078301561115</dd><dt>10</dt><dd>1.6700715728939</dd><dt>11</dt><dd>1.65976422030085</dd><dt>12</dt><dd>1.66645623407829</dd><dt>13</dt><dd>1.65547156231852</dd><dt>14</dt><dd>1.61418385753779</dd><dt>15</dt><dd>1.54349116744459</dd><dt>16</dt><dd>1.45243273238605</dd><dt>17</dt><dd>1.35513967289487</dd><dt>18</dt><dd>1.26837638401654</dd><dt>19</dt><dd>1.20796737135603</dd><dt>20</dt><dd>1.18345374582005</dd><dt>21</dt><dd>1.19331147359302</dd><dt>22</dt><dd>1.22485477162161</dd><dt>23</dt><dd>1.25910701644448</dd><dt>24</dt><dd>1.27849856975069</dd><dt>25</dt><dd>1.27728003431654</dd><dt>26</dt><dd>1.25713247988662</dd><dt>27</dt><dd>1.22344715389888</dd><dt>28</dt><dd>1.18402045395875</dd><dt>29</dt><dd>1.14803205090374</dd><dt>30</dt><dd>1.12474470267378</dd><dt>31</dt><dd>1.1216726941687</dd><dt>32</dt><dd>1.14262669140208</dd><dt>33</dt><dd>1.18667586911096</dd><dt>34</dt><dd>1.24874827955147</dd><dt>35</dt><dd>1.32142084821444</dd><dt>36</dt><dd>1.39683727345232</dd><dt>37</dt><dd>1.46813592938357</dd><dt>38</dt><dd>1.53043100867438</dd><dt>39</dt><dd>1.58167952739384</dd><dt>40</dt><dd>1.62375620217133</dd><dt>41</dt><dd>1.66390448407593</dd><dt>42</dt><dd>1.71636921870423</dd><dt>43</dt><dd>1.80324932045129</dd><dt>44</dt><dd>1.95150985700569</dd><dt>45</dt><dd>2.176881164604</dd><dt>46</dt><dd>2.47296176852095</dd><dt>47</dt><dd>2.81841379792341</dd><dt>48</dt><dd>3.1869743838847</dd><dt>49</dt><dd>3.55370545462127</dd><dt>50</dt><dd>3.89793903793354</dd><dt>51</dt><dd>4.20505715805107</dd><dt>52</dt><dd>4.46858336903342</dd><dt>53</dt><dd>4.69340252503735</dd><dt>54</dt><dd>4.90045798350248</dd><dt>55</dt><dd>5.13234893453417</dd><dt>56</dt><dd>5.45704777861802</dd><dt>57</dt><dd>5.96405818956508</dd><dt>58</dt><dd>6.74867896280937</dd><dt>59</dt><dd>7.89062461245204</dd><dt>60</dt><dd>9.44219716536402</dd><dt>61</dt><dd>11.4320805532939</dd><dt>62</dt><dd>13.8762656100252</dd><dt>63</dt><dd>16.7869139751703</dd></dl>\n",
       "</dd>\n",
       "\t<dt>$df</dt>\n",
       "\t\t<dd>2993</dd>\n",
       "\t<dt>$residual.scale</dt>\n",
       "\t\t<dd>39.924657923755</dd>\n",
       "</dl>\n"
      ],
      "text/latex": [
       "\\begin{description}\n",
       "\\item[\\$fit] \\begin{description*}\n",
       "\\item[1] 60.4937141899874\n",
       "\\item[2] 62.7125435102836\n",
       "\\item[3] 65.8160245236675\n",
       "\\item[4] 69.5924321055352\n",
       "\\item[5] 73.8300411312829\n",
       "\\item[6] 78.3171264763068\n",
       "\\item[7] 82.841963016003\n",
       "\\item[8] 87.1928256257678\n",
       "\\item[9] 91.1964993371951\n",
       "\\item[10] 94.833809806671\n",
       "\\item[11] 98.1240928467792\n",
       "\\item[12] 101.086684270104\n",
       "\\item[13] 103.740919889228\n",
       "\\item[14] 106.106135516737\n",
       "\\item[15] 108.201666965213\n",
       "\\item[16] 110.04685004724\n",
       "\\item[17] 111.661020575404\n",
       "\\item[18] 113.063514362286\n",
       "\\item[19] 114.273667220472\n",
       "\\item[20] 115.310814962545\n",
       "\\item[21] 116.194293401088\n",
       "\\item[22] 116.943438348686\n",
       "\\item[23] 117.577585617923\n",
       "\\item[24] 118.113635493182\n",
       "\\item[25] 118.558746146046\n",
       "\\item[26] 118.917640219898\n",
       "\\item[27] 119.195040358121\n",
       "\\item[28] 119.395669204097\n",
       "\\item[29] 119.524249401209\n",
       "\\item[30] 119.585503592839\n",
       "\\item[31] 119.584154422372\n",
       "\\item[32] 119.524924533188\n",
       "\\item[33] 119.412536568672\n",
       "\\item[34] 119.251713172205\n",
       "\\item[35] 119.04717698717\n",
       "\\item[36] 118.803650656951\n",
       "\\item[37] 118.52585682493\n",
       "\\item[38] 118.218518134489\n",
       "\\item[39] 117.886357229012\n",
       "\\item[40] 117.53409675188\n",
       "\\item[41] 117.166459346478\n",
       "\\item[42] 116.788167656187\n",
       "\\item[43] 116.403944324391\n",
       "\\item[44] 116.013806138554\n",
       "\\item[45] 115.598946462477\n",
       "\\item[46] 115.13585280404\n",
       "\\item[47] 114.601012671126\n",
       "\\item[48] 113.970913571616\n",
       "\\item[49] 113.222043013392\n",
       "\\item[50] 112.330888504337\n",
       "\\item[51] 111.273937552332\n",
       "\\item[52] 110.027677665258\n",
       "\\item[53] 108.568596350998\n",
       "\\item[54] 106.873181117434\n",
       "\\item[55] 104.917919472447\n",
       "\\item[56] 102.67929892392\n",
       "\\item[57] 100.133806979734\n",
       "\\item[58] 97.2579311477703\n",
       "\\item[59] 94.0281589359117\n",
       "\\item[60] 90.42097785204\n",
       "\\item[61] 86.4128754040367\n",
       "\\item[62] 81.9803390997839\n",
       "\\item[63] 77.0998564471633\n",
       "\\end{description*}\n",
       "\n",
       "\\item[\\$se.fit] \\begin{description*}\n",
       "\\item[1] 9.46039408613638\n",
       "\\item[2] 5.625189620561\n",
       "\\item[3] 3.77585491891094\n",
       "\\item[4] 3.33469465650805\n",
       "\\item[5] 3.22037615795411\n",
       "\\item[6] 2.92123262427334\n",
       "\\item[7] 2.45188046077696\n",
       "\\item[8] 2.01172932481419\n",
       "\\item[9] 1.76078301561115\n",
       "\\item[10] 1.6700715728939\n",
       "\\item[11] 1.65976422030085\n",
       "\\item[12] 1.66645623407829\n",
       "\\item[13] 1.65547156231852\n",
       "\\item[14] 1.61418385753779\n",
       "\\item[15] 1.54349116744459\n",
       "\\item[16] 1.45243273238605\n",
       "\\item[17] 1.35513967289487\n",
       "\\item[18] 1.26837638401654\n",
       "\\item[19] 1.20796737135603\n",
       "\\item[20] 1.18345374582005\n",
       "\\item[21] 1.19331147359302\n",
       "\\item[22] 1.22485477162161\n",
       "\\item[23] 1.25910701644448\n",
       "\\item[24] 1.27849856975069\n",
       "\\item[25] 1.27728003431654\n",
       "\\item[26] 1.25713247988662\n",
       "\\item[27] 1.22344715389888\n",
       "\\item[28] 1.18402045395875\n",
       "\\item[29] 1.14803205090374\n",
       "\\item[30] 1.12474470267378\n",
       "\\item[31] 1.1216726941687\n",
       "\\item[32] 1.14262669140208\n",
       "\\item[33] 1.18667586911096\n",
       "\\item[34] 1.24874827955147\n",
       "\\item[35] 1.32142084821444\n",
       "\\item[36] 1.39683727345232\n",
       "\\item[37] 1.46813592938357\n",
       "\\item[38] 1.53043100867438\n",
       "\\item[39] 1.58167952739384\n",
       "\\item[40] 1.62375620217133\n",
       "\\item[41] 1.66390448407593\n",
       "\\item[42] 1.71636921870423\n",
       "\\item[43] 1.80324932045129\n",
       "\\item[44] 1.95150985700569\n",
       "\\item[45] 2.176881164604\n",
       "\\item[46] 2.47296176852095\n",
       "\\item[47] 2.81841379792341\n",
       "\\item[48] 3.1869743838847\n",
       "\\item[49] 3.55370545462127\n",
       "\\item[50] 3.89793903793354\n",
       "\\item[51] 4.20505715805107\n",
       "\\item[52] 4.46858336903342\n",
       "\\item[53] 4.69340252503735\n",
       "\\item[54] 4.90045798350248\n",
       "\\item[55] 5.13234893453417\n",
       "\\item[56] 5.45704777861802\n",
       "\\item[57] 5.96405818956508\n",
       "\\item[58] 6.74867896280937\n",
       "\\item[59] 7.89062461245204\n",
       "\\item[60] 9.44219716536402\n",
       "\\item[61] 11.4320805532939\n",
       "\\item[62] 13.8762656100252\n",
       "\\item[63] 16.7869139751703\n",
       "\\end{description*}\n",
       "\n",
       "\\item[\\$df] 2993\n",
       "\\item[\\$residual.scale] 39.924657923755\n",
       "\\end{description}\n"
      ],
      "text/markdown": [
       "$fit\n",
       ":   1\n",
       ":   60.49371418998742\n",
       ":   62.71254351028363\n",
       ":   65.81602452366754\n",
       ":   69.59243210553525\n",
       ":   73.83004113128296\n",
       ":   78.31712647630687\n",
       ":   82.8419630160038\n",
       ":   87.19282562576789\n",
       ":   91.196499337195110\n",
       ":   94.83380980667111\n",
       ":   98.124092846779212\n",
       ":   101.08668427010413\n",
       ":   103.74091988922814\n",
       ":   106.10613551673715\n",
       ":   108.20166696521316\n",
       ":   110.0468500472417\n",
       ":   111.66102057540418\n",
       ":   113.06351436228619\n",
       ":   114.27366722047220\n",
       ":   115.31081496254521\n",
       ":   116.19429340108822\n",
       ":   116.94343834868623\n",
       ":   117.57758561792324\n",
       ":   118.11363549318225\n",
       ":   118.55874614604626\n",
       ":   118.91764021989827\n",
       ":   119.19504035812128\n",
       ":   119.39566920409729\n",
       ":   119.52424940120930\n",
       ":   119.58550359283931\n",
       ":   119.58415442237232\n",
       ":   119.52492453318833\n",
       ":   119.41253656867234\n",
       ":   119.25171317220535\n",
       ":   119.0471769871736\n",
       ":   118.80365065695137\n",
       ":   118.5258568249338\n",
       ":   118.21851813448939\n",
       ":   117.88635722901240\n",
       ":   117.5340967518841\n",
       ":   117.16645934647842\n",
       ":   116.78816765618743\n",
       ":   116.40394432439144\n",
       ":   116.01380613855445\n",
       ":   115.59894646247746\n",
       ":   115.1358528040447\n",
       ":   114.60101267112648\n",
       ":   113.97091357161649\n",
       ":   113.22204301339250\n",
       ":   112.33088850433751\n",
       ":   111.27393755233252\n",
       ":   110.02767766525853\n",
       ":   108.56859635099854\n",
       ":   106.87318111743455\n",
       ":   104.91791947244756\n",
       ":   102.6792989239257\n",
       ":   100.13380697973458\n",
       ":   97.257931147770359\n",
       ":   94.028158935911760\n",
       ":   90.4209778520461\n",
       ":   86.412875404036762\n",
       ":   81.980339099783963\n",
       ":   77.0998564471633\n",
       "\n",
       "\n",
       "$se.fit\n",
       ":   1\n",
       ":   9.460394086136382\n",
       ":   5.6251896205613\n",
       ":   3.775854918910944\n",
       ":   3.334694656508055\n",
       ":   3.220376157954116\n",
       ":   2.921232624273347\n",
       ":   2.451880460776968\n",
       ":   2.011729324814199\n",
       ":   1.7607830156111510\n",
       ":   1.670071572893911\n",
       ":   1.6597642203008512\n",
       ":   1.6664562340782913\n",
       ":   1.6554715623185214\n",
       ":   1.6141838575377915\n",
       ":   1.5434911674445916\n",
       ":   1.4524327323860517\n",
       ":   1.3551396728948718\n",
       ":   1.2683763840165419\n",
       ":   1.2079673713560320\n",
       ":   1.1834537458200521\n",
       ":   1.1933114735930222\n",
       ":   1.2248547716216123\n",
       ":   1.2591070164444824\n",
       ":   1.2784985697506925\n",
       ":   1.2772800343165426\n",
       ":   1.2571324798866227\n",
       ":   1.2234471538988828\n",
       ":   1.1840204539587529\n",
       ":   1.1480320509037430\n",
       ":   1.1247447026737831\n",
       ":   1.121672694168732\n",
       ":   1.1426266914020833\n",
       ":   1.1866758691109634\n",
       ":   1.2487482795514735\n",
       ":   1.3214208482144436\n",
       ":   1.3968372734523237\n",
       ":   1.4681359293835738\n",
       ":   1.5304310086743839\n",
       ":   1.5816795273938440\n",
       ":   1.6237562021713341\n",
       ":   1.6639044840759342\n",
       ":   1.7163692187042343\n",
       ":   1.8032493204512944\n",
       ":   1.9515098570056945\n",
       ":   2.17688116460446\n",
       ":   2.4729617685209547\n",
       ":   2.8184137979234148\n",
       ":   3.186974383884749\n",
       ":   3.5537054546212750\n",
       ":   3.8979390379335451\n",
       ":   4.2050571580510752\n",
       ":   4.4685833690334253\n",
       ":   4.6934025250373554\n",
       ":   4.9004579835024855\n",
       ":   5.1323489345341756\n",
       ":   5.4570477786180257\n",
       ":   5.9640581895650858\n",
       ":   6.7486789628093759\n",
       ":   7.8906246124520460\n",
       ":   9.4421971653640261\n",
       ":   11.432080553293962\n",
       ":   13.876265610025263\n",
       ":   16.7869139751703\n",
       "\n",
       "\n",
       "$df\n",
       ":   2993\n",
       "$residual.scale\n",
       ":   39.924657923755\n",
       "\n",
       "\n"
      ],
      "text/plain": [
       "$fit\n",
       "        1         2         3         4         5         6         7         8 \n",
       " 60.49371  62.71254  65.81602  69.59243  73.83004  78.31713  82.84196  87.19283 \n",
       "        9        10        11        12        13        14        15        16 \n",
       " 91.19650  94.83381  98.12409 101.08668 103.74092 106.10614 108.20167 110.04685 \n",
       "       17        18        19        20        21        22        23        24 \n",
       "111.66102 113.06351 114.27367 115.31081 116.19429 116.94344 117.57759 118.11364 \n",
       "       25        26        27        28        29        30        31        32 \n",
       "118.55875 118.91764 119.19504 119.39567 119.52425 119.58550 119.58415 119.52492 \n",
       "       33        34        35        36        37        38        39        40 \n",
       "119.41254 119.25171 119.04718 118.80365 118.52586 118.21852 117.88636 117.53410 \n",
       "       41        42        43        44        45        46        47        48 \n",
       "117.16646 116.78817 116.40394 116.01381 115.59895 115.13585 114.60101 113.97091 \n",
       "       49        50        51        52        53        54        55        56 \n",
       "113.22204 112.33089 111.27394 110.02768 108.56860 106.87318 104.91792 102.67930 \n",
       "       57        58        59        60        61        62        63 \n",
       "100.13381  97.25793  94.02816  90.42098  86.41288  81.98034  77.09986 \n",
       "\n",
       "$se.fit\n",
       "        1         2         3         4         5         6         7         8 \n",
       " 9.460394  5.625190  3.775855  3.334695  3.220376  2.921233  2.451880  2.011729 \n",
       "        9        10        11        12        13        14        15        16 \n",
       " 1.760783  1.670072  1.659764  1.666456  1.655472  1.614184  1.543491  1.452433 \n",
       "       17        18        19        20        21        22        23        24 \n",
       " 1.355140  1.268376  1.207967  1.183454  1.193311  1.224855  1.259107  1.278499 \n",
       "       25        26        27        28        29        30        31        32 \n",
       " 1.277280  1.257132  1.223447  1.184020  1.148032  1.124745  1.121673  1.142627 \n",
       "       33        34        35        36        37        38        39        40 \n",
       " 1.186676  1.248748  1.321421  1.396837  1.468136  1.530431  1.581680  1.623756 \n",
       "       41        42        43        44        45        46        47        48 \n",
       " 1.663904  1.716369  1.803249  1.951510  2.176881  2.472962  2.818414  3.186974 \n",
       "       49        50        51        52        53        54        55        56 \n",
       " 3.553705  3.897939  4.205057  4.468583  4.693403  4.900458  5.132349  5.457048 \n",
       "       57        58        59        60        61        62        63 \n",
       " 5.964058  6.748679  7.890625  9.442197 11.432081 13.876266 16.786914 \n",
       "\n",
       "$df\n",
       "[1] 2993\n",
       "\n",
       "$residual.scale\n",
       "[1] 39.92466\n"
      ]
     },
     "metadata": {},
     "output_type": "display_data"
    }
   ],
   "source": [
    "pred_cubic"
   ]
  },
  {
   "cell_type": "code",
   "execution_count": 25,
   "metadata": {
    "vscode": {
     "languageId": "r"
    }
   },
   "outputs": [
    {
     "data": {
      "text/plain": [
       "\n",
       "Call:\n",
       "lm(formula = wage ~ bs(age, knots = c(25, 40, 60)), data = Wage)\n",
       "\n",
       "Residuals:\n",
       "    Min      1Q  Median      3Q     Max \n",
       "-98.832 -24.537  -5.049  15.209 203.207 \n",
       "\n",
       "Coefficients:\n",
       "                                Estimate Std. Error t value Pr(>|t|)    \n",
       "(Intercept)                       60.494      9.460   6.394 1.86e-10 ***\n",
       "bs(age, knots = c(25, 40, 60))1    3.980     12.538   0.317 0.750899    \n",
       "bs(age, knots = c(25, 40, 60))2   44.631      9.626   4.636 3.70e-06 ***\n",
       "bs(age, knots = c(25, 40, 60))3   62.839     10.755   5.843 5.69e-09 ***\n",
       "bs(age, knots = c(25, 40, 60))4   55.991     10.706   5.230 1.81e-07 ***\n",
       "bs(age, knots = c(25, 40, 60))5   50.688     14.402   3.520 0.000439 ***\n",
       "bs(age, knots = c(25, 40, 60))6   16.606     19.126   0.868 0.385338    \n",
       "---\n",
       "Signif. codes:  0 '***' 0.001 '**' 0.01 '*' 0.05 '.' 0.1 ' ' 1\n",
       "\n",
       "Residual standard error: 39.92 on 2993 degrees of freedom\n",
       "Multiple R-squared:  0.08642,\tAdjusted R-squared:  0.08459 \n",
       "F-statistic: 47.19 on 6 and 2993 DF,  p-value: < 2.2e-16\n"
      ]
     },
     "metadata": {},
     "output_type": "display_data"
    }
   ],
   "source": [
    "summary(fit_cubic)"
   ]
  },
  {
   "cell_type": "code",
   "execution_count": 38,
   "metadata": {
    "vscode": {
     "languageId": "r"
    }
   },
   "outputs": [],
   "source": [
    "cubic_se_bands <- pred_cubic$fit + cbind(fit_cubic = 0, lower = - 2 * pred_cubic$se, upper = 2 * pred_cubic$se)"
   ]
  },
  {
   "cell_type": "code",
   "execution_count": 39,
   "metadata": {
    "vscode": {
     "languageId": "r"
    }
   },
   "outputs": [
    {
     "data": {
      "text/html": [
       "<table class=\"dataframe\">\n",
       "<caption>A matrix: 63 × 3 of type dbl</caption>\n",
       "<thead>\n",
       "\t<tr><th></th><th scope=col>fit_cubic</th><th scope=col>lower</th><th scope=col>upper</th></tr>\n",
       "</thead>\n",
       "<tbody>\n",
       "\t<tr><th scope=row>1</th><td> 60.49371</td><td> 41.57293</td><td> 79.41450</td></tr>\n",
       "\t<tr><th scope=row>2</th><td> 62.71254</td><td> 51.46216</td><td> 73.96292</td></tr>\n",
       "\t<tr><th scope=row>3</th><td> 65.81602</td><td> 58.26431</td><td> 73.36773</td></tr>\n",
       "\t<tr><th scope=row>4</th><td> 69.59243</td><td> 62.92304</td><td> 76.26182</td></tr>\n",
       "\t<tr><th scope=row>5</th><td> 73.83004</td><td> 67.38929</td><td> 80.27079</td></tr>\n",
       "\t<tr><th scope=row>6</th><td> 78.31713</td><td> 72.47466</td><td> 84.15959</td></tr>\n",
       "\t<tr><th scope=row>7</th><td> 82.84196</td><td> 77.93820</td><td> 87.74572</td></tr>\n",
       "\t<tr><th scope=row>8</th><td> 87.19283</td><td> 83.16937</td><td> 91.21628</td></tr>\n",
       "\t<tr><th scope=row>9</th><td> 91.19650</td><td> 87.67493</td><td> 94.71807</td></tr>\n",
       "\t<tr><th scope=row>10</th><td> 94.83381</td><td> 91.49367</td><td> 98.17395</td></tr>\n",
       "\t<tr><th scope=row>11</th><td> 98.12409</td><td> 94.80456</td><td>101.44362</td></tr>\n",
       "\t<tr><th scope=row>12</th><td>101.08668</td><td> 97.75377</td><td>104.41960</td></tr>\n",
       "\t<tr><th scope=row>13</th><td>103.74092</td><td>100.42998</td><td>107.05186</td></tr>\n",
       "\t<tr><th scope=row>14</th><td>106.10614</td><td>102.87777</td><td>109.33450</td></tr>\n",
       "\t<tr><th scope=row>15</th><td>108.20167</td><td>105.11468</td><td>111.28865</td></tr>\n",
       "\t<tr><th scope=row>16</th><td>110.04685</td><td>107.14198</td><td>112.95172</td></tr>\n",
       "\t<tr><th scope=row>17</th><td>111.66102</td><td>108.95074</td><td>114.37130</td></tr>\n",
       "\t<tr><th scope=row>18</th><td>113.06351</td><td>110.52676</td><td>115.60027</td></tr>\n",
       "\t<tr><th scope=row>19</th><td>114.27367</td><td>111.85773</td><td>116.68960</td></tr>\n",
       "\t<tr><th scope=row>20</th><td>115.31081</td><td>112.94391</td><td>117.67772</td></tr>\n",
       "\t<tr><th scope=row>21</th><td>116.19429</td><td>113.80767</td><td>118.58092</td></tr>\n",
       "\t<tr><th scope=row>22</th><td>116.94344</td><td>114.49373</td><td>119.39315</td></tr>\n",
       "\t<tr><th scope=row>23</th><td>117.57759</td><td>115.05937</td><td>120.09580</td></tr>\n",
       "\t<tr><th scope=row>24</th><td>118.11364</td><td>115.55664</td><td>120.67063</td></tr>\n",
       "\t<tr><th scope=row>25</th><td>118.55875</td><td>116.00419</td><td>121.11331</td></tr>\n",
       "\t<tr><th scope=row>26</th><td>118.91764</td><td>116.40338</td><td>121.43191</td></tr>\n",
       "\t<tr><th scope=row>27</th><td>119.19504</td><td>116.74815</td><td>121.64193</td></tr>\n",
       "\t<tr><th scope=row>28</th><td>119.39567</td><td>117.02763</td><td>121.76371</td></tr>\n",
       "\t<tr><th scope=row>29</th><td>119.52425</td><td>117.22819</td><td>121.82031</td></tr>\n",
       "\t<tr><th scope=row>30</th><td>119.58550</td><td>117.33601</td><td>121.83499</td></tr>\n",
       "\t<tr><th scope=row>⋮</th><td>⋮</td><td>⋮</td><td>⋮</td></tr>\n",
       "\t<tr><th scope=row>34</th><td>119.25171</td><td>116.75422</td><td>121.7492</td></tr>\n",
       "\t<tr><th scope=row>35</th><td>119.04718</td><td>116.40434</td><td>121.6900</td></tr>\n",
       "\t<tr><th scope=row>36</th><td>118.80365</td><td>116.00998</td><td>121.5973</td></tr>\n",
       "\t<tr><th scope=row>37</th><td>118.52586</td><td>115.58958</td><td>121.4621</td></tr>\n",
       "\t<tr><th scope=row>38</th><td>118.21852</td><td>115.15766</td><td>121.2794</td></tr>\n",
       "\t<tr><th scope=row>39</th><td>117.88636</td><td>114.72300</td><td>121.0497</td></tr>\n",
       "\t<tr><th scope=row>40</th><td>117.53410</td><td>114.28658</td><td>120.7816</td></tr>\n",
       "\t<tr><th scope=row>41</th><td>117.16646</td><td>113.83865</td><td>120.4943</td></tr>\n",
       "\t<tr><th scope=row>42</th><td>116.78817</td><td>113.35543</td><td>120.2209</td></tr>\n",
       "\t<tr><th scope=row>43</th><td>116.40394</td><td>112.79745</td><td>120.0104</td></tr>\n",
       "\t<tr><th scope=row>44</th><td>116.01381</td><td>112.11079</td><td>119.9168</td></tr>\n",
       "\t<tr><th scope=row>45</th><td>115.59895</td><td>111.24518</td><td>119.9527</td></tr>\n",
       "\t<tr><th scope=row>46</th><td>115.13585</td><td>110.18993</td><td>120.0818</td></tr>\n",
       "\t<tr><th scope=row>47</th><td>114.60101</td><td>108.96419</td><td>120.2378</td></tr>\n",
       "\t<tr><th scope=row>48</th><td>113.97091</td><td>107.59696</td><td>120.3449</td></tr>\n",
       "\t<tr><th scope=row>49</th><td>113.22204</td><td>106.11463</td><td>120.3295</td></tr>\n",
       "\t<tr><th scope=row>50</th><td>112.33089</td><td>104.53501</td><td>120.1268</td></tr>\n",
       "\t<tr><th scope=row>51</th><td>111.27394</td><td>102.86382</td><td>119.6841</td></tr>\n",
       "\t<tr><th scope=row>52</th><td>110.02768</td><td>101.09051</td><td>118.9648</td></tr>\n",
       "\t<tr><th scope=row>53</th><td>108.56860</td><td> 99.18179</td><td>117.9554</td></tr>\n",
       "\t<tr><th scope=row>54</th><td>106.87318</td><td> 97.07227</td><td>116.6741</td></tr>\n",
       "\t<tr><th scope=row>55</th><td>104.91792</td><td> 94.65322</td><td>115.1826</td></tr>\n",
       "\t<tr><th scope=row>56</th><td>102.67930</td><td> 91.76520</td><td>113.5934</td></tr>\n",
       "\t<tr><th scope=row>57</th><td>100.13381</td><td> 88.20569</td><td>112.0619</td></tr>\n",
       "\t<tr><th scope=row>58</th><td> 97.25793</td><td> 83.76057</td><td>110.7553</td></tr>\n",
       "\t<tr><th scope=row>59</th><td> 94.02816</td><td> 78.24691</td><td>109.8094</td></tr>\n",
       "\t<tr><th scope=row>60</th><td> 90.42098</td><td> 71.53658</td><td>109.3054</td></tr>\n",
       "\t<tr><th scope=row>61</th><td> 86.41288</td><td> 63.54871</td><td>109.2770</td></tr>\n",
       "\t<tr><th scope=row>62</th><td> 81.98034</td><td> 54.22781</td><td>109.7329</td></tr>\n",
       "\t<tr><th scope=row>63</th><td> 77.09986</td><td> 43.52603</td><td>110.6737</td></tr>\n",
       "</tbody>\n",
       "</table>\n"
      ],
      "text/latex": [
       "A matrix: 63 × 3 of type dbl\n",
       "\\begin{tabular}{r|lll}\n",
       "  & fit\\_cubic & lower & upper\\\\\n",
       "\\hline\n",
       "\t1 &  60.49371 &  41.57293 &  79.41450\\\\\n",
       "\t2 &  62.71254 &  51.46216 &  73.96292\\\\\n",
       "\t3 &  65.81602 &  58.26431 &  73.36773\\\\\n",
       "\t4 &  69.59243 &  62.92304 &  76.26182\\\\\n",
       "\t5 &  73.83004 &  67.38929 &  80.27079\\\\\n",
       "\t6 &  78.31713 &  72.47466 &  84.15959\\\\\n",
       "\t7 &  82.84196 &  77.93820 &  87.74572\\\\\n",
       "\t8 &  87.19283 &  83.16937 &  91.21628\\\\\n",
       "\t9 &  91.19650 &  87.67493 &  94.71807\\\\\n",
       "\t10 &  94.83381 &  91.49367 &  98.17395\\\\\n",
       "\t11 &  98.12409 &  94.80456 & 101.44362\\\\\n",
       "\t12 & 101.08668 &  97.75377 & 104.41960\\\\\n",
       "\t13 & 103.74092 & 100.42998 & 107.05186\\\\\n",
       "\t14 & 106.10614 & 102.87777 & 109.33450\\\\\n",
       "\t15 & 108.20167 & 105.11468 & 111.28865\\\\\n",
       "\t16 & 110.04685 & 107.14198 & 112.95172\\\\\n",
       "\t17 & 111.66102 & 108.95074 & 114.37130\\\\\n",
       "\t18 & 113.06351 & 110.52676 & 115.60027\\\\\n",
       "\t19 & 114.27367 & 111.85773 & 116.68960\\\\\n",
       "\t20 & 115.31081 & 112.94391 & 117.67772\\\\\n",
       "\t21 & 116.19429 & 113.80767 & 118.58092\\\\\n",
       "\t22 & 116.94344 & 114.49373 & 119.39315\\\\\n",
       "\t23 & 117.57759 & 115.05937 & 120.09580\\\\\n",
       "\t24 & 118.11364 & 115.55664 & 120.67063\\\\\n",
       "\t25 & 118.55875 & 116.00419 & 121.11331\\\\\n",
       "\t26 & 118.91764 & 116.40338 & 121.43191\\\\\n",
       "\t27 & 119.19504 & 116.74815 & 121.64193\\\\\n",
       "\t28 & 119.39567 & 117.02763 & 121.76371\\\\\n",
       "\t29 & 119.52425 & 117.22819 & 121.82031\\\\\n",
       "\t30 & 119.58550 & 117.33601 & 121.83499\\\\\n",
       "\t⋮ & ⋮ & ⋮ & ⋮\\\\\n",
       "\t34 & 119.25171 & 116.75422 & 121.7492\\\\\n",
       "\t35 & 119.04718 & 116.40434 & 121.6900\\\\\n",
       "\t36 & 118.80365 & 116.00998 & 121.5973\\\\\n",
       "\t37 & 118.52586 & 115.58958 & 121.4621\\\\\n",
       "\t38 & 118.21852 & 115.15766 & 121.2794\\\\\n",
       "\t39 & 117.88636 & 114.72300 & 121.0497\\\\\n",
       "\t40 & 117.53410 & 114.28658 & 120.7816\\\\\n",
       "\t41 & 117.16646 & 113.83865 & 120.4943\\\\\n",
       "\t42 & 116.78817 & 113.35543 & 120.2209\\\\\n",
       "\t43 & 116.40394 & 112.79745 & 120.0104\\\\\n",
       "\t44 & 116.01381 & 112.11079 & 119.9168\\\\\n",
       "\t45 & 115.59895 & 111.24518 & 119.9527\\\\\n",
       "\t46 & 115.13585 & 110.18993 & 120.0818\\\\\n",
       "\t47 & 114.60101 & 108.96419 & 120.2378\\\\\n",
       "\t48 & 113.97091 & 107.59696 & 120.3449\\\\\n",
       "\t49 & 113.22204 & 106.11463 & 120.3295\\\\\n",
       "\t50 & 112.33089 & 104.53501 & 120.1268\\\\\n",
       "\t51 & 111.27394 & 102.86382 & 119.6841\\\\\n",
       "\t52 & 110.02768 & 101.09051 & 118.9648\\\\\n",
       "\t53 & 108.56860 &  99.18179 & 117.9554\\\\\n",
       "\t54 & 106.87318 &  97.07227 & 116.6741\\\\\n",
       "\t55 & 104.91792 &  94.65322 & 115.1826\\\\\n",
       "\t56 & 102.67930 &  91.76520 & 113.5934\\\\\n",
       "\t57 & 100.13381 &  88.20569 & 112.0619\\\\\n",
       "\t58 &  97.25793 &  83.76057 & 110.7553\\\\\n",
       "\t59 &  94.02816 &  78.24691 & 109.8094\\\\\n",
       "\t60 &  90.42098 &  71.53658 & 109.3054\\\\\n",
       "\t61 &  86.41288 &  63.54871 & 109.2770\\\\\n",
       "\t62 &  81.98034 &  54.22781 & 109.7329\\\\\n",
       "\t63 &  77.09986 &  43.52603 & 110.6737\\\\\n",
       "\\end{tabular}\n"
      ],
      "text/markdown": [
       "\n",
       "A matrix: 63 × 3 of type dbl\n",
       "\n",
       "| <!--/--> | fit_cubic | lower | upper |\n",
       "|---|---|---|---|\n",
       "| 1 |  60.49371 |  41.57293 |  79.41450 |\n",
       "| 2 |  62.71254 |  51.46216 |  73.96292 |\n",
       "| 3 |  65.81602 |  58.26431 |  73.36773 |\n",
       "| 4 |  69.59243 |  62.92304 |  76.26182 |\n",
       "| 5 |  73.83004 |  67.38929 |  80.27079 |\n",
       "| 6 |  78.31713 |  72.47466 |  84.15959 |\n",
       "| 7 |  82.84196 |  77.93820 |  87.74572 |\n",
       "| 8 |  87.19283 |  83.16937 |  91.21628 |\n",
       "| 9 |  91.19650 |  87.67493 |  94.71807 |\n",
       "| 10 |  94.83381 |  91.49367 |  98.17395 |\n",
       "| 11 |  98.12409 |  94.80456 | 101.44362 |\n",
       "| 12 | 101.08668 |  97.75377 | 104.41960 |\n",
       "| 13 | 103.74092 | 100.42998 | 107.05186 |\n",
       "| 14 | 106.10614 | 102.87777 | 109.33450 |\n",
       "| 15 | 108.20167 | 105.11468 | 111.28865 |\n",
       "| 16 | 110.04685 | 107.14198 | 112.95172 |\n",
       "| 17 | 111.66102 | 108.95074 | 114.37130 |\n",
       "| 18 | 113.06351 | 110.52676 | 115.60027 |\n",
       "| 19 | 114.27367 | 111.85773 | 116.68960 |\n",
       "| 20 | 115.31081 | 112.94391 | 117.67772 |\n",
       "| 21 | 116.19429 | 113.80767 | 118.58092 |\n",
       "| 22 | 116.94344 | 114.49373 | 119.39315 |\n",
       "| 23 | 117.57759 | 115.05937 | 120.09580 |\n",
       "| 24 | 118.11364 | 115.55664 | 120.67063 |\n",
       "| 25 | 118.55875 | 116.00419 | 121.11331 |\n",
       "| 26 | 118.91764 | 116.40338 | 121.43191 |\n",
       "| 27 | 119.19504 | 116.74815 | 121.64193 |\n",
       "| 28 | 119.39567 | 117.02763 | 121.76371 |\n",
       "| 29 | 119.52425 | 117.22819 | 121.82031 |\n",
       "| 30 | 119.58550 | 117.33601 | 121.83499 |\n",
       "| ⋮ | ⋮ | ⋮ | ⋮ |\n",
       "| 34 | 119.25171 | 116.75422 | 121.7492 |\n",
       "| 35 | 119.04718 | 116.40434 | 121.6900 |\n",
       "| 36 | 118.80365 | 116.00998 | 121.5973 |\n",
       "| 37 | 118.52586 | 115.58958 | 121.4621 |\n",
       "| 38 | 118.21852 | 115.15766 | 121.2794 |\n",
       "| 39 | 117.88636 | 114.72300 | 121.0497 |\n",
       "| 40 | 117.53410 | 114.28658 | 120.7816 |\n",
       "| 41 | 117.16646 | 113.83865 | 120.4943 |\n",
       "| 42 | 116.78817 | 113.35543 | 120.2209 |\n",
       "| 43 | 116.40394 | 112.79745 | 120.0104 |\n",
       "| 44 | 116.01381 | 112.11079 | 119.9168 |\n",
       "| 45 | 115.59895 | 111.24518 | 119.9527 |\n",
       "| 46 | 115.13585 | 110.18993 | 120.0818 |\n",
       "| 47 | 114.60101 | 108.96419 | 120.2378 |\n",
       "| 48 | 113.97091 | 107.59696 | 120.3449 |\n",
       "| 49 | 113.22204 | 106.11463 | 120.3295 |\n",
       "| 50 | 112.33089 | 104.53501 | 120.1268 |\n",
       "| 51 | 111.27394 | 102.86382 | 119.6841 |\n",
       "| 52 | 110.02768 | 101.09051 | 118.9648 |\n",
       "| 53 | 108.56860 |  99.18179 | 117.9554 |\n",
       "| 54 | 106.87318 |  97.07227 | 116.6741 |\n",
       "| 55 | 104.91792 |  94.65322 | 115.1826 |\n",
       "| 56 | 102.67930 |  91.76520 | 113.5934 |\n",
       "| 57 | 100.13381 |  88.20569 | 112.0619 |\n",
       "| 58 |  97.25793 |  83.76057 | 110.7553 |\n",
       "| 59 |  94.02816 |  78.24691 | 109.8094 |\n",
       "| 60 |  90.42098 |  71.53658 | 109.3054 |\n",
       "| 61 |  86.41288 |  63.54871 | 109.2770 |\n",
       "| 62 |  81.98034 |  54.22781 | 109.7329 |\n",
       "| 63 |  77.09986 |  43.52603 | 110.6737 |\n",
       "\n"
      ],
      "text/plain": [
       "   fit_cubic lower     upper    \n",
       "1   60.49371  41.57293  79.41450\n",
       "2   62.71254  51.46216  73.96292\n",
       "3   65.81602  58.26431  73.36773\n",
       "4   69.59243  62.92304  76.26182\n",
       "5   73.83004  67.38929  80.27079\n",
       "6   78.31713  72.47466  84.15959\n",
       "7   82.84196  77.93820  87.74572\n",
       "8   87.19283  83.16937  91.21628\n",
       "9   91.19650  87.67493  94.71807\n",
       "10  94.83381  91.49367  98.17395\n",
       "11  98.12409  94.80456 101.44362\n",
       "12 101.08668  97.75377 104.41960\n",
       "13 103.74092 100.42998 107.05186\n",
       "14 106.10614 102.87777 109.33450\n",
       "15 108.20167 105.11468 111.28865\n",
       "16 110.04685 107.14198 112.95172\n",
       "17 111.66102 108.95074 114.37130\n",
       "18 113.06351 110.52676 115.60027\n",
       "19 114.27367 111.85773 116.68960\n",
       "20 115.31081 112.94391 117.67772\n",
       "21 116.19429 113.80767 118.58092\n",
       "22 116.94344 114.49373 119.39315\n",
       "23 117.57759 115.05937 120.09580\n",
       "24 118.11364 115.55664 120.67063\n",
       "25 118.55875 116.00419 121.11331\n",
       "26 118.91764 116.40338 121.43191\n",
       "27 119.19504 116.74815 121.64193\n",
       "28 119.39567 117.02763 121.76371\n",
       "29 119.52425 117.22819 121.82031\n",
       "30 119.58550 117.33601 121.83499\n",
       "⋮  ⋮         ⋮         ⋮        \n",
       "34 119.25171 116.75422 121.7492 \n",
       "35 119.04718 116.40434 121.6900 \n",
       "36 118.80365 116.00998 121.5973 \n",
       "37 118.52586 115.58958 121.4621 \n",
       "38 118.21852 115.15766 121.2794 \n",
       "39 117.88636 114.72300 121.0497 \n",
       "40 117.53410 114.28658 120.7816 \n",
       "41 117.16646 113.83865 120.4943 \n",
       "42 116.78817 113.35543 120.2209 \n",
       "43 116.40394 112.79745 120.0104 \n",
       "44 116.01381 112.11079 119.9168 \n",
       "45 115.59895 111.24518 119.9527 \n",
       "46 115.13585 110.18993 120.0818 \n",
       "47 114.60101 108.96419 120.2378 \n",
       "48 113.97091 107.59696 120.3449 \n",
       "49 113.22204 106.11463 120.3295 \n",
       "50 112.33089 104.53501 120.1268 \n",
       "51 111.27394 102.86382 119.6841 \n",
       "52 110.02768 101.09051 118.9648 \n",
       "53 108.56860  99.18179 117.9554 \n",
       "54 106.87318  97.07227 116.6741 \n",
       "55 104.91792  94.65322 115.1826 \n",
       "56 102.67930  91.76520 113.5934 \n",
       "57 100.13381  88.20569 112.0619 \n",
       "58  97.25793  83.76057 110.7553 \n",
       "59  94.02816  78.24691 109.8094 \n",
       "60  90.42098  71.53658 109.3054 \n",
       "61  86.41288  63.54871 109.2770 \n",
       "62  81.98034  54.22781 109.7329 \n",
       "63  77.09986  43.52603 110.6737 "
      ]
     },
     "metadata": {},
     "output_type": "display_data"
    }
   ],
   "source": [
    "cubic_se_bands"
   ]
  },
  {
   "cell_type": "code",
   "execution_count": 52,
   "metadata": {
    "vscode": {
     "languageId": "r"
    }
   },
   "outputs": [],
   "source": [
    "library(repr)"
   ]
  },
  {
   "cell_type": "code",
   "execution_count": 80,
   "metadata": {
    "vscode": {
     "languageId": "r"
    }
   },
   "outputs": [
    {
     "data": {
      "image/png": "[encoded data removed]",
      "text/plain": [
       "plot without title"
      ]
     },
     "metadata": {
      "image/png": {
       "height": 540,
       "width": 960
      }
     },
     "output_type": "display_data"
    }
   ],
   "source": [
    "\n",
    "# Set the plot width and height\n",
    "options(repr.plot.width = 16, repr.plot.height = 9)\n",
    "matplot(age_grid, cubic_se_bands,\n",
    "    col = \"blue\",\n",
    "    lwd = c(2, 3, 3),\n",
    "    lty = c(1, 2, 2),\n",
    "    type = \"l\",\n",
    "    ylim = c(0, 300)\n",
    ")\n",
    "points(age, wage, col = \"darkgrey\" )\n",
    "abline(v = c(25, 40, 60), lty =2, col = \"darkgreen\")\n",
    "fit_poly_16 = smooth.spline(age, wage,df = 16)\n",
    "lines(fit_poly_16, col = \"red\", lwd = 2)"
   ]
  },
  {
   "cell_type": "code",
   "execution_count": 55,
   "metadata": {
    "vscode": {
     "languageId": "r"
    }
   },
   "outputs": [
    {
     "data": {
      "image/png": "[encoded data removed]",
      "text/plain": [
       "plot without title"
      ]
     },
     "metadata": {
      "image/png": {
       "height": 540,
       "width": 960
      }
     },
     "output_type": "display_data"
    }
   ],
   "source": [
    "plot(age, wage, col = \"darkgrey\")\n",
    "lines(age_grid, predict(fit_cubic, list(age = age_grid)), col = \"darkgreen\", lwd = 2)\n",
    "abline(v = c(25, 40, 60), lty =2, col = \"darkgreen\")"
   ]
  },
  {
   "cell_type": "code",
   "execution_count": 56,
   "metadata": {
    "vscode": {
     "languageId": "r"
    }
   },
   "outputs": [
    {
     "name": "stderr",
     "output_type": "stream",
     "text": [
      "Warning message in smooth.spline(age, wage, cv = TRUE):\n",
      "\"cross-validation with non-unique 'x' values seems doubtful\"\n"
     ]
    }
   ],
   "source": [
    "fit_poly_CV = smooth.spline(age, wage, cv = TRUE)"
   ]
  },
  {
   "cell_type": "code",
   "execution_count": 61,
   "metadata": {
    "vscode": {
     "languageId": "r"
    }
   },
   "outputs": [
    {
     "data": {
      "image/png": "[encoded data removed]",
      "text/plain": [
       "plot without title"
      ]
     },
     "metadata": {
      "image/png": {
       "height": 540,
       "width": 960
      }
     },
     "output_type": "display_data"
    }
   ],
   "source": [
    "plot(age, wage, col = \"darkgrey\")\n",
    "lines(age_grid, predict(fit_cubic, list(age = age_grid)), col = \"darkgreen\", lwd = 2)\n",
    "abline(v = c(25, 40, 60), lty =2, col = \"darkgreen\")\n",
    "lines(fit_poly_CV, col = \"purple\", lwd = 2)"
   ]
  },
  {
   "cell_type": "code",
   "execution_count": 63,
   "metadata": {
    "vscode": {
     "languageId": "r"
    }
   },
   "outputs": [
    {
     "data": {
      "text/plain": [
       "Call:\n",
       "smooth.spline(x = age, y = wage, cv = TRUE)\n",
       "\n",
       "Smoothing Parameter  spar= 0.6988943  lambda= 0.02792303 (12 iterations)\n",
       "Equivalent Degrees of Freedom (Df): 6.794596\n",
       "Penalized Criterion (RSS): 75215.9\n",
       "PRESS(l.o.o. CV): 1593.383"
      ]
     },
     "metadata": {},
     "output_type": "display_data"
    }
   ],
   "source": [
    "fit_poly_CV"
   ]
  },
  {
   "cell_type": "code",
   "execution_count": 67,
   "metadata": {
    "vscode": {
     "languageId": "r"
    }
   },
   "outputs": [
    {
     "name": "stderr",
     "output_type": "stream",
     "text": [
      "Loading required package: gam\n",
      "\n",
      "Loading required package: foreach\n",
      "\n",
      "Loaded gam 1.22-3\n",
      "\n",
      "\n"
     ]
    }
   ],
   "source": [
    "require(gam)"
   ]
  },
  {
   "cell_type": "code",
   "execution_count": 68,
   "metadata": {
    "vscode": {
     "languageId": "r"
    }
   },
   "outputs": [],
   "source": [
    "gam_1 <- gam(wage ~ s(age, df = 4) + s(year, df = 4) + education, data = Wage)"
   ]
  },
  {
   "cell_type": "code",
   "execution_count": 69,
   "metadata": {
    "vscode": {
     "languageId": "r"
    }
   },
   "outputs": [],
   "source": [
    "par(mfrow = c(1,3))"
   ]
  },
  {
   "cell_type": "code",
   "execution_count": 70,
   "metadata": {
    "vscode": {
     "languageId": "r"
    }
   },
   "outputs": [
    {
     "data": {
      "image/png": "[encoded data removed]",
      "text/plain": [
       "plot without title"
      ]
     },
     "metadata": {
      "image/png": {
       "height": 540,
       "width": 960
      }
     },
     "output_type": "display_data"
    },
    {
     "data": {
      "image/png": "[encoded data removed]",
      "text/plain": [
       "plot without title"
      ]
     },
     "metadata": {
      "image/png": {
       "height": 540,
       "width": 960
      }
     },
     "output_type": "display_data"
    },
    {
     "data": {
      "image/png": "[encoded data removed]",
      "text/plain": [
       "plot without title"
      ]
     },
     "metadata": {
      "image/png": {
       "height": 540,
       "width": 960
      }
     },
     "output_type": "display_data"
    }
   ],
   "source": [
    "plot(gam_1, se = TRUE)"
   ]
  },
  {
   "cell_type": "code",
   "execution_count": 74,
   "metadata": {
    "vscode": {
     "languageId": "r"
    }
   },
   "outputs": [],
   "source": [
    "gam_2 <- gam(I(wage > 250) ~ s(age, df = 4) + s(year, df = 4) + education, data = Wage, family = binomial)\n"
   ]
  },
  {
   "cell_type": "code",
   "execution_count": 75,
   "metadata": {
    "vscode": {
     "languageId": "r"
    }
   },
   "outputs": [
    {
     "data": {
      "image/png": "[encoded data removed]",
      "text/plain": [
       "plot without title"
      ]
     },
     "metadata": {
      "image/png": {
       "height": 540,
       "width": 960
      }
     },
     "output_type": "display_data"
    },
    {
     "data": {
      "image/png": "[encoded data removed]",
      "text/plain": [
       "plot without title"
      ]
     },
     "metadata": {
      "image/png": {
       "height": 540,
       "width": 960
      }
     },
     "output_type": "display_data"
    },
    {
     "data": {
      "image/png": "[encoded data removed]",
      "text/plain": [
       "plot without title"
      ]
     },
     "metadata": {
      "image/png": {
       "height": 540,
       "width": 960
      }
     },
     "output_type": "display_data"
    }
   ],
   "source": [
    "plot(gam_2)"
   ]
  },
  {
   "cell_type": "code",
   "execution_count": 76,
   "metadata": {
    "vscode": {
     "languageId": "r"
    }
   },
   "outputs": [],
   "source": [
    "gam_2a <- gam(I(wage > 250) ~ s(age, df = 4) + year + education, data = Wage, family = binomial)\n"
   ]
  },
  {
   "cell_type": "code",
   "execution_count": 78,
   "metadata": {
    "vscode": {
     "languageId": "r"
    }
   },
   "outputs": [
    {
     "data": {
      "text/html": [
       "<table class=\"dataframe\">\n",
       "<caption>A anova: 2 × 5</caption>\n",
       "<thead>\n",
       "\t<tr><th></th><th scope=col>Resid. Df</th><th scope=col>Resid. Dev</th><th scope=col>Df</th><th scope=col>Deviance</th><th scope=col>Pr(&gt;Chi)</th></tr>\n",
       "\t<tr><th></th><th scope=col>&lt;dbl&gt;</th><th scope=col>&lt;dbl&gt;</th><th scope=col>&lt;dbl&gt;</th><th scope=col>&lt;dbl&gt;</th><th scope=col>&lt;dbl&gt;</th></tr>\n",
       "</thead>\n",
       "<tbody>\n",
       "\t<tr><th scope=row>1</th><td>2990</td><td>603.7774</td><td>      NA</td><td>       NA</td><td>       NA</td></tr>\n",
       "\t<tr><th scope=row>2</th><td>2987</td><td>602.8725</td><td>2.999983</td><td>0.9049826</td><td>0.8242229</td></tr>\n",
       "</tbody>\n",
       "</table>\n"
      ],
      "text/latex": [
       "A anova: 2 × 5\n",
       "\\begin{tabular}{r|lllll}\n",
       "  & Resid. Df & Resid. Dev & Df & Deviance & Pr(>Chi)\\\\\n",
       "  & <dbl> & <dbl> & <dbl> & <dbl> & <dbl>\\\\\n",
       "\\hline\n",
       "\t1 & 2990 & 603.7774 &       NA &        NA &        NA\\\\\n",
       "\t2 & 2987 & 602.8725 & 2.999983 & 0.9049826 & 0.8242229\\\\\n",
       "\\end{tabular}\n"
      ],
      "text/markdown": [
       "\n",
       "A anova: 2 × 5\n",
       "\n",
       "| <!--/--> | Resid. Df &lt;dbl&gt; | Resid. Dev &lt;dbl&gt; | Df &lt;dbl&gt; | Deviance &lt;dbl&gt; | Pr(&gt;Chi) &lt;dbl&gt; |\n",
       "|---|---|---|---|---|---|\n",
       "| 1 | 2990 | 603.7774 |       NA |        NA |        NA |\n",
       "| 2 | 2987 | 602.8725 | 2.999983 | 0.9049826 | 0.8242229 |\n",
       "\n"
      ],
      "text/plain": [
       "  Resid. Df Resid. Dev Df       Deviance  Pr(>Chi) \n",
       "1 2990      603.7774         NA        NA        NA\n",
       "2 2987      602.8725   2.999983 0.9049826 0.8242229"
      ]
     },
     "metadata": {},
     "output_type": "display_data"
    }
   ],
   "source": [
    "anova(gam_2a, gam_2, test = \"Chisq\")"
   ]
  },
  {
   "cell_type": "code",
   "execution_count": null,
   "metadata": {
    "vscode": {
     "languageId": "r"
    }
   },
   "outputs": [],
   "source": []
  }
 ],
 "metadata": {
  "kernelspec": {
   "display_name": "R",
   "language": "R",
   "name": "ir"
  },
  "language_info": {
   "codemirror_mode": "r",
   "file_extension": ".r",
   "mimetype": "text/x-r-source",
   "name": "R",
   "pygments_lexer": "r",
   "version": "4.4.0"
  }
 },
 "nbformat": 4,
 "nbformat_minor": 2
}
