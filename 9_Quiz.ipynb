{
 "cells": [
  {
   "cell_type": "code",
   "execution_count": 1,
   "metadata": {
    "vscode": {
     "languageId": "r"
    }
   },
   "outputs": [
    {
     "name": "stderr",
     "output_type": "stream",
     "text": [
      "Loading required package: e1071\n",
      "\n",
      "Warning message:\n",
      "\"package 'e1071' was built under R version 4.4.1\"\n"
     ]
    }
   ],
   "source": [
    "library(MASS)\n",
    "require(e1071)"
   ]
  },
  {
   "cell_type": "code",
   "execution_count": 2,
   "metadata": {
    "vscode": {
     "languageId": "r"
    }
   },
   "outputs": [],
   "source": [
    "mean_vector_class_0 <- rep(0, 10)\n",
    "mean_vector_class_1 <- c(rep(1, 5), rep(0, 5))\n",
    "identity_cov_matrix <- diag(10)\n"
   ]
  },
  {
   "cell_type": "code",
   "execution_count": 3,
   "metadata": {
    "vscode": {
     "languageId": "r"
    }
   },
   "outputs": [],
   "source": [
    "y_test_0 <- rep(0, 500)\n",
    "y_test_1 <- rep(1, 500)\n",
    "y_t <- matrix(c(y_test_0, y_test_1))\n",
    "\n",
    "x_test_0 <- mvrnorm(\n",
    "    n = 500,\n",
    "    mu = mean_vector_class_0,\n",
    "    Sigma = identity_cov_matrix\n",
    ")\n",
    "x_test_1 <- mvrnorm(\n",
    "    n = 500,\n",
    "    mu = mean_vector_class_1,\n",
    "    Sigma = identity_cov_matrix\n",
    ")\n",
    "x_t <- rbind(x_test_0, x_test_1)\n",
    "dat_t <- data.frame(x_t, y_t = as.factor((y_t)))"
   ]
  },
  {
   "cell_type": "code",
   "execution_count": 4,
   "metadata": {
    "vscode": {
     "languageId": "r"
    }
   },
   "outputs": [],
   "source": [
    "y_class_0 <- rep(0, 50)\n",
    "y_class_1 <- rep(1, 50)\n",
    "y <- matrix(c(y_class_0, y_class_1))\n"
   ]
  },
  {
   "cell_type": "code",
   "execution_count": 5,
   "metadata": {
    "vscode": {
     "languageId": "r"
    }
   },
   "outputs": [],
   "source": [
    "x_samples_class_0 <- mvrnorm(\n",
    "    n = 50,\n",
    "    mu = mean_vector_class_0,\n",
    "    Sigma = identity_cov_matrix\n",
    ")\n",
    "x_samples_class_1 <- mvrnorm(\n",
    "    n = 50,\n",
    "    mu = mean_vector_class_1,\n",
    "    Sigma = identity_cov_matrix\n",
    ")\n",
    "x <- rbind(x_samples_class_0, x_samples_class_1)\n",
    "\n",
    "dat <- data.frame(x, y = as.factor((y)))\n",
    "\n",
    "svmfit <- svm(y ~ ., data = dat)\n"
   ]
  },
  {
   "cell_type": "code",
   "execution_count": 6,
   "metadata": {
    "vscode": {
     "languageId": "r"
    }
   },
   "outputs": [
    {
     "data": {
      "text/plain": [
       "\n",
       "Call:\n",
       "svm(formula = y ~ ., data = dat)\n",
       "\n",
       "\n",
       "Parameters:\n",
       "   SVM-Type:  C-classification \n",
       " SVM-Kernel:  radial \n",
       "       cost:  1 \n",
       "\n",
       "Number of Support Vectors:  78\n"
      ]
     },
     "metadata": {},
     "output_type": "display_data"
    }
   ],
   "source": [
    "svmfit\n"
   ]
  },
  {
   "cell_type": "code",
   "execution_count": 7,
   "metadata": {
    "vscode": {
     "languageId": "r"
    }
   },
   "outputs": [
    {
     "data": {
      "text/html": [
       "0.136"
      ],
      "text/latex": [
       "0.136"
      ],
      "text/markdown": [
       "0.136"
      ],
      "text/plain": [
       "[1] 0.136"
      ]
     },
     "metadata": {},
     "output_type": "display_data"
    }
   ],
   "source": [
    "results = predict(svmfit, dat_t)\n",
    "confusion_matrix <- table(Predicted = results, Actual = dat_t$y_t)\n",
    "TN <- confusion_matrix[\"0\", \"0\"]\n",
    "FN <- confusion_matrix[\"0\", \"1\"]\n",
    "FP <- confusion_matrix[\"1\", \"0\"]\n",
    "TP <- confusion_matrix[\"1\", \"1\"]\n",
    "test_error_rate <- (FP + FN) / (FP + FN + TP + TN)\n",
    "test_error_rate\n"
   ]
  },
  {
   "cell_type": "code",
   "execution_count": 8,
   "metadata": {
    "vscode": {
     "languageId": "r"
    }
   },
   "outputs": [],
   "source": [
    "# svm linear\n",
    "\n",
    "error_rate_linear <- rep(0, 1000)\n",
    "\n",
    "for (i in 1:1000) {\n",
    "    x_samples_class_0 <- mvrnorm(\n",
    "        n = 50,\n",
    "        mu = mean_vector_class_0,\n",
    "        Sigma = identity_cov_matrix\n",
    "    )\n",
    "    x_samples_class_1 <- mvrnorm(\n",
    "        n = 50,\n",
    "        mu = mean_vector_class_1,\n",
    "        Sigma = identity_cov_matrix\n",
    "    )\n",
    "    x <- rbind(x_samples_class_0, x_samples_class_1)\n",
    "\n",
    "    dat <- data.frame(x, y = as.factor((y)))\n",
    "\n",
    "    svmfit <- svm(y ~ ., data = dat)\n",
    "    results <- predict(svmfit, dat_t)\n",
    "    confusion_matrix <- table(Predicted = results, Actual = dat_t$y_t)\n",
    "    TN <- confusion_matrix[\"0\", \"0\"]\n",
    "    FN <- confusion_matrix[\"0\", \"1\"]\n",
    "    FP <- confusion_matrix[\"1\", \"0\"]\n",
    "    TP <- confusion_matrix[\"1\", \"1\"]\n",
    "    test_error_rate <- (FP + FN) / (FP + FN + TP + TN)\n",
    "\n",
    "    error_rate_linear[i] <- test_error_rate\n",
    "}\n"
   ]
  },
  {
   "cell_type": "code",
   "execution_count": 9,
   "metadata": {
    "vscode": {
     "languageId": "r"
    }
   },
   "outputs": [
    {
     "data": {
      "text/html": [
       "0.152841"
      ],
      "text/latex": [
       "0.152841"
      ],
      "text/markdown": [
       "0.152841"
      ],
      "text/plain": [
       "[1] 0.152841"
      ]
     },
     "metadata": {},
     "output_type": "display_data"
    }
   ],
   "source": [
    "mean(error_rate_linear)"
   ]
  },
  {
   "cell_type": "code",
   "execution_count": 10,
   "metadata": {
    "vscode": {
     "languageId": "r"
    }
   },
   "outputs": [],
   "source": [
    "# svm radial\n",
    "\n",
    "error_rate_radial <- rep(0, 1000)\n",
    "\n",
    "for (i in 1:1000) {\n",
    "    x_samples_class_0 <- mvrnorm(\n",
    "        n = 50,\n",
    "        mu = mean_vector_class_0,\n",
    "        Sigma = identity_cov_matrix\n",
    "    )\n",
    "    x_samples_class_1 <- mvrnorm(\n",
    "        n = 50,\n",
    "        mu = mean_vector_class_1,\n",
    "        Sigma = identity_cov_matrix\n",
    "    )\n",
    "    x <- rbind(x_samples_class_0, x_samples_class_1)\n",
    "\n",
    "    dat <- data.frame(x, y = as.factor((y)))\n",
    "\n",
    "    svmfit <- svm(y ~ ., data = dat, ,kernel = \"radial\" )\n",
    "    results <- predict(svmfit, dat_t)\n",
    "    confusion_matrix <- table(Predicted = results, Actual = dat_t$y_t)\n",
    "    TN <- confusion_matrix[\"0\", \"0\"]\n",
    "    FN <- confusion_matrix[\"0\", \"1\"]\n",
    "    FP <- confusion_matrix[\"1\", \"0\"]\n",
    "    TP <- confusion_matrix[\"1\", \"1\"]\n",
    "    test_error_rate <- (FP + FN) / (FP + FN + TP + TN)\n",
    "\n",
    "    error_rate_radial[i] <- test_error_rate\n",
    "}\n"
   ]
  },
  {
   "cell_type": "code",
   "execution_count": 11,
   "metadata": {
    "vscode": {
     "languageId": "r"
    }
   },
   "outputs": [
    {
     "data": {
      "text/html": [
       "0.153415"
      ],
      "text/latex": [
       "0.153415"
      ],
      "text/markdown": [
       "0.153415"
      ],
      "text/plain": [
       "[1] 0.153415"
      ]
     },
     "metadata": {},
     "output_type": "display_data"
    }
   ],
   "source": [
    "mean(error_rate_radial)"
   ]
  },
  {
   "cell_type": "code",
   "execution_count": 12,
   "metadata": {
    "vscode": {
     "languageId": "r"
    }
   },
   "outputs": [
    {
     "name": "stderr",
     "output_type": "stream",
     "text": [
      "Warning message:\n",
      "\"glm.fit: fitted probabilities numerically 0 or 1 occurred\"\n",
      "Warning message:\n",
      "\"glm.fit: fitted probabilities numerically 0 or 1 occurred\"\n",
      "Warning message:\n",
      "\"glm.fit: fitted probabilities numerically 0 or 1 occurred\"\n",
      "Warning message:\n",
      "\"glm.fit: fitted probabilities numerically 0 or 1 occurred\"\n",
      "Warning message:\n",
      "\"glm.fit: algorithm did not converge\"\n",
      "Warning message:\n",
      "\"glm.fit: fitted probabilities numerically 0 or 1 occurred\"\n",
      "Warning message:\n",
      "\"glm.fit: fitted probabilities numerically 0 or 1 occurred\"\n",
      "Warning message:\n",
      "\"glm.fit: fitted probabilities numerically 0 or 1 occurred\"\n",
      "Warning message:\n",
      "\"glm.fit: fitted probabilities numerically 0 or 1 occurred\"\n",
      "Warning message:\n",
      "\"glm.fit: fitted probabilities numerically 0 or 1 occurred\"\n",
      "Warning message:\n",
      "\"glm.fit: fitted probabilities numerically 0 or 1 occurred\"\n",
      "Warning message:\n",
      "\"glm.fit: fitted probabilities numerically 0 or 1 occurred\"\n",
      "Warning message:\n",
      "\"glm.fit: fitted probabilities numerically 0 or 1 occurred\"\n",
      "Warning message:\n",
      "\"glm.fit: fitted probabilities numerically 0 or 1 occurred\"\n",
      "Warning message:\n",
      "\"glm.fit: fitted probabilities numerically 0 or 1 occurred\"\n",
      "Warning message:\n",
      "\"glm.fit: fitted probabilities numerically 0 or 1 occurred\"\n",
      "Warning message:\n",
      "\"glm.fit: algorithm did not converge\"\n",
      "Warning message:\n",
      "\"glm.fit: fitted probabilities numerically 0 or 1 occurred\"\n",
      "Warning message:\n",
      "\"glm.fit: fitted probabilities numerically 0 or 1 occurred\"\n",
      "Warning message:\n",
      "\"glm.fit: algorithm did not converge\"\n",
      "Warning message:\n",
      "\"glm.fit: fitted probabilities numerically 0 or 1 occurred\"\n",
      "Warning message:\n",
      "\"glm.fit: fitted probabilities numerically 0 or 1 occurred\"\n",
      "Warning message:\n",
      "\"glm.fit: fitted probabilities numerically 0 or 1 occurred\"\n",
      "Warning message:\n",
      "\"glm.fit: fitted probabilities numerically 0 or 1 occurred\"\n",
      "Warning message:\n",
      "\"glm.fit: fitted probabilities numerically 0 or 1 occurred\"\n",
      "Warning message:\n",
      "\"glm.fit: algorithm did not converge\"\n",
      "Warning message:\n",
      "\"glm.fit: fitted probabilities numerically 0 or 1 occurred\"\n",
      "Warning message:\n",
      "\"glm.fit: algorithm did not converge\"\n",
      "Warning message:\n",
      "\"glm.fit: fitted probabilities numerically 0 or 1 occurred\"\n",
      "Warning message:\n",
      "\"glm.fit: algorithm did not converge\"\n",
      "Warning message:\n",
      "\"glm.fit: fitted probabilities numerically 0 or 1 occurred\"\n",
      "Warning message:\n",
      "\"glm.fit: fitted probabilities numerically 0 or 1 occurred\"\n",
      "Warning message:\n",
      "\"glm.fit: algorithm did not converge\"\n",
      "Warning message:\n",
      "\"glm.fit: fitted probabilities numerically 0 or 1 occurred\"\n",
      "Warning message:\n",
      "\"glm.fit: fitted probabilities numerically 0 or 1 occurred\"\n",
      "Warning message:\n",
      "\"glm.fit: algorithm did not converge\"\n",
      "Warning message:\n",
      "\"glm.fit: fitted probabilities numerically 0 or 1 occurred\"\n",
      "Warning message:\n",
      "\"glm.fit: fitted probabilities numerically 0 or 1 occurred\"\n",
      "Warning message:\n",
      "\"glm.fit: algorithm did not converge\"\n",
      "Warning message:\n",
      "\"glm.fit: fitted probabilities numerically 0 or 1 occurred\"\n",
      "Warning message:\n",
      "\"glm.fit: fitted probabilities numerically 0 or 1 occurred\"\n",
      "Warning message:\n",
      "\"glm.fit: fitted probabilities numerically 0 or 1 occurred\"\n",
      "Warning message:\n",
      "\"glm.fit: fitted probabilities numerically 0 or 1 occurred\"\n",
      "Warning message:\n",
      "\"glm.fit: fitted probabilities numerically 0 or 1 occurred\"\n",
      "Warning message:\n",
      "\"glm.fit: algorithm did not converge\"\n",
      "Warning message:\n",
      "\"glm.fit: fitted probabilities numerically 0 or 1 occurred\"\n",
      "Warning message:\n",
      "\"glm.fit: fitted probabilities numerically 0 or 1 occurred\"\n"
     ]
    }
   ],
   "source": [
    "# logistic\n",
    "\n",
    "error_rate_log <- rep(0, 1000)\n",
    "\n",
    "for (i in 1:1000) {\n",
    "    x_samples_class_0 <- mvrnorm(\n",
    "        n = 50,\n",
    "        mu = mean_vector_class_0,\n",
    "        Sigma = identity_cov_matrix\n",
    "    )\n",
    "    x_samples_class_1 <- mvrnorm(\n",
    "        n = 50,\n",
    "        mu = mean_vector_class_1,\n",
    "        Sigma = identity_cov_matrix\n",
    "    )\n",
    "    x <- rbind(x_samples_class_0, x_samples_class_1)\n",
    "\n",
    "    dat <- data.frame(x, y = as.factor((y)))\n",
    "\n",
    "    fit <- glm(y ~ ., data = dat, , family = \"binomial\")\n",
    "    # Predict probabilities for new data 'dat_t'\n",
    "    probs_t <- predict(fit, newdata = dat_t, type = \"response\")\n",
    "\n",
    "    # Convert probabilities to binary predictions based on a threshold (0.5)\n",
    "    pred_t <- ifelse(probs_t > 0.5, \"1\", \"0\") \n",
    "    # Adjust if \"1\" should represent the positive class\n",
    "\n",
    "    # Create confusion matrix for predictions on 'dat_t'\n",
    "    confusion_matrix_t <- table(pred_t, dat_t$y_t)\n",
    "\n",
    "    # Show the confusion matrix\n",
    "    confusion_matrix_t\n",
    "\n",
    "    TN <- confusion_matrix_t[\"0\", \"0\"]\n",
    "    FN <- confusion_matrix_t[\"0\", \"1\"]\n",
    "    FP <- confusion_matrix_t[\"1\", \"0\"]\n",
    "    TP <- confusion_matrix_t[\"1\", \"1\"]\n",
    "    test_error_rate <- (FP + FN) / (FP + FN + TP + TN)\n",
    "    error_rate_log[i] = test_error_rate\n",
    "}\n"
   ]
  },
  {
   "cell_type": "code",
   "execution_count": 13,
   "metadata": {
    "vscode": {
     "languageId": "r"
    }
   },
   "outputs": [
    {
     "data": {
      "text/html": [
       "0.152143"
      ],
      "text/latex": [
       "0.152143"
      ],
      "text/markdown": [
       "0.152143"
      ],
      "text/plain": [
       "[1] 0.152143"
      ]
     },
     "metadata": {},
     "output_type": "display_data"
    }
   ],
   "source": [
    "mean(error_rate_log)"
   ]
  }
 ],
 "metadata": {
  "kernelspec": {
   "display_name": "R",
   "language": "R",
   "name": "ir"
  },
  "language_info": {
   "codemirror_mode": "r",
   "file_extension": ".r",
   "mimetype": "text/x-r-source",
   "name": "R",
   "pygments_lexer": "r",
   "version": "4.4.0"
  }
 },
 "nbformat": 4,
 "nbformat_minor": 2
}
