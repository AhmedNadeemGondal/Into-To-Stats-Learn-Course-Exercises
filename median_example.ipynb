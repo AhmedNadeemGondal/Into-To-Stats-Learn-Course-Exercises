{
 "cells": [
  {
   "cell_type": "code",
   "execution_count": 1,
   "metadata": {},
   "outputs": [],
   "source": [
    "# Import libraries\n",
    "import seaborn as sns\n",
    "import pandas as pd\n"
   ]
  },
  {
   "cell_type": "code",
   "execution_count": 21,
   "metadata": {},
   "outputs": [
    {
     "data": {
      "text/plain": [
       "[10, 50, 65, 70, 75, 80, 85, 90, 100, 120, 200]"
      ]
     },
     "execution_count": 21,
     "metadata": {},
     "output_type": "execute_result"
    }
   ],
   "source": [
    "\n",
    "# Sample data\n",
    "data = [10, 50, 65, 70, 75, 80, 85, 90, 100, 120,200]\n",
    "\n",
    "# Sort the data\n",
    "data.sort()\n",
    "data\n"
   ]
  },
  {
   "cell_type": "code",
   "execution_count": 22,
   "metadata": {},
   "outputs": [
    {
     "data": {
      "text/plain": [
       "(65, 2)"
      ]
     },
     "execution_count": 22,
     "metadata": {},
     "output_type": "execute_result"
    }
   ],
   "source": [
    "\n",
    "# Calculate quartiles\n",
    "q1 = data[int(len(data) * 0.25)]\n",
    "q1, int(len(data) * 0.25)\n"
   ]
  },
  {
   "cell_type": "code",
   "execution_count": 23,
   "metadata": {},
   "outputs": [
    {
     "data": {
      "text/plain": [
       "(100, 8)"
      ]
     },
     "execution_count": 23,
     "metadata": {},
     "output_type": "execute_result"
    }
   ],
   "source": [
    "q3 = data[int(len(data) * 0.75)]\n",
    "q3, int(len(data) * 0.75)\n"
   ]
  },
  {
   "cell_type": "code",
   "execution_count": 24,
   "metadata": {},
   "outputs": [
    {
     "data": {
      "text/plain": [
       "35"
      ]
     },
     "execution_count": 24,
     "metadata": {},
     "output_type": "execute_result"
    }
   ],
   "source": [
    "\n",
    "# Calculate IQR\n",
    "iqr = q3 - q1\n",
    "iqr\n"
   ]
  },
  {
   "cell_type": "code",
   "execution_count": 25,
   "metadata": {},
   "outputs": [
    {
     "data": {
      "text/plain": [
       "52.5"
      ]
     },
     "execution_count": 25,
     "metadata": {},
     "output_type": "execute_result"
    }
   ],
   "source": [
    "\n",
    "# Calculate hinge length\n",
    "hl = 1.5 * iqr\n",
    "hl\n"
   ]
  },
  {
   "cell_type": "code",
   "execution_count": 26,
   "metadata": {},
   "outputs": [
    {
     "data": {
      "text/plain": [
       "152.5"
      ]
     },
     "execution_count": 26,
     "metadata": {},
     "output_type": "execute_result"
    }
   ],
   "source": [
    "\n",
    "# Calculate upper and lower hinge\n",
    "upper_hinge = q3 + hl\n",
    "upper_hinge\n"
   ]
  },
  {
   "cell_type": "code",
   "execution_count": 27,
   "metadata": {},
   "outputs": [
    {
     "data": {
      "text/plain": [
       "12.5"
      ]
     },
     "execution_count": 27,
     "metadata": {},
     "output_type": "execute_result"
    }
   ],
   "source": [
    "lower_hinge = q1 - hl\n",
    "lower_hinge\n"
   ]
  },
  {
   "cell_type": "code",
   "execution_count": 28,
   "metadata": {},
   "outputs": [
    {
     "data": {
      "text/plain": [
       "([50, 65, 70, 75, 80, 85, 90, 100, 120], [10, 200])"
      ]
     },
     "execution_count": 28,
     "metadata": {},
     "output_type": "execute_result"
    }
   ],
   "source": [
    "\n",
    "# Initialize lists for inliers and outliers\n",
    "inliers = []\n",
    "outliers = []\n",
    "\n",
    "# Loop through data points to identify outliers\n",
    "for point in data:\n",
    "  if point < lower_hinge or point > upper_hinge:\n",
    "    outliers.append(point)\n",
    "  else:\n",
    "    inliers.append(point)\n",
    "inliers, outliers"
   ]
  },
  {
   "cell_type": "code",
   "execution_count": 29,
   "metadata": {},
   "outputs": [],
   "source": [
    "\n",
    "# Convert data to pandas dataframe for easier manipulation\n",
    "df = pd.DataFrame(data, columns=['Score'])\n"
   ]
  },
  {
   "cell_type": "code",
   "execution_count": 30,
   "metadata": {},
   "outputs": [],
   "source": [
    "def calculate_median(data):\n",
    "  \"\"\"\n",
    "  This function calculates the median of a list of data points.\n",
    "\n",
    "  Args:\n",
    "      data: A list of numerical data.\n",
    "\n",
    "  Returns:\n",
    "      The median value of the data.\n",
    "  \"\"\"\n",
    "\n",
    "  # Sort the data in ascending order\n",
    "  data.sort()\n",
    "\n",
    "  # Check for even or odd number of elements\n",
    "  if len(data) % 2 == 0:\n",
    "    # Even number of elements: Average of middle two values\n",
    "    mid_index1 = int(len(data) / 2) - 1\n",
    "    mid_index2 = mid_index1 + 1\n",
    "    median = (data[mid_index1] + data[mid_index2]) / 2\n",
    "  else:\n",
    "    # Odd number of elements: Middle value\n",
    "    mid_index = int(len(data) / 2)\n",
    "    median = data[mid_index]\n",
    "\n",
    "  return median"
   ]
  },
  {
   "cell_type": "code",
   "execution_count": 33,
   "metadata": {},
   "outputs": [
    {
     "data": {
      "text/plain": [
       "(65, 100, 35, 152.5, 12.5, 80, [10, 200], 'd')"
      ]
     },
     "execution_count": 33,
     "metadata": {},
     "output_type": "execute_result"
    },
    {
     "data": {
      "image/png": "[encoded data removed]",
      "text/plain": [
       "<Figure size 640x480 with 1 Axes>"
      ]
     },
     "metadata": {},
     "output_type": "display_data"
    }
   ],
   "source": [
    "\n",
    "# Create box plot\n",
    "sns.boxplot(\n",
    "    x = \"Score\",\n",
    "    showmeans=True,  # Show the mean as a diamond\n",
    "    data=df\n",
    ")\n",
    "\n",
    "median = calculate_median(data.copy()) \n",
    "\n",
    "q1,q3,iqr,upper_hinge,lower_hinge,median,outliers"
   ]
  }
 ],
 "metadata": {
  "kernelspec": {
   "display_name": "Python 3",
   "language": "python",
   "name": "python3"
  },
  "language_info": {
   "codemirror_mode": {
    "name": "ipython",
    "version": 3
   },
   "file_extension": ".py",
   "mimetype": "text/x-python",
   "name": "python",
   "nbconvert_exporter": "python",
   "pygments_lexer": "ipython3",
   "version": "3.11.5"
  }
 },
 "nbformat": 4,
 "nbformat_minor": 2
}
