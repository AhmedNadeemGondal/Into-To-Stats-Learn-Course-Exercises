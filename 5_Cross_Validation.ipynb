{
 "cells": [
  {
   "cell_type": "code",
   "execution_count": 37,
   "metadata": {
    "vscode": {
     "languageId": "r"
    }
   },
   "outputs": [],
   "source": [
    "require(ISLR2)\n",
    "require(boot)"
   ]
  },
  {
   "cell_type": "code",
   "execution_count": 38,
   "metadata": {
    "vscode": {
     "languageId": "r"
    }
   },
   "outputs": [
    {
     "name": "stdout",
     "output_type": "stream",
     "text": [
      "cv.glm                  package:boot                   R Documentation\n",
      "\n",
      "_\bC_\br_\bo_\bs_\bs-_\bv_\ba_\bl_\bi_\bd_\ba_\bt_\bi_\bo_\bn _\bf_\bo_\br _\bG_\be_\bn_\be_\br_\ba_\bl_\bi_\bz_\be_\bd _\bL_\bi_\bn_\be_\ba_\br _\bM_\bo_\bd_\be_\bl_\bs\n",
      "\n",
      "_\bD_\be_\bs_\bc_\br_\bi_\bp_\bt_\bi_\bo_\bn:\n",
      "\n",
      "     This function calculates the estimated K-fold cross-validation\n",
      "     prediction error for generalized linear models.\n",
      "\n",
      "_\bU_\bs_\ba_\bg_\be:\n",
      "\n",
      "     cv.glm(data, glmfit, cost, K)\n",
      "     \n",
      "_\bA_\br_\bg_\bu_\bm_\be_\bn_\bt_\bs:\n",
      "\n",
      "    data: A matrix or data frame containing the data.  The rows should\n",
      "          be cases and the columns correspond to variables, one of\n",
      "          which is the response.\n",
      "\n",
      "  glmfit: An object of class '\"glm\"' containing the results of a\n",
      "          generalized linear model fitted to 'data'.\n",
      "\n",
      "    cost: A function of two vector arguments specifying the cost\n",
      "          function for the cross-validation.  The first argument to\n",
      "          'cost' should correspond to the observed responses and the\n",
      "          second argument should correspond to the predicted or fitted\n",
      "          responses from the generalized linear model.  'cost' must\n",
      "          return a non-negative scalar value.  The default is the\n",
      "          average squared error function.\n",
      "\n",
      "       K: The number of groups into which the data should be split to\n",
      "          estimate the cross-validation prediction error.  The value of\n",
      "          'K' must be such that all groups are of approximately equal\n",
      "          size.  If the supplied value of 'K' does not satisfy this\n",
      "          criterion then it will be set to the closest integer which\n",
      "          does and a warning is generated specifying the value of 'K'\n",
      "          used.  The default is to set 'K' equal to the number of\n",
      "          observations in 'data' which gives the usual leave-one-out\n",
      "          cross-validation.\n",
      "\n",
      "_\bD_\be_\bt_\ba_\bi_\bl_\bs:\n",
      "\n",
      "     The data is divided randomly into 'K' groups.  For each group the\n",
      "     generalized linear model is fit to 'data' omitting that group,\n",
      "     then the function 'cost' is applied to the observed responses in\n",
      "     the group that was omitted from the fit and the prediction made by\n",
      "     the fitted models for those observations.\n",
      "\n",
      "     When 'K' is the number of observations leave-one-out\n",
      "     cross-validation is used and all the possible splits of the data\n",
      "     are used.  When 'K' is less than the number of observations the\n",
      "     'K' splits to be used are found by randomly partitioning the data\n",
      "     into 'K' groups of approximately equal size.  In this latter case\n",
      "     a certain amount of bias is introduced.  This can be reduced by\n",
      "     using a simple adjustment (see equation 6.48 in Davison and\n",
      "     Hinkley, 1997). The second value returned in 'delta' is the\n",
      "     estimate adjusted by this method.\n",
      "\n",
      "_\bV_\ba_\bl_\bu_\be:\n",
      "\n",
      "     The returned value is a list with the following components.\n",
      "\n",
      "    call: The original call to 'cv.glm'.\n",
      "\n",
      "       K: The value of 'K' used for the K-fold cross validation.\n",
      "\n",
      "   delta: A vector of length two.  The first component is the raw\n",
      "          cross-validation estimate of prediction error.  The second\n",
      "          component is the adjusted cross-validation estimate.  The\n",
      "          adjustment is designed to compensate for the bias introduced\n",
      "          by not using leave-one-out cross-validation.\n",
      "\n",
      "    seed: The value of '.Random.seed' when 'cv.glm' was called.\n",
      "\n",
      "_\bS_\bi_\bd_\be _\bE_\bf_\bf_\be_\bc_\bt_\bs:\n",
      "\n",
      "     The value of '.Random.seed' is updated.\n",
      "\n",
      "_\bR_\be_\bf_\be_\br_\be_\bn_\bc_\be_\bs:\n",
      "\n",
      "     Breiman, L., Friedman, J.H., Olshen, R.A. and Stone, C.J. (1984)\n",
      "     _Classification and Regression Trees_. Wadsworth.\n",
      "\n",
      "     Burman, P. (1989) A comparative study of ordinary\n",
      "     cross-validation, _v_-fold cross-validation and repeated\n",
      "     learning-testing methods. _Biometrika_, *76*, 503-514\n",
      "\n",
      "     Davison, A.C. and Hinkley, D.V. (1997) _Bootstrap Methods and\n",
      "     Their Application_. Cambridge University Press.\n",
      "\n",
      "     Efron, B. (1986) How biased is the apparent error rate of a\n",
      "     prediction rule? _Journal of the American Statistical\n",
      "     Association_, *81*, 461-470.\n",
      "\n",
      "     Stone, M.  (1974) Cross-validation choice and assessment of\n",
      "     statistical predictions (with Discussion).  _Journal of the Royal\n",
      "     Statistical Society, B_, *36*, 111-147.\n",
      "\n",
      "_\bS_\be_\be _\bA_\bl_\bs_\bo:\n",
      "\n",
      "     'glm', 'glm.diag', 'predict'\n",
      "\n",
      "_\bE_\bx_\ba_\bm_\bp_\bl_\be_\bs:\n",
      "\n",
      "     # leave-one-out and 6-fold cross-validation prediction error for \n",
      "     # the mammals data set.\n",
      "     data(mammals, package=\"MASS\")\n",
      "     mammals.glm <- glm(log(brain) ~ log(body), data = mammals)\n",
      "     (cv.err <- cv.glm(mammals, mammals.glm)$delta)\n",
      "     (cv.err.6 <- cv.glm(mammals, mammals.glm, K = 6)$delta)\n",
      "     \n",
      "     # As this is a linear model we could calculate the leave-one-out \n",
      "     # cross-validation estimate without any extra model-fitting.\n",
      "     muhat <- fitted(mammals.glm)\n",
      "     mammals.diag <- glm.diag(mammals.glm)\n",
      "     (cv.err <- mean((mammals.glm$y - muhat)^2/(1 - mammals.diag$h)^2))\n",
      "     \n",
      "     \n",
      "     # leave-one-out and 11-fold cross-validation prediction error for \n",
      "     # the nodal data set.  Since the response is a binary variable an\n",
      "     # appropriate cost function is\n",
      "     cost <- function(r, pi = 0) mean(abs(r-pi) > 0.5)\n",
      "     \n",
      "     nodal.glm <- glm(r ~ stage+xray+acid, binomial, data = nodal)\n",
      "     (cv.err <- cv.glm(nodal, nodal.glm, cost, K = nrow(nodal))$delta)\n",
      "     (cv.11.err <- cv.glm(nodal, nodal.glm, cost, K = 11)$delta)\n",
      "     "
     ]
    }
   ],
   "source": [
    "?cv.glm"
   ]
  },
  {
   "cell_type": "code",
   "execution_count": 39,
   "metadata": {
    "vscode": {
     "languageId": "r"
    }
   },
   "outputs": [
    {
     "data": {
      "image/png": "[encoded data removed]",
      "text/plain": [
       "plot without title"
      ]
     },
     "metadata": {
      "image/png": {
       "height": 420,
       "width": 420
      }
     },
     "output_type": "display_data"
    }
   ],
   "source": [
    "plot(mpg~horsepower,data=Auto)"
   ]
  },
  {
   "cell_type": "code",
   "execution_count": 40,
   "metadata": {
    "vscode": {
     "languageId": "r"
    }
   },
   "outputs": [],
   "source": [
    "# LOOCV\n",
    "glm_fit=glm(mpg~horsepower,data=Auto) # uses brute force to calculate a model for each leave one out \"n\"\n"
   ]
  },
  {
   "cell_type": "code",
   "execution_count": 41,
   "metadata": {
    "vscode": {
     "languageId": "r"
    }
   },
   "outputs": [
    {
     "data": {
      "text/html": [
       "<style>\n",
       ".list-inline {list-style: none; margin:0; padding: 0}\n",
       ".list-inline>li {display: inline-block}\n",
       ".list-inline>li:not(:last-child)::after {content: \"\\00b7\"; padding: 0 .5ex}\n",
       "</style>\n",
       "<ol class=list-inline><li>24.2315135179293</li><li>24.2311440937562</li></ol>\n"
      ],
      "text/latex": [
       "\\begin{enumerate*}\n",
       "\\item 24.2315135179293\n",
       "\\item 24.2311440937562\n",
       "\\end{enumerate*}\n"
      ],
      "text/markdown": [
       "1. 24.2315135179293\n",
       "2. 24.2311440937562\n",
       "\n",
       "\n"
      ],
      "text/plain": [
       "[1] 24.23151 24.23114"
      ]
     },
     "metadata": {},
     "output_type": "display_data"
    }
   ],
   "source": [
    "cv.glm(Auto,glm_fit)$delta"
   ]
  },
  {
   "cell_type": "code",
   "execution_count": 42,
   "metadata": {
    "vscode": {
     "languageId": "r"
    }
   },
   "outputs": [],
   "source": [
    "loocv=function(fit){\n",
    "    h = influence(fit)$h\n",
    "    mean((residuals(fit)/(1-h))^2)\n",
    "}"
   ]
  },
  {
   "cell_type": "code",
   "execution_count": 43,
   "metadata": {
    "vscode": {
     "languageId": "r"
    }
   },
   "outputs": [
    {
     "data": {
      "text/html": [
       "24.2315135179292"
      ],
      "text/latex": [
       "24.2315135179292"
      ],
      "text/markdown": [
       "24.2315135179292"
      ],
      "text/plain": [
       "[1] 24.23151"
      ]
     },
     "metadata": {},
     "output_type": "display_data"
    }
   ],
   "source": [
    "loocv(glm_fit)"
   ]
  },
  {
   "cell_type": "code",
   "execution_count": 44,
   "metadata": {
    "vscode": {
     "languageId": "r"
    }
   },
   "outputs": [
    {
     "data": {
      "text/html": [
       "<style>\n",
       ".list-inline {list-style: none; margin:0; padding: 0}\n",
       ".list-inline>li {display: inline-block}\n",
       ".list-inline>li:not(:last-child)::after {content: \"\\00b7\"; padding: 0 .5ex}\n",
       "</style>\n",
       "<ol class=list-inline><li>0</li><li>0</li><li>0</li><li>0</li><li>0</li></ol>\n"
      ],
      "text/latex": [
       "\\begin{enumerate*}\n",
       "\\item 0\n",
       "\\item 0\n",
       "\\item 0\n",
       "\\item 0\n",
       "\\item 0\n",
       "\\end{enumerate*}\n"
      ],
      "text/markdown": [
       "1. 0\n",
       "2. 0\n",
       "3. 0\n",
       "4. 0\n",
       "5. 0\n",
       "\n",
       "\n"
      ],
      "text/plain": [
       "[1] 0 0 0 0 0"
      ]
     },
     "metadata": {},
     "output_type": "display_data"
    }
   ],
   "source": [
    "cv_error = rep(0,5)\n",
    "cv_error"
   ]
  },
  {
   "cell_type": "code",
   "execution_count": 45,
   "metadata": {
    "vscode": {
     "languageId": "r"
    }
   },
   "outputs": [
    {
     "data": {
      "text/html": [
       "<style>\n",
       ".list-inline {list-style: none; margin:0; padding: 0}\n",
       ".list-inline>li {display: inline-block}\n",
       ".list-inline>li:not(:last-child)::after {content: \"\\00b7\"; padding: 0 .5ex}\n",
       "</style>\n",
       "<ol class=list-inline><li>1</li><li>2</li><li>3</li><li>4</li><li>5</li></ol>\n"
      ],
      "text/latex": [
       "\\begin{enumerate*}\n",
       "\\item 1\n",
       "\\item 2\n",
       "\\item 3\n",
       "\\item 4\n",
       "\\item 5\n",
       "\\end{enumerate*}\n"
      ],
      "text/markdown": [
       "1. 1\n",
       "2. 2\n",
       "3. 3\n",
       "4. 4\n",
       "5. 5\n",
       "\n",
       "\n"
      ],
      "text/plain": [
       "[1] 1 2 3 4 5"
      ]
     },
     "metadata": {},
     "output_type": "display_data"
    }
   ],
   "source": [
    "degrees = 1:5\n",
    "degrees"
   ]
  },
  {
   "cell_type": "code",
   "execution_count": 46,
   "metadata": {
    "vscode": {
     "languageId": "r"
    }
   },
   "outputs": [],
   "source": [
    "for(d in degrees){\n",
    "    glm_fit_1 = glm(mpg~poly(horsepower,d),data=Auto)\n",
    "    cv_error[d]=loocv(glm_fit_1)\n",
    "}"
   ]
  },
  {
   "cell_type": "code",
   "execution_count": 47,
   "metadata": {
    "vscode": {
     "languageId": "r"
    }
   },
   "outputs": [
    {
     "data": {
      "image/png": "[encoded data removed]",
      "text/plain": [
       "plot without title"
      ]
     },
     "metadata": {
      "image/png": {
       "height": 420,
       "width": 420
      }
     },
     "output_type": "display_data"
    }
   ],
   "source": [
    "plot(degrees,cv_error,type=\"b\")"
   ]
  },
  {
   "cell_type": "code",
   "execution_count": 48,
   "metadata": {
    "vscode": {
     "languageId": "r"
    }
   },
   "outputs": [],
   "source": [
    "# 10-fold cross-validaton\n",
    "cv_error_10 = rep(0,5)"
   ]
  },
  {
   "cell_type": "code",
   "execution_count": 49,
   "metadata": {
    "vscode": {
     "languageId": "r"
    }
   },
   "outputs": [],
   "source": [
    "for(d in degrees){\n",
    "    glm_fit_2 = glm(mpg~poly(horsepower,d),data=Auto)\n",
    "    cv_error_10[d]= cv.glm(Auto,glm_fit_2,K=10)$delta[1]\n",
    "}"
   ]
  },
  {
   "cell_type": "code",
   "execution_count": 50,
   "metadata": {
    "vscode": {
     "languageId": "r"
    }
   },
   "outputs": [
    {
     "data": {
      "text/html": [
       "<style>\n",
       ".list-inline {list-style: none; margin:0; padding: 0}\n",
       ".list-inline>li {display: inline-block}\n",
       ".list-inline>li:not(:last-child)::after {content: \"\\00b7\"; padding: 0 .5ex}\n",
       "</style>\n",
       "<ol class=list-inline><li>24.2998617347192</li><li>19.38107408812</li><li>19.2327750309262</li><li>19.3622994987427</li><li>19.2769688985209</li></ol>\n"
      ],
      "text/latex": [
       "\\begin{enumerate*}\n",
       "\\item 24.2998617347192\n",
       "\\item 19.38107408812\n",
       "\\item 19.2327750309262\n",
       "\\item 19.3622994987427\n",
       "\\item 19.2769688985209\n",
       "\\end{enumerate*}\n"
      ],
      "text/markdown": [
       "1. 24.2998617347192\n",
       "2. 19.38107408812\n",
       "3. 19.2327750309262\n",
       "4. 19.3622994987427\n",
       "5. 19.2769688985209\n",
       "\n",
       "\n"
      ],
      "text/plain": [
       "[1] 24.29986 19.38107 19.23278 19.36230 19.27697"
      ]
     },
     "metadata": {},
     "output_type": "display_data"
    }
   ],
   "source": [
    "cv_error_10"
   ]
  },
  {
   "cell_type": "code",
   "execution_count": 51,
   "metadata": {
    "vscode": {
     "languageId": "r"
    }
   },
   "outputs": [
    {
     "data": {
      "image/png": "[encoded data removed]",
      "text/plain": [
       "plot without title"
      ]
     },
     "metadata": {
      "image/png": {
       "height": 420,
       "width": 420
      }
     },
     "output_type": "display_data"
    }
   ],
   "source": [
    "plot(degrees,cv_error,type=\"b\")\n",
    "lines(degrees,cv_error_10,type = \"b\",col = \"red\")"
   ]
  },
  {
   "cell_type": "code",
   "execution_count": null,
   "metadata": {
    "vscode": {
     "languageId": "r"
    }
   },
   "outputs": [],
   "source": []
  }
 ],
 "metadata": {
  "kernelspec": {
   "display_name": "R",
   "language": "R",
   "name": "ir"
  },
  "language_info": {
   "codemirror_mode": "r",
   "file_extension": ".r",
   "mimetype": "text/x-r-source",
   "name": "R",
   "pygments_lexer": "r",
   "version": "4.3.2"
  }
 },
 "nbformat": 4,
 "nbformat_minor": 2
}
